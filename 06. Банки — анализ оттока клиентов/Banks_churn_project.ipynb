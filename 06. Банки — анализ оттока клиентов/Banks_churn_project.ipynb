{
 "cells": [
  {
   "cell_type": "markdown",
   "metadata": {},
   "source": [
    "# Банки — Анализ оттока клиентов"
   ]
  },
  {
   "cell_type": "markdown",
   "metadata": {},
   "source": [
    "# Материалы \n",
    "\n",
    "https://disk.yandex.com/d/iK5_xTCwD3N3WA"
   ]
  },
  {
   "cell_type": "markdown",
   "metadata": {},
   "source": [
    "Проанализируем клиентов регионального банка и выделим сегменты клиентов,\n",
    "которые склонны уходить из банка. Банк «Метанпром» располагается в Ярославле и областных городах: Ростов Великий и Рыбинск."
   ]
  },
  {
   "cell_type": "markdown",
   "metadata": {},
   "source": [
    "Описание датасета:\n",
    "\n",
    "USERID — идентификатор пользователя,\n",
    "\n",
    "score — баллы кредитного скоринга,\n",
    "\n",
    "city — город,\n",
    "\n",
    "gender — пол,\n",
    "\n",
    "age — возраст,\n",
    "\n",
    "equity — количество баллов собственности,\n",
    "\n",
    "balance — баланс на счёте,\n",
    "\n",
    "products — количество продуктов, которыми пользуется клиент,\n",
    "\n",
    "credit_card — есть ли кредитная карта,\n",
    "\n",
    "last_activity — активный клиент,\n",
    "\n",
    "EST_SALARY — оценочный доход клиента,\n",
    "\n",
    "сhurn — признак оттока."
   ]
  },
  {
   "cell_type": "markdown",
   "metadata": {},
   "source": [
    "**Ход работы над проектом:**\n",
    "\n",
    "1. Загрузить данные и изучить общую информацию.\n",
    "\n",
    "\n",
    "2. Выполнить предобработку данных:\n",
    "- Проверка данных на дубликаты;\n",
    "- проверка данных на пропуски;\n",
    "- проверка стиля названия столбцов\n",
    "- кодировка переменных.\n",
    "\n",
    "3. Провести исследовательский анализ данных:\n",
    "\n",
    "- Распределение признаков в разрезе оттока клиентов;\n",
    "- сравнение портретов клиентов, которые склонны или нет к уходу;\n",
    "- исследование данных на предмет наличия корреляций (построение матрицы корреляции);\n",
    "\n",
    "4. Проверка гипотез:\n",
    "\n",
    "- проверить гипотезу различия дохода между теми клиентами, которые ушли и теми, которые остались;\n",
    "\n",
    "- проверить гипотезу, различие имеющихся продуктов у оставшихся и отточных клиентов.\n",
    "\n",
    "5. Формирование сегментов:\n",
    "\n",
    "- выделить клиентов по сегментам, посчитать кличество, распределение и выбрать наиболее подходящие.\n",
    "\n",
    "6. Рекомендации:\n",
    "\n",
    "- дать рекомендации по сегментам."
   ]
  },
  {
   "cell_type": "markdown",
   "metadata": {},
   "source": [
    "## Загрузка данных и изучение общей информации"
   ]
  },
  {
   "cell_type": "code",
   "execution_count": 1,
   "metadata": {},
   "outputs": [],
   "source": [
    "import pandas as pd\n",
    "import seaborn as sns\n",
    "import matplotlib.pyplot as plt\n",
    "import numpy as np\n",
    "import plotly.graph_objects as go \n",
    "import plotly.express as px \n",
    "from scipy import stats as st"
   ]
  },
  {
   "cell_type": "code",
   "execution_count": 2,
   "metadata": {},
   "outputs": [],
   "source": [
    "data = pd.read_csv(\"C:\\\\Users\\\\Vlad\\\\Practicum\\\\bank_scrooge.csv\")"
   ]
  },
  {
   "cell_type": "code",
   "execution_count": 3,
   "metadata": {},
   "outputs": [
    {
     "data": {
      "text/html": [
       "<div>\n",
       "<style scoped>\n",
       "    .dataframe tbody tr th:only-of-type {\n",
       "        vertical-align: middle;\n",
       "    }\n",
       "\n",
       "    .dataframe tbody tr th {\n",
       "        vertical-align: top;\n",
       "    }\n",
       "\n",
       "    .dataframe thead th {\n",
       "        text-align: right;\n",
       "    }\n",
       "</style>\n",
       "<table border=\"1\" class=\"dataframe\">\n",
       "  <thead>\n",
       "    <tr style=\"text-align: right;\">\n",
       "      <th></th>\n",
       "      <th>USERID</th>\n",
       "      <th>score</th>\n",
       "      <th>city</th>\n",
       "      <th>gender</th>\n",
       "      <th>age</th>\n",
       "      <th>equity</th>\n",
       "      <th>balance</th>\n",
       "      <th>products</th>\n",
       "      <th>credit_card</th>\n",
       "      <th>last_activity</th>\n",
       "      <th>EST_SALARY</th>\n",
       "      <th>churn</th>\n",
       "    </tr>\n",
       "  </thead>\n",
       "  <tbody>\n",
       "    <tr>\n",
       "      <th>0</th>\n",
       "      <td>183012</td>\n",
       "      <td>850.0</td>\n",
       "      <td>Рыбинск</td>\n",
       "      <td>Ж</td>\n",
       "      <td>25.0</td>\n",
       "      <td>1</td>\n",
       "      <td>59214.82</td>\n",
       "      <td>2</td>\n",
       "      <td>0</td>\n",
       "      <td>1</td>\n",
       "      <td>75719.14</td>\n",
       "      <td>1</td>\n",
       "    </tr>\n",
       "    <tr>\n",
       "      <th>1</th>\n",
       "      <td>146556</td>\n",
       "      <td>861.0</td>\n",
       "      <td>Рыбинск</td>\n",
       "      <td>Ж</td>\n",
       "      <td>37.0</td>\n",
       "      <td>5</td>\n",
       "      <td>850594.33</td>\n",
       "      <td>3</td>\n",
       "      <td>1</td>\n",
       "      <td>0</td>\n",
       "      <td>86621.77</td>\n",
       "      <td>0</td>\n",
       "    </tr>\n",
       "    <tr>\n",
       "      <th>2</th>\n",
       "      <td>120722</td>\n",
       "      <td>892.0</td>\n",
       "      <td>Рыбинск</td>\n",
       "      <td>Ж</td>\n",
       "      <td>30.0</td>\n",
       "      <td>0</td>\n",
       "      <td>NaN</td>\n",
       "      <td>1</td>\n",
       "      <td>1</td>\n",
       "      <td>1</td>\n",
       "      <td>107683.34</td>\n",
       "      <td>0</td>\n",
       "    </tr>\n",
       "    <tr>\n",
       "      <th>3</th>\n",
       "      <td>225363</td>\n",
       "      <td>866.0</td>\n",
       "      <td>Ярославль</td>\n",
       "      <td>Ж</td>\n",
       "      <td>51.0</td>\n",
       "      <td>5</td>\n",
       "      <td>1524746.26</td>\n",
       "      <td>2</td>\n",
       "      <td>0</td>\n",
       "      <td>1</td>\n",
       "      <td>174423.53</td>\n",
       "      <td>1</td>\n",
       "    </tr>\n",
       "    <tr>\n",
       "      <th>4</th>\n",
       "      <td>157978</td>\n",
       "      <td>730.0</td>\n",
       "      <td>Ярославль</td>\n",
       "      <td>М</td>\n",
       "      <td>34.0</td>\n",
       "      <td>5</td>\n",
       "      <td>174.00</td>\n",
       "      <td>1</td>\n",
       "      <td>1</td>\n",
       "      <td>0</td>\n",
       "      <td>67353.16</td>\n",
       "      <td>1</td>\n",
       "    </tr>\n",
       "    <tr>\n",
       "      <th>5</th>\n",
       "      <td>202305</td>\n",
       "      <td>856.0</td>\n",
       "      <td>Рыбинск</td>\n",
       "      <td>М</td>\n",
       "      <td>56.0</td>\n",
       "      <td>4</td>\n",
       "      <td>863687.24</td>\n",
       "      <td>3</td>\n",
       "      <td>1</td>\n",
       "      <td>0</td>\n",
       "      <td>156619.80</td>\n",
       "      <td>0</td>\n",
       "    </tr>\n",
       "    <tr>\n",
       "      <th>6</th>\n",
       "      <td>177259</td>\n",
       "      <td>807.0</td>\n",
       "      <td>Ярославль</td>\n",
       "      <td>Ж</td>\n",
       "      <td>39.0</td>\n",
       "      <td>3</td>\n",
       "      <td>405042.44</td>\n",
       "      <td>3</td>\n",
       "      <td>0</td>\n",
       "      <td>1</td>\n",
       "      <td>103838.32</td>\n",
       "      <td>0</td>\n",
       "    </tr>\n",
       "    <tr>\n",
       "      <th>7</th>\n",
       "      <td>218868</td>\n",
       "      <td>825.0</td>\n",
       "      <td>Ярославль</td>\n",
       "      <td>Ж</td>\n",
       "      <td>38.0</td>\n",
       "      <td>4</td>\n",
       "      <td>458145.40</td>\n",
       "      <td>2</td>\n",
       "      <td>1</td>\n",
       "      <td>1</td>\n",
       "      <td>68085.48</td>\n",
       "      <td>0</td>\n",
       "    </tr>\n",
       "    <tr>\n",
       "      <th>8</th>\n",
       "      <td>211686</td>\n",
       "      <td>923.0</td>\n",
       "      <td>Ярославль</td>\n",
       "      <td>М</td>\n",
       "      <td>54.0</td>\n",
       "      <td>5</td>\n",
       "      <td>1206337.87</td>\n",
       "      <td>2</td>\n",
       "      <td>1</td>\n",
       "      <td>0</td>\n",
       "      <td>155371.79</td>\n",
       "      <td>0</td>\n",
       "    </tr>\n",
       "    <tr>\n",
       "      <th>9</th>\n",
       "      <td>133130</td>\n",
       "      <td>906.0</td>\n",
       "      <td>Ярославль</td>\n",
       "      <td>Ж</td>\n",
       "      <td>67.0</td>\n",
       "      <td>0</td>\n",
       "      <td>NaN</td>\n",
       "      <td>1</td>\n",
       "      <td>0</td>\n",
       "      <td>1</td>\n",
       "      <td>238055.53</td>\n",
       "      <td>0</td>\n",
       "    </tr>\n",
       "  </tbody>\n",
       "</table>\n",
       "</div>"
      ],
      "text/plain": [
       "   USERID  score       city gender   age  equity     balance  products  \\\n",
       "0  183012  850.0    Рыбинск      Ж  25.0       1    59214.82         2   \n",
       "1  146556  861.0    Рыбинск      Ж  37.0       5   850594.33         3   \n",
       "2  120722  892.0    Рыбинск      Ж  30.0       0         NaN         1   \n",
       "3  225363  866.0  Ярославль      Ж  51.0       5  1524746.26         2   \n",
       "4  157978  730.0  Ярославль      М  34.0       5      174.00         1   \n",
       "5  202305  856.0    Рыбинск      М  56.0       4   863687.24         3   \n",
       "6  177259  807.0  Ярославль      Ж  39.0       3   405042.44         3   \n",
       "7  218868  825.0  Ярославль      Ж  38.0       4   458145.40         2   \n",
       "8  211686  923.0  Ярославль      М  54.0       5  1206337.87         2   \n",
       "9  133130  906.0  Ярославль      Ж  67.0       0         NaN         1   \n",
       "\n",
       "   credit_card  last_activity  EST_SALARY  churn  \n",
       "0            0              1    75719.14      1  \n",
       "1            1              0    86621.77      0  \n",
       "2            1              1   107683.34      0  \n",
       "3            0              1   174423.53      1  \n",
       "4            1              0    67353.16      1  \n",
       "5            1              0   156619.80      0  \n",
       "6            0              1   103838.32      0  \n",
       "7            1              1    68085.48      0  \n",
       "8            1              0   155371.79      0  \n",
       "9            0              1   238055.53      0  "
      ]
     },
     "execution_count": 3,
     "metadata": {},
     "output_type": "execute_result"
    }
   ],
   "source": [
    "data.head(10)"
   ]
  },
  {
   "cell_type": "code",
   "execution_count": 4,
   "metadata": {},
   "outputs": [
    {
     "name": "stdout",
     "output_type": "stream",
     "text": [
      "<class 'pandas.core.frame.DataFrame'>\n",
      "RangeIndex: 10000 entries, 0 to 9999\n",
      "Data columns (total 12 columns):\n",
      " #   Column         Non-Null Count  Dtype  \n",
      "---  ------         --------------  -----  \n",
      " 0   USERID         10000 non-null  int64  \n",
      " 1   score          10000 non-null  float64\n",
      " 2   city           10000 non-null  object \n",
      " 3   gender         10000 non-null  object \n",
      " 4   age            9974 non-null   float64\n",
      " 5   equity         10000 non-null  int64  \n",
      " 6   balance        7705 non-null   float64\n",
      " 7   products       10000 non-null  int64  \n",
      " 8   credit_card    10000 non-null  int64  \n",
      " 9   last_activity  10000 non-null  int64  \n",
      " 10  EST_SALARY     10000 non-null  float64\n",
      " 11  churn          10000 non-null  int64  \n",
      "dtypes: float64(4), int64(6), object(2)\n",
      "memory usage: 937.6+ KB\n"
     ]
    }
   ],
   "source": [
    "data.info()"
   ]
  },
  {
   "cell_type": "markdown",
   "metadata": {},
   "source": [
    "По общей информации видно, что данные содержат 10000 строк и 12 столбцов, также нужно привести названия столбцов к нижнему регистру. Типы данных соответствующие."
   ]
  },
  {
   "cell_type": "markdown",
   "metadata": {},
   "source": [
    "## Предобработка данных"
   ]
  },
  {
   "cell_type": "markdown",
   "metadata": {},
   "source": [
    "**Приведем названия столбцов к нужному стилю:**"
   ]
  },
  {
   "cell_type": "code",
   "execution_count": 5,
   "metadata": {},
   "outputs": [],
   "source": [
    "data = data.rename (columns = {'USERID':'user_id', 'EST_SALARY':'est_salary'})"
   ]
  },
  {
   "cell_type": "markdown",
   "metadata": {},
   "source": [
    "### Проверим на неявные дубликаты по user_id:"
   ]
  },
  {
   "cell_type": "code",
   "execution_count": 6,
   "metadata": {},
   "outputs": [
    {
     "data": {
      "text/html": [
       "<div>\n",
       "<style scoped>\n",
       "    .dataframe tbody tr th:only-of-type {\n",
       "        vertical-align: middle;\n",
       "    }\n",
       "\n",
       "    .dataframe tbody tr th {\n",
       "        vertical-align: top;\n",
       "    }\n",
       "\n",
       "    .dataframe thead th {\n",
       "        text-align: right;\n",
       "    }\n",
       "</style>\n",
       "<table border=\"1\" class=\"dataframe\">\n",
       "  <thead>\n",
       "    <tr style=\"text-align: right;\">\n",
       "      <th></th>\n",
       "      <th>user_id</th>\n",
       "      <th>score</th>\n",
       "      <th>city</th>\n",
       "      <th>gender</th>\n",
       "      <th>age</th>\n",
       "      <th>equity</th>\n",
       "      <th>balance</th>\n",
       "      <th>products</th>\n",
       "      <th>credit_card</th>\n",
       "      <th>last_activity</th>\n",
       "      <th>est_salary</th>\n",
       "      <th>churn</th>\n",
       "    </tr>\n",
       "  </thead>\n",
       "  <tbody>\n",
       "    <tr>\n",
       "      <th>7</th>\n",
       "      <td>218868</td>\n",
       "      <td>825.0</td>\n",
       "      <td>Ярославль</td>\n",
       "      <td>Ж</td>\n",
       "      <td>38.0</td>\n",
       "      <td>4</td>\n",
       "      <td>458145.40</td>\n",
       "      <td>2</td>\n",
       "      <td>1</td>\n",
       "      <td>1</td>\n",
       "      <td>68085.48</td>\n",
       "      <td>0</td>\n",
       "    </tr>\n",
       "    <tr>\n",
       "      <th>58</th>\n",
       "      <td>164676</td>\n",
       "      <td>860.0</td>\n",
       "      <td>Ярославль</td>\n",
       "      <td>М</td>\n",
       "      <td>37.0</td>\n",
       "      <td>5</td>\n",
       "      <td>648594.03</td>\n",
       "      <td>2</td>\n",
       "      <td>1</td>\n",
       "      <td>1</td>\n",
       "      <td>213586.86</td>\n",
       "      <td>1</td>\n",
       "    </tr>\n",
       "    <tr>\n",
       "      <th>150</th>\n",
       "      <td>185748</td>\n",
       "      <td>850.0</td>\n",
       "      <td>Рыбинск</td>\n",
       "      <td>М</td>\n",
       "      <td>36.0</td>\n",
       "      <td>5</td>\n",
       "      <td>1203376.67</td>\n",
       "      <td>2</td>\n",
       "      <td>0</td>\n",
       "      <td>1</td>\n",
       "      <td>89401.82</td>\n",
       "      <td>1</td>\n",
       "    </tr>\n",
       "    <tr>\n",
       "      <th>161</th>\n",
       "      <td>197364</td>\n",
       "      <td>928.0</td>\n",
       "      <td>Рыбинск</td>\n",
       "      <td>Ж</td>\n",
       "      <td>53.0</td>\n",
       "      <td>6</td>\n",
       "      <td>1347183.86</td>\n",
       "      <td>2</td>\n",
       "      <td>0</td>\n",
       "      <td>1</td>\n",
       "      <td>168189.49</td>\n",
       "      <td>1</td>\n",
       "    </tr>\n",
       "    <tr>\n",
       "      <th>231</th>\n",
       "      <td>190253</td>\n",
       "      <td>823.0</td>\n",
       "      <td>Рыбинск</td>\n",
       "      <td>М</td>\n",
       "      <td>37.0</td>\n",
       "      <td>4</td>\n",
       "      <td>373348.39</td>\n",
       "      <td>2</td>\n",
       "      <td>0</td>\n",
       "      <td>1</td>\n",
       "      <td>131947.92</td>\n",
       "      <td>1</td>\n",
       "    </tr>\n",
       "    <tr>\n",
       "      <th>...</th>\n",
       "      <td>...</td>\n",
       "      <td>...</td>\n",
       "      <td>...</td>\n",
       "      <td>...</td>\n",
       "      <td>...</td>\n",
       "      <td>...</td>\n",
       "      <td>...</td>\n",
       "      <td>...</td>\n",
       "      <td>...</td>\n",
       "      <td>...</td>\n",
       "      <td>...</td>\n",
       "      <td>...</td>\n",
       "    </tr>\n",
       "    <tr>\n",
       "      <th>9775</th>\n",
       "      <td>124450</td>\n",
       "      <td>758.0</td>\n",
       "      <td>Рыбинск</td>\n",
       "      <td>Ж</td>\n",
       "      <td>36.0</td>\n",
       "      <td>0</td>\n",
       "      <td>73574.07</td>\n",
       "      <td>2</td>\n",
       "      <td>0</td>\n",
       "      <td>1</td>\n",
       "      <td>79963.59</td>\n",
       "      <td>0</td>\n",
       "    </tr>\n",
       "    <tr>\n",
       "      <th>9785</th>\n",
       "      <td>168998</td>\n",
       "      <td>895.0</td>\n",
       "      <td>Рыбинск</td>\n",
       "      <td>М</td>\n",
       "      <td>44.0</td>\n",
       "      <td>0</td>\n",
       "      <td>282653.53</td>\n",
       "      <td>3</td>\n",
       "      <td>0</td>\n",
       "      <td>0</td>\n",
       "      <td>255296.47</td>\n",
       "      <td>0</td>\n",
       "    </tr>\n",
       "    <tr>\n",
       "      <th>9819</th>\n",
       "      <td>140934</td>\n",
       "      <td>832.0</td>\n",
       "      <td>Рыбинск</td>\n",
       "      <td>Ж</td>\n",
       "      <td>NaN</td>\n",
       "      <td>3</td>\n",
       "      <td>385763.16</td>\n",
       "      <td>2</td>\n",
       "      <td>0</td>\n",
       "      <td>1</td>\n",
       "      <td>59651.35</td>\n",
       "      <td>0</td>\n",
       "    </tr>\n",
       "    <tr>\n",
       "      <th>9880</th>\n",
       "      <td>217412</td>\n",
       "      <td>886.0</td>\n",
       "      <td>Ярославль</td>\n",
       "      <td>Ж</td>\n",
       "      <td>35.0</td>\n",
       "      <td>3</td>\n",
       "      <td>1026172.14</td>\n",
       "      <td>2</td>\n",
       "      <td>1</td>\n",
       "      <td>0</td>\n",
       "      <td>53099.16</td>\n",
       "      <td>0</td>\n",
       "    </tr>\n",
       "    <tr>\n",
       "      <th>9970</th>\n",
       "      <td>175730</td>\n",
       "      <td>816.0</td>\n",
       "      <td>Рыбинск</td>\n",
       "      <td>М</td>\n",
       "      <td>36.0</td>\n",
       "      <td>4</td>\n",
       "      <td>477892.07</td>\n",
       "      <td>3</td>\n",
       "      <td>1</td>\n",
       "      <td>0</td>\n",
       "      <td>81100.60</td>\n",
       "      <td>0</td>\n",
       "    </tr>\n",
       "  </tbody>\n",
       "</table>\n",
       "<p>146 rows × 12 columns</p>\n",
       "</div>"
      ],
      "text/plain": [
       "      user_id  score       city gender   age  equity     balance  products  \\\n",
       "7      218868  825.0  Ярославль      Ж  38.0       4   458145.40         2   \n",
       "58     164676  860.0  Ярославль      М  37.0       5   648594.03         2   \n",
       "150    185748  850.0    Рыбинск      М  36.0       5  1203376.67         2   \n",
       "161    197364  928.0    Рыбинск      Ж  53.0       6  1347183.86         2   \n",
       "231    190253  823.0    Рыбинск      М  37.0       4   373348.39         2   \n",
       "...       ...    ...        ...    ...   ...     ...         ...       ...   \n",
       "9775   124450  758.0    Рыбинск      Ж  36.0       0    73574.07         2   \n",
       "9785   168998  895.0    Рыбинск      М  44.0       0   282653.53         3   \n",
       "9819   140934  832.0    Рыбинск      Ж   NaN       3   385763.16         2   \n",
       "9880   217412  886.0  Ярославль      Ж  35.0       3  1026172.14         2   \n",
       "9970   175730  816.0    Рыбинск      М  36.0       4   477892.07         3   \n",
       "\n",
       "      credit_card  last_activity  est_salary  churn  \n",
       "7               1              1    68085.48      0  \n",
       "58              1              1   213586.86      1  \n",
       "150             0              1    89401.82      1  \n",
       "161             0              1   168189.49      1  \n",
       "231             0              1   131947.92      1  \n",
       "...           ...            ...         ...    ...  \n",
       "9775            0              1    79963.59      0  \n",
       "9785            0              0   255296.47      0  \n",
       "9819            0              1    59651.35      0  \n",
       "9880            1              0    53099.16      0  \n",
       "9970            1              0    81100.60      0  \n",
       "\n",
       "[146 rows x 12 columns]"
      ]
     },
     "execution_count": 6,
     "metadata": {},
     "output_type": "execute_result"
    }
   ],
   "source": [
    "dubl = data[data.duplicated(['user_id'], keep=False)]\n",
    "dubl"
   ]
  },
  {
   "cell_type": "markdown",
   "metadata": {},
   "source": [
    "В данных оказались 73 пары дубликатов, так что можно оставить такое кол-во. Ниже посмотрим для примера, что представляет для себя дубликаты для клиента 175730"
   ]
  },
  {
   "cell_type": "code",
   "execution_count": 7,
   "metadata": {},
   "outputs": [
    {
     "data": {
      "text/html": [
       "<div>\n",
       "<style scoped>\n",
       "    .dataframe tbody tr th:only-of-type {\n",
       "        vertical-align: middle;\n",
       "    }\n",
       "\n",
       "    .dataframe tbody tr th {\n",
       "        vertical-align: top;\n",
       "    }\n",
       "\n",
       "    .dataframe thead th {\n",
       "        text-align: right;\n",
       "    }\n",
       "</style>\n",
       "<table border=\"1\" class=\"dataframe\">\n",
       "  <thead>\n",
       "    <tr style=\"text-align: right;\">\n",
       "      <th></th>\n",
       "      <th>user_id</th>\n",
       "      <th>score</th>\n",
       "      <th>city</th>\n",
       "      <th>gender</th>\n",
       "      <th>age</th>\n",
       "      <th>equity</th>\n",
       "      <th>balance</th>\n",
       "      <th>products</th>\n",
       "      <th>credit_card</th>\n",
       "      <th>last_activity</th>\n",
       "      <th>est_salary</th>\n",
       "      <th>churn</th>\n",
       "    </tr>\n",
       "  </thead>\n",
       "  <tbody>\n",
       "    <tr>\n",
       "      <th>7753</th>\n",
       "      <td>175730</td>\n",
       "      <td>846.0</td>\n",
       "      <td>Ярославль</td>\n",
       "      <td>Ж</td>\n",
       "      <td>32.0</td>\n",
       "      <td>7</td>\n",
       "      <td>216764.74</td>\n",
       "      <td>4</td>\n",
       "      <td>1</td>\n",
       "      <td>1</td>\n",
       "      <td>77100.85</td>\n",
       "      <td>1</td>\n",
       "    </tr>\n",
       "    <tr>\n",
       "      <th>9970</th>\n",
       "      <td>175730</td>\n",
       "      <td>816.0</td>\n",
       "      <td>Рыбинск</td>\n",
       "      <td>М</td>\n",
       "      <td>36.0</td>\n",
       "      <td>4</td>\n",
       "      <td>477892.07</td>\n",
       "      <td>3</td>\n",
       "      <td>1</td>\n",
       "      <td>0</td>\n",
       "      <td>81100.60</td>\n",
       "      <td>0</td>\n",
       "    </tr>\n",
       "  </tbody>\n",
       "</table>\n",
       "</div>"
      ],
      "text/plain": [
       "      user_id  score       city gender   age  equity    balance  products  \\\n",
       "7753   175730  846.0  Ярославль      Ж  32.0       7  216764.74         4   \n",
       "9970   175730  816.0    Рыбинск      М  36.0       4  477892.07         3   \n",
       "\n",
       "      credit_card  last_activity  est_salary  churn  \n",
       "7753            1              1    77100.85      1  \n",
       "9970            1              0    81100.60      0  "
      ]
     },
     "execution_count": 7,
     "metadata": {},
     "output_type": "execute_result"
    }
   ],
   "source": [
    "dubl[dubl['user_id'] == 175730]"
   ]
  },
  {
   "cell_type": "markdown",
   "metadata": {},
   "source": [
    "Дубликаты удалять не будем, так как это разные люди в разных городах банка."
   ]
  },
  {
   "cell_type": "markdown",
   "metadata": {},
   "source": [
    "### Проверим данные на пропуски:"
   ]
  },
  {
   "cell_type": "code",
   "execution_count": 8,
   "metadata": {},
   "outputs": [
    {
     "data": {
      "text/plain": [
       "user_id             0\n",
       "score               0\n",
       "city                0\n",
       "gender              0\n",
       "age                26\n",
       "equity              0\n",
       "balance          2295\n",
       "products            0\n",
       "credit_card         0\n",
       "last_activity       0\n",
       "est_salary          0\n",
       "churn               0\n",
       "dtype: int64"
      ]
     },
     "execution_count": 8,
     "metadata": {},
     "output_type": "execute_result"
    }
   ],
   "source": [
    "data.isnull().sum()"
   ]
  },
  {
   "cell_type": "markdown",
   "metadata": {},
   "source": []
  },
  {
   "cell_type": "markdown",
   "metadata": {},
   "source": [
    "Пропуски обнаружены в столбцах \"age\" и \"balance\". Пропусков в столбце \"balance\" достаточно много, поэтому стоит проанализировать эти пропуски."
   ]
  },
  {
   "cell_type": "markdown",
   "metadata": {},
   "source": [
    "Попробуем найти зависимости или отсутствие зависимостей пропусков от данных, что далее решить, что с ними делать.\n",
    "\n",
    "Создадим новый признак, принимающий 1, если пропущено значение признака, и 0, если значение признака не пропущено. Этот признак будем использовать как столбец (miss_balance) сводной таблицы, где по каждому признаку будет посчитана мера центральной тендеции."
   ]
  },
  {
   "cell_type": "code",
   "execution_count": 9,
   "metadata": {},
   "outputs": [
    {
     "data": {
      "text/html": [
       "<div>\n",
       "<style scoped>\n",
       "    .dataframe tbody tr th:only-of-type {\n",
       "        vertical-align: middle;\n",
       "    }\n",
       "\n",
       "    .dataframe tbody tr th {\n",
       "        vertical-align: top;\n",
       "    }\n",
       "\n",
       "    .dataframe thead th {\n",
       "        text-align: right;\n",
       "    }\n",
       "</style>\n",
       "<table border=\"1\" class=\"dataframe\">\n",
       "  <thead>\n",
       "    <tr style=\"text-align: right;\">\n",
       "      <th></th>\n",
       "      <th>user_id</th>\n",
       "      <th>score</th>\n",
       "      <th>city</th>\n",
       "      <th>gender</th>\n",
       "      <th>age</th>\n",
       "      <th>equity</th>\n",
       "      <th>balance</th>\n",
       "      <th>products</th>\n",
       "      <th>credit_card</th>\n",
       "      <th>last_activity</th>\n",
       "      <th>est_salary</th>\n",
       "      <th>churn</th>\n",
       "      <th>miss_balance</th>\n",
       "    </tr>\n",
       "  </thead>\n",
       "  <tbody>\n",
       "    <tr>\n",
       "      <th>0</th>\n",
       "      <td>183012</td>\n",
       "      <td>850.0</td>\n",
       "      <td>Рыбинск</td>\n",
       "      <td>Ж</td>\n",
       "      <td>25.0</td>\n",
       "      <td>1</td>\n",
       "      <td>59214.82</td>\n",
       "      <td>2</td>\n",
       "      <td>0</td>\n",
       "      <td>1</td>\n",
       "      <td>75719.14</td>\n",
       "      <td>1</td>\n",
       "      <td>0</td>\n",
       "    </tr>\n",
       "    <tr>\n",
       "      <th>1</th>\n",
       "      <td>146556</td>\n",
       "      <td>861.0</td>\n",
       "      <td>Рыбинск</td>\n",
       "      <td>Ж</td>\n",
       "      <td>37.0</td>\n",
       "      <td>5</td>\n",
       "      <td>850594.33</td>\n",
       "      <td>3</td>\n",
       "      <td>1</td>\n",
       "      <td>0</td>\n",
       "      <td>86621.77</td>\n",
       "      <td>0</td>\n",
       "      <td>0</td>\n",
       "    </tr>\n",
       "    <tr>\n",
       "      <th>2</th>\n",
       "      <td>120722</td>\n",
       "      <td>892.0</td>\n",
       "      <td>Рыбинск</td>\n",
       "      <td>Ж</td>\n",
       "      <td>30.0</td>\n",
       "      <td>0</td>\n",
       "      <td>NaN</td>\n",
       "      <td>1</td>\n",
       "      <td>1</td>\n",
       "      <td>1</td>\n",
       "      <td>107683.34</td>\n",
       "      <td>0</td>\n",
       "      <td>1</td>\n",
       "    </tr>\n",
       "    <tr>\n",
       "      <th>3</th>\n",
       "      <td>225363</td>\n",
       "      <td>866.0</td>\n",
       "      <td>Ярославль</td>\n",
       "      <td>Ж</td>\n",
       "      <td>51.0</td>\n",
       "      <td>5</td>\n",
       "      <td>1524746.26</td>\n",
       "      <td>2</td>\n",
       "      <td>0</td>\n",
       "      <td>1</td>\n",
       "      <td>174423.53</td>\n",
       "      <td>1</td>\n",
       "      <td>0</td>\n",
       "    </tr>\n",
       "    <tr>\n",
       "      <th>4</th>\n",
       "      <td>157978</td>\n",
       "      <td>730.0</td>\n",
       "      <td>Ярославль</td>\n",
       "      <td>М</td>\n",
       "      <td>34.0</td>\n",
       "      <td>5</td>\n",
       "      <td>174.00</td>\n",
       "      <td>1</td>\n",
       "      <td>1</td>\n",
       "      <td>0</td>\n",
       "      <td>67353.16</td>\n",
       "      <td>1</td>\n",
       "      <td>0</td>\n",
       "    </tr>\n",
       "    <tr>\n",
       "      <th>5</th>\n",
       "      <td>202305</td>\n",
       "      <td>856.0</td>\n",
       "      <td>Рыбинск</td>\n",
       "      <td>М</td>\n",
       "      <td>56.0</td>\n",
       "      <td>4</td>\n",
       "      <td>863687.24</td>\n",
       "      <td>3</td>\n",
       "      <td>1</td>\n",
       "      <td>0</td>\n",
       "      <td>156619.80</td>\n",
       "      <td>0</td>\n",
       "      <td>0</td>\n",
       "    </tr>\n",
       "    <tr>\n",
       "      <th>6</th>\n",
       "      <td>177259</td>\n",
       "      <td>807.0</td>\n",
       "      <td>Ярославль</td>\n",
       "      <td>Ж</td>\n",
       "      <td>39.0</td>\n",
       "      <td>3</td>\n",
       "      <td>405042.44</td>\n",
       "      <td>3</td>\n",
       "      <td>0</td>\n",
       "      <td>1</td>\n",
       "      <td>103838.32</td>\n",
       "      <td>0</td>\n",
       "      <td>0</td>\n",
       "    </tr>\n",
       "    <tr>\n",
       "      <th>7</th>\n",
       "      <td>218868</td>\n",
       "      <td>825.0</td>\n",
       "      <td>Ярославль</td>\n",
       "      <td>Ж</td>\n",
       "      <td>38.0</td>\n",
       "      <td>4</td>\n",
       "      <td>458145.40</td>\n",
       "      <td>2</td>\n",
       "      <td>1</td>\n",
       "      <td>1</td>\n",
       "      <td>68085.48</td>\n",
       "      <td>0</td>\n",
       "      <td>0</td>\n",
       "    </tr>\n",
       "    <tr>\n",
       "      <th>8</th>\n",
       "      <td>211686</td>\n",
       "      <td>923.0</td>\n",
       "      <td>Ярославль</td>\n",
       "      <td>М</td>\n",
       "      <td>54.0</td>\n",
       "      <td>5</td>\n",
       "      <td>1206337.87</td>\n",
       "      <td>2</td>\n",
       "      <td>1</td>\n",
       "      <td>0</td>\n",
       "      <td>155371.79</td>\n",
       "      <td>0</td>\n",
       "      <td>0</td>\n",
       "    </tr>\n",
       "    <tr>\n",
       "      <th>9</th>\n",
       "      <td>133130</td>\n",
       "      <td>906.0</td>\n",
       "      <td>Ярославль</td>\n",
       "      <td>Ж</td>\n",
       "      <td>67.0</td>\n",
       "      <td>0</td>\n",
       "      <td>NaN</td>\n",
       "      <td>1</td>\n",
       "      <td>0</td>\n",
       "      <td>1</td>\n",
       "      <td>238055.53</td>\n",
       "      <td>0</td>\n",
       "      <td>1</td>\n",
       "    </tr>\n",
       "  </tbody>\n",
       "</table>\n",
       "</div>"
      ],
      "text/plain": [
       "   user_id  score       city gender   age  equity     balance  products  \\\n",
       "0   183012  850.0    Рыбинск      Ж  25.0       1    59214.82         2   \n",
       "1   146556  861.0    Рыбинск      Ж  37.0       5   850594.33         3   \n",
       "2   120722  892.0    Рыбинск      Ж  30.0       0         NaN         1   \n",
       "3   225363  866.0  Ярославль      Ж  51.0       5  1524746.26         2   \n",
       "4   157978  730.0  Ярославль      М  34.0       5      174.00         1   \n",
       "5   202305  856.0    Рыбинск      М  56.0       4   863687.24         3   \n",
       "6   177259  807.0  Ярославль      Ж  39.0       3   405042.44         3   \n",
       "7   218868  825.0  Ярославль      Ж  38.0       4   458145.40         2   \n",
       "8   211686  923.0  Ярославль      М  54.0       5  1206337.87         2   \n",
       "9   133130  906.0  Ярославль      Ж  67.0       0         NaN         1   \n",
       "\n",
       "   credit_card  last_activity  est_salary  churn  miss_balance  \n",
       "0            0              1    75719.14      1             0  \n",
       "1            1              0    86621.77      0             0  \n",
       "2            1              1   107683.34      0             1  \n",
       "3            0              1   174423.53      1             0  \n",
       "4            1              0    67353.16      1             0  \n",
       "5            1              0   156619.80      0             0  \n",
       "6            0              1   103838.32      0             0  \n",
       "7            1              1    68085.48      0             0  \n",
       "8            1              0   155371.79      0             0  \n",
       "9            0              1   238055.53      0             1  "
      ]
     },
     "execution_count": 9,
     "metadata": {},
     "output_type": "execute_result"
    }
   ],
   "source": [
    "data['miss_balance'] = np.where(data['balance'].isnull(), 1,0)\n",
    "data.head(10)"
   ]
  },
  {
   "cell_type": "markdown",
   "metadata": {},
   "source": [
    "Проверим зависимость по каждому столбцу:"
   ]
  },
  {
   "cell_type": "code",
   "execution_count": 10,
   "metadata": {},
   "outputs": [
    {
     "data": {
      "text/plain": [
       "miss_balance  city     \n",
       "0             Ярославль    0.57\n",
       "              Рыбинск      0.27\n",
       "              Ростов       0.15\n",
       "1             Ярославль    0.64\n",
       "              Рыбинск      0.26\n",
       "              Ростов       0.10\n",
       "Name: proportion, dtype: float64"
      ]
     },
     "execution_count": 10,
     "metadata": {},
     "output_type": "execute_result"
    }
   ],
   "source": [
    "data.groupby('miss_balance')['city'].value_counts(normalize=True).round(2)"
   ]
  },
  {
   "cell_type": "markdown",
   "metadata": {},
   "source": [
    "Клиенты, у которых отсутствуют значения balance обслуживались:\n",
    "\n",
    "64%  в Ярославле\n",
    "\n",
    "26% в Рыбинске\n",
    "\n",
    "10% в Ростове"
   ]
  },
  {
   "cell_type": "code",
   "execution_count": 11,
   "metadata": {},
   "outputs": [
    {
     "data": {
      "text/plain": [
       "miss_balance  gender\n",
       "0             Ж         0.52\n",
       "              М         0.48\n",
       "1             М         0.56\n",
       "              Ж         0.44\n",
       "Name: proportion, dtype: float64"
      ]
     },
     "execution_count": 11,
     "metadata": {},
     "output_type": "execute_result"
    }
   ],
   "source": [
    "data.groupby('miss_balance')['gender'].value_counts(normalize=True).round(2)"
   ]
  },
  {
   "cell_type": "markdown",
   "metadata": {},
   "source": [
    "Клиенты, у которых отсутствуют значения balance:\n",
    "\n",
    "56% мужчины\n",
    "\n",
    "44% женщины"
   ]
  },
  {
   "cell_type": "code",
   "execution_count": 12,
   "metadata": {},
   "outputs": [
    {
     "data": {
      "text/plain": [
       "miss_balance  equity\n",
       "0             5         0.25\n",
       "              4         0.24\n",
       "              3         0.20\n",
       "              2         0.14\n",
       "              1         0.09\n",
       "              0         0.05\n",
       "              6         0.02\n",
       "              7         0.01\n",
       "              8         0.00\n",
       "              9         0.00\n",
       "1             0         0.95\n",
       "              1         0.05\n",
       "              3         0.00\n",
       "Name: proportion, dtype: float64"
      ]
     },
     "execution_count": 12,
     "metadata": {},
     "output_type": "execute_result"
    }
   ],
   "source": [
    "data.groupby('miss_balance')['equity'].value_counts(normalize=True).round(2)"
   ]
  },
  {
   "cell_type": "markdown",
   "metadata": {},
   "source": [
    "Клиенты, у которых отсутствуют значения balance:\n",
    "\n",
    "95% баллов собственности не имеют"
   ]
  },
  {
   "cell_type": "code",
   "execution_count": 13,
   "metadata": {},
   "outputs": [
    {
     "data": {
      "text/plain": [
       "miss_balance  products\n",
       "0             2           0.62\n",
       "              1           0.18\n",
       "              3           0.13\n",
       "              4           0.06\n",
       "              5           0.00\n",
       "1             1           0.85\n",
       "              2           0.14\n",
       "              3           0.01\n",
       "              0           0.00\n",
       "Name: proportion, dtype: float64"
      ]
     },
     "execution_count": 13,
     "metadata": {},
     "output_type": "execute_result"
    }
   ],
   "source": [
    "data.groupby('miss_balance')['products'].value_counts(normalize=True).round(2)"
   ]
  },
  {
   "cell_type": "markdown",
   "metadata": {},
   "source": [
    "Клиенты, у которых отсутствуют значения balance:\n",
    "\n",
    "85% имеют 1 продукт, которыми пользуются\n",
    "\n",
    "Клиенты, у которых присутствуют значения balance:\n",
    "\n",
    "62% имеют 2 продукта, которыми пользуются"
   ]
  },
  {
   "cell_type": "code",
   "execution_count": 14,
   "metadata": {},
   "outputs": [
    {
     "data": {
      "text/plain": [
       "miss_balance  credit_card\n",
       "0             1              0.64\n",
       "              0              0.36\n",
       "1             1              0.82\n",
       "              0              0.18\n",
       "Name: proportion, dtype: float64"
      ]
     },
     "execution_count": 14,
     "metadata": {},
     "output_type": "execute_result"
    }
   ],
   "source": [
    "data.groupby('miss_balance')['credit_card'].value_counts(normalize=True).round(2)"
   ]
  },
  {
   "cell_type": "markdown",
   "metadata": {},
   "source": [
    "Клиенты, у которых отсутствуют значения balance:\n",
    "\n",
    "82% имеют кредитную карту\n",
    "\n",
    "18% не имеют кредитной карты"
   ]
  },
  {
   "cell_type": "code",
   "execution_count": 15,
   "metadata": {},
   "outputs": [
    {
     "data": {
      "text/plain": [
       "miss_balance  last_activity\n",
       "0             1                0.52\n",
       "              0                0.48\n",
       "1             1                0.55\n",
       "              0                0.45\n",
       "Name: proportion, dtype: float64"
      ]
     },
     "execution_count": 15,
     "metadata": {},
     "output_type": "execute_result"
    }
   ],
   "source": [
    "data.groupby('miss_balance')['last_activity'].value_counts(normalize=True).round(2)"
   ]
  },
  {
   "cell_type": "markdown",
   "metadata": {},
   "source": [
    "Клиенты, у которых отсутствуют значения balance:\n",
    "\n",
    "55% активные клиенты\n",
    "\n",
    "45% не активные клиенты\n",
    "\n",
    "Клиенты, у которых присутствуют значения balance:\n",
    "\n",
    "52% активные клиенты\n",
    "\n",
    "48% не активные клиенты"
   ]
  },
  {
   "cell_type": "code",
   "execution_count": 16,
   "metadata": {},
   "outputs": [
    {
     "data": {
      "text/plain": [
       "miss_balance  churn\n",
       "0             0        0.77\n",
       "              1        0.23\n",
       "1             0        0.99\n",
       "              1        0.01\n",
       "Name: proportion, dtype: float64"
      ]
     },
     "execution_count": 16,
     "metadata": {},
     "output_type": "execute_result"
    }
   ],
   "source": [
    "data.groupby('miss_balance')['churn'].value_counts(normalize=True).round(2)"
   ]
  },
  {
   "cell_type": "markdown",
   "metadata": {},
   "source": [
    "Клиенты, у которых отсутствуют значения balance:\n",
    "\n",
    "99% остались в банке\n",
    "\n",
    "1% ушли из банка\n",
    "\n",
    "Клиенты, у которых присутствуют значения balance:\n",
    "\n",
    "77% остались в банке\n",
    "\n",
    "23% ушли из банка"
   ]
  },
  {
   "cell_type": "markdown",
   "metadata": {},
   "source": [
    "После анализа пропусков их можно отнести к типу MNAR (Missing Not At Random / Отсутствует не случайно) — пропуски зависят от данных, без дополнительного обоснования их нельзя отбрасывать или заполнять одним значением. В наших данных явной зависимостью являются клиенты, у которых отсутствуют значения balance: 95% не имеют баллов собственности. Таким образом пропуски удалять нельзя, т.к. это приведёт к заметным искажениям."
   ]
  },
  {
   "cell_type": "markdown",
   "metadata": {},
   "source": [
    "### Посмотрим на средние значения данных:"
   ]
  },
  {
   "cell_type": "code",
   "execution_count": 17,
   "metadata": {},
   "outputs": [
    {
     "data": {
      "text/html": [
       "<div>\n",
       "<style scoped>\n",
       "    .dataframe tbody tr th:only-of-type {\n",
       "        vertical-align: middle;\n",
       "    }\n",
       "\n",
       "    .dataframe tbody tr th {\n",
       "        vertical-align: top;\n",
       "    }\n",
       "\n",
       "    .dataframe thead th {\n",
       "        text-align: right;\n",
       "    }\n",
       "</style>\n",
       "<table border=\"1\" class=\"dataframe\">\n",
       "  <thead>\n",
       "    <tr style=\"text-align: right;\">\n",
       "      <th></th>\n",
       "      <th>user_id</th>\n",
       "      <th>score</th>\n",
       "      <th>age</th>\n",
       "      <th>equity</th>\n",
       "      <th>balance</th>\n",
       "      <th>products</th>\n",
       "      <th>credit_card</th>\n",
       "      <th>last_activity</th>\n",
       "      <th>est_salary</th>\n",
       "      <th>churn</th>\n",
       "      <th>miss_balance</th>\n",
       "    </tr>\n",
       "  </thead>\n",
       "  <tbody>\n",
       "    <tr>\n",
       "      <th>count</th>\n",
       "      <td>10000.00000</td>\n",
       "      <td>10000.000000</td>\n",
       "      <td>9974.000000</td>\n",
       "      <td>10000.000000</td>\n",
       "      <td>7.705000e+03</td>\n",
       "      <td>10000.000000</td>\n",
       "      <td>10000.000000</td>\n",
       "      <td>10000.000000</td>\n",
       "      <td>1.000000e+04</td>\n",
       "      <td>10000.000000</td>\n",
       "      <td>10000.000000</td>\n",
       "    </tr>\n",
       "    <tr>\n",
       "      <th>mean</th>\n",
       "      <td>171814.71260</td>\n",
       "      <td>848.699400</td>\n",
       "      <td>42.734409</td>\n",
       "      <td>2.627600</td>\n",
       "      <td>8.277943e+05</td>\n",
       "      <td>1.870100</td>\n",
       "      <td>0.680400</td>\n",
       "      <td>0.523500</td>\n",
       "      <td>1.478669e+05</td>\n",
       "      <td>0.182000</td>\n",
       "      <td>0.229500</td>\n",
       "    </tr>\n",
       "    <tr>\n",
       "      <th>std</th>\n",
       "      <td>33708.23812</td>\n",
       "      <td>65.448519</td>\n",
       "      <td>12.179971</td>\n",
       "      <td>1.980836</td>\n",
       "      <td>1.980614e+06</td>\n",
       "      <td>0.792647</td>\n",
       "      <td>0.466345</td>\n",
       "      <td>0.499472</td>\n",
       "      <td>1.393885e+05</td>\n",
       "      <td>0.385864</td>\n",
       "      <td>0.420532</td>\n",
       "    </tr>\n",
       "    <tr>\n",
       "      <th>min</th>\n",
       "      <td>94561.00000</td>\n",
       "      <td>642.000000</td>\n",
       "      <td>18.000000</td>\n",
       "      <td>0.000000</td>\n",
       "      <td>0.000000e+00</td>\n",
       "      <td>0.000000</td>\n",
       "      <td>0.000000</td>\n",
       "      <td>0.000000</td>\n",
       "      <td>2.546300e+03</td>\n",
       "      <td>0.000000</td>\n",
       "      <td>0.000000</td>\n",
       "    </tr>\n",
       "    <tr>\n",
       "      <th>25%</th>\n",
       "      <td>142810.25000</td>\n",
       "      <td>802.000000</td>\n",
       "      <td>33.000000</td>\n",
       "      <td>0.000000</td>\n",
       "      <td>2.955542e+05</td>\n",
       "      <td>1.000000</td>\n",
       "      <td>0.000000</td>\n",
       "      <td>0.000000</td>\n",
       "      <td>7.525190e+04</td>\n",
       "      <td>0.000000</td>\n",
       "      <td>0.000000</td>\n",
       "    </tr>\n",
       "    <tr>\n",
       "      <th>50%</th>\n",
       "      <td>172728.00000</td>\n",
       "      <td>853.000000</td>\n",
       "      <td>40.000000</td>\n",
       "      <td>3.000000</td>\n",
       "      <td>5.242722e+05</td>\n",
       "      <td>2.000000</td>\n",
       "      <td>1.000000</td>\n",
       "      <td>1.000000</td>\n",
       "      <td>1.196581e+05</td>\n",
       "      <td>0.000000</td>\n",
       "      <td>0.000000</td>\n",
       "    </tr>\n",
       "    <tr>\n",
       "      <th>75%</th>\n",
       "      <td>201261.75000</td>\n",
       "      <td>900.000000</td>\n",
       "      <td>51.000000</td>\n",
       "      <td>4.000000</td>\n",
       "      <td>9.807058e+05</td>\n",
       "      <td>2.000000</td>\n",
       "      <td>1.000000</td>\n",
       "      <td>1.000000</td>\n",
       "      <td>1.745005e+05</td>\n",
       "      <td>0.000000</td>\n",
       "      <td>0.000000</td>\n",
       "    </tr>\n",
       "    <tr>\n",
       "      <th>max</th>\n",
       "      <td>229145.00000</td>\n",
       "      <td>1000.000000</td>\n",
       "      <td>86.000000</td>\n",
       "      <td>9.000000</td>\n",
       "      <td>1.191136e+08</td>\n",
       "      <td>5.000000</td>\n",
       "      <td>1.000000</td>\n",
       "      <td>1.000000</td>\n",
       "      <td>1.395064e+06</td>\n",
       "      <td>1.000000</td>\n",
       "      <td>1.000000</td>\n",
       "    </tr>\n",
       "  </tbody>\n",
       "</table>\n",
       "</div>"
      ],
      "text/plain": [
       "            user_id         score          age        equity       balance  \\\n",
       "count   10000.00000  10000.000000  9974.000000  10000.000000  7.705000e+03   \n",
       "mean   171814.71260    848.699400    42.734409      2.627600  8.277943e+05   \n",
       "std     33708.23812     65.448519    12.179971      1.980836  1.980614e+06   \n",
       "min     94561.00000    642.000000    18.000000      0.000000  0.000000e+00   \n",
       "25%    142810.25000    802.000000    33.000000      0.000000  2.955542e+05   \n",
       "50%    172728.00000    853.000000    40.000000      3.000000  5.242722e+05   \n",
       "75%    201261.75000    900.000000    51.000000      4.000000  9.807058e+05   \n",
       "max    229145.00000   1000.000000    86.000000      9.000000  1.191136e+08   \n",
       "\n",
       "           products   credit_card  last_activity    est_salary         churn  \\\n",
       "count  10000.000000  10000.000000   10000.000000  1.000000e+04  10000.000000   \n",
       "mean       1.870100      0.680400       0.523500  1.478669e+05      0.182000   \n",
       "std        0.792647      0.466345       0.499472  1.393885e+05      0.385864   \n",
       "min        0.000000      0.000000       0.000000  2.546300e+03      0.000000   \n",
       "25%        1.000000      0.000000       0.000000  7.525190e+04      0.000000   \n",
       "50%        2.000000      1.000000       1.000000  1.196581e+05      0.000000   \n",
       "75%        2.000000      1.000000       1.000000  1.745005e+05      0.000000   \n",
       "max        5.000000      1.000000       1.000000  1.395064e+06      1.000000   \n",
       "\n",
       "       miss_balance  \n",
       "count  10000.000000  \n",
       "mean       0.229500  \n",
       "std        0.420532  \n",
       "min        0.000000  \n",
       "25%        0.000000  \n",
       "50%        0.000000  \n",
       "75%        0.000000  \n",
       "max        1.000000  "
      ]
     },
     "execution_count": 17,
     "metadata": {},
     "output_type": "execute_result"
    }
   ],
   "source": [
    "data.describe()"
   ]
  },
  {
   "cell_type": "markdown",
   "metadata": {},
   "source": [
    "В данных можно наблюдать, что в столбце \"products\" есть нулевые значения. Расссмотрим более детально"
   ]
  },
  {
   "cell_type": "code",
   "execution_count": 18,
   "metadata": {},
   "outputs": [
    {
     "data": {
      "text/plain": [
       "1"
      ]
     },
     "execution_count": 18,
     "metadata": {},
     "output_type": "execute_result"
    }
   ],
   "source": [
    "data[data['products'] == 0]['user_id'].count()"
   ]
  },
  {
   "cell_type": "markdown",
   "metadata": {},
   "source": [
    "Всего одна запись. Можно заменить нулевое значение на 1."
   ]
  },
  {
   "cell_type": "code",
   "execution_count": 19,
   "metadata": {},
   "outputs": [],
   "source": [
    "data.loc[data['products'] == 0, 'products'] = 1"
   ]
  },
  {
   "cell_type": "markdown",
   "metadata": {},
   "source": [
    "### Кодирование переменных:"
   ]
  },
  {
   "cell_type": "markdown",
   "metadata": {},
   "source": [
    "Закодируем столбцы gender и city, чтобы перевести категориальные переменные. Сначала сделаем их копии."
   ]
  },
  {
   "cell_type": "code",
   "execution_count": 20,
   "metadata": {},
   "outputs": [
    {
     "data": {
      "text/html": [
       "<div>\n",
       "<style scoped>\n",
       "    .dataframe tbody tr th:only-of-type {\n",
       "        vertical-align: middle;\n",
       "    }\n",
       "\n",
       "    .dataframe tbody tr th {\n",
       "        vertical-align: top;\n",
       "    }\n",
       "\n",
       "    .dataframe thead th {\n",
       "        text-align: right;\n",
       "    }\n",
       "</style>\n",
       "<table border=\"1\" class=\"dataframe\">\n",
       "  <thead>\n",
       "    <tr style=\"text-align: right;\">\n",
       "      <th></th>\n",
       "      <th>user_id</th>\n",
       "      <th>score</th>\n",
       "      <th>city</th>\n",
       "      <th>gender</th>\n",
       "      <th>age</th>\n",
       "      <th>equity</th>\n",
       "      <th>balance</th>\n",
       "      <th>products</th>\n",
       "      <th>credit_card</th>\n",
       "      <th>last_activity</th>\n",
       "      <th>est_salary</th>\n",
       "      <th>churn</th>\n",
       "      <th>miss_balance</th>\n",
       "      <th>gender_2_Ж</th>\n",
       "      <th>gender_2_М</th>\n",
       "      <th>city_2_Ростов</th>\n",
       "      <th>city_2_Рыбинск</th>\n",
       "      <th>city_2_Ярославль</th>\n",
       "    </tr>\n",
       "  </thead>\n",
       "  <tbody>\n",
       "    <tr>\n",
       "      <th>0</th>\n",
       "      <td>183012</td>\n",
       "      <td>850.0</td>\n",
       "      <td>Рыбинск</td>\n",
       "      <td>Ж</td>\n",
       "      <td>25.0</td>\n",
       "      <td>1</td>\n",
       "      <td>59214.82</td>\n",
       "      <td>2</td>\n",
       "      <td>0</td>\n",
       "      <td>1</td>\n",
       "      <td>75719.14</td>\n",
       "      <td>1</td>\n",
       "      <td>0</td>\n",
       "      <td>True</td>\n",
       "      <td>False</td>\n",
       "      <td>False</td>\n",
       "      <td>True</td>\n",
       "      <td>False</td>\n",
       "    </tr>\n",
       "    <tr>\n",
       "      <th>1</th>\n",
       "      <td>146556</td>\n",
       "      <td>861.0</td>\n",
       "      <td>Рыбинск</td>\n",
       "      <td>Ж</td>\n",
       "      <td>37.0</td>\n",
       "      <td>5</td>\n",
       "      <td>850594.33</td>\n",
       "      <td>3</td>\n",
       "      <td>1</td>\n",
       "      <td>0</td>\n",
       "      <td>86621.77</td>\n",
       "      <td>0</td>\n",
       "      <td>0</td>\n",
       "      <td>True</td>\n",
       "      <td>False</td>\n",
       "      <td>False</td>\n",
       "      <td>True</td>\n",
       "      <td>False</td>\n",
       "    </tr>\n",
       "    <tr>\n",
       "      <th>2</th>\n",
       "      <td>120722</td>\n",
       "      <td>892.0</td>\n",
       "      <td>Рыбинск</td>\n",
       "      <td>Ж</td>\n",
       "      <td>30.0</td>\n",
       "      <td>0</td>\n",
       "      <td>NaN</td>\n",
       "      <td>1</td>\n",
       "      <td>1</td>\n",
       "      <td>1</td>\n",
       "      <td>107683.34</td>\n",
       "      <td>0</td>\n",
       "      <td>1</td>\n",
       "      <td>True</td>\n",
       "      <td>False</td>\n",
       "      <td>False</td>\n",
       "      <td>True</td>\n",
       "      <td>False</td>\n",
       "    </tr>\n",
       "    <tr>\n",
       "      <th>3</th>\n",
       "      <td>225363</td>\n",
       "      <td>866.0</td>\n",
       "      <td>Ярославль</td>\n",
       "      <td>Ж</td>\n",
       "      <td>51.0</td>\n",
       "      <td>5</td>\n",
       "      <td>1524746.26</td>\n",
       "      <td>2</td>\n",
       "      <td>0</td>\n",
       "      <td>1</td>\n",
       "      <td>174423.53</td>\n",
       "      <td>1</td>\n",
       "      <td>0</td>\n",
       "      <td>True</td>\n",
       "      <td>False</td>\n",
       "      <td>False</td>\n",
       "      <td>False</td>\n",
       "      <td>True</td>\n",
       "    </tr>\n",
       "    <tr>\n",
       "      <th>4</th>\n",
       "      <td>157978</td>\n",
       "      <td>730.0</td>\n",
       "      <td>Ярославль</td>\n",
       "      <td>М</td>\n",
       "      <td>34.0</td>\n",
       "      <td>5</td>\n",
       "      <td>174.00</td>\n",
       "      <td>1</td>\n",
       "      <td>1</td>\n",
       "      <td>0</td>\n",
       "      <td>67353.16</td>\n",
       "      <td>1</td>\n",
       "      <td>0</td>\n",
       "      <td>False</td>\n",
       "      <td>True</td>\n",
       "      <td>False</td>\n",
       "      <td>False</td>\n",
       "      <td>True</td>\n",
       "    </tr>\n",
       "  </tbody>\n",
       "</table>\n",
       "</div>"
      ],
      "text/plain": [
       "   user_id  score       city gender   age  equity     balance  products  \\\n",
       "0   183012  850.0    Рыбинск      Ж  25.0       1    59214.82         2   \n",
       "1   146556  861.0    Рыбинск      Ж  37.0       5   850594.33         3   \n",
       "2   120722  892.0    Рыбинск      Ж  30.0       0         NaN         1   \n",
       "3   225363  866.0  Ярославль      Ж  51.0       5  1524746.26         2   \n",
       "4   157978  730.0  Ярославль      М  34.0       5      174.00         1   \n",
       "\n",
       "   credit_card  last_activity  est_salary  churn  miss_balance  gender_2_Ж  \\\n",
       "0            0              1    75719.14      1             0        True   \n",
       "1            1              0    86621.77      0             0        True   \n",
       "2            1              1   107683.34      0             1        True   \n",
       "3            0              1   174423.53      1             0        True   \n",
       "4            1              0    67353.16      1             0       False   \n",
       "\n",
       "   gender_2_М  city_2_Ростов  city_2_Рыбинск  city_2_Ярославль  \n",
       "0       False          False            True             False  \n",
       "1       False          False            True             False  \n",
       "2       False          False            True             False  \n",
       "3       False          False           False              True  \n",
       "4        True          False           False              True  "
      ]
     },
     "execution_count": 20,
     "metadata": {},
     "output_type": "execute_result"
    }
   ],
   "source": [
    "data['gender_2'] = data['gender']\n",
    "data['city_2'] = data['city']\n",
    "\n",
    "data = pd.get_dummies(data, columns = ['gender_2', 'city_2'])\n",
    "\n",
    "data.head()"
   ]
  },
  {
   "cell_type": "markdown",
   "metadata": {},
   "source": [
    "Переименуем столбцы "
   ]
  },
  {
   "cell_type": "code",
   "execution_count": 21,
   "metadata": {},
   "outputs": [
    {
     "data": {
      "text/html": [
       "<div>\n",
       "<style scoped>\n",
       "    .dataframe tbody tr th:only-of-type {\n",
       "        vertical-align: middle;\n",
       "    }\n",
       "\n",
       "    .dataframe tbody tr th {\n",
       "        vertical-align: top;\n",
       "    }\n",
       "\n",
       "    .dataframe thead th {\n",
       "        text-align: right;\n",
       "    }\n",
       "</style>\n",
       "<table border=\"1\" class=\"dataframe\">\n",
       "  <thead>\n",
       "    <tr style=\"text-align: right;\">\n",
       "      <th></th>\n",
       "      <th>user_id</th>\n",
       "      <th>score</th>\n",
       "      <th>city</th>\n",
       "      <th>gender</th>\n",
       "      <th>age</th>\n",
       "      <th>equity</th>\n",
       "      <th>balance</th>\n",
       "      <th>products</th>\n",
       "      <th>credit_card</th>\n",
       "      <th>last_activity</th>\n",
       "      <th>est_salary</th>\n",
       "      <th>churn</th>\n",
       "      <th>miss_balance</th>\n",
       "      <th>female</th>\n",
       "      <th>male</th>\n",
       "      <th>Ростов</th>\n",
       "      <th>Рыбинск</th>\n",
       "      <th>Ярославль</th>\n",
       "    </tr>\n",
       "  </thead>\n",
       "  <tbody>\n",
       "    <tr>\n",
       "      <th>0</th>\n",
       "      <td>183012</td>\n",
       "      <td>850.0</td>\n",
       "      <td>Рыбинск</td>\n",
       "      <td>Ж</td>\n",
       "      <td>25.0</td>\n",
       "      <td>1</td>\n",
       "      <td>59214.82</td>\n",
       "      <td>2</td>\n",
       "      <td>0</td>\n",
       "      <td>1</td>\n",
       "      <td>75719.14</td>\n",
       "      <td>1</td>\n",
       "      <td>0</td>\n",
       "      <td>True</td>\n",
       "      <td>False</td>\n",
       "      <td>False</td>\n",
       "      <td>True</td>\n",
       "      <td>False</td>\n",
       "    </tr>\n",
       "    <tr>\n",
       "      <th>1</th>\n",
       "      <td>146556</td>\n",
       "      <td>861.0</td>\n",
       "      <td>Рыбинск</td>\n",
       "      <td>Ж</td>\n",
       "      <td>37.0</td>\n",
       "      <td>5</td>\n",
       "      <td>850594.33</td>\n",
       "      <td>3</td>\n",
       "      <td>1</td>\n",
       "      <td>0</td>\n",
       "      <td>86621.77</td>\n",
       "      <td>0</td>\n",
       "      <td>0</td>\n",
       "      <td>True</td>\n",
       "      <td>False</td>\n",
       "      <td>False</td>\n",
       "      <td>True</td>\n",
       "      <td>False</td>\n",
       "    </tr>\n",
       "    <tr>\n",
       "      <th>2</th>\n",
       "      <td>120722</td>\n",
       "      <td>892.0</td>\n",
       "      <td>Рыбинск</td>\n",
       "      <td>Ж</td>\n",
       "      <td>30.0</td>\n",
       "      <td>0</td>\n",
       "      <td>NaN</td>\n",
       "      <td>1</td>\n",
       "      <td>1</td>\n",
       "      <td>1</td>\n",
       "      <td>107683.34</td>\n",
       "      <td>0</td>\n",
       "      <td>1</td>\n",
       "      <td>True</td>\n",
       "      <td>False</td>\n",
       "      <td>False</td>\n",
       "      <td>True</td>\n",
       "      <td>False</td>\n",
       "    </tr>\n",
       "    <tr>\n",
       "      <th>3</th>\n",
       "      <td>225363</td>\n",
       "      <td>866.0</td>\n",
       "      <td>Ярославль</td>\n",
       "      <td>Ж</td>\n",
       "      <td>51.0</td>\n",
       "      <td>5</td>\n",
       "      <td>1524746.26</td>\n",
       "      <td>2</td>\n",
       "      <td>0</td>\n",
       "      <td>1</td>\n",
       "      <td>174423.53</td>\n",
       "      <td>1</td>\n",
       "      <td>0</td>\n",
       "      <td>True</td>\n",
       "      <td>False</td>\n",
       "      <td>False</td>\n",
       "      <td>False</td>\n",
       "      <td>True</td>\n",
       "    </tr>\n",
       "    <tr>\n",
       "      <th>4</th>\n",
       "      <td>157978</td>\n",
       "      <td>730.0</td>\n",
       "      <td>Ярославль</td>\n",
       "      <td>М</td>\n",
       "      <td>34.0</td>\n",
       "      <td>5</td>\n",
       "      <td>174.00</td>\n",
       "      <td>1</td>\n",
       "      <td>1</td>\n",
       "      <td>0</td>\n",
       "      <td>67353.16</td>\n",
       "      <td>1</td>\n",
       "      <td>0</td>\n",
       "      <td>False</td>\n",
       "      <td>True</td>\n",
       "      <td>False</td>\n",
       "      <td>False</td>\n",
       "      <td>True</td>\n",
       "    </tr>\n",
       "  </tbody>\n",
       "</table>\n",
       "</div>"
      ],
      "text/plain": [
       "   user_id  score       city gender   age  equity     balance  products  \\\n",
       "0   183012  850.0    Рыбинск      Ж  25.0       1    59214.82         2   \n",
       "1   146556  861.0    Рыбинск      Ж  37.0       5   850594.33         3   \n",
       "2   120722  892.0    Рыбинск      Ж  30.0       0         NaN         1   \n",
       "3   225363  866.0  Ярославль      Ж  51.0       5  1524746.26         2   \n",
       "4   157978  730.0  Ярославль      М  34.0       5      174.00         1   \n",
       "\n",
       "   credit_card  last_activity  est_salary  churn  miss_balance  female   male  \\\n",
       "0            0              1    75719.14      1             0    True  False   \n",
       "1            1              0    86621.77      0             0    True  False   \n",
       "2            1              1   107683.34      0             1    True  False   \n",
       "3            0              1   174423.53      1             0    True  False   \n",
       "4            1              0    67353.16      1             0   False   True   \n",
       "\n",
       "   Ростов  Рыбинск  Ярославль  \n",
       "0   False     True      False  \n",
       "1   False     True      False  \n",
       "2   False     True      False  \n",
       "3   False    False       True  \n",
       "4   False    False       True  "
      ]
     },
     "execution_count": 21,
     "metadata": {},
     "output_type": "execute_result"
    }
   ],
   "source": [
    "data = data.rename (\n",
    "    columns = ({'gender_2_Ж':'female', 'gender_2_М':'male','city_2_Ростов':'Ростов', 'city_2_Рыбинск':'Рыбинск',\n",
    "        'city_2_Ярославль':'Ярославль'}))\n",
    "data.head()"
   ]
  },
  {
   "cell_type": "markdown",
   "metadata": {},
   "source": [
    "**Вывод:\n",
    "названия столбцов приведены в нужный стиль, проверили данные на дубликаты и пропуски, посмотрели средние значения и закодировали переменные.**"
   ]
  },
  {
   "cell_type": "markdown",
   "metadata": {},
   "source": [
    "## Исследовательский анализ данных"
   ]
  },
  {
   "cell_type": "markdown",
   "metadata": {},
   "source": [
    "### Распределение признаков среди всех клиентов и в разрезе оттока клиентов"
   ]
  },
  {
   "cell_type": "markdown",
   "metadata": {},
   "source": [
    "**Для начала рассчитаем среднее значение оттока по банку:**"
   ]
  },
  {
   "cell_type": "code",
   "execution_count": 22,
   "metadata": {},
   "outputs": [
    {
     "data": {
      "text/plain": [
       "0.182"
      ]
     },
     "execution_count": 22,
     "metadata": {},
     "output_type": "execute_result"
    }
   ],
   "source": [
    "churn_mean = data['churn'].sum()/data['churn'].count()\n",
    "churn_mean"
   ]
  },
  {
   "cell_type": "markdown",
   "metadata": {},
   "source": [
    "**Разбивка по столбцу score относительно churn:**"
   ]
  },
  {
   "cell_type": "code",
   "execution_count": 23,
   "metadata": {},
   "outputs": [
    {
     "data": {
      "image/png": "[encoded data removed]",
      "text/plain": [
       "<Figure size 1200x800 with 1 Axes>"
      ]
     },
     "metadata": {},
     "output_type": "display_data"
    }
   ],
   "source": [
    "plt.figure(figsize=(12, 8))         \n",
    "sns.histplot(data = data, x = 'score', hue = 'churn', stat = 'density', common_norm = False)\n",
    "plt.title('Доля оттока клиентов по баллам кредитного скоринга')\n",
    "plt.xlabel('Количество баллов')\n",
    "plt.ylabel('Плотность оттока')\n",
    "plt.legend(['ушли', 'остались'])\n",
    "plt.show();"
   ]
  },
  {
   "cell_type": "markdown",
   "metadata": {},
   "source": [
    "По графику видно, что у клиентов, которые имеют баллы кредитного скоринга 830-910, отток выше."
   ]
  },
  {
   "cell_type": "markdown",
   "metadata": {},
   "source": [
    "**Разбивка по столбцу city относительно churn:**"
   ]
  },
  {
   "cell_type": "code",
   "execution_count": 24,
   "metadata": {},
   "outputs": [
    {
     "data": {
      "text/html": [
       "<div>\n",
       "<style scoped>\n",
       "    .dataframe tbody tr th:only-of-type {\n",
       "        vertical-align: middle;\n",
       "    }\n",
       "\n",
       "    .dataframe tbody tr th {\n",
       "        vertical-align: top;\n",
       "    }\n",
       "\n",
       "    .dataframe thead th {\n",
       "        text-align: right;\n",
       "    }\n",
       "</style>\n",
       "<table border=\"1\" class=\"dataframe\">\n",
       "  <thead>\n",
       "    <tr style=\"text-align: right;\">\n",
       "      <th></th>\n",
       "      <th>sum</th>\n",
       "      <th>mean</th>\n",
       "      <th>count</th>\n",
       "    </tr>\n",
       "    <tr>\n",
       "      <th>city</th>\n",
       "      <th></th>\n",
       "      <th></th>\n",
       "      <th></th>\n",
       "    </tr>\n",
       "  </thead>\n",
       "  <tbody>\n",
       "    <tr>\n",
       "      <th>Ростов</th>\n",
       "      <td>266</td>\n",
       "      <td>0.187721</td>\n",
       "      <td>1417</td>\n",
       "    </tr>\n",
       "    <tr>\n",
       "      <th>Рыбинск</th>\n",
       "      <td>437</td>\n",
       "      <td>0.162152</td>\n",
       "      <td>2695</td>\n",
       "    </tr>\n",
       "    <tr>\n",
       "      <th>Ярославль</th>\n",
       "      <td>1117</td>\n",
       "      <td>0.189708</td>\n",
       "      <td>5888</td>\n",
       "    </tr>\n",
       "  </tbody>\n",
       "</table>\n",
       "</div>"
      ],
      "text/plain": [
       "            sum      mean  count\n",
       "city                            \n",
       "Ростов      266  0.187721   1417\n",
       "Рыбинск     437  0.162152   2695\n",
       "Ярославль  1117  0.189708   5888"
      ]
     },
     "execution_count": 24,
     "metadata": {},
     "output_type": "execute_result"
    }
   ],
   "source": [
    "churn_city = data.pivot_table(index = 'city', values = 'churn', aggfunc = ['sum', 'mean', 'count'])\n",
    "churn_city.columns = churn_city.columns.droplevel(level = 1)\n",
    "churn_city"
   ]
  },
  {
   "cell_type": "code",
   "execution_count": 25,
   "metadata": {},
   "outputs": [
    {
     "data": {
      "image/png": "[encoded data removed]",
      "text/plain": [
       "<Figure size 1200x800 with 1 Axes>"
      ]
     },
     "metadata": {},
     "output_type": "display_data"
    }
   ],
   "source": [
    "plt.figure(figsize=(12, 8))\n",
    "sns.barplot(data = data, x = 'city', y = 'churn')\n",
    "plt.title('Процент ушедших клиентов в разбивке по городам')\n",
    "plt.xlabel('Города')\n",
    "plt.ylabel('Плотность оттока')\n",
    "plt.axhline(y = 0.18);"
   ]
  },
  {
   "cell_type": "markdown",
   "metadata": {},
   "source": [
    "По графику видно, что отток клиентов выше в Ярославле и Ростове (причем выше среднего значения оттока по банку)."
   ]
  },
  {
   "cell_type": "markdown",
   "metadata": {},
   "source": [
    "**Разбивка по столбцу gender относительно churn:**"
   ]
  },
  {
   "cell_type": "code",
   "execution_count": 26,
   "metadata": {
    "scrolled": true
   },
   "outputs": [
    {
     "data": {
      "text/html": [
       "<div>\n",
       "<style scoped>\n",
       "    .dataframe tbody tr th:only-of-type {\n",
       "        vertical-align: middle;\n",
       "    }\n",
       "\n",
       "    .dataframe tbody tr th {\n",
       "        vertical-align: top;\n",
       "    }\n",
       "\n",
       "    .dataframe thead th {\n",
       "        text-align: right;\n",
       "    }\n",
       "</style>\n",
       "<table border=\"1\" class=\"dataframe\">\n",
       "  <thead>\n",
       "    <tr style=\"text-align: right;\">\n",
       "      <th></th>\n",
       "      <th>sum</th>\n",
       "      <th>count</th>\n",
       "      <th>percentage</th>\n",
       "    </tr>\n",
       "    <tr>\n",
       "      <th>gender</th>\n",
       "      <th></th>\n",
       "      <th></th>\n",
       "      <th></th>\n",
       "    </tr>\n",
       "  </thead>\n",
       "  <tbody>\n",
       "    <tr>\n",
       "      <th>Ж</th>\n",
       "      <td>637</td>\n",
       "      <td>4995</td>\n",
       "      <td>12.752753</td>\n",
       "    </tr>\n",
       "    <tr>\n",
       "      <th>М</th>\n",
       "      <td>1183</td>\n",
       "      <td>5005</td>\n",
       "      <td>23.636364</td>\n",
       "    </tr>\n",
       "  </tbody>\n",
       "</table>\n",
       "</div>"
      ],
      "text/plain": [
       "         sum  count  percentage\n",
       "gender                         \n",
       "Ж        637   4995   12.752753\n",
       "М       1183   5005   23.636364"
      ]
     },
     "execution_count": 26,
     "metadata": {},
     "output_type": "execute_result"
    }
   ],
   "source": [
    "churn_gender = data.pivot_table(index = 'gender', values = 'churn', aggfunc = ['sum', 'count'])\n",
    "churn_gender.columns = churn_gender.columns.droplevel(level = 1)\n",
    "churn_gender['percentage'] = churn_gender['sum']/churn_gender['count']*100\n",
    "churn_gender"
   ]
  },
  {
   "cell_type": "code",
   "execution_count": 27,
   "metadata": {},
   "outputs": [
    {
     "data": {
      "image/png": "[encoded data removed]",
      "text/plain": [
       "<Figure size 1200x800 with 1 Axes>"
      ]
     },
     "metadata": {},
     "output_type": "display_data"
    }
   ],
   "source": [
    "plt.figure(figsize=(12, 8))\n",
    "sns.barplot(data = data, x = 'gender', y = 'churn')\n",
    "plt.title('Процент ушедших клиентов в разбивке по полу')\n",
    "plt.xlabel('Пол клиентов')\n",
    "plt.ylabel('Плотность оттока')\n",
    "plt.axhline(y = 0.18);"
   ]
  },
  {
   "cell_type": "markdown",
   "metadata": {},
   "source": [
    "По графику видно, что процент ушедших клиентов мужского пола выше среднего значения оттока по банку и выше процента женского пола."
   ]
  },
  {
   "cell_type": "markdown",
   "metadata": {},
   "source": [
    "**Разбивка по столбцу age относительно churn:**"
   ]
  },
  {
   "cell_type": "code",
   "execution_count": 28,
   "metadata": {},
   "outputs": [
    {
     "data": {
      "text/html": [
       "<div>\n",
       "<style scoped>\n",
       "    .dataframe tbody tr th:only-of-type {\n",
       "        vertical-align: middle;\n",
       "    }\n",
       "\n",
       "    .dataframe tbody tr th {\n",
       "        vertical-align: top;\n",
       "    }\n",
       "\n",
       "    .dataframe thead th {\n",
       "        text-align: right;\n",
       "    }\n",
       "</style>\n",
       "<table border=\"1\" class=\"dataframe\">\n",
       "  <thead>\n",
       "    <tr style=\"text-align: right;\">\n",
       "      <th></th>\n",
       "      <th>sum</th>\n",
       "      <th>mean</th>\n",
       "      <th>count</th>\n",
       "    </tr>\n",
       "    <tr>\n",
       "      <th>age</th>\n",
       "      <th></th>\n",
       "      <th></th>\n",
       "      <th></th>\n",
       "    </tr>\n",
       "  </thead>\n",
       "  <tbody>\n",
       "    <tr>\n",
       "      <th>18.0</th>\n",
       "      <td>1</td>\n",
       "      <td>0.076923</td>\n",
       "      <td>13</td>\n",
       "    </tr>\n",
       "    <tr>\n",
       "      <th>19.0</th>\n",
       "      <td>1</td>\n",
       "      <td>0.062500</td>\n",
       "      <td>16</td>\n",
       "    </tr>\n",
       "    <tr>\n",
       "      <th>20.0</th>\n",
       "      <td>3</td>\n",
       "      <td>0.130435</td>\n",
       "      <td>23</td>\n",
       "    </tr>\n",
       "    <tr>\n",
       "      <th>21.0</th>\n",
       "      <td>4</td>\n",
       "      <td>0.266667</td>\n",
       "      <td>15</td>\n",
       "    </tr>\n",
       "    <tr>\n",
       "      <th>22.0</th>\n",
       "      <td>4</td>\n",
       "      <td>0.148148</td>\n",
       "      <td>27</td>\n",
       "    </tr>\n",
       "    <tr>\n",
       "      <th>...</th>\n",
       "      <td>...</td>\n",
       "      <td>...</td>\n",
       "      <td>...</td>\n",
       "    </tr>\n",
       "    <tr>\n",
       "      <th>81.0</th>\n",
       "      <td>0</td>\n",
       "      <td>0.000000</td>\n",
       "      <td>4</td>\n",
       "    </tr>\n",
       "    <tr>\n",
       "      <th>82.0</th>\n",
       "      <td>0</td>\n",
       "      <td>0.000000</td>\n",
       "      <td>2</td>\n",
       "    </tr>\n",
       "    <tr>\n",
       "      <th>83.0</th>\n",
       "      <td>0</td>\n",
       "      <td>0.000000</td>\n",
       "      <td>3</td>\n",
       "    </tr>\n",
       "    <tr>\n",
       "      <th>84.0</th>\n",
       "      <td>0</td>\n",
       "      <td>0.000000</td>\n",
       "      <td>2</td>\n",
       "    </tr>\n",
       "    <tr>\n",
       "      <th>86.0</th>\n",
       "      <td>0</td>\n",
       "      <td>0.000000</td>\n",
       "      <td>2</td>\n",
       "    </tr>\n",
       "  </tbody>\n",
       "</table>\n",
       "<p>68 rows × 3 columns</p>\n",
       "</div>"
      ],
      "text/plain": [
       "      sum      mean  count\n",
       "age                       \n",
       "18.0    1  0.076923     13\n",
       "19.0    1  0.062500     16\n",
       "20.0    3  0.130435     23\n",
       "21.0    4  0.266667     15\n",
       "22.0    4  0.148148     27\n",
       "...   ...       ...    ...\n",
       "81.0    0  0.000000      4\n",
       "82.0    0  0.000000      2\n",
       "83.0    0  0.000000      3\n",
       "84.0    0  0.000000      2\n",
       "86.0    0  0.000000      2\n",
       "\n",
       "[68 rows x 3 columns]"
      ]
     },
     "execution_count": 28,
     "metadata": {},
     "output_type": "execute_result"
    }
   ],
   "source": [
    "churn_age = data.pivot_table(index = 'age', values = 'churn', aggfunc = ['sum', 'mean', 'count'])\n",
    "churn_age.columns = churn_age.columns.droplevel(level = 1)\n",
    "churn_age"
   ]
  },
  {
   "cell_type": "code",
   "execution_count": 29,
   "metadata": {},
   "outputs": [
    {
     "data": {
      "image/png": "[encoded data removed]",
      "text/plain": [
       "<Figure size 1200x800 with 1 Axes>"
      ]
     },
     "metadata": {},
     "output_type": "display_data"
    }
   ],
   "source": [
    "plt.figure(figsize=(12, 8))         \n",
    "sns.histplot(data = data, x = 'age', hue = 'churn', stat = 'density', common_norm = False)\n",
    "plt.title('Доля оттока клиентов по возрасту')\n",
    "plt.xlabel('Возраст')\n",
    "plt.ylabel('Плотность оттока')\n",
    "plt.legend(['ушли', 'остались'])\n",
    "plt.show();"
   ]
  },
  {
   "cell_type": "markdown",
   "metadata": {},
   "source": [
    "По графику видно, что у клиентов, возраст которых 25-35 и 50-60, отток выше."
   ]
  },
  {
   "cell_type": "markdown",
   "metadata": {},
   "source": [
    "**Разбивка по столбцу equity относительно churn:**"
   ]
  },
  {
   "cell_type": "code",
   "execution_count": 30,
   "metadata": {},
   "outputs": [
    {
     "data": {
      "text/html": [
       "<div>\n",
       "<style scoped>\n",
       "    .dataframe tbody tr th:only-of-type {\n",
       "        vertical-align: middle;\n",
       "    }\n",
       "\n",
       "    .dataframe tbody tr th {\n",
       "        vertical-align: top;\n",
       "    }\n",
       "\n",
       "    .dataframe thead th {\n",
       "        text-align: right;\n",
       "    }\n",
       "</style>\n",
       "<table border=\"1\" class=\"dataframe\">\n",
       "  <thead>\n",
       "    <tr style=\"text-align: right;\">\n",
       "      <th></th>\n",
       "      <th>sum</th>\n",
       "      <th>mean</th>\n",
       "      <th>count</th>\n",
       "    </tr>\n",
       "    <tr>\n",
       "      <th>equity</th>\n",
       "      <th></th>\n",
       "      <th></th>\n",
       "      <th></th>\n",
       "    </tr>\n",
       "  </thead>\n",
       "  <tbody>\n",
       "    <tr>\n",
       "      <th>0</th>\n",
       "      <td>90</td>\n",
       "      <td>0.034722</td>\n",
       "      <td>2592</td>\n",
       "    </tr>\n",
       "    <tr>\n",
       "      <th>1</th>\n",
       "      <td>93</td>\n",
       "      <td>0.120155</td>\n",
       "      <td>774</td>\n",
       "    </tr>\n",
       "    <tr>\n",
       "      <th>2</th>\n",
       "      <td>166</td>\n",
       "      <td>0.157795</td>\n",
       "      <td>1052</td>\n",
       "    </tr>\n",
       "    <tr>\n",
       "      <th>3</th>\n",
       "      <td>322</td>\n",
       "      <td>0.208684</td>\n",
       "      <td>1543</td>\n",
       "    </tr>\n",
       "    <tr>\n",
       "      <th>4</th>\n",
       "      <td>464</td>\n",
       "      <td>0.250811</td>\n",
       "      <td>1850</td>\n",
       "    </tr>\n",
       "    <tr>\n",
       "      <th>5</th>\n",
       "      <td>577</td>\n",
       "      <td>0.300834</td>\n",
       "      <td>1918</td>\n",
       "    </tr>\n",
       "    <tr>\n",
       "      <th>6</th>\n",
       "      <td>58</td>\n",
       "      <td>0.360248</td>\n",
       "      <td>161</td>\n",
       "    </tr>\n",
       "    <tr>\n",
       "      <th>7</th>\n",
       "      <td>37</td>\n",
       "      <td>0.462500</td>\n",
       "      <td>80</td>\n",
       "    </tr>\n",
       "    <tr>\n",
       "      <th>8</th>\n",
       "      <td>6</td>\n",
       "      <td>0.352941</td>\n",
       "      <td>17</td>\n",
       "    </tr>\n",
       "    <tr>\n",
       "      <th>9</th>\n",
       "      <td>7</td>\n",
       "      <td>0.538462</td>\n",
       "      <td>13</td>\n",
       "    </tr>\n",
       "  </tbody>\n",
       "</table>\n",
       "</div>"
      ],
      "text/plain": [
       "        sum      mean  count\n",
       "equity                      \n",
       "0        90  0.034722   2592\n",
       "1        93  0.120155    774\n",
       "2       166  0.157795   1052\n",
       "3       322  0.208684   1543\n",
       "4       464  0.250811   1850\n",
       "5       577  0.300834   1918\n",
       "6        58  0.360248    161\n",
       "7        37  0.462500     80\n",
       "8         6  0.352941     17\n",
       "9         7  0.538462     13"
      ]
     },
     "execution_count": 30,
     "metadata": {},
     "output_type": "execute_result"
    }
   ],
   "source": [
    "churn_equity = data.pivot_table(index = 'equity', values = 'churn', aggfunc = ['sum', 'mean', 'count'])\n",
    "churn_equity.columns = churn_equity.columns.droplevel(level = 1)\n",
    "churn_equity"
   ]
  },
  {
   "cell_type": "code",
   "execution_count": 31,
   "metadata": {},
   "outputs": [
    {
     "data": {
      "image/png": "[encoded data removed]",
      "text/plain": [
       "<Figure size 1200x800 with 1 Axes>"
      ]
     },
     "metadata": {},
     "output_type": "display_data"
    }
   ],
   "source": [
    "plt.figure(figsize=(12, 8))\n",
    "sns.barplot(data = data, x = 'equity', y = 'churn')\n",
    "plt.title('Процент ушедших клиентов в разбивке по количеству баллов собственности')\n",
    "plt.xlabel('Баллы собственности')\n",
    "plt.ylabel('Плотность оттока')\n",
    "plt.axhline(y = 0.18);"
   ]
  },
  {
   "cell_type": "markdown",
   "metadata": {},
   "source": [
    "По графику видно, что, чем больше баллов собственности (3 и выше), тем выше процент ухода клиентов."
   ]
  },
  {
   "cell_type": "markdown",
   "metadata": {},
   "source": [
    "**Разбивка по столбцу products относительно churn:**"
   ]
  },
  {
   "cell_type": "code",
   "execution_count": 32,
   "metadata": {},
   "outputs": [
    {
     "data": {
      "text/html": [
       "<div>\n",
       "<style scoped>\n",
       "    .dataframe tbody tr th:only-of-type {\n",
       "        vertical-align: middle;\n",
       "    }\n",
       "\n",
       "    .dataframe tbody tr th {\n",
       "        vertical-align: top;\n",
       "    }\n",
       "\n",
       "    .dataframe thead th {\n",
       "        text-align: right;\n",
       "    }\n",
       "</style>\n",
       "<table border=\"1\" class=\"dataframe\">\n",
       "  <thead>\n",
       "    <tr style=\"text-align: right;\">\n",
       "      <th></th>\n",
       "      <th>sum</th>\n",
       "      <th>mean</th>\n",
       "      <th>count</th>\n",
       "    </tr>\n",
       "    <tr>\n",
       "      <th>products</th>\n",
       "      <th></th>\n",
       "      <th></th>\n",
       "      <th></th>\n",
       "    </tr>\n",
       "  </thead>\n",
       "  <tbody>\n",
       "    <tr>\n",
       "      <th>1</th>\n",
       "      <td>236</td>\n",
       "      <td>0.070616</td>\n",
       "      <td>3342</td>\n",
       "    </tr>\n",
       "    <tr>\n",
       "      <th>2</th>\n",
       "      <td>979</td>\n",
       "      <td>0.190987</td>\n",
       "      <td>5126</td>\n",
       "    </tr>\n",
       "    <tr>\n",
       "      <th>3</th>\n",
       "      <td>297</td>\n",
       "      <td>0.285852</td>\n",
       "      <td>1039</td>\n",
       "    </tr>\n",
       "    <tr>\n",
       "      <th>4</th>\n",
       "      <td>300</td>\n",
       "      <td>0.632911</td>\n",
       "      <td>474</td>\n",
       "    </tr>\n",
       "    <tr>\n",
       "      <th>5</th>\n",
       "      <td>8</td>\n",
       "      <td>0.421053</td>\n",
       "      <td>19</td>\n",
       "    </tr>\n",
       "  </tbody>\n",
       "</table>\n",
       "</div>"
      ],
      "text/plain": [
       "          sum      mean  count\n",
       "products                      \n",
       "1         236  0.070616   3342\n",
       "2         979  0.190987   5126\n",
       "3         297  0.285852   1039\n",
       "4         300  0.632911    474\n",
       "5           8  0.421053     19"
      ]
     },
     "execution_count": 32,
     "metadata": {},
     "output_type": "execute_result"
    }
   ],
   "source": [
    "churn_products = data.pivot_table(index = 'products', values = 'churn', aggfunc = ['sum', 'mean', 'count'])\n",
    "churn_products.columns = churn_products.columns.droplevel(level = 1)\n",
    "churn_products"
   ]
  },
  {
   "cell_type": "code",
   "execution_count": 33,
   "metadata": {},
   "outputs": [
    {
     "data": {
      "image/png": "[encoded data removed]",
      "text/plain": [
       "<Figure size 1200x800 with 1 Axes>"
      ]
     },
     "metadata": {},
     "output_type": "display_data"
    }
   ],
   "source": [
    "plt.figure(figsize=(12, 8))\n",
    "sns.barplot(data = data, x = 'products', y = 'churn')\n",
    "plt.title('Процент ушедших клиентов в разбивке по количеству продуктов, которыми пользуется клиент')\n",
    "plt.xlabel('Количество продуктов')\n",
    "plt.ylabel('Плотность оттока')\n",
    "plt.axhline(y = 0.18);"
   ]
  },
  {
   "cell_type": "markdown",
   "metadata": {},
   "source": [
    "По графику видно, что клиенты, использующие 3 и более продуктов, уходят намного чаще остальных."
   ]
  },
  {
   "cell_type": "markdown",
   "metadata": {},
   "source": [
    "**Разбивка по столбцу credit_card относительно churn:**"
   ]
  },
  {
   "cell_type": "code",
   "execution_count": 34,
   "metadata": {},
   "outputs": [
    {
     "data": {
      "text/html": [
       "<div>\n",
       "<style scoped>\n",
       "    .dataframe tbody tr th:only-of-type {\n",
       "        vertical-align: middle;\n",
       "    }\n",
       "\n",
       "    .dataframe tbody tr th {\n",
       "        vertical-align: top;\n",
       "    }\n",
       "\n",
       "    .dataframe thead th {\n",
       "        text-align: right;\n",
       "    }\n",
       "</style>\n",
       "<table border=\"1\" class=\"dataframe\">\n",
       "  <thead>\n",
       "    <tr style=\"text-align: right;\">\n",
       "      <th></th>\n",
       "      <th>user_id</th>\n",
       "      <th>score</th>\n",
       "      <th>city</th>\n",
       "      <th>gender</th>\n",
       "      <th>age</th>\n",
       "      <th>equity</th>\n",
       "      <th>balance</th>\n",
       "      <th>products</th>\n",
       "      <th>credit_card</th>\n",
       "      <th>last_activity</th>\n",
       "      <th>est_salary</th>\n",
       "      <th>churn</th>\n",
       "      <th>miss_balance</th>\n",
       "      <th>female</th>\n",
       "      <th>male</th>\n",
       "      <th>Ростов</th>\n",
       "      <th>Рыбинск</th>\n",
       "      <th>Ярославль</th>\n",
       "    </tr>\n",
       "  </thead>\n",
       "  <tbody>\n",
       "    <tr>\n",
       "      <th>0</th>\n",
       "      <td>183012</td>\n",
       "      <td>850.0</td>\n",
       "      <td>Рыбинск</td>\n",
       "      <td>Ж</td>\n",
       "      <td>25.0</td>\n",
       "      <td>1</td>\n",
       "      <td>59214.82</td>\n",
       "      <td>2</td>\n",
       "      <td>no</td>\n",
       "      <td>1</td>\n",
       "      <td>75719.14</td>\n",
       "      <td>1</td>\n",
       "      <td>0</td>\n",
       "      <td>True</td>\n",
       "      <td>False</td>\n",
       "      <td>False</td>\n",
       "      <td>True</td>\n",
       "      <td>False</td>\n",
       "    </tr>\n",
       "    <tr>\n",
       "      <th>1</th>\n",
       "      <td>146556</td>\n",
       "      <td>861.0</td>\n",
       "      <td>Рыбинск</td>\n",
       "      <td>Ж</td>\n",
       "      <td>37.0</td>\n",
       "      <td>5</td>\n",
       "      <td>850594.33</td>\n",
       "      <td>3</td>\n",
       "      <td>yes</td>\n",
       "      <td>0</td>\n",
       "      <td>86621.77</td>\n",
       "      <td>0</td>\n",
       "      <td>0</td>\n",
       "      <td>True</td>\n",
       "      <td>False</td>\n",
       "      <td>False</td>\n",
       "      <td>True</td>\n",
       "      <td>False</td>\n",
       "    </tr>\n",
       "    <tr>\n",
       "      <th>2</th>\n",
       "      <td>120722</td>\n",
       "      <td>892.0</td>\n",
       "      <td>Рыбинск</td>\n",
       "      <td>Ж</td>\n",
       "      <td>30.0</td>\n",
       "      <td>0</td>\n",
       "      <td>NaN</td>\n",
       "      <td>1</td>\n",
       "      <td>yes</td>\n",
       "      <td>1</td>\n",
       "      <td>107683.34</td>\n",
       "      <td>0</td>\n",
       "      <td>1</td>\n",
       "      <td>True</td>\n",
       "      <td>False</td>\n",
       "      <td>False</td>\n",
       "      <td>True</td>\n",
       "      <td>False</td>\n",
       "    </tr>\n",
       "    <tr>\n",
       "      <th>3</th>\n",
       "      <td>225363</td>\n",
       "      <td>866.0</td>\n",
       "      <td>Ярославль</td>\n",
       "      <td>Ж</td>\n",
       "      <td>51.0</td>\n",
       "      <td>5</td>\n",
       "      <td>1524746.26</td>\n",
       "      <td>2</td>\n",
       "      <td>no</td>\n",
       "      <td>1</td>\n",
       "      <td>174423.53</td>\n",
       "      <td>1</td>\n",
       "      <td>0</td>\n",
       "      <td>True</td>\n",
       "      <td>False</td>\n",
       "      <td>False</td>\n",
       "      <td>False</td>\n",
       "      <td>True</td>\n",
       "    </tr>\n",
       "    <tr>\n",
       "      <th>4</th>\n",
       "      <td>157978</td>\n",
       "      <td>730.0</td>\n",
       "      <td>Ярославль</td>\n",
       "      <td>М</td>\n",
       "      <td>34.0</td>\n",
       "      <td>5</td>\n",
       "      <td>174.00</td>\n",
       "      <td>1</td>\n",
       "      <td>yes</td>\n",
       "      <td>0</td>\n",
       "      <td>67353.16</td>\n",
       "      <td>1</td>\n",
       "      <td>0</td>\n",
       "      <td>False</td>\n",
       "      <td>True</td>\n",
       "      <td>False</td>\n",
       "      <td>False</td>\n",
       "      <td>True</td>\n",
       "    </tr>\n",
       "  </tbody>\n",
       "</table>\n",
       "</div>"
      ],
      "text/plain": [
       "   user_id  score       city gender   age  equity     balance  products  \\\n",
       "0   183012  850.0    Рыбинск      Ж  25.0       1    59214.82         2   \n",
       "1   146556  861.0    Рыбинск      Ж  37.0       5   850594.33         3   \n",
       "2   120722  892.0    Рыбинск      Ж  30.0       0         NaN         1   \n",
       "3   225363  866.0  Ярославль      Ж  51.0       5  1524746.26         2   \n",
       "4   157978  730.0  Ярославль      М  34.0       5      174.00         1   \n",
       "\n",
       "  credit_card  last_activity  est_salary  churn  miss_balance  female   male  \\\n",
       "0          no              1    75719.14      1             0    True  False   \n",
       "1         yes              0    86621.77      0             0    True  False   \n",
       "2         yes              1   107683.34      0             1    True  False   \n",
       "3          no              1   174423.53      1             0    True  False   \n",
       "4         yes              0    67353.16      1             0   False   True   \n",
       "\n",
       "   Ростов  Рыбинск  Ярославль  \n",
       "0   False     True      False  \n",
       "1   False     True      False  \n",
       "2   False     True      False  \n",
       "3   False    False       True  \n",
       "4   False    False       True  "
      ]
     },
     "execution_count": 34,
     "metadata": {},
     "output_type": "execute_result"
    }
   ],
   "source": [
    "data_1 = data.copy()\n",
    "data_1['credit_card'] = np.where(data['credit_card'] == 0, 'no', 'yes')\n",
    "data_1.head()"
   ]
  },
  {
   "cell_type": "code",
   "execution_count": 35,
   "metadata": {},
   "outputs": [
    {
     "data": {
      "text/html": [
       "<div>\n",
       "<style scoped>\n",
       "    .dataframe tbody tr th:only-of-type {\n",
       "        vertical-align: middle;\n",
       "    }\n",
       "\n",
       "    .dataframe tbody tr th {\n",
       "        vertical-align: top;\n",
       "    }\n",
       "\n",
       "    .dataframe thead th {\n",
       "        text-align: right;\n",
       "    }\n",
       "</style>\n",
       "<table border=\"1\" class=\"dataframe\">\n",
       "  <thead>\n",
       "    <tr style=\"text-align: right;\">\n",
       "      <th></th>\n",
       "      <th>sum</th>\n",
       "      <th>mean</th>\n",
       "      <th>count</th>\n",
       "    </tr>\n",
       "    <tr>\n",
       "      <th>credit_card</th>\n",
       "      <th></th>\n",
       "      <th></th>\n",
       "      <th></th>\n",
       "    </tr>\n",
       "  </thead>\n",
       "  <tbody>\n",
       "    <tr>\n",
       "      <th>no</th>\n",
       "      <td>817</td>\n",
       "      <td>0.255632</td>\n",
       "      <td>3196</td>\n",
       "    </tr>\n",
       "    <tr>\n",
       "      <th>yes</th>\n",
       "      <td>1003</td>\n",
       "      <td>0.147413</td>\n",
       "      <td>6804</td>\n",
       "    </tr>\n",
       "  </tbody>\n",
       "</table>\n",
       "</div>"
      ],
      "text/plain": [
       "              sum      mean  count\n",
       "credit_card                       \n",
       "no            817  0.255632   3196\n",
       "yes          1003  0.147413   6804"
      ]
     },
     "execution_count": 35,
     "metadata": {},
     "output_type": "execute_result"
    }
   ],
   "source": [
    "churn_credit_card = data_1.pivot_table(index = 'credit_card', values = 'churn', aggfunc = ['sum', 'mean', 'count'])\n",
    "churn_credit_card.columns = churn_credit_card.columns.droplevel(level = 1)\n",
    "churn_credit_card"
   ]
  },
  {
   "cell_type": "code",
   "execution_count": 36,
   "metadata": {},
   "outputs": [
    {
     "data": {
      "image/png": "[encoded data removed]",
      "text/plain": [
       "<Figure size 1200x800 with 1 Axes>"
      ]
     },
     "metadata": {},
     "output_type": "display_data"
    }
   ],
   "source": [
    "plt.figure(figsize=(12, 8))\n",
    "sns.barplot(data = data_1, x = 'credit_card', y = 'churn')\n",
    "plt.title('Процент ушедших клиентов в разбивке по наличию кредитной карты')\n",
    "plt.xlabel('Наличие кредитной карты')\n",
    "plt.ylabel('Плотность оттока')\n",
    "plt.axhline(y = 0.18);"
   ]
  },
  {
   "cell_type": "markdown",
   "metadata": {},
   "source": [
    "По графику видно, что клиенты, у которых не было кредитной карты, уходят чаще, чем клиенты, у которых она была."
   ]
  },
  {
   "cell_type": "markdown",
   "metadata": {},
   "source": [
    "**Разбивка по столбцу last_activity относительно churn:**"
   ]
  },
  {
   "cell_type": "code",
   "execution_count": 37,
   "metadata": {},
   "outputs": [
    {
     "data": {
      "text/html": [
       "<div>\n",
       "<style scoped>\n",
       "    .dataframe tbody tr th:only-of-type {\n",
       "        vertical-align: middle;\n",
       "    }\n",
       "\n",
       "    .dataframe tbody tr th {\n",
       "        vertical-align: top;\n",
       "    }\n",
       "\n",
       "    .dataframe thead th {\n",
       "        text-align: right;\n",
       "    }\n",
       "</style>\n",
       "<table border=\"1\" class=\"dataframe\">\n",
       "  <thead>\n",
       "    <tr style=\"text-align: right;\">\n",
       "      <th></th>\n",
       "      <th>user_id</th>\n",
       "      <th>score</th>\n",
       "      <th>city</th>\n",
       "      <th>gender</th>\n",
       "      <th>age</th>\n",
       "      <th>equity</th>\n",
       "      <th>balance</th>\n",
       "      <th>products</th>\n",
       "      <th>credit_card</th>\n",
       "      <th>last_activity</th>\n",
       "      <th>est_salary</th>\n",
       "      <th>churn</th>\n",
       "      <th>miss_balance</th>\n",
       "      <th>female</th>\n",
       "      <th>male</th>\n",
       "      <th>Ростов</th>\n",
       "      <th>Рыбинск</th>\n",
       "      <th>Ярославль</th>\n",
       "    </tr>\n",
       "  </thead>\n",
       "  <tbody>\n",
       "    <tr>\n",
       "      <th>0</th>\n",
       "      <td>183012</td>\n",
       "      <td>850.0</td>\n",
       "      <td>Рыбинск</td>\n",
       "      <td>Ж</td>\n",
       "      <td>25.0</td>\n",
       "      <td>1</td>\n",
       "      <td>59214.82</td>\n",
       "      <td>2</td>\n",
       "      <td>0</td>\n",
       "      <td>yes</td>\n",
       "      <td>75719.14</td>\n",
       "      <td>1</td>\n",
       "      <td>0</td>\n",
       "      <td>True</td>\n",
       "      <td>False</td>\n",
       "      <td>False</td>\n",
       "      <td>True</td>\n",
       "      <td>False</td>\n",
       "    </tr>\n",
       "    <tr>\n",
       "      <th>1</th>\n",
       "      <td>146556</td>\n",
       "      <td>861.0</td>\n",
       "      <td>Рыбинск</td>\n",
       "      <td>Ж</td>\n",
       "      <td>37.0</td>\n",
       "      <td>5</td>\n",
       "      <td>850594.33</td>\n",
       "      <td>3</td>\n",
       "      <td>1</td>\n",
       "      <td>no</td>\n",
       "      <td>86621.77</td>\n",
       "      <td>0</td>\n",
       "      <td>0</td>\n",
       "      <td>True</td>\n",
       "      <td>False</td>\n",
       "      <td>False</td>\n",
       "      <td>True</td>\n",
       "      <td>False</td>\n",
       "    </tr>\n",
       "    <tr>\n",
       "      <th>2</th>\n",
       "      <td>120722</td>\n",
       "      <td>892.0</td>\n",
       "      <td>Рыбинск</td>\n",
       "      <td>Ж</td>\n",
       "      <td>30.0</td>\n",
       "      <td>0</td>\n",
       "      <td>NaN</td>\n",
       "      <td>1</td>\n",
       "      <td>1</td>\n",
       "      <td>yes</td>\n",
       "      <td>107683.34</td>\n",
       "      <td>0</td>\n",
       "      <td>1</td>\n",
       "      <td>True</td>\n",
       "      <td>False</td>\n",
       "      <td>False</td>\n",
       "      <td>True</td>\n",
       "      <td>False</td>\n",
       "    </tr>\n",
       "    <tr>\n",
       "      <th>3</th>\n",
       "      <td>225363</td>\n",
       "      <td>866.0</td>\n",
       "      <td>Ярославль</td>\n",
       "      <td>Ж</td>\n",
       "      <td>51.0</td>\n",
       "      <td>5</td>\n",
       "      <td>1524746.26</td>\n",
       "      <td>2</td>\n",
       "      <td>0</td>\n",
       "      <td>yes</td>\n",
       "      <td>174423.53</td>\n",
       "      <td>1</td>\n",
       "      <td>0</td>\n",
       "      <td>True</td>\n",
       "      <td>False</td>\n",
       "      <td>False</td>\n",
       "      <td>False</td>\n",
       "      <td>True</td>\n",
       "    </tr>\n",
       "    <tr>\n",
       "      <th>4</th>\n",
       "      <td>157978</td>\n",
       "      <td>730.0</td>\n",
       "      <td>Ярославль</td>\n",
       "      <td>М</td>\n",
       "      <td>34.0</td>\n",
       "      <td>5</td>\n",
       "      <td>174.00</td>\n",
       "      <td>1</td>\n",
       "      <td>1</td>\n",
       "      <td>no</td>\n",
       "      <td>67353.16</td>\n",
       "      <td>1</td>\n",
       "      <td>0</td>\n",
       "      <td>False</td>\n",
       "      <td>True</td>\n",
       "      <td>False</td>\n",
       "      <td>False</td>\n",
       "      <td>True</td>\n",
       "    </tr>\n",
       "  </tbody>\n",
       "</table>\n",
       "</div>"
      ],
      "text/plain": [
       "   user_id  score       city gender   age  equity     balance  products  \\\n",
       "0   183012  850.0    Рыбинск      Ж  25.0       1    59214.82         2   \n",
       "1   146556  861.0    Рыбинск      Ж  37.0       5   850594.33         3   \n",
       "2   120722  892.0    Рыбинск      Ж  30.0       0         NaN         1   \n",
       "3   225363  866.0  Ярославль      Ж  51.0       5  1524746.26         2   \n",
       "4   157978  730.0  Ярославль      М  34.0       5      174.00         1   \n",
       "\n",
       "   credit_card last_activity  est_salary  churn  miss_balance  female   male  \\\n",
       "0            0           yes    75719.14      1             0    True  False   \n",
       "1            1            no    86621.77      0             0    True  False   \n",
       "2            1           yes   107683.34      0             1    True  False   \n",
       "3            0           yes   174423.53      1             0    True  False   \n",
       "4            1            no    67353.16      1             0   False   True   \n",
       "\n",
       "   Ростов  Рыбинск  Ярославль  \n",
       "0   False     True      False  \n",
       "1   False     True      False  \n",
       "2   False     True      False  \n",
       "3   False    False       True  \n",
       "4   False    False       True  "
      ]
     },
     "execution_count": 37,
     "metadata": {},
     "output_type": "execute_result"
    }
   ],
   "source": [
    "data_2 = data.copy()\n",
    "data_2['last_activity'] = np.where(data['last_activity'] == 0, 'no', 'yes')\n",
    "data_2.head()"
   ]
  },
  {
   "cell_type": "code",
   "execution_count": 38,
   "metadata": {},
   "outputs": [
    {
     "data": {
      "text/html": [
       "<div>\n",
       "<style scoped>\n",
       "    .dataframe tbody tr th:only-of-type {\n",
       "        vertical-align: middle;\n",
       "    }\n",
       "\n",
       "    .dataframe tbody tr th {\n",
       "        vertical-align: top;\n",
       "    }\n",
       "\n",
       "    .dataframe thead th {\n",
       "        text-align: right;\n",
       "    }\n",
       "</style>\n",
       "<table border=\"1\" class=\"dataframe\">\n",
       "  <thead>\n",
       "    <tr style=\"text-align: right;\">\n",
       "      <th></th>\n",
       "      <th>sum</th>\n",
       "      <th>mean</th>\n",
       "      <th>count</th>\n",
       "    </tr>\n",
       "    <tr>\n",
       "      <th>last_activity</th>\n",
       "      <th></th>\n",
       "      <th></th>\n",
       "      <th></th>\n",
       "    </tr>\n",
       "  </thead>\n",
       "  <tbody>\n",
       "    <tr>\n",
       "      <th>no</th>\n",
       "      <td>542</td>\n",
       "      <td>0.113746</td>\n",
       "      <td>4765</td>\n",
       "    </tr>\n",
       "    <tr>\n",
       "      <th>yes</th>\n",
       "      <td>1278</td>\n",
       "      <td>0.244126</td>\n",
       "      <td>5235</td>\n",
       "    </tr>\n",
       "  </tbody>\n",
       "</table>\n",
       "</div>"
      ],
      "text/plain": [
       "                sum      mean  count\n",
       "last_activity                       \n",
       "no              542  0.113746   4765\n",
       "yes            1278  0.244126   5235"
      ]
     },
     "execution_count": 38,
     "metadata": {},
     "output_type": "execute_result"
    }
   ],
   "source": [
    "churn_last_activity = data_2.pivot_table(index = 'last_activity', values = 'churn', aggfunc = ['sum', 'mean', 'count'])\n",
    "churn_last_activity.columns = churn_last_activity.columns.droplevel(level = 1)\n",
    "churn_last_activity"
   ]
  },
  {
   "cell_type": "code",
   "execution_count": 39,
   "metadata": {},
   "outputs": [
    {
     "data": {
      "image/png": "[encoded data removed]",
      "text/plain": [
       "<Figure size 1200x800 with 1 Axes>"
      ]
     },
     "metadata": {},
     "output_type": "display_data"
    }
   ],
   "source": [
    "plt.figure(figsize=(12, 8))\n",
    "sns.barplot(data = data_2, x = 'last_activity', y = 'churn')\n",
    "plt.title('Процент ушедших клиентов в разбивке по активности клиента')\n",
    "plt.xlabel('Активность клиента')\n",
    "plt.ylabel('Плотность оттока')\n",
    "plt.axhline(y = 0.18);"
   ]
  },
  {
   "cell_type": "markdown",
   "metadata": {},
   "source": [
    "По графику видно, что активные клиенты уходят из банка чаще, чем не активные. Возможно, это из-за того, что они получили негативный опыт пользования банковскими услугами."
   ]
  },
  {
   "cell_type": "markdown",
   "metadata": {},
   "source": [
    "**Разбивка по столбцу balance относительно churn:**"
   ]
  },
  {
   "cell_type": "code",
   "execution_count": 40,
   "metadata": {},
   "outputs": [
    {
     "data": {
      "image/png": "[encoded data removed]",
      "text/plain": [
       "<Figure size 1200x800 with 1 Axes>"
      ]
     },
     "metadata": {},
     "output_type": "display_data"
    }
   ],
   "source": [
    "plt.figure(figsize=(12, 8))         \n",
    "sns.histplot(data = data, x = 'balance', hue = 'churn', stat = 'density', common_norm = False)\n",
    "plt.title('Доля оттока клиентов по балансу на счёте')\n",
    "plt.xlabel('Баланс на счёте')\n",
    "plt.ylabel('Плотность оттока')\n",
    "plt.xlim(0, 5000000)\n",
    "plt.legend(['ушли', 'остались'])\n",
    "plt.show();"
   ]
  },
  {
   "cell_type": "markdown",
   "metadata": {},
   "source": [
    "По графику видно, что клиенты, у который баланс на счете 1-4 млн, уходят из банка чаще."
   ]
  },
  {
   "cell_type": "markdown",
   "metadata": {},
   "source": [
    "**Разбивка по столбцу est_salary относительно churn:**"
   ]
  },
  {
   "cell_type": "code",
   "execution_count": 41,
   "metadata": {
    "scrolled": false
   },
   "outputs": [
    {
     "data": {
      "image/png": "[encoded data removed]",
      "text/plain": [
       "<Figure size 1200x800 with 1 Axes>"
      ]
     },
     "metadata": {},
     "output_type": "display_data"
    }
   ],
   "source": [
    "plt.figure(figsize=(12, 8))         \n",
    "sns.histplot(data = data, x = 'est_salary', hue = 'churn', stat = 'density', common_norm = False)\n",
    "plt.title('Доля оттока клиентов по оценочному доходу клиента')\n",
    "plt.xlabel('Доход клиента')\n",
    "plt.ylabel('Плотность оттока')\n",
    "plt.xlim(0, 500000)\n",
    "plt.legend(['ушли', 'остались'])\n",
    "plt.show();"
   ]
  },
  {
   "cell_type": "markdown",
   "metadata": {},
   "source": [
    "По графику видно, что клиенты, у который доход 100-200 тыс. рублей, уходят из банка чаще."
   ]
  },
  {
   "cell_type": "markdown",
   "metadata": {},
   "source": [
    "**Вывод:**\n",
    "\n",
    "разбивка по столбцу score: у клиентов, которые имеют баллы кредитного скоринга 830-910, отток выше;\n",
    "\n",
    "разбивка по столбцу city: по графику видно, что отток клиентов выше в Ярославле и Ростове (причем выше среднего значения оттока по банку);\n",
    "\n",
    "разбивка по столбцу gender: по графику видно, что процент ушедших клиентов мужского пола выше среднего значения оттока по банку и выше процента женского пола;\n",
    "\n",
    "разбивка по столбцу age: у клиентов, возраст которых 25-35 и 50-60, отток выше;\n",
    "\n",
    "разбивка по столбцу equity: по графику видно, что, чем больше баллов собственности (3 и выше), тем выше процент ухода клиентов;\n",
    "\n",
    "разбивка по столбцу products: по графику видно, что клиенты, использующие 3 и более продуктов, уходят намного чаще остальных;\n",
    "\n",
    "разбивка по столбцу credit_card: по графику видно, что клиенты, у которых не было кредитной карты, уходят чаще, чем клиенты, у которых она была;\n",
    "\n",
    "разбивка по столбцу last_activity: по графику видно, что активные клиенты уходят из банка чаще, чем не активные. Возможно, это из-за того, что они получили негативный опыт пользования банковскими услугами;\n",
    "\n",
    "разбивка по столбцу balance: по графику видно, что клиенты, у который баланс на счете 1-4 млн, уходят из банка чаще;\n",
    "\n",
    "разбивка по столбцу est_salary: по графику видно, что клиенты, у который доход 100-200 тыс. рублей, уходят из банка чаще."
   ]
  },
  {
   "cell_type": "markdown",
   "metadata": {},
   "source": [
    "**Построим матрицу корреляции**"
   ]
  },
  {
   "cell_type": "code",
   "execution_count": 42,
   "metadata": {},
   "outputs": [],
   "source": [
    "df = data.copy()\n",
    "df = df.drop(['user_id', 'miss_balance', 'city', 'gender'], axis = 1)"
   ]
  },
  {
   "cell_type": "code",
   "execution_count": 43,
   "metadata": {},
   "outputs": [
    {
     "data": {
      "text/html": [
       "<div>\n",
       "<style scoped>\n",
       "    .dataframe tbody tr th:only-of-type {\n",
       "        vertical-align: middle;\n",
       "    }\n",
       "\n",
       "    .dataframe tbody tr th {\n",
       "        vertical-align: top;\n",
       "    }\n",
       "\n",
       "    .dataframe thead th {\n",
       "        text-align: right;\n",
       "    }\n",
       "</style>\n",
       "<table border=\"1\" class=\"dataframe\">\n",
       "  <thead>\n",
       "    <tr style=\"text-align: right;\">\n",
       "      <th></th>\n",
       "      <th>score</th>\n",
       "      <th>age</th>\n",
       "      <th>equity</th>\n",
       "      <th>balance</th>\n",
       "      <th>products</th>\n",
       "      <th>credit_card</th>\n",
       "      <th>last_activity</th>\n",
       "      <th>est_salary</th>\n",
       "      <th>churn</th>\n",
       "      <th>female</th>\n",
       "      <th>male</th>\n",
       "      <th>Ростов</th>\n",
       "      <th>Рыбинск</th>\n",
       "      <th>Ярославль</th>\n",
       "    </tr>\n",
       "  </thead>\n",
       "  <tbody>\n",
       "    <tr>\n",
       "      <th>0</th>\n",
       "      <td>850.0</td>\n",
       "      <td>25.0</td>\n",
       "      <td>1</td>\n",
       "      <td>59214.82</td>\n",
       "      <td>2</td>\n",
       "      <td>0</td>\n",
       "      <td>1</td>\n",
       "      <td>75719.14</td>\n",
       "      <td>1</td>\n",
       "      <td>True</td>\n",
       "      <td>False</td>\n",
       "      <td>False</td>\n",
       "      <td>True</td>\n",
       "      <td>False</td>\n",
       "    </tr>\n",
       "    <tr>\n",
       "      <th>1</th>\n",
       "      <td>861.0</td>\n",
       "      <td>37.0</td>\n",
       "      <td>5</td>\n",
       "      <td>850594.33</td>\n",
       "      <td>3</td>\n",
       "      <td>1</td>\n",
       "      <td>0</td>\n",
       "      <td>86621.77</td>\n",
       "      <td>0</td>\n",
       "      <td>True</td>\n",
       "      <td>False</td>\n",
       "      <td>False</td>\n",
       "      <td>True</td>\n",
       "      <td>False</td>\n",
       "    </tr>\n",
       "    <tr>\n",
       "      <th>2</th>\n",
       "      <td>892.0</td>\n",
       "      <td>30.0</td>\n",
       "      <td>0</td>\n",
       "      <td>NaN</td>\n",
       "      <td>1</td>\n",
       "      <td>1</td>\n",
       "      <td>1</td>\n",
       "      <td>107683.34</td>\n",
       "      <td>0</td>\n",
       "      <td>True</td>\n",
       "      <td>False</td>\n",
       "      <td>False</td>\n",
       "      <td>True</td>\n",
       "      <td>False</td>\n",
       "    </tr>\n",
       "    <tr>\n",
       "      <th>3</th>\n",
       "      <td>866.0</td>\n",
       "      <td>51.0</td>\n",
       "      <td>5</td>\n",
       "      <td>1524746.26</td>\n",
       "      <td>2</td>\n",
       "      <td>0</td>\n",
       "      <td>1</td>\n",
       "      <td>174423.53</td>\n",
       "      <td>1</td>\n",
       "      <td>True</td>\n",
       "      <td>False</td>\n",
       "      <td>False</td>\n",
       "      <td>False</td>\n",
       "      <td>True</td>\n",
       "    </tr>\n",
       "    <tr>\n",
       "      <th>4</th>\n",
       "      <td>730.0</td>\n",
       "      <td>34.0</td>\n",
       "      <td>5</td>\n",
       "      <td>174.00</td>\n",
       "      <td>1</td>\n",
       "      <td>1</td>\n",
       "      <td>0</td>\n",
       "      <td>67353.16</td>\n",
       "      <td>1</td>\n",
       "      <td>False</td>\n",
       "      <td>True</td>\n",
       "      <td>False</td>\n",
       "      <td>False</td>\n",
       "      <td>True</td>\n",
       "    </tr>\n",
       "    <tr>\n",
       "      <th>...</th>\n",
       "      <td>...</td>\n",
       "      <td>...</td>\n",
       "      <td>...</td>\n",
       "      <td>...</td>\n",
       "      <td>...</td>\n",
       "      <td>...</td>\n",
       "      <td>...</td>\n",
       "      <td>...</td>\n",
       "      <td>...</td>\n",
       "      <td>...</td>\n",
       "      <td>...</td>\n",
       "      <td>...</td>\n",
       "      <td>...</td>\n",
       "      <td>...</td>\n",
       "    </tr>\n",
       "    <tr>\n",
       "      <th>9995</th>\n",
       "      <td>814.0</td>\n",
       "      <td>27.0</td>\n",
       "      <td>1</td>\n",
       "      <td>78144.65</td>\n",
       "      <td>1</td>\n",
       "      <td>0</td>\n",
       "      <td>1</td>\n",
       "      <td>18943.64</td>\n",
       "      <td>0</td>\n",
       "      <td>False</td>\n",
       "      <td>True</td>\n",
       "      <td>False</td>\n",
       "      <td>True</td>\n",
       "      <td>False</td>\n",
       "    </tr>\n",
       "    <tr>\n",
       "      <th>9996</th>\n",
       "      <td>894.0</td>\n",
       "      <td>46.0</td>\n",
       "      <td>0</td>\n",
       "      <td>NaN</td>\n",
       "      <td>1</td>\n",
       "      <td>1</td>\n",
       "      <td>0</td>\n",
       "      <td>196898.29</td>\n",
       "      <td>0</td>\n",
       "      <td>False</td>\n",
       "      <td>True</td>\n",
       "      <td>False</td>\n",
       "      <td>False</td>\n",
       "      <td>True</td>\n",
       "    </tr>\n",
       "    <tr>\n",
       "      <th>9997</th>\n",
       "      <td>903.0</td>\n",
       "      <td>24.0</td>\n",
       "      <td>0</td>\n",
       "      <td>NaN</td>\n",
       "      <td>2</td>\n",
       "      <td>1</td>\n",
       "      <td>1</td>\n",
       "      <td>108905.09</td>\n",
       "      <td>0</td>\n",
       "      <td>False</td>\n",
       "      <td>True</td>\n",
       "      <td>False</td>\n",
       "      <td>False</td>\n",
       "      <td>True</td>\n",
       "    </tr>\n",
       "    <tr>\n",
       "      <th>9998</th>\n",
       "      <td>777.0</td>\n",
       "      <td>68.0</td>\n",
       "      <td>3</td>\n",
       "      <td>865457.97</td>\n",
       "      <td>3</td>\n",
       "      <td>0</td>\n",
       "      <td>1</td>\n",
       "      <td>86874.90</td>\n",
       "      <td>0</td>\n",
       "      <td>True</td>\n",
       "      <td>False</td>\n",
       "      <td>False</td>\n",
       "      <td>False</td>\n",
       "      <td>True</td>\n",
       "    </tr>\n",
       "    <tr>\n",
       "      <th>9999</th>\n",
       "      <td>828.0</td>\n",
       "      <td>58.0</td>\n",
       "      <td>3</td>\n",
       "      <td>1180886.70</td>\n",
       "      <td>4</td>\n",
       "      <td>0</td>\n",
       "      <td>1</td>\n",
       "      <td>21422.37</td>\n",
       "      <td>0</td>\n",
       "      <td>True</td>\n",
       "      <td>False</td>\n",
       "      <td>False</td>\n",
       "      <td>True</td>\n",
       "      <td>False</td>\n",
       "    </tr>\n",
       "  </tbody>\n",
       "</table>\n",
       "<p>10000 rows × 14 columns</p>\n",
       "</div>"
      ],
      "text/plain": [
       "      score   age  equity     balance  products  credit_card  last_activity  \\\n",
       "0     850.0  25.0       1    59214.82         2            0              1   \n",
       "1     861.0  37.0       5   850594.33         3            1              0   \n",
       "2     892.0  30.0       0         NaN         1            1              1   \n",
       "3     866.0  51.0       5  1524746.26         2            0              1   \n",
       "4     730.0  34.0       5      174.00         1            1              0   \n",
       "...     ...   ...     ...         ...       ...          ...            ...   \n",
       "9995  814.0  27.0       1    78144.65         1            0              1   \n",
       "9996  894.0  46.0       0         NaN         1            1              0   \n",
       "9997  903.0  24.0       0         NaN         2            1              1   \n",
       "9998  777.0  68.0       3   865457.97         3            0              1   \n",
       "9999  828.0  58.0       3  1180886.70         4            0              1   \n",
       "\n",
       "      est_salary  churn  female   male  Ростов  Рыбинск  Ярославль  \n",
       "0       75719.14      1    True  False   False     True      False  \n",
       "1       86621.77      0    True  False   False     True      False  \n",
       "2      107683.34      0    True  False   False     True      False  \n",
       "3      174423.53      1    True  False   False    False       True  \n",
       "4       67353.16      1   False   True   False    False       True  \n",
       "...          ...    ...     ...    ...     ...      ...        ...  \n",
       "9995    18943.64      0   False   True   False     True      False  \n",
       "9996   196898.29      0   False   True   False    False       True  \n",
       "9997   108905.09      0   False   True   False    False       True  \n",
       "9998    86874.90      0    True  False   False    False       True  \n",
       "9999    21422.37      0    True  False   False     True      False  \n",
       "\n",
       "[10000 rows x 14 columns]"
      ]
     },
     "execution_count": 43,
     "metadata": {},
     "output_type": "execute_result"
    }
   ],
   "source": [
    "df"
   ]
  },
  {
   "cell_type": "code",
   "execution_count": 44,
   "metadata": {},
   "outputs": [
    {
     "data": {
      "image/png": "[encoded data removed]",
      "text/plain": [
       "<Figure size 1500x800 with 2 Axes>"
      ]
     },
     "metadata": {},
     "output_type": "display_data"
    }
   ],
   "source": [
    "plt.figure(figsize = (15, 8))\n",
    "sns.heatmap(df.corr(), annot = True, vmin = -1, vmax = 1, center = 0, cmap = 'coolwarm', linewidths = 1);"
   ]
  },
  {
   "cell_type": "code",
   "execution_count": 45,
   "metadata": {},
   "outputs": [
    {
     "data": {
      "image/png": "[encoded data removed]",
      "text/plain": [
       "<Figure size 1500x800 with 2 Axes>"
      ]
     },
     "metadata": {},
     "output_type": "display_data"
    }
   ],
   "source": [
    "plt.figure(figsize = (15,8))\n",
    "sns.heatmap(df.corr()[[\"churn\"]].drop('churn').sort_values('churn'), vmin=-1, vmax=+1, annot=True, cmap=\"vlag\", center = 0)\n",
    "plt.show();"
   ]
  },
  {
   "cell_type": "markdown",
   "metadata": {},
   "source": [
    "**Вывод:**\n",
    "\n",
    "анализ корреляции показал, что наибольшая корреляция между показателем оттока клиентов и:\n",
    "\n",
    "- equity (количество баллов собственности) 0.27;\n",
    "\n",
    "- products (количество продуктов, которыми пользуется клиент) 0.3.\n",
    "\n",
    "Также положительная слабая связь прослеживается:\n",
    "\n",
    "- score (баллы кредитного скоринга): 0.11;\n",
    "\n",
    "- last_activity (активность клиентов): 0.17;\n",
    "\n",
    "- male: 0.14."
   ]
  },
  {
   "cell_type": "markdown",
   "metadata": {},
   "source": [
    "### Изучение портретов клиентов, склонных к уходу"
   ]
  },
  {
   "cell_type": "markdown",
   "metadata": {},
   "source": [
    "Тендецнии, описывающие портреты клиентов, соберем в таблицу, и по каждому признаку между сегментами посчитаем относительную разницу:"
   ]
  },
  {
   "cell_type": "code",
   "execution_count": 46,
   "metadata": {},
   "outputs": [
    {
     "data": {
      "text/html": [
       "<div>\n",
       "<style scoped>\n",
       "    .dataframe tbody tr th:only-of-type {\n",
       "        vertical-align: middle;\n",
       "    }\n",
       "\n",
       "    .dataframe tbody tr th {\n",
       "        vertical-align: top;\n",
       "    }\n",
       "\n",
       "    .dataframe thead th {\n",
       "        text-align: right;\n",
       "    }\n",
       "</style>\n",
       "<table border=\"1\" class=\"dataframe\">\n",
       "  <thead>\n",
       "    <tr style=\"text-align: right;\">\n",
       "      <th>churn</th>\n",
       "      <th>level_0</th>\n",
       "      <th>level_1</th>\n",
       "      <th>0</th>\n",
       "      <th>1</th>\n",
       "    </tr>\n",
       "  </thead>\n",
       "  <tbody>\n",
       "    <tr>\n",
       "      <th>0</th>\n",
       "      <td>age</td>\n",
       "      <td>mean</td>\n",
       "      <td>43.02</td>\n",
       "      <td>41.45</td>\n",
       "    </tr>\n",
       "    <tr>\n",
       "      <th>1</th>\n",
       "      <td>balance</td>\n",
       "      <td>mean</td>\n",
       "      <td>733982.59</td>\n",
       "      <td>1133993.27</td>\n",
       "    </tr>\n",
       "    <tr>\n",
       "      <th>2</th>\n",
       "      <td>credit_card</td>\n",
       "      <td>mean</td>\n",
       "      <td>0.71</td>\n",
       "      <td>0.55</td>\n",
       "    </tr>\n",
       "    <tr>\n",
       "      <th>3</th>\n",
       "      <td>equity</td>\n",
       "      <td>median</td>\n",
       "      <td>3.00</td>\n",
       "      <td>4.00</td>\n",
       "    </tr>\n",
       "    <tr>\n",
       "      <th>4</th>\n",
       "      <td>est_salary</td>\n",
       "      <td>mean</td>\n",
       "      <td>147783.20</td>\n",
       "      <td>148243.01</td>\n",
       "    </tr>\n",
       "    <tr>\n",
       "      <th>5</th>\n",
       "      <td>est_salary</td>\n",
       "      <td>median</td>\n",
       "      <td>118257.71</td>\n",
       "      <td>125390.62</td>\n",
       "    </tr>\n",
       "    <tr>\n",
       "      <th>6</th>\n",
       "      <td>female</td>\n",
       "      <td>mean</td>\n",
       "      <td>0.53</td>\n",
       "      <td>0.35</td>\n",
       "    </tr>\n",
       "    <tr>\n",
       "      <th>7</th>\n",
       "      <td>last_activity</td>\n",
       "      <td>median</td>\n",
       "      <td>0.00</td>\n",
       "      <td>1.00</td>\n",
       "    </tr>\n",
       "    <tr>\n",
       "      <th>8</th>\n",
       "      <td>male</td>\n",
       "      <td>mean</td>\n",
       "      <td>0.47</td>\n",
       "      <td>0.65</td>\n",
       "    </tr>\n",
       "    <tr>\n",
       "      <th>9</th>\n",
       "      <td>products</td>\n",
       "      <td>median</td>\n",
       "      <td>2.00</td>\n",
       "      <td>2.00</td>\n",
       "    </tr>\n",
       "    <tr>\n",
       "      <th>10</th>\n",
       "      <td>score</td>\n",
       "      <td>mean</td>\n",
       "      <td>845.43</td>\n",
       "      <td>863.40</td>\n",
       "    </tr>\n",
       "  </tbody>\n",
       "</table>\n",
       "</div>"
      ],
      "text/plain": [
       "churn        level_0 level_1         0          1\n",
       "0                age    mean     43.02      41.45\n",
       "1            balance    mean 733982.59 1133993.27\n",
       "2        credit_card    mean      0.71       0.55\n",
       "3             equity  median      3.00       4.00\n",
       "4         est_salary    mean 147783.20  148243.01\n",
       "5         est_salary  median 118257.71  125390.62\n",
       "6             female    mean      0.53       0.35\n",
       "7      last_activity  median      0.00       1.00\n",
       "8               male    mean      0.47       0.65\n",
       "9           products  median      2.00       2.00\n",
       "10             score    mean    845.43     863.40"
      ]
     },
     "execution_count": 46,
     "metadata": {},
     "output_type": "execute_result"
    }
   ],
   "source": [
    "data_portrait = data.pivot_table(columns = ['churn'],\n",
    "                                 values = ['score', 'female', 'male', 'age', 'equity', 'balance', 'products',\\\n",
    "                                          'credit_card', 'last_activity', 'est_salary'],\n",
    "                                 aggfunc = {'score' : 'mean', 'female': 'mean', 'male': 'mean','age': 'mean', 'equity': 'median',\\\n",
    "                                             'balance' : 'mean', 'products' : 'median', 'credit_card' : 'mean',\\\n",
    "                                             'last_activity' : 'median', 'est_salary' : ['mean', 'median']}).reset_index()\n",
    "pd.set_option('display.float_format', lambda x: '%.2f' % x)\n",
    "\n",
    "\n",
    "data_portrait"
   ]
  },
  {
   "cell_type": "code",
   "execution_count": 47,
   "metadata": {},
   "outputs": [
    {
     "data": {
      "text/html": [
       "<div>\n",
       "<style scoped>\n",
       "    .dataframe tbody tr th:only-of-type {\n",
       "        vertical-align: middle;\n",
       "    }\n",
       "\n",
       "    .dataframe tbody tr th {\n",
       "        vertical-align: top;\n",
       "    }\n",
       "\n",
       "    .dataframe thead th {\n",
       "        text-align: right;\n",
       "    }\n",
       "</style>\n",
       "<table border=\"1\" class=\"dataframe\">\n",
       "  <thead>\n",
       "    <tr style=\"text-align: right;\">\n",
       "      <th>churn</th>\n",
       "      <th>Признаки</th>\n",
       "      <th>Значения</th>\n",
       "      <th>Не отточные</th>\n",
       "      <th>Отточные</th>\n",
       "    </tr>\n",
       "  </thead>\n",
       "  <tbody>\n",
       "    <tr>\n",
       "      <th>0</th>\n",
       "      <td>age</td>\n",
       "      <td>mean</td>\n",
       "      <td>43.02</td>\n",
       "      <td>41.45</td>\n",
       "    </tr>\n",
       "    <tr>\n",
       "      <th>1</th>\n",
       "      <td>balance</td>\n",
       "      <td>mean</td>\n",
       "      <td>733982.59</td>\n",
       "      <td>1133993.27</td>\n",
       "    </tr>\n",
       "    <tr>\n",
       "      <th>2</th>\n",
       "      <td>credit_card</td>\n",
       "      <td>mean</td>\n",
       "      <td>0.71</td>\n",
       "      <td>0.55</td>\n",
       "    </tr>\n",
       "    <tr>\n",
       "      <th>3</th>\n",
       "      <td>equity</td>\n",
       "      <td>median</td>\n",
       "      <td>3.00</td>\n",
       "      <td>4.00</td>\n",
       "    </tr>\n",
       "    <tr>\n",
       "      <th>4</th>\n",
       "      <td>est_salary</td>\n",
       "      <td>mean</td>\n",
       "      <td>147783.20</td>\n",
       "      <td>148243.01</td>\n",
       "    </tr>\n",
       "    <tr>\n",
       "      <th>5</th>\n",
       "      <td>est_salary</td>\n",
       "      <td>median</td>\n",
       "      <td>118257.71</td>\n",
       "      <td>125390.62</td>\n",
       "    </tr>\n",
       "    <tr>\n",
       "      <th>6</th>\n",
       "      <td>female</td>\n",
       "      <td>mean</td>\n",
       "      <td>0.53</td>\n",
       "      <td>0.35</td>\n",
       "    </tr>\n",
       "    <tr>\n",
       "      <th>7</th>\n",
       "      <td>last_activity</td>\n",
       "      <td>median</td>\n",
       "      <td>0.00</td>\n",
       "      <td>1.00</td>\n",
       "    </tr>\n",
       "    <tr>\n",
       "      <th>8</th>\n",
       "      <td>male</td>\n",
       "      <td>mean</td>\n",
       "      <td>0.47</td>\n",
       "      <td>0.65</td>\n",
       "    </tr>\n",
       "    <tr>\n",
       "      <th>9</th>\n",
       "      <td>products</td>\n",
       "      <td>median</td>\n",
       "      <td>2.00</td>\n",
       "      <td>2.00</td>\n",
       "    </tr>\n",
       "    <tr>\n",
       "      <th>10</th>\n",
       "      <td>score</td>\n",
       "      <td>mean</td>\n",
       "      <td>845.43</td>\n",
       "      <td>863.40</td>\n",
       "    </tr>\n",
       "  </tbody>\n",
       "</table>\n",
       "</div>"
      ],
      "text/plain": [
       "churn       Признаки Значения  Не отточные   Отточные\n",
       "0                age     mean        43.02      41.45\n",
       "1            balance     mean    733982.59 1133993.27\n",
       "2        credit_card     mean         0.71       0.55\n",
       "3             equity   median         3.00       4.00\n",
       "4         est_salary     mean    147783.20  148243.01\n",
       "5         est_salary   median    118257.71  125390.62\n",
       "6             female     mean         0.53       0.35\n",
       "7      last_activity   median         0.00       1.00\n",
       "8               male     mean         0.47       0.65\n",
       "9           products   median         2.00       2.00\n",
       "10             score     mean       845.43     863.40"
      ]
     },
     "execution_count": 47,
     "metadata": {},
     "output_type": "execute_result"
    }
   ],
   "source": [
    "data_portrait = data_portrait.rename(columns = {'level_0':'Признаки', 'level_1':'Значения', 0:'Не отточные', 1:'Отточные'})\n",
    "\n",
    "data_portrait"
   ]
  },
  {
   "cell_type": "code",
   "execution_count": 48,
   "metadata": {},
   "outputs": [
    {
     "data": {
      "text/html": [
       "<div>\n",
       "<style scoped>\n",
       "    .dataframe tbody tr th:only-of-type {\n",
       "        vertical-align: middle;\n",
       "    }\n",
       "\n",
       "    .dataframe tbody tr th {\n",
       "        vertical-align: top;\n",
       "    }\n",
       "\n",
       "    .dataframe thead th {\n",
       "        text-align: right;\n",
       "    }\n",
       "</style>\n",
       "<table border=\"1\" class=\"dataframe\">\n",
       "  <thead>\n",
       "    <tr style=\"text-align: right;\">\n",
       "      <th>churn</th>\n",
       "      <th>Признаки</th>\n",
       "      <th>Значения</th>\n",
       "      <th>Не отточные</th>\n",
       "      <th>Отточные</th>\n",
       "      <th>Относительная разница</th>\n",
       "    </tr>\n",
       "  </thead>\n",
       "  <tbody>\n",
       "    <tr>\n",
       "      <th>0</th>\n",
       "      <td>age</td>\n",
       "      <td>mean</td>\n",
       "      <td>43.02</td>\n",
       "      <td>41.45</td>\n",
       "      <td>0.04</td>\n",
       "    </tr>\n",
       "    <tr>\n",
       "      <th>1</th>\n",
       "      <td>balance</td>\n",
       "      <td>mean</td>\n",
       "      <td>733982.59</td>\n",
       "      <td>1133993.27</td>\n",
       "      <td>-0.54</td>\n",
       "    </tr>\n",
       "    <tr>\n",
       "      <th>2</th>\n",
       "      <td>credit_card</td>\n",
       "      <td>mean</td>\n",
       "      <td>0.71</td>\n",
       "      <td>0.55</td>\n",
       "      <td>0.22</td>\n",
       "    </tr>\n",
       "    <tr>\n",
       "      <th>3</th>\n",
       "      <td>equity</td>\n",
       "      <td>median</td>\n",
       "      <td>3.00</td>\n",
       "      <td>4.00</td>\n",
       "      <td>-0.33</td>\n",
       "    </tr>\n",
       "    <tr>\n",
       "      <th>4</th>\n",
       "      <td>est_salary</td>\n",
       "      <td>mean</td>\n",
       "      <td>147783.20</td>\n",
       "      <td>148243.01</td>\n",
       "      <td>-0.00</td>\n",
       "    </tr>\n",
       "    <tr>\n",
       "      <th>5</th>\n",
       "      <td>est_salary</td>\n",
       "      <td>median</td>\n",
       "      <td>118257.71</td>\n",
       "      <td>125390.62</td>\n",
       "      <td>-0.06</td>\n",
       "    </tr>\n",
       "    <tr>\n",
       "      <th>6</th>\n",
       "      <td>female</td>\n",
       "      <td>mean</td>\n",
       "      <td>0.53</td>\n",
       "      <td>0.35</td>\n",
       "      <td>0.34</td>\n",
       "    </tr>\n",
       "    <tr>\n",
       "      <th>7</th>\n",
       "      <td>last_activity</td>\n",
       "      <td>median</td>\n",
       "      <td>0.00</td>\n",
       "      <td>1.00</td>\n",
       "      <td>-inf</td>\n",
       "    </tr>\n",
       "    <tr>\n",
       "      <th>8</th>\n",
       "      <td>male</td>\n",
       "      <td>mean</td>\n",
       "      <td>0.47</td>\n",
       "      <td>0.65</td>\n",
       "      <td>-0.39</td>\n",
       "    </tr>\n",
       "    <tr>\n",
       "      <th>9</th>\n",
       "      <td>products</td>\n",
       "      <td>median</td>\n",
       "      <td>2.00</td>\n",
       "      <td>2.00</td>\n",
       "      <td>0.00</td>\n",
       "    </tr>\n",
       "    <tr>\n",
       "      <th>10</th>\n",
       "      <td>score</td>\n",
       "      <td>mean</td>\n",
       "      <td>845.43</td>\n",
       "      <td>863.40</td>\n",
       "      <td>-0.02</td>\n",
       "    </tr>\n",
       "  </tbody>\n",
       "</table>\n",
       "</div>"
      ],
      "text/plain": [
       "churn       Признаки Значения  Не отточные   Отточные  Относительная разница\n",
       "0                age     mean        43.02      41.45                   0.04\n",
       "1            balance     mean    733982.59 1133993.27                  -0.54\n",
       "2        credit_card     mean         0.71       0.55                   0.22\n",
       "3             equity   median         3.00       4.00                  -0.33\n",
       "4         est_salary     mean    147783.20  148243.01                  -0.00\n",
       "5         est_salary   median    118257.71  125390.62                  -0.06\n",
       "6             female     mean         0.53       0.35                   0.34\n",
       "7      last_activity   median         0.00       1.00                   -inf\n",
       "8               male     mean         0.47       0.65                  -0.39\n",
       "9           products   median         2.00       2.00                   0.00\n",
       "10             score     mean       845.43     863.40                  -0.02"
      ]
     },
     "execution_count": 48,
     "metadata": {},
     "output_type": "execute_result"
    }
   ],
   "source": [
    "data_portrait['Относительная разница'] = ((data_portrait['Не отточные'] - data_portrait['Отточные']) / data_portrait['Не отточные'])\n",
    "data_portrait"
   ]
  },
  {
   "cell_type": "markdown",
   "metadata": {},
   "source": [
    "Можно выделить характеристики, у которых сильная относительная разница: balance, credit_card, equity, male, female.  \n",
    "\n",
    "Портрет клиента:\n",
    "\n",
    "средний возраст - 41 год, баланс на счете > 1 млн. руб.,  по гендерной принадлежности - мужчины, баллы кредитного скоринга 830-910, не имеют кредитную карту, относятся к активным клиентам, баллов собственности большее 3, средняя зарплата - 125390 руб., используют 3 и более продуктов."
   ]
  },
  {
   "cell_type": "markdown",
   "metadata": {},
   "source": [
    "**Вывод: \n",
    "изучили распределение признаков в разрезе оттока клиентов, построили матрицу корреляции, составли портреты клиентов, склонных к уходу.**"
   ]
  },
  {
   "cell_type": "markdown",
   "metadata": {},
   "source": [
    "## Проверка гипотез"
   ]
  },
  {
   "cell_type": "markdown",
   "metadata": {},
   "source": [
    "### Гипотеза №1: различие доходов оставшихся и отточных клиентов\n",
    "H₀: доходы оставшихся и ушедших клиентов равны\n",
    "\n",
    "H₁: доходы оставшихся и ушедших клиентов не равны"
   ]
  },
  {
   "cell_type": "markdown",
   "metadata": {},
   "source": [
    "**Чтобы понять, можно ли применять t-тест, нужно проверить три условия:**\n",
    "\n",
    "- Генеральные совокупности не зависят друг от друга\n",
    "\n",
    "- Выборочные средние нормально распределены\n",
    "\n",
    "- Дисперсии рассматриваемых генеральных совокупностей равны\n",
    "\n",
    "Мы не рассматриваем генеральную совокупность до и после какого-либо изменения и, даже если дисперсии на самом деле не равны, то тест редко ошибается. Поэтому проверим распределение выборочных средних:"
   ]
  },
  {
   "cell_type": "code",
   "execution_count": 49,
   "metadata": {},
   "outputs": [],
   "source": [
    "churn_1 = data[data['churn'] == 1]['est_salary']\n",
    "churn_0 = data[data['churn'] == 0]['est_salary']"
   ]
  },
  {
   "cell_type": "code",
   "execution_count": 50,
   "metadata": {},
   "outputs": [
    {
     "data": {
      "image/png": "[encoded data removed]",
      "text/plain": [
       "<Figure size 640x480 with 1 Axes>"
      ]
     },
     "metadata": {},
     "output_type": "display_data"
    }
   ],
   "source": [
    "plt.hist (churn_1, edgecolor='black', bins=20);"
   ]
  },
  {
   "cell_type": "code",
   "execution_count": 51,
   "metadata": {},
   "outputs": [
    {
     "data": {
      "image/png": "[encoded data removed]",
      "text/plain": [
       "<Figure size 640x480 with 1 Axes>"
      ]
     },
     "metadata": {},
     "output_type": "display_data"
    }
   ],
   "source": [
    "plt.hist (churn_0, edgecolor='black', bins=20);"
   ]
  },
  {
   "cell_type": "markdown",
   "metadata": {},
   "source": [
    "По графику видно, что набор данных не имеет «колокольчатой формы» и не имеет нормального распределения"
   ]
  },
  {
   "cell_type": "code",
   "execution_count": 52,
   "metadata": {
    "scrolled": true
   },
   "outputs": [
    {
     "name": "stdout",
     "output_type": "stream",
     "text": [
      "0.8887054822123845\n",
      "Не получилось отвергнуть нулевую гипотезу\n"
     ]
    }
   ],
   "source": [
    "churn_1 = data[data['churn'] == 1]['est_salary']\n",
    "churn_0 = data[data['churn'] == 0]['est_salary']\n",
    "\n",
    "results = st.ttest_ind(churn_1, churn_0, equal_var = False)\n",
    "\n",
    "alpha = 0.05\n",
    "\n",
    "print(results.pvalue) \n",
    "\n",
    "if (results.pvalue < alpha):\n",
    "    print('Отвергаем нулевую гипотезу')\n",
    "else:\n",
    "    print('Не получилось отвергнуть нулевую гипотезу')"
   ]
  },
  {
   "cell_type": "markdown",
   "metadata": {},
   "source": [
    "**Проведем u-тест:**"
   ]
  },
  {
   "cell_type": "code",
   "execution_count": 53,
   "metadata": {},
   "outputs": [
    {
     "name": "stdout",
     "output_type": "stream",
     "text": [
      "p-значение:  0.000243559272811695\n",
      "Отвергаем нулевую гипотезу\n"
     ]
    }
   ],
   "source": [
    "alpha = 0.05  \n",
    "\n",
    "results = st.mannwhitneyu(churn_1, churn_0)\n",
    "\n",
    "print('p-значение: ', results.pvalue)\n",
    "\n",
    "if results.pvalue < alpha:\n",
    "    print('Отвергаем нулевую гипотезу')\n",
    "else:\n",
    "    print('Не получилось отвергнуть нулевую гипотезу') "
   ]
  },
  {
   "cell_type": "markdown",
   "metadata": {},
   "source": [
    "Тест показал, что отвергаем нулевую гипотезу , т.е. доходы оставшихся и ушедших клиентов не равны."
   ]
  },
  {
   "cell_type": "markdown",
   "metadata": {},
   "source": [
    "### Гипотеза №2: различие имеющихся продуктов у оставшихся и отточных клиентов"
   ]
  },
  {
   "cell_type": "markdown",
   "metadata": {},
   "source": [
    "H₀: кол-во продуктов оставшихся и ушедших клиентов равны\n",
    "\n",
    "H₁: кол-во продуктов оставшихся и ушедших клиентов не равны"
   ]
  },
  {
   "cell_type": "markdown",
   "metadata": {},
   "source": [
    "**Чтобы понять, можно ли применять t-тест, нужно проверить три условия:**\n",
    "\n",
    "- Генеральные совокупности не зависят друг от друга\n",
    "\n",
    "- Выборочные средние нормально распределены\n",
    "\n",
    "- Дисперсии рассматриваемых генеральных совокупностей равны\n",
    "\n",
    "Мы не рассматриваем генеральную совокупность до и после какого-либо изменения и, даже если дисперсии на самом деле не равны, то тест редко ошибается. Поэтому проверим распределение выборочных средних:"
   ]
  },
  {
   "cell_type": "code",
   "execution_count": 54,
   "metadata": {},
   "outputs": [],
   "source": [
    "products_1 = data[data['churn'] == 1]['products']\n",
    "products_0 = data[data['churn'] == 0]['products']"
   ]
  },
  {
   "cell_type": "code",
   "execution_count": 55,
   "metadata": {},
   "outputs": [
    {
     "data": {
      "image/png": "[encoded data removed]",
      "text/plain": [
       "<Figure size 640x480 with 1 Axes>"
      ]
     },
     "metadata": {},
     "output_type": "display_data"
    }
   ],
   "source": [
    "plt.hist (products_1, edgecolor='black', bins=20);"
   ]
  },
  {
   "cell_type": "code",
   "execution_count": 56,
   "metadata": {},
   "outputs": [
    {
     "data": {
      "image/png": "[encoded data removed]",
      "text/plain": [
       "<Figure size 640x480 with 1 Axes>"
      ]
     },
     "metadata": {},
     "output_type": "display_data"
    }
   ],
   "source": [
    "plt.hist (products_0, edgecolor='black', bins=20);"
   ]
  },
  {
   "cell_type": "markdown",
   "metadata": {},
   "source": [
    "Гистограммы не имеют вид нормального распределения. Будем использовать U-тест."
   ]
  },
  {
   "cell_type": "code",
   "execution_count": 57,
   "metadata": {},
   "outputs": [
    {
     "name": "stdout",
     "output_type": "stream",
     "text": [
      "p-значение:  4.3792410512214974e-162\n",
      "Отвергаем нулевую гипотезу\n"
     ]
    }
   ],
   "source": [
    "alpha = 0.05  \n",
    "\n",
    "results = st.mannwhitneyu(products_1, products_0)\n",
    "\n",
    "print('p-значение: ', results.pvalue)\n",
    "\n",
    "if results.pvalue < alpha:\n",
    "    print('Отвергаем нулевую гипотезу')\n",
    "else:\n",
    "    print('Не получилось отвергнуть нулевую гипотезу') "
   ]
  },
  {
   "cell_type": "markdown",
   "metadata": {},
   "source": [
    "Тест показал, что отвергаем нулевую гипотезу, т.е. кол-во продуктов оставшихся и ушедших клиентов не равны"
   ]
  },
  {
   "cell_type": "markdown",
   "metadata": {},
   "source": [
    "**Вывод: проверили 2 гипотезы, результаты которых показал, что в обоих случаях отверграем нулевую гипотезу**"
   ]
  },
  {
   "cell_type": "markdown",
   "metadata": {},
   "source": [
    "## Формирование сегментов"
   ]
  },
  {
   "cell_type": "markdown",
   "metadata": {},
   "source": [
    "1 сегмент:\n",
    "\n",
    "количество баллов собственности больше 3\n",
    "    \n",
    "активный клиент\n",
    "\n",
    "Доля оттока 39"
   ]
  },
  {
   "cell_type": "code",
   "execution_count": 58,
   "metadata": {},
   "outputs": [
    {
     "data": {
      "text/html": [
       "<div>\n",
       "<style scoped>\n",
       "    .dataframe tbody tr th:only-of-type {\n",
       "        vertical-align: middle;\n",
       "    }\n",
       "\n",
       "    .dataframe tbody tr th {\n",
       "        vertical-align: top;\n",
       "    }\n",
       "\n",
       "    .dataframe thead th {\n",
       "        text-align: right;\n",
       "    }\n",
       "</style>\n",
       "<table border=\"1\" class=\"dataframe\">\n",
       "  <thead>\n",
       "    <tr style=\"text-align: right;\">\n",
       "      <th></th>\n",
       "      <th>churn</th>\n",
       "    </tr>\n",
       "  </thead>\n",
       "  <tbody>\n",
       "    <tr>\n",
       "      <th>mean</th>\n",
       "      <td>0.39</td>\n",
       "    </tr>\n",
       "    <tr>\n",
       "      <th>sum</th>\n",
       "      <td>845.00</td>\n",
       "    </tr>\n",
       "    <tr>\n",
       "      <th>count</th>\n",
       "      <td>2142.00</td>\n",
       "    </tr>\n",
       "  </tbody>\n",
       "</table>\n",
       "</div>"
      ],
      "text/plain": [
       "        churn\n",
       "mean     0.39\n",
       "sum    845.00\n",
       "count 2142.00"
      ]
     },
     "execution_count": 58,
     "metadata": {},
     "output_type": "execute_result"
    }
   ],
   "source": [
    "data.query('equity > 3 and last_activity == 1').agg({\"churn\":[\"mean\",\"sum\",\"count\"]})"
   ]
  },
  {
   "cell_type": "markdown",
   "metadata": {},
   "source": [
    "2 сегмент:\n",
    "\n",
    "мужчины\n",
    "\n",
    "баланс больше 1 млн\n",
    "\n",
    "Доля оттока 49"
   ]
  },
  {
   "cell_type": "code",
   "execution_count": 59,
   "metadata": {},
   "outputs": [
    {
     "data": {
      "text/html": [
       "<div>\n",
       "<style scoped>\n",
       "    .dataframe tbody tr th:only-of-type {\n",
       "        vertical-align: middle;\n",
       "    }\n",
       "\n",
       "    .dataframe tbody tr th {\n",
       "        vertical-align: top;\n",
       "    }\n",
       "\n",
       "    .dataframe thead th {\n",
       "        text-align: right;\n",
       "    }\n",
       "</style>\n",
       "<table border=\"1\" class=\"dataframe\">\n",
       "  <thead>\n",
       "    <tr style=\"text-align: right;\">\n",
       "      <th></th>\n",
       "      <th>churn</th>\n",
       "    </tr>\n",
       "  </thead>\n",
       "  <tbody>\n",
       "    <tr>\n",
       "      <th>mean</th>\n",
       "      <td>0.49</td>\n",
       "    </tr>\n",
       "    <tr>\n",
       "      <th>sum</th>\n",
       "      <td>477.00</td>\n",
       "    </tr>\n",
       "    <tr>\n",
       "      <th>count</th>\n",
       "      <td>976.00</td>\n",
       "    </tr>\n",
       "  </tbody>\n",
       "</table>\n",
       "</div>"
      ],
      "text/plain": [
       "       churn\n",
       "mean    0.49\n",
       "sum   477.00\n",
       "count 976.00"
      ]
     },
     "execution_count": 59,
     "metadata": {},
     "output_type": "execute_result"
    }
   ],
   "source": [
    "data.query('gender == \"М\" and balance > 1000000').agg({\"churn\":[\"mean\",\"sum\",\"count\"]})"
   ]
  },
  {
   "cell_type": "markdown",
   "metadata": {},
   "source": [
    "3 сегмент:\n",
    "\n",
    "баллы кредитного скоринга 830-910\n",
    "\n",
    "количество продуктов, которыми пользуется клиент больше или равно 3\n",
    "\n",
    "Доля оттока 44"
   ]
  },
  {
   "cell_type": "code",
   "execution_count": 60,
   "metadata": {},
   "outputs": [
    {
     "data": {
      "text/html": [
       "<div>\n",
       "<style scoped>\n",
       "    .dataframe tbody tr th:only-of-type {\n",
       "        vertical-align: middle;\n",
       "    }\n",
       "\n",
       "    .dataframe tbody tr th {\n",
       "        vertical-align: top;\n",
       "    }\n",
       "\n",
       "    .dataframe thead th {\n",
       "        text-align: right;\n",
       "    }\n",
       "</style>\n",
       "<table border=\"1\" class=\"dataframe\">\n",
       "  <thead>\n",
       "    <tr style=\"text-align: right;\">\n",
       "      <th></th>\n",
       "      <th>churn</th>\n",
       "    </tr>\n",
       "  </thead>\n",
       "  <tbody>\n",
       "    <tr>\n",
       "      <th>mean</th>\n",
       "      <td>0.44</td>\n",
       "    </tr>\n",
       "    <tr>\n",
       "      <th>sum</th>\n",
       "      <td>305.00</td>\n",
       "    </tr>\n",
       "    <tr>\n",
       "      <th>count</th>\n",
       "      <td>697.00</td>\n",
       "    </tr>\n",
       "  </tbody>\n",
       "</table>\n",
       "</div>"
      ],
      "text/plain": [
       "       churn\n",
       "mean    0.44\n",
       "sum   305.00\n",
       "count 697.00"
      ]
     },
     "execution_count": 60,
     "metadata": {},
     "output_type": "execute_result"
    }
   ],
   "source": [
    "data.query('830 <= score <= 910 and products >= 3').agg({\"churn\":[\"mean\",\"sum\",\"count\"]})"
   ]
  },
  {
   "cell_type": "markdown",
   "metadata": {},
   "source": [
    "## Вывод"
   ]
  },
  {
   "cell_type": "markdown",
   "metadata": {},
   "source": [
    "**Загрузили данные и изучили общую информацию**\n",
    "\n",
    "\n",
    "**Выполнили предобработку данных:**\n",
    "- проверили данных на дубликаты, пропуски;\n",
    "- проверили стиль названия столбцов;\n",
    "- провели кодировку переменных.\n",
    "\n",
    "**Выполнили исследовательский анализ данных:**\n",
    "- выполнили распределение признаков в разрезе оттока клиентов:\n",
    "\n",
    "разбивка по столбцу score: у клиентов, которые имеют баллы кредитного скоринга 830-910, отток выше;\n",
    "\n",
    "разбивка по столбцу city: по графику видно, что отток клиентов выше в Ярославле и Ростове (причем выше среднего значения оттока по банку);\n",
    "\n",
    "разбивка по столбцу gender: по графику видно, что процент ушедших клиентов мужского пола выше среднего значения оттока по банку и выше процента женского пола;\n",
    "\n",
    "разбивка по столбцу age: у клиентов, возраст которых 25-35 и 50-60, отток выше;\n",
    "\n",
    "разбивка по столбцу equity: по графику видно, что, чем больше баллов собственности (3 и выше), тем выше процент ухода клиентов;\n",
    "\n",
    "разбивка по столбцу products: по графику видно, что клиенты, использующие 3 и более продуктов, уходят намного чаще остальных;\n",
    "\n",
    "разбивка по столбцу credit_card: по графику видно, что клиенты, у которых не было кредитной карты, уходят чаще, чем клиенты, у которых она была;\n",
    "\n",
    "разбивка по столбцу last_activity: по графику видно, что активные клиенты уходят из банка чаще, чем не активные. Возможно, это из-за того, что они получили негативный опыт пользования банковскими услугами;\n",
    "\n",
    "разбивка по столбцу balance: по графику видно, что клиенты, у который баланс на счете 1-4 млн, уходят из банка чаще;\n",
    "\n",
    "разбивка по столбцу est_salary: по графику видно, что клиенты, у который доход 100-200 тыс. рублей, уходят из банка чаще.\n",
    "\n",
    "- сравнили портреты клиентов, которые склонны или нет к уходу (Можно выделить характеристики, у которых сильная относительная разница: balance, credit_card, equity, male, female.  \n",
    "\n",
    "Портрет клиента:\n",
    "\n",
    "средний возраст - 41 год, баланс на счете > 1 млн. руб.,  по гендерной принадлежности - мужчины, баллы кредитного скоринга 830-910, не имеют кредитную карту, относятся к активным клиентам, баллов собственности большее 3, средняя зарплата - 125390 руб., используют 3 и более продуктов.)\n",
    "\n",
    "- исследовали данные на предмет наличия корреляций (построение матрицы корреляции);\n",
    "\n",
    "**Проверка гепотез**\n",
    " \n",
    "- проверили гипотезу различия дохода между теми клиентами, которые ушли и теми, которые остались;\n",
    "\n",
    "- проверили гипотезу, различие имеющихся продуктов у оставшихся и отточных клиентов.\n",
    "\n",
    "**Формирование сегментов:**\n",
    "\n",
    "- выделили клиентов по сегментам, посчитали кличество, распределение и выбрали наиболее подходящие.\n",
    "\n",
    "1 сегмент:\n",
    "\n",
    "количество баллов собственности больше 3\n",
    "    \n",
    "активный клиент\n",
    "\n",
    "Доля оттока 39\n",
    "\n",
    "2 сегмент:\n",
    "\n",
    "мужчины\n",
    "\n",
    "баланс больше 1 млн\n",
    "\n",
    "Доля оттока 49\n",
    "\n",
    "3 сегмент:\n",
    "\n",
    "баллы кредитного скоринга 830-910\n",
    "\n",
    "количество продуктов, которыми пользуется клиент больше или равно 3\n",
    "\n",
    "Доля оттока 44"
   ]
  },
  {
   "cell_type": "markdown",
   "metadata": {},
   "source": [
    "**Рекомендации**\n",
    "\n",
    "Рекомендации по 1 сегменту:\n",
    "\n",
    "предложить специальные условия страхования\n",
    "\n",
    "Рекомендации по 2 сегменту:\n",
    "\n",
    "Предложить повышенный % для вкладов\n",
    "\n",
    "Рекомендации по 3 сегменту:\n",
    "\n",
    "предложить кэшбеки по используемой продукции"
   ]
  }
 ],
 "metadata": {
  "ExecuteTimeLog": [
   {
    "duration": 1300,
    "start_time": "2024-01-16T21:54:37.517Z"
   },
   {
    "duration": 83,
    "start_time": "2024-01-16T21:56:05.798Z"
   },
   {
    "duration": 14,
    "start_time": "2024-01-16T22:33:27.786Z"
   },
   {
    "duration": 18,
    "start_time": "2024-01-16T22:34:28.863Z"
   },
   {
    "duration": 1288,
    "start_time": "2024-01-17T12:05:55.288Z"
   },
   {
    "duration": 88,
    "start_time": "2024-01-17T12:05:56.578Z"
   },
   {
    "duration": 19,
    "start_time": "2024-01-17T12:05:56.668Z"
   },
   {
    "duration": 28,
    "start_time": "2024-01-17T12:05:56.688Z"
   },
   {
    "duration": 5,
    "start_time": "2024-01-17T13:35:27.417Z"
   },
   {
    "duration": 11,
    "start_time": "2024-01-17T17:31:01.124Z"
   },
   {
    "duration": 24,
    "start_time": "2024-01-17T17:45:01.896Z"
   },
   {
    "duration": 13,
    "start_time": "2024-01-17T17:47:44.774Z"
   },
   {
    "duration": 11,
    "start_time": "2024-01-17T17:48:33.880Z"
   },
   {
    "duration": 11,
    "start_time": "2024-01-17T17:48:48.978Z"
   },
   {
    "duration": 19,
    "start_time": "2024-01-17T17:56:13.693Z"
   },
   {
    "duration": 4,
    "start_time": "2024-01-17T17:56:17.230Z"
   },
   {
    "duration": 11,
    "start_time": "2024-01-17T19:13:10.857Z"
   },
   {
    "duration": 1185,
    "start_time": "2024-01-17T19:46:48.942Z"
   },
   {
    "duration": 40,
    "start_time": "2024-01-17T19:46:50.128Z"
   },
   {
    "duration": 18,
    "start_time": "2024-01-17T19:46:50.169Z"
   },
   {
    "duration": 12,
    "start_time": "2024-01-17T19:46:50.189Z"
   },
   {
    "duration": 7,
    "start_time": "2024-01-17T19:46:50.203Z"
   },
   {
    "duration": 4,
    "start_time": "2024-01-17T19:46:50.212Z"
   },
   {
    "duration": 122,
    "start_time": "2024-01-17T19:46:50.218Z"
   },
   {
    "duration": 0,
    "start_time": "2024-01-17T19:46:50.341Z"
   },
   {
    "duration": 0,
    "start_time": "2024-01-17T19:46:50.343Z"
   },
   {
    "duration": 8,
    "start_time": "2024-01-17T19:47:08.302Z"
   },
   {
    "duration": 23,
    "start_time": "2024-01-17T19:47:08.913Z"
   },
   {
    "duration": 1177,
    "start_time": "2024-01-17T19:47:13.517Z"
   },
   {
    "duration": 40,
    "start_time": "2024-01-17T19:47:14.696Z"
   },
   {
    "duration": 20,
    "start_time": "2024-01-17T19:47:14.738Z"
   },
   {
    "duration": 13,
    "start_time": "2024-01-17T19:47:14.759Z"
   },
   {
    "duration": 3,
    "start_time": "2024-01-17T19:47:14.775Z"
   },
   {
    "duration": 6,
    "start_time": "2024-01-17T19:47:14.780Z"
   },
   {
    "duration": 26,
    "start_time": "2024-01-17T19:47:14.788Z"
   },
   {
    "duration": 13,
    "start_time": "2024-01-17T19:47:14.816Z"
   },
   {
    "duration": 35,
    "start_time": "2024-01-17T19:47:14.830Z"
   },
   {
    "duration": 1169,
    "start_time": "2024-01-17T20:32:56.547Z"
   },
   {
    "duration": 48,
    "start_time": "2024-01-17T20:32:57.718Z"
   },
   {
    "duration": 17,
    "start_time": "2024-01-17T20:32:57.768Z"
   },
   {
    "duration": 13,
    "start_time": "2024-01-17T20:32:57.787Z"
   },
   {
    "duration": 3,
    "start_time": "2024-01-17T20:32:57.801Z"
   },
   {
    "duration": 5,
    "start_time": "2024-01-17T20:32:57.805Z"
   },
   {
    "duration": 21,
    "start_time": "2024-01-17T20:32:57.812Z"
   },
   {
    "duration": 38,
    "start_time": "2024-01-17T20:32:57.835Z"
   },
   {
    "duration": 7,
    "start_time": "2024-01-17T20:32:57.875Z"
   },
   {
    "duration": 28,
    "start_time": "2024-01-17T21:21:12.035Z"
   },
   {
    "duration": 20,
    "start_time": "2024-01-17T21:44:07.170Z"
   },
   {
    "duration": 1327,
    "start_time": "2024-01-18T15:36:51.897Z"
   },
   {
    "duration": 148,
    "start_time": "2024-01-18T15:36:53.226Z"
   },
   {
    "duration": 18,
    "start_time": "2024-01-18T15:36:53.375Z"
   },
   {
    "duration": 25,
    "start_time": "2024-01-18T15:36:53.395Z"
   },
   {
    "duration": 16,
    "start_time": "2024-01-18T15:36:53.422Z"
   },
   {
    "duration": 8,
    "start_time": "2024-01-18T15:36:53.440Z"
   },
   {
    "duration": 57,
    "start_time": "2024-01-18T15:36:53.450Z"
   },
   {
    "duration": 12,
    "start_time": "2024-01-18T15:36:53.508Z"
   },
   {
    "duration": 26,
    "start_time": "2024-01-18T15:36:53.522Z"
   },
   {
    "duration": 38,
    "start_time": "2024-01-18T21:47:44.587Z"
   },
   {
    "duration": 1185,
    "start_time": "2024-01-18T22:51:21.371Z"
   },
   {
    "duration": 41,
    "start_time": "2024-01-18T22:51:22.559Z"
   },
   {
    "duration": 19,
    "start_time": "2024-01-18T22:51:22.601Z"
   },
   {
    "duration": 14,
    "start_time": "2024-01-18T22:51:22.622Z"
   },
   {
    "duration": 5,
    "start_time": "2024-01-18T22:51:22.638Z"
   },
   {
    "duration": 10,
    "start_time": "2024-01-18T22:51:22.644Z"
   },
   {
    "duration": 34,
    "start_time": "2024-01-18T22:51:22.656Z"
   },
   {
    "duration": 13,
    "start_time": "2024-01-18T22:51:22.691Z"
   },
   {
    "duration": 7,
    "start_time": "2024-01-18T22:51:22.705Z"
   },
   {
    "duration": 55,
    "start_time": "2024-01-18T22:51:22.714Z"
   },
   {
    "duration": 1091,
    "start_time": "2024-01-18T23:39:05.426Z"
   },
   {
    "duration": 40,
    "start_time": "2024-01-18T23:39:06.519Z"
   },
   {
    "duration": 18,
    "start_time": "2024-01-18T23:39:06.560Z"
   },
   {
    "duration": 12,
    "start_time": "2024-01-18T23:39:06.580Z"
   },
   {
    "duration": 11,
    "start_time": "2024-01-18T23:39:06.594Z"
   },
   {
    "duration": 112,
    "start_time": "2024-01-18T23:39:06.607Z"
   },
   {
    "duration": 0,
    "start_time": "2024-01-18T23:39:06.720Z"
   },
   {
    "duration": 0,
    "start_time": "2024-01-18T23:39:06.722Z"
   },
   {
    "duration": 0,
    "start_time": "2024-01-18T23:39:06.722Z"
   },
   {
    "duration": 21,
    "start_time": "2024-01-18T23:39:31.540Z"
   },
   {
    "duration": 30,
    "start_time": "2024-01-18T23:39:38.764Z"
   },
   {
    "duration": 1079,
    "start_time": "2024-01-18T23:39:45.020Z"
   },
   {
    "duration": 40,
    "start_time": "2024-01-18T23:39:46.101Z"
   },
   {
    "duration": 17,
    "start_time": "2024-01-18T23:39:46.142Z"
   },
   {
    "duration": 11,
    "start_time": "2024-01-18T23:39:46.161Z"
   },
   {
    "duration": 3,
    "start_time": "2024-01-18T23:39:46.174Z"
   },
   {
    "duration": 21,
    "start_time": "2024-01-18T23:39:46.178Z"
   },
   {
    "duration": 12,
    "start_time": "2024-01-18T23:39:46.200Z"
   },
   {
    "duration": 6,
    "start_time": "2024-01-18T23:39:46.214Z"
   },
   {
    "duration": 66,
    "start_time": "2024-01-18T23:39:46.221Z"
   },
   {
    "duration": 35,
    "start_time": "2024-01-18T23:49:36.157Z"
   },
   {
    "duration": 7,
    "start_time": "2024-01-18T23:51:59.848Z"
   },
   {
    "duration": 5,
    "start_time": "2024-01-18T23:52:13.750Z"
   },
   {
    "duration": 6,
    "start_time": "2024-01-18T23:55:21.995Z"
   },
   {
    "duration": 3,
    "start_time": "2024-01-18T23:55:34.257Z"
   },
   {
    "duration": 34,
    "start_time": "2024-01-18T23:55:41.145Z"
   },
   {
    "duration": 15,
    "start_time": "2024-01-19T00:25:59.857Z"
   },
   {
    "duration": 21,
    "start_time": "2024-01-19T00:29:55.956Z"
   },
   {
    "duration": 25,
    "start_time": "2024-01-19T00:30:14.933Z"
   },
   {
    "duration": 27,
    "start_time": "2024-01-19T00:30:39.291Z"
   },
   {
    "duration": 40,
    "start_time": "2024-01-19T00:31:17.893Z"
   },
   {
    "duration": 21,
    "start_time": "2024-01-19T00:32:30.317Z"
   },
   {
    "duration": 1151,
    "start_time": "2024-01-19T00:32:53.021Z"
   },
   {
    "duration": 39,
    "start_time": "2024-01-19T00:32:54.173Z"
   },
   {
    "duration": 16,
    "start_time": "2024-01-19T00:32:54.214Z"
   },
   {
    "duration": 11,
    "start_time": "2024-01-19T00:32:54.233Z"
   },
   {
    "duration": 4,
    "start_time": "2024-01-19T00:32:54.246Z"
   },
   {
    "duration": 26,
    "start_time": "2024-01-19T00:32:54.251Z"
   },
   {
    "duration": 12,
    "start_time": "2024-01-19T00:32:54.279Z"
   },
   {
    "duration": 7,
    "start_time": "2024-01-19T00:32:54.292Z"
   },
   {
    "duration": 35,
    "start_time": "2024-01-19T00:32:54.300Z"
   },
   {
    "duration": 32,
    "start_time": "2024-01-19T00:32:54.337Z"
   },
   {
    "duration": 3,
    "start_time": "2024-01-19T00:32:54.371Z"
   },
   {
    "duration": 21,
    "start_time": "2024-01-19T00:32:54.376Z"
   },
   {
    "duration": 88,
    "start_time": "2024-01-19T00:34:06.766Z"
   },
   {
    "duration": 80,
    "start_time": "2024-01-19T00:34:44.092Z"
   },
   {
    "duration": 14,
    "start_time": "2024-01-19T00:34:54.371Z"
   },
   {
    "duration": 13,
    "start_time": "2024-01-19T00:35:15.311Z"
   },
   {
    "duration": 14,
    "start_time": "2024-01-19T00:35:24.560Z"
   },
   {
    "duration": 1381,
    "start_time": "2024-01-19T13:54:14.308Z"
   },
   {
    "duration": 156,
    "start_time": "2024-01-19T13:54:15.691Z"
   },
   {
    "duration": 22,
    "start_time": "2024-01-19T13:54:15.849Z"
   },
   {
    "duration": 13,
    "start_time": "2024-01-19T13:54:15.872Z"
   },
   {
    "duration": 4,
    "start_time": "2024-01-19T13:54:15.887Z"
   },
   {
    "duration": 27,
    "start_time": "2024-01-19T13:54:15.892Z"
   },
   {
    "duration": 14,
    "start_time": "2024-01-19T13:54:15.921Z"
   },
   {
    "duration": 8,
    "start_time": "2024-01-19T13:54:15.936Z"
   },
   {
    "duration": 38,
    "start_time": "2024-01-19T13:54:15.945Z"
   },
   {
    "duration": 4,
    "start_time": "2024-01-19T13:54:15.985Z"
   },
   {
    "duration": 5,
    "start_time": "2024-01-19T13:54:16.017Z"
   },
   {
    "duration": 30,
    "start_time": "2024-01-19T13:54:16.024Z"
   },
   {
    "duration": 13,
    "start_time": "2024-01-19T13:54:16.056Z"
   },
   {
    "duration": 334,
    "start_time": "2024-01-19T19:09:51.005Z"
   },
   {
    "duration": 118,
    "start_time": "2024-01-19T19:11:15.076Z"
   },
   {
    "duration": 296,
    "start_time": "2024-01-19T19:11:23.365Z"
   },
   {
    "duration": 294,
    "start_time": "2024-01-19T19:11:52.625Z"
   },
   {
    "duration": 16,
    "start_time": "2024-01-19T19:12:10.708Z"
   },
   {
    "duration": 316,
    "start_time": "2024-01-19T19:12:11.796Z"
   },
   {
    "duration": 351,
    "start_time": "2024-01-19T19:13:55.443Z"
   },
   {
    "duration": 15,
    "start_time": "2024-01-19T19:24:57.946Z"
   },
   {
    "duration": 285,
    "start_time": "2024-01-19T19:24:58.658Z"
   },
   {
    "duration": 285,
    "start_time": "2024-01-19T19:25:16.761Z"
   },
   {
    "duration": 294,
    "start_time": "2024-01-19T19:26:10.016Z"
   },
   {
    "duration": 288,
    "start_time": "2024-01-19T19:28:16.567Z"
   },
   {
    "duration": 268,
    "start_time": "2024-01-19T19:28:22.149Z"
   },
   {
    "duration": 17,
    "start_time": "2024-01-19T19:33:27.420Z"
   },
   {
    "duration": 9,
    "start_time": "2024-01-19T19:33:28.120Z"
   },
   {
    "duration": 207,
    "start_time": "2024-01-19T19:33:33.036Z"
   },
   {
    "duration": 138,
    "start_time": "2024-01-19T19:34:23.398Z"
   },
   {
    "duration": 123,
    "start_time": "2024-01-19T19:35:03.942Z"
   },
   {
    "duration": 143,
    "start_time": "2024-01-19T19:36:09.386Z"
   },
   {
    "duration": 300,
    "start_time": "2024-01-19T19:37:11.060Z"
   },
   {
    "duration": 284,
    "start_time": "2024-01-19T19:37:26.880Z"
   },
   {
    "duration": 132,
    "start_time": "2024-01-19T19:37:33.091Z"
   },
   {
    "duration": 14,
    "start_time": "2024-01-19T19:41:37.019Z"
   },
   {
    "duration": 124,
    "start_time": "2024-01-19T19:43:29.225Z"
   },
   {
    "duration": 14,
    "start_time": "2024-01-19T19:45:15.692Z"
   },
   {
    "duration": 116,
    "start_time": "2024-01-19T19:45:16.280Z"
   },
   {
    "duration": 982,
    "start_time": "2024-01-19T19:46:11.550Z"
   },
   {
    "duration": 893,
    "start_time": "2024-01-19T19:53:15.596Z"
   },
   {
    "duration": 876,
    "start_time": "2024-01-19T19:53:21.994Z"
   },
   {
    "duration": 902,
    "start_time": "2024-01-19T19:54:26.942Z"
   },
   {
    "duration": 932,
    "start_time": "2024-01-19T19:54:53.414Z"
   },
   {
    "duration": 24,
    "start_time": "2024-01-19T19:55:03.824Z"
   },
   {
    "duration": 19,
    "start_time": "2024-01-19T19:55:10.382Z"
   },
   {
    "duration": 18,
    "start_time": "2024-01-19T19:55:15.919Z"
   },
   {
    "duration": 22,
    "start_time": "2024-01-19T19:55:28.226Z"
   },
   {
    "duration": 960,
    "start_time": "2024-01-19T19:55:44.162Z"
   },
   {
    "duration": 9,
    "start_time": "2024-01-19T20:02:16.509Z"
   },
   {
    "duration": 18,
    "start_time": "2024-01-19T20:02:20.559Z"
   },
   {
    "duration": 159,
    "start_time": "2024-01-19T20:02:21.683Z"
   },
   {
    "duration": 153,
    "start_time": "2024-01-19T20:02:32.769Z"
   },
   {
    "duration": 943,
    "start_time": "2024-01-19T20:03:01.934Z"
   },
   {
    "duration": 1109,
    "start_time": "2024-01-19T20:03:10.534Z"
   },
   {
    "duration": 40,
    "start_time": "2024-01-19T20:03:11.645Z"
   },
   {
    "duration": 17,
    "start_time": "2024-01-19T20:03:11.687Z"
   },
   {
    "duration": 10,
    "start_time": "2024-01-19T20:03:11.706Z"
   },
   {
    "duration": 3,
    "start_time": "2024-01-19T20:03:11.718Z"
   },
   {
    "duration": 22,
    "start_time": "2024-01-19T20:03:11.722Z"
   },
   {
    "duration": 12,
    "start_time": "2024-01-19T20:03:11.746Z"
   },
   {
    "duration": 7,
    "start_time": "2024-01-19T20:03:11.759Z"
   },
   {
    "duration": 61,
    "start_time": "2024-01-19T20:03:11.767Z"
   },
   {
    "duration": 5,
    "start_time": "2024-01-19T20:03:11.831Z"
   },
   {
    "duration": 4,
    "start_time": "2024-01-19T20:03:11.837Z"
   },
   {
    "duration": 23,
    "start_time": "2024-01-19T20:03:11.843Z"
   },
   {
    "duration": 14,
    "start_time": "2024-01-19T20:03:11.868Z"
   },
   {
    "duration": 52,
    "start_time": "2024-01-19T20:03:11.884Z"
   },
   {
    "duration": 337,
    "start_time": "2024-01-19T20:03:11.938Z"
   },
   {
    "duration": 20,
    "start_time": "2024-01-19T20:03:12.277Z"
   },
   {
    "duration": 167,
    "start_time": "2024-01-19T20:03:12.299Z"
   },
   {
    "duration": 19,
    "start_time": "2024-01-19T20:03:12.467Z"
   },
   {
    "duration": 130,
    "start_time": "2024-01-19T20:03:12.487Z"
   },
   {
    "duration": 22,
    "start_time": "2024-01-19T20:03:12.619Z"
   },
   {
    "duration": 903,
    "start_time": "2024-01-19T20:03:12.643Z"
   },
   {
    "duration": 19,
    "start_time": "2024-01-19T20:03:13.548Z"
   },
   {
    "duration": 186,
    "start_time": "2024-01-19T20:03:13.568Z"
   },
   {
    "duration": 158,
    "start_time": "2024-01-19T20:03:45.783Z"
   },
   {
    "duration": 25,
    "start_time": "2024-01-19T20:08:45.841Z"
   },
   {
    "duration": 1063,
    "start_time": "2024-01-19T20:10:20.273Z"
   },
   {
    "duration": 40,
    "start_time": "2024-01-19T20:10:21.337Z"
   },
   {
    "duration": 16,
    "start_time": "2024-01-19T20:10:21.379Z"
   },
   {
    "duration": 11,
    "start_time": "2024-01-19T20:10:21.396Z"
   },
   {
    "duration": 3,
    "start_time": "2024-01-19T20:10:21.408Z"
   },
   {
    "duration": 23,
    "start_time": "2024-01-19T20:10:21.412Z"
   },
   {
    "duration": 13,
    "start_time": "2024-01-19T20:10:21.436Z"
   },
   {
    "duration": 8,
    "start_time": "2024-01-19T20:10:21.450Z"
   },
   {
    "duration": 60,
    "start_time": "2024-01-19T20:10:21.459Z"
   },
   {
    "duration": 5,
    "start_time": "2024-01-19T20:10:21.522Z"
   },
   {
    "duration": 12,
    "start_time": "2024-01-19T20:10:21.529Z"
   },
   {
    "duration": 32,
    "start_time": "2024-01-19T20:10:21.542Z"
   },
   {
    "duration": 22,
    "start_time": "2024-01-19T20:10:21.576Z"
   },
   {
    "duration": 39,
    "start_time": "2024-01-19T20:10:21.600Z"
   },
   {
    "duration": 324,
    "start_time": "2024-01-19T20:10:21.641Z"
   },
   {
    "duration": 20,
    "start_time": "2024-01-19T20:10:21.967Z"
   },
   {
    "duration": 160,
    "start_time": "2024-01-19T20:10:21.989Z"
   },
   {
    "duration": 20,
    "start_time": "2024-01-19T20:10:22.151Z"
   },
   {
    "duration": 133,
    "start_time": "2024-01-19T20:10:22.172Z"
   },
   {
    "duration": 24,
    "start_time": "2024-01-19T20:10:22.306Z"
   },
   {
    "duration": 914,
    "start_time": "2024-01-19T20:10:22.331Z"
   },
   {
    "duration": 18,
    "start_time": "2024-01-19T20:10:23.247Z"
   },
   {
    "duration": 166,
    "start_time": "2024-01-19T20:10:23.267Z"
   },
   {
    "duration": 18,
    "start_time": "2024-01-19T20:10:23.435Z"
   },
   {
    "duration": 145,
    "start_time": "2024-01-19T20:11:49.652Z"
   },
   {
    "duration": 18,
    "start_time": "2024-01-19T20:15:56.926Z"
   },
   {
    "duration": 205,
    "start_time": "2024-01-19T20:16:50.139Z"
   },
   {
    "duration": 18,
    "start_time": "2024-01-19T20:19:03.315Z"
   },
   {
    "duration": 125,
    "start_time": "2024-01-19T20:19:24.699Z"
   },
   {
    "duration": 123,
    "start_time": "2024-01-19T20:19:59.434Z"
   },
   {
    "duration": 1584,
    "start_time": "2024-01-19T20:22:50.611Z"
   },
   {
    "duration": 1562,
    "start_time": "2024-01-19T20:23:50.989Z"
   },
   {
    "duration": 1299,
    "start_time": "2024-01-20T13:08:59.109Z"
   },
   {
    "duration": 149,
    "start_time": "2024-01-20T13:09:00.412Z"
   },
   {
    "duration": 18,
    "start_time": "2024-01-20T13:09:00.562Z"
   },
   {
    "duration": 54,
    "start_time": "2024-01-20T13:09:00.582Z"
   },
   {
    "duration": 22,
    "start_time": "2024-01-20T13:09:00.637Z"
   },
   {
    "duration": 56,
    "start_time": "2024-01-20T13:09:00.660Z"
   },
   {
    "duration": 13,
    "start_time": "2024-01-20T13:09:00.717Z"
   },
   {
    "duration": 27,
    "start_time": "2024-01-20T13:09:00.731Z"
   },
   {
    "duration": 56,
    "start_time": "2024-01-20T13:09:00.760Z"
   },
   {
    "duration": 4,
    "start_time": "2024-01-20T13:09:00.818Z"
   },
   {
    "duration": 31,
    "start_time": "2024-01-20T13:09:00.823Z"
   },
   {
    "duration": 53,
    "start_time": "2024-01-20T13:09:00.855Z"
   },
   {
    "duration": 18,
    "start_time": "2024-01-20T13:09:00.910Z"
   },
   {
    "duration": 28,
    "start_time": "2024-01-20T13:09:00.929Z"
   },
   {
    "duration": 325,
    "start_time": "2024-01-20T13:09:00.959Z"
   },
   {
    "duration": 20,
    "start_time": "2024-01-20T13:09:01.285Z"
   },
   {
    "duration": 178,
    "start_time": "2024-01-20T13:09:01.307Z"
   },
   {
    "duration": 18,
    "start_time": "2024-01-20T13:09:01.486Z"
   },
   {
    "duration": 145,
    "start_time": "2024-01-20T13:09:01.506Z"
   },
   {
    "duration": 32,
    "start_time": "2024-01-20T13:09:01.652Z"
   },
   {
    "duration": 1002,
    "start_time": "2024-01-20T13:09:01.685Z"
   },
   {
    "duration": 19,
    "start_time": "2024-01-20T13:09:02.688Z"
   },
   {
    "duration": 178,
    "start_time": "2024-01-20T13:09:02.709Z"
   },
   {
    "duration": 19,
    "start_time": "2024-01-20T13:09:02.889Z"
   },
   {
    "duration": 162,
    "start_time": "2024-01-20T13:09:02.909Z"
   },
   {
    "duration": 24,
    "start_time": "2024-01-20T13:09:03.073Z"
   },
   {
    "duration": 211,
    "start_time": "2024-01-20T13:09:03.099Z"
   },
   {
    "duration": 18,
    "start_time": "2024-01-20T13:09:03.314Z"
   },
   {
    "duration": 142,
    "start_time": "2024-01-20T13:09:03.334Z"
   },
   {
    "duration": 1602,
    "start_time": "2024-01-20T13:09:03.478Z"
   },
   {
    "duration": 8,
    "start_time": "2024-01-20T14:49:03.726Z"
   },
   {
    "duration": 8,
    "start_time": "2024-01-20T14:50:18.200Z"
   },
   {
    "duration": 8,
    "start_time": "2024-01-20T14:57:33.493Z"
   },
   {
    "duration": 13,
    "start_time": "2024-01-20T16:46:52.022Z"
   },
   {
    "duration": 10,
    "start_time": "2024-01-20T16:47:22.857Z"
   },
   {
    "duration": 10,
    "start_time": "2024-01-20T16:47:27.244Z"
   },
   {
    "duration": 10,
    "start_time": "2024-01-20T16:47:45.939Z"
   },
   {
    "duration": 11,
    "start_time": "2024-01-20T16:48:12.956Z"
   },
   {
    "duration": 11,
    "start_time": "2024-01-20T16:48:20.513Z"
   },
   {
    "duration": 12,
    "start_time": "2024-01-20T16:55:11.861Z"
   },
   {
    "duration": 40,
    "start_time": "2024-01-20T16:56:27.475Z"
   },
   {
    "duration": 38,
    "start_time": "2024-01-20T16:56:55.496Z"
   },
   {
    "duration": 12,
    "start_time": "2024-01-20T16:57:18.708Z"
   },
   {
    "duration": 13,
    "start_time": "2024-01-20T16:58:29.845Z"
   },
   {
    "duration": 12,
    "start_time": "2024-01-20T16:59:19.302Z"
   },
   {
    "duration": 12,
    "start_time": "2024-01-20T16:59:40.842Z"
   },
   {
    "duration": 117,
    "start_time": "2024-01-20T17:28:06.498Z"
   },
   {
    "duration": 10,
    "start_time": "2024-01-20T17:28:11.565Z"
   },
   {
    "duration": 11,
    "start_time": "2024-01-20T17:29:06.640Z"
   },
   {
    "duration": 11,
    "start_time": "2024-01-20T17:30:46.965Z"
   },
   {
    "duration": 10,
    "start_time": "2024-01-20T17:32:03.171Z"
   },
   {
    "duration": 10,
    "start_time": "2024-01-20T17:32:55.535Z"
   },
   {
    "duration": 11,
    "start_time": "2024-01-20T17:47:00.195Z"
   },
   {
    "duration": 1133,
    "start_time": "2024-01-20T17:51:12.275Z"
   },
   {
    "duration": 39,
    "start_time": "2024-01-20T17:51:13.410Z"
   },
   {
    "duration": 17,
    "start_time": "2024-01-20T17:51:13.450Z"
   },
   {
    "duration": 13,
    "start_time": "2024-01-20T17:51:13.469Z"
   },
   {
    "duration": 3,
    "start_time": "2024-01-20T17:51:13.483Z"
   },
   {
    "duration": 21,
    "start_time": "2024-01-20T17:51:13.488Z"
   },
   {
    "duration": 11,
    "start_time": "2024-01-20T17:51:13.511Z"
   },
   {
    "duration": 5,
    "start_time": "2024-01-20T17:51:13.523Z"
   },
   {
    "duration": 58,
    "start_time": "2024-01-20T17:51:13.529Z"
   },
   {
    "duration": 5,
    "start_time": "2024-01-20T17:51:13.590Z"
   },
   {
    "duration": 10,
    "start_time": "2024-01-20T17:51:13.596Z"
   },
   {
    "duration": 28,
    "start_time": "2024-01-20T17:51:13.608Z"
   },
   {
    "duration": 15,
    "start_time": "2024-01-20T17:51:13.637Z"
   },
   {
    "duration": 48,
    "start_time": "2024-01-20T17:51:13.653Z"
   },
   {
    "duration": 328,
    "start_time": "2024-01-20T17:51:13.703Z"
   },
   {
    "duration": 20,
    "start_time": "2024-01-20T17:51:14.033Z"
   },
   {
    "duration": 171,
    "start_time": "2024-01-20T17:51:14.055Z"
   },
   {
    "duration": 20,
    "start_time": "2024-01-20T17:51:14.228Z"
   },
   {
    "duration": 140,
    "start_time": "2024-01-20T17:51:14.249Z"
   },
   {
    "duration": 24,
    "start_time": "2024-01-20T17:51:14.391Z"
   },
   {
    "duration": 950,
    "start_time": "2024-01-20T17:51:14.416Z"
   },
   {
    "duration": 26,
    "start_time": "2024-01-20T17:51:15.368Z"
   },
   {
    "duration": 171,
    "start_time": "2024-01-20T17:51:15.396Z"
   },
   {
    "duration": 30,
    "start_time": "2024-01-20T17:51:15.569Z"
   },
   {
    "duration": 153,
    "start_time": "2024-01-20T17:51:15.600Z"
   },
   {
    "duration": 29,
    "start_time": "2024-01-20T17:51:15.755Z"
   },
   {
    "duration": 205,
    "start_time": "2024-01-20T17:51:15.786Z"
   },
   {
    "duration": 19,
    "start_time": "2024-01-20T17:51:15.994Z"
   },
   {
    "duration": 142,
    "start_time": "2024-01-20T17:51:16.014Z"
   },
   {
    "duration": 1539,
    "start_time": "2024-01-20T17:51:16.157Z"
   },
   {
    "duration": 9,
    "start_time": "2024-01-20T17:51:17.698Z"
   },
   {
    "duration": 14,
    "start_time": "2024-01-20T17:51:17.709Z"
   },
   {
    "duration": 22,
    "start_time": "2024-01-20T17:51:17.724Z"
   },
   {
    "duration": 16,
    "start_time": "2024-01-20T17:51:17.747Z"
   },
   {
    "duration": 10,
    "start_time": "2024-01-20T17:51:17.764Z"
   },
   {
    "duration": 1142,
    "start_time": "2024-01-20T21:41:37.859Z"
   },
   {
    "duration": 40,
    "start_time": "2024-01-20T21:41:39.002Z"
   },
   {
    "duration": 16,
    "start_time": "2024-01-20T21:41:39.046Z"
   },
   {
    "duration": 14,
    "start_time": "2024-01-20T21:41:39.064Z"
   },
   {
    "duration": 3,
    "start_time": "2024-01-20T21:41:39.079Z"
   },
   {
    "duration": 23,
    "start_time": "2024-01-20T21:41:39.084Z"
   },
   {
    "duration": 12,
    "start_time": "2024-01-20T21:41:39.109Z"
   },
   {
    "duration": 6,
    "start_time": "2024-01-20T21:41:39.122Z"
   },
   {
    "duration": 57,
    "start_time": "2024-01-20T21:41:39.130Z"
   },
   {
    "duration": 4,
    "start_time": "2024-01-20T21:41:39.189Z"
   },
   {
    "duration": 12,
    "start_time": "2024-01-20T21:41:39.194Z"
   },
   {
    "duration": 22,
    "start_time": "2024-01-20T21:41:39.207Z"
   },
   {
    "duration": 13,
    "start_time": "2024-01-20T21:41:39.230Z"
   },
   {
    "duration": 44,
    "start_time": "2024-01-20T21:41:39.244Z"
   },
   {
    "duration": 325,
    "start_time": "2024-01-20T21:41:39.289Z"
   },
   {
    "duration": 19,
    "start_time": "2024-01-20T21:41:39.615Z"
   },
   {
    "duration": 160,
    "start_time": "2024-01-20T21:41:39.636Z"
   },
   {
    "duration": 18,
    "start_time": "2024-01-20T21:41:39.798Z"
   },
   {
    "duration": 147,
    "start_time": "2024-01-20T21:41:39.817Z"
   },
   {
    "duration": 29,
    "start_time": "2024-01-20T21:41:39.967Z"
   },
   {
    "duration": 948,
    "start_time": "2024-01-20T21:41:39.998Z"
   },
   {
    "duration": 20,
    "start_time": "2024-01-20T21:41:40.948Z"
   },
   {
    "duration": 182,
    "start_time": "2024-01-20T21:41:40.981Z"
   },
   {
    "duration": 26,
    "start_time": "2024-01-20T21:41:41.165Z"
   },
   {
    "duration": 157,
    "start_time": "2024-01-20T21:41:41.193Z"
   },
   {
    "duration": 18,
    "start_time": "2024-01-20T21:41:41.352Z"
   },
   {
    "duration": 204,
    "start_time": "2024-01-20T21:41:41.383Z"
   },
   {
    "duration": 19,
    "start_time": "2024-01-20T21:41:41.588Z"
   },
   {
    "duration": 138,
    "start_time": "2024-01-20T21:41:41.608Z"
   },
   {
    "duration": 1628,
    "start_time": "2024-01-20T21:41:41.748Z"
   },
   {
    "duration": 8,
    "start_time": "2024-01-20T21:41:43.377Z"
   },
   {
    "duration": 7,
    "start_time": "2024-01-20T21:41:43.386Z"
   },
   {
    "duration": 11,
    "start_time": "2024-01-20T21:41:43.394Z"
   },
   {
    "duration": 18,
    "start_time": "2024-01-20T21:41:43.406Z"
   },
   {
    "duration": 9,
    "start_time": "2024-01-20T21:41:43.426Z"
   },
   {
    "duration": 1392,
    "start_time": "2024-01-21T10:24:09.779Z"
   },
   {
    "duration": 151,
    "start_time": "2024-01-21T10:24:11.173Z"
   },
   {
    "duration": 32,
    "start_time": "2024-01-21T10:24:11.325Z"
   },
   {
    "duration": 16,
    "start_time": "2024-01-21T10:24:11.359Z"
   },
   {
    "duration": 4,
    "start_time": "2024-01-21T10:24:11.376Z"
   },
   {
    "duration": 34,
    "start_time": "2024-01-21T10:24:11.381Z"
   },
   {
    "duration": 41,
    "start_time": "2024-01-21T10:24:11.417Z"
   },
   {
    "duration": 31,
    "start_time": "2024-01-21T10:24:11.461Z"
   },
   {
    "duration": 48,
    "start_time": "2024-01-21T10:24:11.494Z"
   },
   {
    "duration": 5,
    "start_time": "2024-01-21T10:24:11.544Z"
   },
   {
    "duration": 4,
    "start_time": "2024-01-21T10:24:11.551Z"
   },
   {
    "duration": 34,
    "start_time": "2024-01-21T10:24:11.557Z"
   },
   {
    "duration": 18,
    "start_time": "2024-01-21T10:24:11.593Z"
   },
   {
    "duration": 28,
    "start_time": "2024-01-21T10:24:11.612Z"
   },
   {
    "duration": 649,
    "start_time": "2024-01-21T10:24:11.642Z"
   },
   {
    "duration": 28,
    "start_time": "2024-01-21T10:24:12.294Z"
   },
   {
    "duration": 408,
    "start_time": "2024-01-21T10:24:12.324Z"
   },
   {
    "duration": 30,
    "start_time": "2024-01-21T10:24:12.734Z"
   },
   {
    "duration": 330,
    "start_time": "2024-01-21T10:24:12.766Z"
   },
   {
    "duration": 30,
    "start_time": "2024-01-21T10:24:13.098Z"
   },
   {
    "duration": 801,
    "start_time": "2024-01-21T10:24:13.131Z"
   },
   {
    "duration": 29,
    "start_time": "2024-01-21T10:24:13.933Z"
   },
   {
    "duration": 363,
    "start_time": "2024-01-21T10:24:13.964Z"
   },
   {
    "duration": 20,
    "start_time": "2024-01-21T10:24:14.329Z"
   },
   {
    "duration": 341,
    "start_time": "2024-01-21T10:24:14.359Z"
   },
   {
    "duration": 21,
    "start_time": "2024-01-21T10:24:14.701Z"
   },
   {
    "duration": 347,
    "start_time": "2024-01-21T10:24:14.723Z"
   },
   {
    "duration": 21,
    "start_time": "2024-01-21T10:24:15.073Z"
   },
   {
    "duration": 302,
    "start_time": "2024-01-21T10:24:15.096Z"
   },
   {
    "duration": 549,
    "start_time": "2024-01-21T10:24:15.400Z"
   },
   {
    "duration": 8,
    "start_time": "2024-01-21T10:24:15.959Z"
   },
   {
    "duration": 27,
    "start_time": "2024-01-21T10:24:15.969Z"
   },
   {
    "duration": 126,
    "start_time": "2024-01-21T10:24:15.998Z"
   },
   {
    "duration": 11,
    "start_time": "2024-01-21T10:24:16.125Z"
   },
   {
    "duration": 23,
    "start_time": "2024-01-21T10:24:16.137Z"
   },
   {
    "duration": 1375,
    "start_time": "2024-01-21T11:44:26.499Z"
   },
   {
    "duration": 43,
    "start_time": "2024-01-21T11:44:27.875Z"
   },
   {
    "duration": 23,
    "start_time": "2024-01-21T11:44:27.919Z"
   },
   {
    "duration": 17,
    "start_time": "2024-01-21T11:44:27.945Z"
   },
   {
    "duration": 4,
    "start_time": "2024-01-21T11:44:27.963Z"
   },
   {
    "duration": 23,
    "start_time": "2024-01-21T11:44:27.969Z"
   },
   {
    "duration": 13,
    "start_time": "2024-01-21T11:44:27.993Z"
   },
   {
    "duration": 13,
    "start_time": "2024-01-21T11:44:28.008Z"
   },
   {
    "duration": 71,
    "start_time": "2024-01-21T11:44:28.022Z"
   },
   {
    "duration": 5,
    "start_time": "2024-01-21T11:44:28.096Z"
   },
   {
    "duration": 12,
    "start_time": "2024-01-21T11:44:28.102Z"
   },
   {
    "duration": 26,
    "start_time": "2024-01-21T11:44:28.116Z"
   },
   {
    "duration": 28,
    "start_time": "2024-01-21T11:44:28.144Z"
   },
   {
    "duration": 27,
    "start_time": "2024-01-21T11:44:28.174Z"
   },
   {
    "duration": 594,
    "start_time": "2024-01-21T11:44:28.203Z"
   },
   {
    "duration": 21,
    "start_time": "2024-01-21T11:44:28.799Z"
   },
   {
    "duration": 398,
    "start_time": "2024-01-21T11:44:28.821Z"
   },
   {
    "duration": 21,
    "start_time": "2024-01-21T11:44:29.221Z"
   },
   {
    "duration": 328,
    "start_time": "2024-01-21T11:44:29.244Z"
   },
   {
    "duration": 24,
    "start_time": "2024-01-21T11:44:29.574Z"
   },
   {
    "duration": 792,
    "start_time": "2024-01-21T11:44:29.599Z"
   },
   {
    "duration": 21,
    "start_time": "2024-01-21T11:44:30.392Z"
   },
   {
    "duration": 404,
    "start_time": "2024-01-21T11:44:30.415Z"
   },
   {
    "duration": 20,
    "start_time": "2024-01-21T11:44:30.821Z"
   },
   {
    "duration": 355,
    "start_time": "2024-01-21T11:44:30.843Z"
   },
   {
    "duration": 20,
    "start_time": "2024-01-21T11:44:31.199Z"
   },
   {
    "duration": 370,
    "start_time": "2024-01-21T11:44:31.220Z"
   },
   {
    "duration": 21,
    "start_time": "2024-01-21T11:44:31.593Z"
   },
   {
    "duration": 337,
    "start_time": "2024-01-21T11:44:31.616Z"
   },
   {
    "duration": 616,
    "start_time": "2024-01-21T11:44:31.955Z"
   },
   {
    "duration": 9,
    "start_time": "2024-01-21T11:44:32.573Z"
   },
   {
    "duration": 48,
    "start_time": "2024-01-21T11:44:32.583Z"
   },
   {
    "duration": 141,
    "start_time": "2024-01-21T11:44:32.633Z"
   },
   {
    "duration": 39,
    "start_time": "2024-01-21T11:44:32.775Z"
   },
   {
    "duration": 33,
    "start_time": "2024-01-21T11:44:32.815Z"
   },
   {
    "duration": 1439,
    "start_time": "2024-01-22T13:13:44.689Z"
   },
   {
    "duration": 95,
    "start_time": "2024-01-22T13:13:46.131Z"
   },
   {
    "duration": 22,
    "start_time": "2024-01-22T13:13:46.227Z"
   },
   {
    "duration": 15,
    "start_time": "2024-01-22T13:13:46.251Z"
   },
   {
    "duration": 4,
    "start_time": "2024-01-22T13:13:46.267Z"
   },
   {
    "duration": 43,
    "start_time": "2024-01-22T13:13:46.273Z"
   },
   {
    "duration": 13,
    "start_time": "2024-01-22T13:13:46.318Z"
   },
   {
    "duration": 21,
    "start_time": "2024-01-22T13:13:46.333Z"
   },
   {
    "duration": 51,
    "start_time": "2024-01-22T13:13:46.356Z"
   },
   {
    "duration": 6,
    "start_time": "2024-01-22T13:13:46.409Z"
   },
   {
    "duration": 23,
    "start_time": "2024-01-22T13:13:46.417Z"
   },
   {
    "duration": 55,
    "start_time": "2024-01-22T13:13:46.442Z"
   },
   {
    "duration": 15,
    "start_time": "2024-01-22T13:13:46.498Z"
   },
   {
    "duration": 29,
    "start_time": "2024-01-22T13:13:46.515Z"
   },
   {
    "duration": 373,
    "start_time": "2024-01-22T13:13:46.546Z"
   },
   {
    "duration": 21,
    "start_time": "2024-01-22T13:13:46.920Z"
   },
   {
    "duration": 187,
    "start_time": "2024-01-22T13:13:46.942Z"
   },
   {
    "duration": 20,
    "start_time": "2024-01-22T13:13:47.131Z"
   },
   {
    "duration": 149,
    "start_time": "2024-01-22T13:13:47.152Z"
   },
   {
    "duration": 25,
    "start_time": "2024-01-22T13:13:47.303Z"
   },
   {
    "duration": 1072,
    "start_time": "2024-01-22T13:13:47.330Z"
   },
   {
    "duration": 20,
    "start_time": "2024-01-22T13:13:48.404Z"
   },
   {
    "duration": 192,
    "start_time": "2024-01-22T13:13:48.426Z"
   },
   {
    "duration": 20,
    "start_time": "2024-01-22T13:13:48.620Z"
   },
   {
    "duration": 173,
    "start_time": "2024-01-22T13:13:48.641Z"
   },
   {
    "duration": 21,
    "start_time": "2024-01-22T13:13:48.815Z"
   },
   {
    "duration": 248,
    "start_time": "2024-01-22T13:13:48.838Z"
   },
   {
    "duration": 19,
    "start_time": "2024-01-22T13:13:49.089Z"
   },
   {
    "duration": 164,
    "start_time": "2024-01-22T13:13:49.110Z"
   },
   {
    "duration": 1781,
    "start_time": "2024-01-22T13:13:49.276Z"
   },
   {
    "duration": 8,
    "start_time": "2024-01-22T13:13:51.060Z"
   },
   {
    "duration": 27,
    "start_time": "2024-01-22T13:13:51.069Z"
   },
   {
    "duration": 17,
    "start_time": "2024-01-22T13:13:51.097Z"
   },
   {
    "duration": 14,
    "start_time": "2024-01-22T13:13:51.115Z"
   },
   {
    "duration": 23,
    "start_time": "2024-01-22T13:13:51.130Z"
   },
   {
    "duration": 19,
    "start_time": "2024-01-22T15:49:06.262Z"
   },
   {
    "duration": 18,
    "start_time": "2024-01-22T15:54:04.507Z"
   },
   {
    "duration": 108,
    "start_time": "2024-01-22T16:11:17.428Z"
   },
   {
    "duration": 10,
    "start_time": "2024-01-22T16:11:25.530Z"
   },
   {
    "duration": 8,
    "start_time": "2024-01-22T16:14:07.108Z"
   },
   {
    "duration": 9,
    "start_time": "2024-01-22T16:14:09.212Z"
   },
   {
    "duration": 8,
    "start_time": "2024-01-22T16:15:16.227Z"
   },
   {
    "duration": 8,
    "start_time": "2024-01-22T16:17:24.238Z"
   },
   {
    "duration": 8,
    "start_time": "2024-01-22T16:19:26.049Z"
   },
   {
    "duration": 10,
    "start_time": "2024-01-22T16:22:48.791Z"
   },
   {
    "duration": 13,
    "start_time": "2024-01-22T16:25:24.059Z"
   },
   {
    "duration": 7,
    "start_time": "2024-01-22T16:25:38.436Z"
   },
   {
    "duration": 320,
    "start_time": "2024-01-22T16:46:23.806Z"
   },
   {
    "duration": 314,
    "start_time": "2024-01-22T16:46:37.300Z"
   },
   {
    "duration": 406,
    "start_time": "2024-01-22T16:47:27.262Z"
   },
   {
    "duration": 194,
    "start_time": "2024-01-22T16:52:28.114Z"
   },
   {
    "duration": 326,
    "start_time": "2024-01-22T16:57:50.178Z"
   },
   {
    "duration": 332,
    "start_time": "2024-01-22T16:58:32.744Z"
   },
   {
    "duration": 347,
    "start_time": "2024-01-22T16:58:46.406Z"
   },
   {
    "duration": 328,
    "start_time": "2024-01-22T16:59:26.370Z"
   },
   {
    "duration": 18,
    "start_time": "2024-01-22T17:08:38.761Z"
   },
   {
    "duration": 28,
    "start_time": "2024-01-22T17:20:14.977Z"
   },
   {
    "duration": 166,
    "start_time": "2024-01-22T17:20:30.383Z"
   },
   {
    "duration": 25,
    "start_time": "2024-01-22T17:20:39.110Z"
   },
   {
    "duration": 260,
    "start_time": "2024-01-22T17:20:46.960Z"
   },
   {
    "duration": 5,
    "start_time": "2024-01-22T17:26:22.016Z"
   },
   {
    "duration": 74,
    "start_time": "2024-01-22T17:26:52.521Z"
   },
   {
    "duration": 4,
    "start_time": "2024-01-22T17:26:56.145Z"
   },
   {
    "duration": 5,
    "start_time": "2024-01-22T17:26:59.438Z"
   },
   {
    "duration": 4,
    "start_time": "2024-01-22T17:27:01.968Z"
   },
   {
    "duration": 331,
    "start_time": "2024-01-22T17:28:20.469Z"
   },
   {
    "duration": 431,
    "start_time": "2024-01-22T17:28:56.442Z"
   },
   {
    "duration": 329,
    "start_time": "2024-01-22T17:29:28.112Z"
   },
   {
    "duration": 17,
    "start_time": "2024-01-22T17:36:05.056Z"
   },
   {
    "duration": 15,
    "start_time": "2024-01-22T17:36:31.313Z"
   },
   {
    "duration": 78,
    "start_time": "2024-01-22T17:40:05.524Z"
   },
   {
    "duration": 149,
    "start_time": "2024-01-22T17:40:16.770Z"
   },
   {
    "duration": 160,
    "start_time": "2024-01-22T17:41:58.013Z"
   },
   {
    "duration": 344,
    "start_time": "2024-01-22T17:44:12.140Z"
   },
   {
    "duration": 388,
    "start_time": "2024-01-22T17:44:53.956Z"
   },
   {
    "duration": 372,
    "start_time": "2024-01-22T17:46:18.620Z"
   },
   {
    "duration": 23,
    "start_time": "2024-01-22T17:49:04.658Z"
   },
   {
    "duration": 19,
    "start_time": "2024-01-22T17:49:31.808Z"
   },
   {
    "duration": 1649,
    "start_time": "2024-01-22T17:49:46.168Z"
   },
   {
    "duration": 19,
    "start_time": "2024-01-22T17:49:50.546Z"
   },
   {
    "duration": 20,
    "start_time": "2024-01-22T17:50:44.337Z"
   },
   {
    "duration": 346,
    "start_time": "2024-01-22T17:54:54.762Z"
   },
   {
    "duration": 335,
    "start_time": "2024-01-22T17:56:50.720Z"
   },
   {
    "duration": 548,
    "start_time": "2024-01-22T17:59:05.016Z"
   },
   {
    "duration": 423,
    "start_time": "2024-01-22T18:00:07.388Z"
   },
   {
    "duration": 346,
    "start_time": "2024-01-22T18:01:57.993Z"
   },
   {
    "duration": 30,
    "start_time": "2024-01-22T18:04:23.561Z"
   },
   {
    "duration": 30,
    "start_time": "2024-01-22T18:04:28.682Z"
   },
   {
    "duration": 30,
    "start_time": "2024-01-22T18:04:32.636Z"
   },
   {
    "duration": 27,
    "start_time": "2024-01-22T18:04:40.657Z"
   },
   {
    "duration": 30,
    "start_time": "2024-01-22T18:04:57.231Z"
   },
   {
    "duration": 23,
    "start_time": "2024-01-22T18:05:05.198Z"
   },
   {
    "duration": 24,
    "start_time": "2024-01-22T18:05:16.717Z"
   },
   {
    "duration": 23,
    "start_time": "2024-01-22T18:05:21.453Z"
   },
   {
    "duration": 24,
    "start_time": "2024-01-22T18:05:36.813Z"
   },
   {
    "duration": 22,
    "start_time": "2024-01-22T18:05:41.518Z"
   },
   {
    "duration": 4,
    "start_time": "2024-01-22T18:08:37.919Z"
   },
   {
    "duration": 24,
    "start_time": "2024-01-22T18:08:39.116Z"
   },
   {
    "duration": 321,
    "start_time": "2024-01-22T18:08:43.021Z"
   },
   {
    "duration": 6,
    "start_time": "2024-01-22T18:10:37.467Z"
   },
   {
    "duration": 24,
    "start_time": "2024-01-22T18:11:14.409Z"
   },
   {
    "duration": 1100,
    "start_time": "2024-01-22T18:11:32.327Z"
   },
   {
    "duration": 43,
    "start_time": "2024-01-22T18:11:33.429Z"
   },
   {
    "duration": 21,
    "start_time": "2024-01-22T18:11:33.473Z"
   },
   {
    "duration": 14,
    "start_time": "2024-01-22T18:11:33.496Z"
   },
   {
    "duration": 3,
    "start_time": "2024-01-22T18:11:33.512Z"
   },
   {
    "duration": 21,
    "start_time": "2024-01-22T18:11:33.517Z"
   },
   {
    "duration": 38,
    "start_time": "2024-01-22T18:11:33.540Z"
   },
   {
    "duration": 7,
    "start_time": "2024-01-22T18:11:33.579Z"
   },
   {
    "duration": 18,
    "start_time": "2024-01-22T18:11:33.588Z"
   },
   {
    "duration": 14,
    "start_time": "2024-01-22T18:11:33.608Z"
   },
   {
    "duration": 8,
    "start_time": "2024-01-22T18:11:33.623Z"
   },
   {
    "duration": 7,
    "start_time": "2024-01-22T18:11:33.633Z"
   },
   {
    "duration": 37,
    "start_time": "2024-01-22T18:11:33.642Z"
   },
   {
    "duration": 7,
    "start_time": "2024-01-22T18:11:33.681Z"
   },
   {
    "duration": 10,
    "start_time": "2024-01-22T18:11:33.689Z"
   },
   {
    "duration": 17,
    "start_time": "2024-01-22T18:11:33.700Z"
   },
   {
    "duration": 60,
    "start_time": "2024-01-22T18:11:33.719Z"
   },
   {
    "duration": 4,
    "start_time": "2024-01-22T18:11:33.781Z"
   },
   {
    "duration": 29,
    "start_time": "2024-01-22T18:11:33.787Z"
   },
   {
    "duration": 26,
    "start_time": "2024-01-22T18:11:33.818Z"
   },
   {
    "duration": 15,
    "start_time": "2024-01-22T18:11:33.845Z"
   },
   {
    "duration": 5,
    "start_time": "2024-01-22T18:11:33.862Z"
   },
   {
    "duration": 222,
    "start_time": "2024-01-22T18:11:33.868Z"
   },
   {
    "duration": 351,
    "start_time": "2024-01-22T18:11:34.092Z"
   },
   {
    "duration": 35,
    "start_time": "2024-01-22T18:11:34.445Z"
   },
   {
    "duration": 373,
    "start_time": "2024-01-22T18:11:34.482Z"
   },
   {
    "duration": 29,
    "start_time": "2024-01-22T18:11:34.857Z"
   },
   {
    "duration": 338,
    "start_time": "2024-01-22T18:11:34.890Z"
   },
   {
    "duration": 30,
    "start_time": "2024-01-22T18:11:35.230Z"
   },
   {
    "duration": 343,
    "start_time": "2024-01-22T18:11:35.273Z"
   },
   {
    "duration": 25,
    "start_time": "2024-01-22T18:11:35.617Z"
   },
   {
    "duration": 556,
    "start_time": "2024-01-22T18:11:35.644Z"
   },
   {
    "duration": 23,
    "start_time": "2024-01-22T18:11:36.202Z"
   },
   {
    "duration": 432,
    "start_time": "2024-01-22T18:11:36.227Z"
   },
   {
    "duration": 13,
    "start_time": "2024-01-22T18:11:36.660Z"
   },
   {
    "duration": 22,
    "start_time": "2024-01-22T18:11:36.675Z"
   },
   {
    "duration": 436,
    "start_time": "2024-01-22T18:11:36.699Z"
   },
   {
    "duration": 19,
    "start_time": "2024-01-22T18:11:37.137Z"
   },
   {
    "duration": 149,
    "start_time": "2024-01-22T18:11:37.157Z"
   },
   {
    "duration": 1885,
    "start_time": "2024-01-22T18:11:37.307Z"
   },
   {
    "duration": 8,
    "start_time": "2024-01-22T18:11:39.193Z"
   },
   {
    "duration": 8,
    "start_time": "2024-01-22T18:11:39.202Z"
   },
   {
    "duration": 15,
    "start_time": "2024-01-22T18:11:39.211Z"
   },
   {
    "duration": 10,
    "start_time": "2024-01-22T18:11:39.228Z"
   },
   {
    "duration": 41,
    "start_time": "2024-01-22T18:11:39.239Z"
   },
   {
    "duration": 6,
    "start_time": "2024-01-22T18:12:17.437Z"
   },
   {
    "duration": 24,
    "start_time": "2024-01-22T18:12:19.838Z"
   },
   {
    "duration": 351,
    "start_time": "2024-01-22T18:12:25.354Z"
   },
   {
    "duration": 1703,
    "start_time": "2024-01-22T18:12:39.234Z"
   },
   {
    "duration": 1641,
    "start_time": "2024-01-22T18:12:50.384Z"
   },
   {
    "duration": 25,
    "start_time": "2024-01-22T18:13:34.568Z"
   },
   {
    "duration": 8,
    "start_time": "2024-01-22T18:17:20.130Z"
   },
   {
    "duration": 6,
    "start_time": "2024-01-22T18:17:31.000Z"
   },
   {
    "duration": 1163,
    "start_time": "2024-01-22T18:17:46.971Z"
   },
   {
    "duration": 42,
    "start_time": "2024-01-22T18:17:48.136Z"
   },
   {
    "duration": 17,
    "start_time": "2024-01-22T18:17:48.179Z"
   },
   {
    "duration": 30,
    "start_time": "2024-01-22T18:17:48.198Z"
   },
   {
    "duration": 3,
    "start_time": "2024-01-22T18:17:48.230Z"
   },
   {
    "duration": 29,
    "start_time": "2024-01-22T18:17:48.234Z"
   },
   {
    "duration": 12,
    "start_time": "2024-01-22T18:17:48.264Z"
   },
   {
    "duration": 16,
    "start_time": "2024-01-22T18:17:48.277Z"
   },
   {
    "duration": 16,
    "start_time": "2024-01-22T18:17:48.294Z"
   },
   {
    "duration": 10,
    "start_time": "2024-01-22T18:17:48.313Z"
   },
   {
    "duration": 25,
    "start_time": "2024-01-22T18:17:48.325Z"
   },
   {
    "duration": 12,
    "start_time": "2024-01-22T18:17:48.351Z"
   },
   {
    "duration": 15,
    "start_time": "2024-01-22T18:17:48.365Z"
   },
   {
    "duration": 9,
    "start_time": "2024-01-22T18:17:48.382Z"
   },
   {
    "duration": 10,
    "start_time": "2024-01-22T18:17:48.393Z"
   },
   {
    "duration": 21,
    "start_time": "2024-01-22T18:17:48.405Z"
   },
   {
    "duration": 64,
    "start_time": "2024-01-22T18:17:48.427Z"
   },
   {
    "duration": 5,
    "start_time": "2024-01-22T18:17:48.492Z"
   },
   {
    "duration": 4,
    "start_time": "2024-01-22T18:17:48.498Z"
   },
   {
    "duration": 23,
    "start_time": "2024-01-22T18:17:48.503Z"
   },
   {
    "duration": 15,
    "start_time": "2024-01-22T18:17:48.527Z"
   },
   {
    "duration": 34,
    "start_time": "2024-01-22T18:17:48.543Z"
   },
   {
    "duration": 211,
    "start_time": "2024-01-22T18:17:48.578Z"
   },
   {
    "duration": 361,
    "start_time": "2024-01-22T18:17:48.791Z"
   },
   {
    "duration": 36,
    "start_time": "2024-01-22T18:17:49.154Z"
   },
   {
    "duration": 413,
    "start_time": "2024-01-22T18:17:49.191Z"
   },
   {
    "duration": 19,
    "start_time": "2024-01-22T18:17:49.606Z"
   },
   {
    "duration": 345,
    "start_time": "2024-01-22T18:17:49.629Z"
   },
   {
    "duration": 29,
    "start_time": "2024-01-22T18:17:49.976Z"
   },
   {
    "duration": 339,
    "start_time": "2024-01-22T18:17:50.007Z"
   },
   {
    "duration": 33,
    "start_time": "2024-01-22T18:17:50.348Z"
   },
   {
    "duration": 590,
    "start_time": "2024-01-22T18:17:50.383Z"
   },
   {
    "duration": 24,
    "start_time": "2024-01-22T18:17:50.974Z"
   },
   {
    "duration": 452,
    "start_time": "2024-01-22T18:17:51.000Z"
   },
   {
    "duration": 36,
    "start_time": "2024-01-22T18:17:51.453Z"
   },
   {
    "duration": 428,
    "start_time": "2024-01-22T18:17:51.490Z"
   },
   {
    "duration": 19,
    "start_time": "2024-01-22T18:17:51.920Z"
   },
   {
    "duration": 154,
    "start_time": "2024-01-22T18:17:51.940Z"
   },
   {
    "duration": 1770,
    "start_time": "2024-01-22T18:17:52.095Z"
   },
   {
    "duration": 13,
    "start_time": "2024-01-22T18:17:53.866Z"
   },
   {
    "duration": 9,
    "start_time": "2024-01-22T18:17:53.881Z"
   },
   {
    "duration": 15,
    "start_time": "2024-01-22T18:17:53.891Z"
   },
   {
    "duration": 11,
    "start_time": "2024-01-22T18:17:53.908Z"
   },
   {
    "duration": 13,
    "start_time": "2024-01-22T18:17:53.920Z"
   },
   {
    "duration": 118,
    "start_time": "2024-01-22T18:19:08.780Z"
   },
   {
    "duration": 25,
    "start_time": "2024-01-22T18:19:22.320Z"
   },
   {
    "duration": 26,
    "start_time": "2024-01-22T18:19:41.466Z"
   },
   {
    "duration": 1606,
    "start_time": "2024-01-22T18:20:25.365Z"
   },
   {
    "duration": 23,
    "start_time": "2024-01-22T18:20:40.334Z"
   },
   {
    "duration": 31,
    "start_time": "2024-01-22T18:20:53.861Z"
   },
   {
    "duration": 41,
    "start_time": "2024-01-22T18:21:00.137Z"
   },
   {
    "duration": 24,
    "start_time": "2024-01-22T18:22:53.783Z"
   },
   {
    "duration": 24,
    "start_time": "2024-01-22T18:23:20.208Z"
   },
   {
    "duration": 24,
    "start_time": "2024-01-22T18:23:30.948Z"
   },
   {
    "duration": 126,
    "start_time": "2024-01-22T19:14:16.765Z"
   },
   {
    "duration": 1724,
    "start_time": "2024-01-22T19:14:21.193Z"
   },
   {
    "duration": 5,
    "start_time": "2024-01-22T19:14:36.525Z"
   },
   {
    "duration": 26,
    "start_time": "2024-01-22T19:14:39.512Z"
   },
   {
    "duration": 27,
    "start_time": "2024-01-22T19:15:01.232Z"
   },
   {
    "duration": 19,
    "start_time": "2024-01-22T19:15:24.436Z"
   },
   {
    "duration": 19,
    "start_time": "2024-01-22T19:15:50.826Z"
   },
   {
    "duration": 8,
    "start_time": "2024-01-22T19:16:13.683Z"
   },
   {
    "duration": 1180,
    "start_time": "2024-01-22T19:16:26.148Z"
   },
   {
    "duration": 43,
    "start_time": "2024-01-22T19:16:27.330Z"
   },
   {
    "duration": 18,
    "start_time": "2024-01-22T19:16:27.375Z"
   },
   {
    "duration": 43,
    "start_time": "2024-01-22T19:16:27.395Z"
   },
   {
    "duration": 10,
    "start_time": "2024-01-22T19:16:27.439Z"
   },
   {
    "duration": 33,
    "start_time": "2024-01-22T19:16:27.451Z"
   },
   {
    "duration": 15,
    "start_time": "2024-01-22T19:16:27.486Z"
   },
   {
    "duration": 12,
    "start_time": "2024-01-22T19:16:27.502Z"
   },
   {
    "duration": 22,
    "start_time": "2024-01-22T19:16:27.516Z"
   },
   {
    "duration": 9,
    "start_time": "2024-01-22T19:16:27.540Z"
   },
   {
    "duration": 22,
    "start_time": "2024-01-22T19:16:27.550Z"
   },
   {
    "duration": 7,
    "start_time": "2024-01-22T19:16:27.574Z"
   },
   {
    "duration": 10,
    "start_time": "2024-01-22T19:16:27.583Z"
   },
   {
    "duration": 15,
    "start_time": "2024-01-22T19:16:27.594Z"
   },
   {
    "duration": 8,
    "start_time": "2024-01-22T19:16:27.610Z"
   },
   {
    "duration": 31,
    "start_time": "2024-01-22T19:16:27.619Z"
   },
   {
    "duration": 47,
    "start_time": "2024-01-22T19:16:27.652Z"
   },
   {
    "duration": 5,
    "start_time": "2024-01-22T19:16:27.701Z"
   },
   {
    "duration": 22,
    "start_time": "2024-01-22T19:16:27.707Z"
   },
   {
    "duration": 31,
    "start_time": "2024-01-22T19:16:27.731Z"
   },
   {
    "duration": 31,
    "start_time": "2024-01-22T19:16:27.764Z"
   },
   {
    "duration": 16,
    "start_time": "2024-01-22T19:16:27.797Z"
   },
   {
    "duration": 227,
    "start_time": "2024-01-22T19:16:27.815Z"
   },
   {
    "duration": 336,
    "start_time": "2024-01-22T19:16:28.044Z"
   },
   {
    "duration": 27,
    "start_time": "2024-01-22T19:16:28.381Z"
   },
   {
    "duration": 430,
    "start_time": "2024-01-22T19:16:28.409Z"
   },
   {
    "duration": 20,
    "start_time": "2024-01-22T19:16:28.841Z"
   },
   {
    "duration": 367,
    "start_time": "2024-01-22T19:16:28.873Z"
   },
   {
    "duration": 41,
    "start_time": "2024-01-22T19:16:29.241Z"
   },
   {
    "duration": 324,
    "start_time": "2024-01-22T19:16:29.283Z"
   },
   {
    "duration": 23,
    "start_time": "2024-01-22T19:16:29.609Z"
   },
   {
    "duration": 558,
    "start_time": "2024-01-22T19:16:29.634Z"
   },
   {
    "duration": 24,
    "start_time": "2024-01-22T19:16:30.193Z"
   },
   {
    "duration": 428,
    "start_time": "2024-01-22T19:16:30.219Z"
   },
   {
    "duration": 1755,
    "start_time": "2024-01-22T19:16:30.649Z"
   },
   {
    "duration": 0,
    "start_time": "2024-01-22T19:16:32.405Z"
   },
   {
    "duration": 0,
    "start_time": "2024-01-22T19:16:32.407Z"
   },
   {
    "duration": 0,
    "start_time": "2024-01-22T19:16:32.408Z"
   },
   {
    "duration": 0,
    "start_time": "2024-01-22T19:16:32.409Z"
   },
   {
    "duration": 0,
    "start_time": "2024-01-22T19:16:32.410Z"
   },
   {
    "duration": 0,
    "start_time": "2024-01-22T19:16:32.411Z"
   },
   {
    "duration": 0,
    "start_time": "2024-01-22T19:16:32.412Z"
   },
   {
    "duration": 0,
    "start_time": "2024-01-22T19:16:32.413Z"
   },
   {
    "duration": 0,
    "start_time": "2024-01-22T19:16:32.414Z"
   },
   {
    "duration": 26,
    "start_time": "2024-01-22T19:21:28.993Z"
   },
   {
    "duration": 1611,
    "start_time": "2024-01-22T19:22:10.106Z"
   },
   {
    "duration": 18,
    "start_time": "2024-01-22T19:22:29.588Z"
   },
   {
    "duration": 24,
    "start_time": "2024-01-22T19:22:51.338Z"
   },
   {
    "duration": 376,
    "start_time": "2024-01-22T19:22:54.858Z"
   },
   {
    "duration": 19,
    "start_time": "2024-01-22T19:24:23.742Z"
   },
   {
    "duration": 131,
    "start_time": "2024-01-22T19:24:25.824Z"
   },
   {
    "duration": 353,
    "start_time": "2024-01-22T19:25:48.690Z"
   },
   {
    "duration": 15,
    "start_time": "2024-01-22T19:26:45.242Z"
   },
   {
    "duration": 18,
    "start_time": "2024-01-22T19:26:53.536Z"
   },
   {
    "duration": 21,
    "start_time": "2024-01-22T19:27:04.695Z"
   },
   {
    "duration": 350,
    "start_time": "2024-01-22T19:27:05.460Z"
   },
   {
    "duration": 5969,
    "start_time": "2024-01-22T19:31:00.419Z"
   },
   {
    "duration": 6215,
    "start_time": "2024-01-22T19:34:12.037Z"
   },
   {
    "duration": 1011,
    "start_time": "2024-01-22T19:38:25.215Z"
   },
   {
    "duration": 5692,
    "start_time": "2024-01-22T20:43:16.829Z"
   },
   {
    "duration": 1460,
    "start_time": "2024-01-22T20:47:02.850Z"
   },
   {
    "duration": 16,
    "start_time": "2024-01-22T21:02:36.488Z"
   },
   {
    "duration": 25,
    "start_time": "2024-01-22T21:05:27.138Z"
   },
   {
    "duration": 25,
    "start_time": "2024-01-22T21:06:20.852Z"
   },
   {
    "duration": 25,
    "start_time": "2024-01-22T21:06:50.396Z"
   },
   {
    "duration": 6,
    "start_time": "2024-01-22T21:07:01.104Z"
   },
   {
    "duration": 1127,
    "start_time": "2024-01-22T21:07:08.265Z"
   },
   {
    "duration": 24,
    "start_time": "2024-01-22T21:17:50.613Z"
   },
   {
    "duration": 18,
    "start_time": "2024-01-22T21:19:01.412Z"
   },
   {
    "duration": 26,
    "start_time": "2024-01-22T21:19:34.467Z"
   },
   {
    "duration": 1144,
    "start_time": "2024-01-22T21:20:19.195Z"
   },
   {
    "duration": 43,
    "start_time": "2024-01-22T21:20:20.341Z"
   },
   {
    "duration": 20,
    "start_time": "2024-01-22T21:20:20.385Z"
   },
   {
    "duration": 17,
    "start_time": "2024-01-22T21:20:20.408Z"
   },
   {
    "duration": 7,
    "start_time": "2024-01-22T21:20:20.426Z"
   },
   {
    "duration": 29,
    "start_time": "2024-01-22T21:20:20.434Z"
   },
   {
    "duration": 17,
    "start_time": "2024-01-22T21:20:20.465Z"
   },
   {
    "duration": 6,
    "start_time": "2024-01-22T21:20:20.483Z"
   },
   {
    "duration": 16,
    "start_time": "2024-01-22T21:20:20.491Z"
   },
   {
    "duration": 25,
    "start_time": "2024-01-22T21:20:20.509Z"
   },
   {
    "duration": 10,
    "start_time": "2024-01-22T21:20:20.535Z"
   },
   {
    "duration": 11,
    "start_time": "2024-01-22T21:20:20.547Z"
   },
   {
    "duration": 19,
    "start_time": "2024-01-22T21:20:20.559Z"
   },
   {
    "duration": 7,
    "start_time": "2024-01-22T21:20:20.579Z"
   },
   {
    "duration": 7,
    "start_time": "2024-01-22T21:20:20.587Z"
   },
   {
    "duration": 13,
    "start_time": "2024-01-22T21:20:20.595Z"
   },
   {
    "duration": 42,
    "start_time": "2024-01-22T21:20:20.609Z"
   },
   {
    "duration": 7,
    "start_time": "2024-01-22T21:20:20.677Z"
   },
   {
    "duration": 12,
    "start_time": "2024-01-22T21:20:20.685Z"
   },
   {
    "duration": 24,
    "start_time": "2024-01-22T21:20:20.698Z"
   },
   {
    "duration": 16,
    "start_time": "2024-01-22T21:20:20.723Z"
   },
   {
    "duration": 5,
    "start_time": "2024-01-22T21:20:20.740Z"
   },
   {
    "duration": 358,
    "start_time": "2024-01-22T21:20:20.746Z"
   },
   {
    "duration": 27,
    "start_time": "2024-01-22T21:20:21.106Z"
   },
   {
    "duration": 403,
    "start_time": "2024-01-22T21:20:21.134Z"
   },
   {
    "duration": 19,
    "start_time": "2024-01-22T21:20:21.539Z"
   },
   {
    "duration": 346,
    "start_time": "2024-01-22T21:20:21.572Z"
   },
   {
    "duration": 28,
    "start_time": "2024-01-22T21:20:21.922Z"
   },
   {
    "duration": 335,
    "start_time": "2024-01-22T21:20:21.951Z"
   },
   {
    "duration": 25,
    "start_time": "2024-01-22T21:20:22.288Z"
   },
   {
    "duration": 564,
    "start_time": "2024-01-22T21:20:22.315Z"
   },
   {
    "duration": 24,
    "start_time": "2024-01-22T21:20:22.882Z"
   },
   {
    "duration": 435,
    "start_time": "2024-01-22T21:20:22.908Z"
   },
   {
    "duration": 31,
    "start_time": "2024-01-22T21:20:23.345Z"
   },
   {
    "duration": 26,
    "start_time": "2024-01-22T21:20:23.378Z"
   },
   {
    "duration": 337,
    "start_time": "2024-01-22T21:20:23.405Z"
   },
   {
    "duration": 18,
    "start_time": "2024-01-22T21:20:23.772Z"
   },
   {
    "duration": 21,
    "start_time": "2024-01-22T21:20:23.791Z"
   },
   {
    "duration": 429,
    "start_time": "2024-01-22T21:20:23.813Z"
   },
   {
    "duration": 5757,
    "start_time": "2024-01-22T21:20:24.244Z"
   },
   {
    "duration": 700,
    "start_time": "2024-01-22T21:20:30.003Z"
   },
   {
    "duration": 5,
    "start_time": "2024-01-22T21:20:30.704Z"
   },
   {
    "duration": 61,
    "start_time": "2024-01-22T21:20:30.711Z"
   },
   {
    "duration": 1425,
    "start_time": "2024-01-22T21:20:30.773Z"
   },
   {
    "duration": 8,
    "start_time": "2024-01-22T21:20:32.200Z"
   },
   {
    "duration": 15,
    "start_time": "2024-01-22T21:20:32.209Z"
   },
   {
    "duration": 45,
    "start_time": "2024-01-22T21:20:32.226Z"
   },
   {
    "duration": 14,
    "start_time": "2024-01-22T21:20:32.272Z"
   },
   {
    "duration": 14,
    "start_time": "2024-01-22T21:20:32.288Z"
   },
   {
    "duration": 23,
    "start_time": "2024-01-22T21:21:36.975Z"
   },
   {
    "duration": 28,
    "start_time": "2024-01-22T22:17:23.578Z"
   },
   {
    "duration": 25,
    "start_time": "2024-01-22T22:17:28.486Z"
   },
   {
    "duration": 21,
    "start_time": "2024-01-22T23:01:55.372Z"
   },
   {
    "duration": 25,
    "start_time": "2024-01-22T23:02:47.428Z"
   },
   {
    "duration": 24,
    "start_time": "2024-01-22T23:06:43.332Z"
   },
   {
    "duration": 39,
    "start_time": "2024-01-22T23:20:31.180Z"
   },
   {
    "duration": 44,
    "start_time": "2024-01-22T23:20:40.741Z"
   },
   {
    "duration": 500,
    "start_time": "2024-01-22T23:21:47.226Z"
   },
   {
    "duration": 460,
    "start_time": "2024-01-22T23:22:10.451Z"
   },
   {
    "duration": 23,
    "start_time": "2024-01-22T23:22:19.597Z"
   },
   {
    "duration": 43,
    "start_time": "2024-01-22T23:23:24.644Z"
   },
   {
    "duration": 72,
    "start_time": "2024-01-22T23:38:05.907Z"
   },
   {
    "duration": 83,
    "start_time": "2024-01-22T23:38:20.629Z"
   },
   {
    "duration": 73,
    "start_time": "2024-01-22T23:38:31.447Z"
   },
   {
    "duration": 80,
    "start_time": "2024-01-22T23:38:41.462Z"
   },
   {
    "duration": 79,
    "start_time": "2024-01-22T23:38:54.366Z"
   },
   {
    "duration": 90,
    "start_time": "2024-01-22T23:39:55.310Z"
   },
   {
    "duration": 74,
    "start_time": "2024-01-22T23:40:34.645Z"
   },
   {
    "duration": 90,
    "start_time": "2024-01-22T23:41:30.019Z"
   },
   {
    "duration": 45,
    "start_time": "2024-01-22T23:42:13.442Z"
   },
   {
    "duration": 80,
    "start_time": "2024-01-22T23:42:47.465Z"
   },
   {
    "duration": 1174,
    "start_time": "2024-01-22T23:43:31.549Z"
   },
   {
    "duration": 43,
    "start_time": "2024-01-22T23:43:32.724Z"
   },
   {
    "duration": 20,
    "start_time": "2024-01-22T23:43:32.768Z"
   },
   {
    "duration": 12,
    "start_time": "2024-01-22T23:43:32.790Z"
   },
   {
    "duration": 4,
    "start_time": "2024-01-22T23:43:32.803Z"
   },
   {
    "duration": 29,
    "start_time": "2024-01-22T23:43:32.808Z"
   },
   {
    "duration": 12,
    "start_time": "2024-01-22T23:43:32.839Z"
   },
   {
    "duration": 25,
    "start_time": "2024-01-22T23:43:32.853Z"
   },
   {
    "duration": 26,
    "start_time": "2024-01-22T23:43:32.879Z"
   },
   {
    "duration": 8,
    "start_time": "2024-01-22T23:43:32.908Z"
   },
   {
    "duration": 8,
    "start_time": "2024-01-22T23:43:32.917Z"
   },
   {
    "duration": 7,
    "start_time": "2024-01-22T23:43:32.926Z"
   },
   {
    "duration": 7,
    "start_time": "2024-01-22T23:43:32.935Z"
   },
   {
    "duration": 31,
    "start_time": "2024-01-22T23:43:32.943Z"
   },
   {
    "duration": 10,
    "start_time": "2024-01-22T23:43:32.975Z"
   },
   {
    "duration": 7,
    "start_time": "2024-01-22T23:43:32.987Z"
   },
   {
    "duration": 41,
    "start_time": "2024-01-22T23:43:32.995Z"
   },
   {
    "duration": 4,
    "start_time": "2024-01-22T23:43:33.037Z"
   },
   {
    "duration": 30,
    "start_time": "2024-01-22T23:43:33.043Z"
   },
   {
    "duration": 23,
    "start_time": "2024-01-22T23:43:33.074Z"
   },
   {
    "duration": 15,
    "start_time": "2024-01-22T23:43:33.098Z"
   },
   {
    "duration": 4,
    "start_time": "2024-01-22T23:43:33.114Z"
   },
   {
    "duration": 378,
    "start_time": "2024-01-22T23:43:33.119Z"
   },
   {
    "duration": 29,
    "start_time": "2024-01-22T23:43:33.499Z"
   },
   {
    "duration": 415,
    "start_time": "2024-01-22T23:43:33.530Z"
   },
   {
    "duration": 32,
    "start_time": "2024-01-22T23:43:33.946Z"
   },
   {
    "duration": 346,
    "start_time": "2024-01-22T23:43:33.980Z"
   },
   {
    "duration": 27,
    "start_time": "2024-01-22T23:43:34.329Z"
   },
   {
    "duration": 337,
    "start_time": "2024-01-22T23:43:34.357Z"
   },
   {
    "duration": 23,
    "start_time": "2024-01-22T23:43:34.696Z"
   },
   {
    "duration": 556,
    "start_time": "2024-01-22T23:43:34.721Z"
   },
   {
    "duration": 24,
    "start_time": "2024-01-22T23:43:35.278Z"
   },
   {
    "duration": 440,
    "start_time": "2024-01-22T23:43:35.303Z"
   },
   {
    "duration": 30,
    "start_time": "2024-01-22T23:43:35.744Z"
   },
   {
    "duration": 25,
    "start_time": "2024-01-22T23:43:35.775Z"
   },
   {
    "duration": 339,
    "start_time": "2024-01-22T23:43:35.802Z"
   },
   {
    "duration": 18,
    "start_time": "2024-01-22T23:43:36.143Z"
   },
   {
    "duration": 37,
    "start_time": "2024-01-22T23:43:36.173Z"
   },
   {
    "duration": 409,
    "start_time": "2024-01-22T23:43:36.212Z"
   },
   {
    "duration": 6005,
    "start_time": "2024-01-22T23:43:36.623Z"
   },
   {
    "duration": 696,
    "start_time": "2024-01-22T23:43:42.630Z"
   },
   {
    "duration": 4,
    "start_time": "2024-01-22T23:43:43.328Z"
   },
   {
    "duration": 29,
    "start_time": "2024-01-22T23:43:43.333Z"
   },
   {
    "duration": 1460,
    "start_time": "2024-01-22T23:43:43.364Z"
   },
   {
    "duration": 81,
    "start_time": "2024-01-22T23:43:44.825Z"
   },
   {
    "duration": 0,
    "start_time": "2024-01-22T23:43:44.907Z"
   },
   {
    "duration": 0,
    "start_time": "2024-01-22T23:43:44.909Z"
   },
   {
    "duration": 0,
    "start_time": "2024-01-22T23:43:44.910Z"
   },
   {
    "duration": 0,
    "start_time": "2024-01-22T23:43:44.911Z"
   },
   {
    "duration": 0,
    "start_time": "2024-01-22T23:43:44.912Z"
   },
   {
    "duration": 0,
    "start_time": "2024-01-22T23:43:44.913Z"
   },
   {
    "duration": 49,
    "start_time": "2024-01-22T23:44:54.674Z"
   },
   {
    "duration": 43,
    "start_time": "2024-01-22T23:44:59.600Z"
   },
   {
    "duration": 43,
    "start_time": "2024-01-22T23:45:21.723Z"
   },
   {
    "duration": 51,
    "start_time": "2024-01-22T23:45:57.151Z"
   },
   {
    "duration": 1710,
    "start_time": "2024-01-22T23:48:41.383Z"
   },
   {
    "duration": 53,
    "start_time": "2024-01-22T23:50:02.093Z"
   },
   {
    "duration": 51,
    "start_time": "2024-01-22T23:53:46.283Z"
   },
   {
    "duration": 14,
    "start_time": "2024-01-22T23:55:31.952Z"
   },
   {
    "duration": 13,
    "start_time": "2024-01-22T23:55:39.644Z"
   },
   {
    "duration": 23,
    "start_time": "2024-01-22T23:55:49.178Z"
   },
   {
    "duration": 82,
    "start_time": "2024-01-22T23:56:53.838Z"
   },
   {
    "duration": 71,
    "start_time": "2024-01-22T23:56:59.760Z"
   },
   {
    "duration": 76,
    "start_time": "2024-01-22T23:57:03.361Z"
   },
   {
    "duration": 80,
    "start_time": "2024-01-22T23:57:16.118Z"
   },
   {
    "duration": 3,
    "start_time": "2024-01-22T23:58:41.235Z"
   },
   {
    "duration": 53,
    "start_time": "2024-01-23T00:02:53.143Z"
   },
   {
    "duration": 51,
    "start_time": "2024-01-23T00:08:14.990Z"
   },
   {
    "duration": 1748,
    "start_time": "2024-01-23T00:08:44.305Z"
   },
   {
    "duration": 53,
    "start_time": "2024-01-23T00:08:52.104Z"
   },
   {
    "duration": 57,
    "start_time": "2024-01-23T00:12:17.678Z"
   },
   {
    "duration": 1923,
    "start_time": "2024-01-23T00:13:21.512Z"
   },
   {
    "duration": 54,
    "start_time": "2024-01-23T00:13:35.251Z"
   },
   {
    "duration": 56,
    "start_time": "2024-01-23T00:16:10.452Z"
   },
   {
    "duration": 10,
    "start_time": "2024-01-23T00:18:31.374Z"
   },
   {
    "duration": 10,
    "start_time": "2024-01-23T00:18:38.037Z"
   },
   {
    "duration": 1898,
    "start_time": "2024-01-23T00:19:20.829Z"
   },
   {
    "duration": 9,
    "start_time": "2024-01-23T00:19:54.713Z"
   },
   {
    "duration": 9,
    "start_time": "2024-01-23T00:20:13.770Z"
   },
   {
    "duration": 11,
    "start_time": "2024-01-23T00:20:24.073Z"
   },
   {
    "duration": 1193,
    "start_time": "2024-01-23T00:20:35.430Z"
   },
   {
    "duration": 43,
    "start_time": "2024-01-23T00:20:36.625Z"
   },
   {
    "duration": 19,
    "start_time": "2024-01-23T00:20:36.669Z"
   },
   {
    "duration": 13,
    "start_time": "2024-01-23T00:20:36.690Z"
   },
   {
    "duration": 12,
    "start_time": "2024-01-23T00:20:36.704Z"
   },
   {
    "duration": 24,
    "start_time": "2024-01-23T00:20:36.717Z"
   },
   {
    "duration": 12,
    "start_time": "2024-01-23T00:20:36.743Z"
   },
   {
    "duration": 20,
    "start_time": "2024-01-23T00:20:36.757Z"
   },
   {
    "duration": 15,
    "start_time": "2024-01-23T00:20:36.778Z"
   },
   {
    "duration": 9,
    "start_time": "2024-01-23T00:20:36.796Z"
   },
   {
    "duration": 18,
    "start_time": "2024-01-23T00:20:36.806Z"
   },
   {
    "duration": 7,
    "start_time": "2024-01-23T00:20:36.826Z"
   },
   {
    "duration": 8,
    "start_time": "2024-01-23T00:20:36.835Z"
   },
   {
    "duration": 34,
    "start_time": "2024-01-23T00:20:36.845Z"
   },
   {
    "duration": 8,
    "start_time": "2024-01-23T00:20:36.886Z"
   },
   {
    "duration": 7,
    "start_time": "2024-01-23T00:20:36.896Z"
   },
   {
    "duration": 43,
    "start_time": "2024-01-23T00:20:36.904Z"
   },
   {
    "duration": 27,
    "start_time": "2024-01-23T00:20:36.949Z"
   },
   {
    "duration": 5,
    "start_time": "2024-01-23T00:20:36.978Z"
   },
   {
    "duration": 26,
    "start_time": "2024-01-23T00:20:36.985Z"
   },
   {
    "duration": 20,
    "start_time": "2024-01-23T00:20:37.013Z"
   },
   {
    "duration": 5,
    "start_time": "2024-01-23T00:20:37.036Z"
   },
   {
    "duration": 337,
    "start_time": "2024-01-23T00:20:37.073Z"
   },
   {
    "duration": 26,
    "start_time": "2024-01-23T00:20:37.411Z"
   },
   {
    "duration": 410,
    "start_time": "2024-01-23T00:20:37.438Z"
   },
   {
    "duration": 28,
    "start_time": "2024-01-23T00:20:37.849Z"
   },
   {
    "duration": 348,
    "start_time": "2024-01-23T00:20:37.879Z"
   },
   {
    "duration": 28,
    "start_time": "2024-01-23T00:20:38.231Z"
   },
   {
    "duration": 343,
    "start_time": "2024-01-23T00:20:38.261Z"
   },
   {
    "duration": 25,
    "start_time": "2024-01-23T00:20:38.605Z"
   },
   {
    "duration": 559,
    "start_time": "2024-01-23T00:20:38.631Z"
   },
   {
    "duration": 24,
    "start_time": "2024-01-23T00:20:39.191Z"
   },
   {
    "duration": 433,
    "start_time": "2024-01-23T00:20:39.216Z"
   },
   {
    "duration": 30,
    "start_time": "2024-01-23T00:20:39.650Z"
   },
   {
    "duration": 26,
    "start_time": "2024-01-23T00:20:39.682Z"
   },
   {
    "duration": 327,
    "start_time": "2024-01-23T00:20:39.709Z"
   },
   {
    "duration": 17,
    "start_time": "2024-01-23T00:20:40.038Z"
   },
   {
    "duration": 38,
    "start_time": "2024-01-23T00:20:40.057Z"
   },
   {
    "duration": 421,
    "start_time": "2024-01-23T00:20:40.097Z"
   },
   {
    "duration": 5858,
    "start_time": "2024-01-23T00:20:40.520Z"
   },
   {
    "duration": 690,
    "start_time": "2024-01-23T00:20:46.380Z"
   },
   {
    "duration": 5,
    "start_time": "2024-01-23T00:20:47.073Z"
   },
   {
    "duration": 27,
    "start_time": "2024-01-23T00:20:47.080Z"
   },
   {
    "duration": 1430,
    "start_time": "2024-01-23T00:20:47.109Z"
   },
   {
    "duration": 2021,
    "start_time": "2024-01-23T00:20:48.540Z"
   },
   {
    "duration": 0,
    "start_time": "2024-01-23T00:20:50.563Z"
   },
   {
    "duration": 0,
    "start_time": "2024-01-23T00:20:50.565Z"
   },
   {
    "duration": 0,
    "start_time": "2024-01-23T00:20:50.567Z"
   },
   {
    "duration": 0,
    "start_time": "2024-01-23T00:20:50.568Z"
   },
   {
    "duration": 0,
    "start_time": "2024-01-23T00:20:50.569Z"
   },
   {
    "duration": 0,
    "start_time": "2024-01-23T00:20:50.571Z"
   },
   {
    "duration": 0,
    "start_time": "2024-01-23T00:20:50.572Z"
   },
   {
    "duration": 52,
    "start_time": "2024-01-23T00:21:00.128Z"
   },
   {
    "duration": 9,
    "start_time": "2024-01-23T00:21:02.559Z"
   },
   {
    "duration": 10,
    "start_time": "2024-01-23T00:21:06.381Z"
   },
   {
    "duration": 6,
    "start_time": "2024-01-23T01:14:11.674Z"
   },
   {
    "duration": 9,
    "start_time": "2024-01-23T01:17:44.732Z"
   },
   {
    "duration": 204,
    "start_time": "2024-01-23T01:18:21.289Z"
   },
   {
    "duration": 163,
    "start_time": "2024-01-23T01:18:29.036Z"
   },
   {
    "duration": 131,
    "start_time": "2024-01-23T01:19:01.703Z"
   },
   {
    "duration": 161,
    "start_time": "2024-01-23T01:20:04.779Z"
   },
   {
    "duration": 141,
    "start_time": "2024-01-23T01:20:36.480Z"
   },
   {
    "duration": 143,
    "start_time": "2024-01-23T01:20:49.178Z"
   },
   {
    "duration": 37,
    "start_time": "2024-01-23T01:21:54.083Z"
   },
   {
    "duration": 9,
    "start_time": "2024-01-23T01:22:09.907Z"
   },
   {
    "duration": 3,
    "start_time": "2024-01-23T01:22:50.119Z"
   },
   {
    "duration": 6,
    "start_time": "2024-01-23T01:22:57.209Z"
   },
   {
    "duration": 5,
    "start_time": "2024-01-23T01:23:24.614Z"
   },
   {
    "duration": 5,
    "start_time": "2024-01-23T01:23:42.683Z"
   },
   {
    "duration": 3,
    "start_time": "2024-01-23T01:26:02.422Z"
   },
   {
    "duration": 6,
    "start_time": "2024-01-23T01:26:09.294Z"
   },
   {
    "duration": 500,
    "start_time": "2024-01-23T01:26:10.079Z"
   },
   {
    "duration": 140,
    "start_time": "2024-01-23T01:26:11.338Z"
   },
   {
    "duration": 8,
    "start_time": "2024-01-23T01:29:47.279Z"
   },
   {
    "duration": 12,
    "start_time": "2024-01-23T01:31:16.538Z"
   },
   {
    "duration": 6,
    "start_time": "2024-01-23T01:34:08.693Z"
   },
   {
    "duration": 143,
    "start_time": "2024-01-23T01:34:22.488Z"
   },
   {
    "duration": 3,
    "start_time": "2024-01-23T01:34:58.928Z"
   },
   {
    "duration": 135,
    "start_time": "2024-01-23T01:35:07.753Z"
   },
   {
    "duration": 1245,
    "start_time": "2024-01-23T01:41:40.269Z"
   },
   {
    "duration": 1222,
    "start_time": "2024-01-23T01:41:57.175Z"
   },
   {
    "duration": 6,
    "start_time": "2024-01-23T01:42:29.092Z"
   },
   {
    "duration": 5,
    "start_time": "2024-01-23T01:42:49.608Z"
   },
   {
    "duration": 10,
    "start_time": "2024-01-23T01:43:31.744Z"
   },
   {
    "duration": 7,
    "start_time": "2024-01-23T01:43:35.605Z"
   },
   {
    "duration": 9,
    "start_time": "2024-01-23T01:48:00.397Z"
   },
   {
    "duration": 10,
    "start_time": "2024-01-23T01:48:16.800Z"
   },
   {
    "duration": 3,
    "start_time": "2024-01-23T01:48:22.698Z"
   },
   {
    "duration": 9,
    "start_time": "2024-01-23T01:48:32.975Z"
   },
   {
    "duration": 138,
    "start_time": "2024-01-23T02:00:17.644Z"
   },
   {
    "duration": 154,
    "start_time": "2024-01-23T02:00:25.944Z"
   },
   {
    "duration": 11,
    "start_time": "2024-01-23T02:01:20.967Z"
   },
   {
    "duration": 8,
    "start_time": "2024-01-23T02:02:57.284Z"
   },
   {
    "duration": 8,
    "start_time": "2024-01-23T02:03:01.525Z"
   },
   {
    "duration": 1450,
    "start_time": "2024-01-23T02:03:10.078Z"
   },
   {
    "duration": 44,
    "start_time": "2024-01-23T02:03:11.530Z"
   },
   {
    "duration": 19,
    "start_time": "2024-01-23T02:03:11.576Z"
   },
   {
    "duration": 14,
    "start_time": "2024-01-23T02:03:11.598Z"
   },
   {
    "duration": 4,
    "start_time": "2024-01-23T02:03:11.613Z"
   },
   {
    "duration": 29,
    "start_time": "2024-01-23T02:03:11.618Z"
   },
   {
    "duration": 34,
    "start_time": "2024-01-23T02:03:11.648Z"
   },
   {
    "duration": 7,
    "start_time": "2024-01-23T02:03:11.683Z"
   },
   {
    "duration": 15,
    "start_time": "2024-01-23T02:03:11.691Z"
   },
   {
    "duration": 8,
    "start_time": "2024-01-23T02:03:11.709Z"
   },
   {
    "duration": 8,
    "start_time": "2024-01-23T02:03:11.719Z"
   },
   {
    "duration": 7,
    "start_time": "2024-01-23T02:03:11.728Z"
   },
   {
    "duration": 41,
    "start_time": "2024-01-23T02:03:11.737Z"
   },
   {
    "duration": 9,
    "start_time": "2024-01-23T02:03:11.779Z"
   },
   {
    "duration": 7,
    "start_time": "2024-01-23T02:03:11.790Z"
   },
   {
    "duration": 24,
    "start_time": "2024-01-23T02:03:11.798Z"
   },
   {
    "duration": 51,
    "start_time": "2024-01-23T02:03:11.823Z"
   },
   {
    "duration": 5,
    "start_time": "2024-01-23T02:03:11.875Z"
   },
   {
    "duration": 4,
    "start_time": "2024-01-23T02:03:11.881Z"
   },
   {
    "duration": 23,
    "start_time": "2024-01-23T02:03:11.886Z"
   },
   {
    "duration": 15,
    "start_time": "2024-01-23T02:03:11.910Z"
   },
   {
    "duration": 4,
    "start_time": "2024-01-23T02:03:11.926Z"
   },
   {
    "duration": 376,
    "start_time": "2024-01-23T02:03:11.932Z"
   },
   {
    "duration": 27,
    "start_time": "2024-01-23T02:03:12.309Z"
   },
   {
    "duration": 413,
    "start_time": "2024-01-23T02:03:12.337Z"
   },
   {
    "duration": 29,
    "start_time": "2024-01-23T02:03:12.752Z"
   },
   {
    "duration": 350,
    "start_time": "2024-01-23T02:03:12.783Z"
   },
   {
    "duration": 38,
    "start_time": "2024-01-23T02:03:13.136Z"
   },
   {
    "duration": 427,
    "start_time": "2024-01-23T02:03:13.175Z"
   },
   {
    "duration": 24,
    "start_time": "2024-01-23T02:03:13.603Z"
   },
   {
    "duration": 576,
    "start_time": "2024-01-23T02:03:13.629Z"
   },
   {
    "duration": 23,
    "start_time": "2024-01-23T02:03:14.206Z"
   },
   {
    "duration": 427,
    "start_time": "2024-01-23T02:03:14.231Z"
   },
   {
    "duration": 26,
    "start_time": "2024-01-23T02:03:14.659Z"
   },
   {
    "duration": 25,
    "start_time": "2024-01-23T02:03:14.686Z"
   },
   {
    "duration": 330,
    "start_time": "2024-01-23T02:03:14.712Z"
   },
   {
    "duration": 42,
    "start_time": "2024-01-23T02:03:15.043Z"
   },
   {
    "duration": 24,
    "start_time": "2024-01-23T02:03:15.087Z"
   },
   {
    "duration": 326,
    "start_time": "2024-01-23T02:03:15.112Z"
   },
   {
    "duration": 5872,
    "start_time": "2024-01-23T02:03:15.440Z"
   },
   {
    "duration": 988,
    "start_time": "2024-01-23T02:03:21.314Z"
   },
   {
    "duration": 5,
    "start_time": "2024-01-23T02:03:22.303Z"
   },
   {
    "duration": 23,
    "start_time": "2024-01-23T02:03:22.310Z"
   },
   {
    "duration": 1511,
    "start_time": "2024-01-23T02:03:22.335Z"
   },
   {
    "duration": 58,
    "start_time": "2024-01-23T02:03:23.848Z"
   },
   {
    "duration": 10,
    "start_time": "2024-01-23T02:03:23.907Z"
   },
   {
    "duration": 12,
    "start_time": "2024-01-23T02:03:23.918Z"
   },
   {
    "duration": 5,
    "start_time": "2024-01-23T02:03:23.931Z"
   },
   {
    "duration": 170,
    "start_time": "2024-01-23T02:03:23.938Z"
   },
   {
    "duration": 148,
    "start_time": "2024-01-23T02:03:24.109Z"
   },
   {
    "duration": 15,
    "start_time": "2024-01-23T02:03:24.258Z"
   },
   {
    "duration": 11,
    "start_time": "2024-01-23T02:03:24.275Z"
   },
   {
    "duration": 11,
    "start_time": "2024-01-23T02:03:24.288Z"
   },
   {
    "duration": 160,
    "start_time": "2024-01-23T02:03:24.300Z"
   },
   {
    "duration": 151,
    "start_time": "2024-01-23T02:03:24.462Z"
   },
   {
    "duration": 10,
    "start_time": "2024-01-23T02:03:24.615Z"
   },
   {
    "duration": 11,
    "start_time": "2024-01-23T02:03:24.627Z"
   },
   {
    "duration": 33,
    "start_time": "2024-01-23T02:03:24.640Z"
   },
   {
    "duration": 10,
    "start_time": "2024-01-23T02:03:24.674Z"
   },
   {
    "duration": 12,
    "start_time": "2024-01-23T02:12:05.151Z"
   },
   {
    "duration": 11,
    "start_time": "2024-01-23T02:13:10.502Z"
   },
   {
    "duration": 12,
    "start_time": "2024-01-23T02:15:15.395Z"
   },
   {
    "duration": 11,
    "start_time": "2024-01-23T02:15:25.729Z"
   },
   {
    "duration": 157,
    "start_time": "2024-01-23T02:16:43.791Z"
   },
   {
    "duration": 69,
    "start_time": "2024-01-23T02:16:48.324Z"
   },
   {
    "duration": 13,
    "start_time": "2024-01-23T02:17:05.480Z"
   },
   {
    "duration": 12,
    "start_time": "2024-01-23T02:17:29.025Z"
   },
   {
    "duration": 13,
    "start_time": "2024-01-23T02:18:20.053Z"
   },
   {
    "duration": 12,
    "start_time": "2024-01-23T02:18:23.089Z"
   },
   {
    "duration": 11,
    "start_time": "2024-01-23T02:21:24.447Z"
   },
   {
    "duration": 12,
    "start_time": "2024-01-23T02:23:07.359Z"
   },
   {
    "duration": 11,
    "start_time": "2024-01-23T02:23:16.824Z"
   },
   {
    "duration": 12,
    "start_time": "2024-01-23T02:24:42.009Z"
   },
   {
    "duration": 12,
    "start_time": "2024-01-23T02:25:13.371Z"
   },
   {
    "duration": 12,
    "start_time": "2024-01-23T02:26:21.091Z"
   },
   {
    "duration": 11,
    "start_time": "2024-01-23T02:26:31.614Z"
   },
   {
    "duration": 1161,
    "start_time": "2024-01-23T02:28:14.590Z"
   },
   {
    "duration": 43,
    "start_time": "2024-01-23T02:28:15.753Z"
   },
   {
    "duration": 19,
    "start_time": "2024-01-23T02:28:15.798Z"
   },
   {
    "duration": 13,
    "start_time": "2024-01-23T02:28:15.819Z"
   },
   {
    "duration": 12,
    "start_time": "2024-01-23T02:28:15.834Z"
   },
   {
    "duration": 30,
    "start_time": "2024-01-23T02:28:15.848Z"
   },
   {
    "duration": 13,
    "start_time": "2024-01-23T02:28:15.879Z"
   },
   {
    "duration": 6,
    "start_time": "2024-01-23T02:28:15.894Z"
   },
   {
    "duration": 16,
    "start_time": "2024-01-23T02:28:15.901Z"
   },
   {
    "duration": 8,
    "start_time": "2024-01-23T02:28:15.919Z"
   },
   {
    "duration": 8,
    "start_time": "2024-01-23T02:28:15.928Z"
   },
   {
    "duration": 37,
    "start_time": "2024-01-23T02:28:15.937Z"
   },
   {
    "duration": 8,
    "start_time": "2024-01-23T02:28:15.975Z"
   },
   {
    "duration": 6,
    "start_time": "2024-01-23T02:28:15.985Z"
   },
   {
    "duration": 7,
    "start_time": "2024-01-23T02:28:15.992Z"
   },
   {
    "duration": 12,
    "start_time": "2024-01-23T02:28:16.000Z"
   },
   {
    "duration": 72,
    "start_time": "2024-01-23T02:28:16.014Z"
   },
   {
    "duration": 7,
    "start_time": "2024-01-23T02:28:16.087Z"
   },
   {
    "duration": 9,
    "start_time": "2024-01-23T02:28:16.095Z"
   },
   {
    "duration": 24,
    "start_time": "2024-01-23T02:28:16.105Z"
   },
   {
    "duration": 17,
    "start_time": "2024-01-23T02:28:16.130Z"
   },
   {
    "duration": 28,
    "start_time": "2024-01-23T02:28:16.148Z"
   },
   {
    "duration": 345,
    "start_time": "2024-01-23T02:28:16.178Z"
   },
   {
    "duration": 26,
    "start_time": "2024-01-23T02:28:16.525Z"
   },
   {
    "duration": 393,
    "start_time": "2024-01-23T02:28:16.553Z"
   },
   {
    "duration": 28,
    "start_time": "2024-01-23T02:28:16.948Z"
   },
   {
    "duration": 355,
    "start_time": "2024-01-23T02:28:16.977Z"
   },
   {
    "duration": 39,
    "start_time": "2024-01-23T02:28:17.335Z"
   },
   {
    "duration": 331,
    "start_time": "2024-01-23T02:28:17.375Z"
   },
   {
    "duration": 24,
    "start_time": "2024-01-23T02:28:17.707Z"
   },
   {
    "duration": 550,
    "start_time": "2024-01-23T02:28:17.733Z"
   },
   {
    "duration": 23,
    "start_time": "2024-01-23T02:28:18.285Z"
   },
   {
    "duration": 444,
    "start_time": "2024-01-23T02:28:18.310Z"
   },
   {
    "duration": 29,
    "start_time": "2024-01-23T02:28:18.756Z"
   },
   {
    "duration": 24,
    "start_time": "2024-01-23T02:28:18.786Z"
   },
   {
    "duration": 327,
    "start_time": "2024-01-23T02:28:18.812Z"
   },
   {
    "duration": 38,
    "start_time": "2024-01-23T02:28:19.141Z"
   },
   {
    "duration": 26,
    "start_time": "2024-01-23T02:28:19.181Z"
   },
   {
    "duration": 413,
    "start_time": "2024-01-23T02:28:19.209Z"
   },
   {
    "duration": 5801,
    "start_time": "2024-01-23T02:28:19.624Z"
   },
   {
    "duration": 671,
    "start_time": "2024-01-23T02:28:25.427Z"
   },
   {
    "duration": 4,
    "start_time": "2024-01-23T02:28:26.100Z"
   },
   {
    "duration": 21,
    "start_time": "2024-01-23T02:28:26.106Z"
   },
   {
    "duration": 1497,
    "start_time": "2024-01-23T02:28:26.128Z"
   },
   {
    "duration": 58,
    "start_time": "2024-01-23T02:28:27.627Z"
   },
   {
    "duration": 8,
    "start_time": "2024-01-23T02:28:27.687Z"
   },
   {
    "duration": 11,
    "start_time": "2024-01-23T02:28:27.697Z"
   },
   {
    "duration": 8,
    "start_time": "2024-01-23T02:28:27.710Z"
   },
   {
    "duration": 163,
    "start_time": "2024-01-23T02:28:27.719Z"
   },
   {
    "duration": 151,
    "start_time": "2024-01-23T02:28:27.884Z"
   },
   {
    "duration": 8,
    "start_time": "2024-01-23T02:28:28.036Z"
   },
   {
    "duration": 11,
    "start_time": "2024-01-23T02:28:28.046Z"
   },
   {
    "duration": 19,
    "start_time": "2024-01-23T02:28:28.058Z"
   },
   {
    "duration": 145,
    "start_time": "2024-01-23T02:28:28.079Z"
   },
   {
    "duration": 156,
    "start_time": "2024-01-23T02:28:28.226Z"
   },
   {
    "duration": 11,
    "start_time": "2024-01-23T02:28:28.384Z"
   },
   {
    "duration": 12,
    "start_time": "2024-01-23T02:28:28.397Z"
   },
   {
    "duration": 11,
    "start_time": "2024-01-23T02:28:28.410Z"
   },
   {
    "duration": 11,
    "start_time": "2024-01-23T02:28:28.423Z"
   },
   {
    "duration": 1177,
    "start_time": "2024-01-23T02:28:44.839Z"
   },
   {
    "duration": 42,
    "start_time": "2024-01-23T02:28:46.018Z"
   },
   {
    "duration": 22,
    "start_time": "2024-01-23T02:28:46.062Z"
   },
   {
    "duration": 13,
    "start_time": "2024-01-23T02:28:46.087Z"
   },
   {
    "duration": 4,
    "start_time": "2024-01-23T02:28:46.102Z"
   },
   {
    "duration": 26,
    "start_time": "2024-01-23T02:28:46.107Z"
   },
   {
    "duration": 13,
    "start_time": "2024-01-23T02:28:46.135Z"
   },
   {
    "duration": 28,
    "start_time": "2024-01-23T02:28:46.150Z"
   },
   {
    "duration": 18,
    "start_time": "2024-01-23T02:28:46.179Z"
   },
   {
    "duration": 8,
    "start_time": "2024-01-23T02:28:46.200Z"
   },
   {
    "duration": 8,
    "start_time": "2024-01-23T02:28:46.210Z"
   },
   {
    "duration": 8,
    "start_time": "2024-01-23T02:28:46.219Z"
   },
   {
    "duration": 9,
    "start_time": "2024-01-23T02:28:46.228Z"
   },
   {
    "duration": 8,
    "start_time": "2024-01-23T02:28:46.273Z"
   },
   {
    "duration": 7,
    "start_time": "2024-01-23T02:28:46.283Z"
   },
   {
    "duration": 14,
    "start_time": "2024-01-23T02:28:46.291Z"
   },
   {
    "duration": 41,
    "start_time": "2024-01-23T02:28:46.306Z"
   },
   {
    "duration": 25,
    "start_time": "2024-01-23T02:28:46.349Z"
   },
   {
    "duration": 4,
    "start_time": "2024-01-23T02:28:46.375Z"
   },
   {
    "duration": 26,
    "start_time": "2024-01-23T02:28:46.380Z"
   },
   {
    "duration": 14,
    "start_time": "2024-01-23T02:28:46.407Z"
   },
   {
    "duration": 5,
    "start_time": "2024-01-23T02:28:46.423Z"
   },
   {
    "duration": 350,
    "start_time": "2024-01-23T02:28:46.430Z"
   },
   {
    "duration": 26,
    "start_time": "2024-01-23T02:28:46.782Z"
   },
   {
    "duration": 416,
    "start_time": "2024-01-23T02:28:46.810Z"
   },
   {
    "duration": 19,
    "start_time": "2024-01-23T02:28:47.227Z"
   },
   {
    "duration": 364,
    "start_time": "2024-01-23T02:28:47.247Z"
   },
   {
    "duration": 27,
    "start_time": "2024-01-23T02:28:47.615Z"
   },
   {
    "duration": 325,
    "start_time": "2024-01-23T02:28:47.643Z"
   },
   {
    "duration": 23,
    "start_time": "2024-01-23T02:28:47.972Z"
   },
   {
    "duration": 585,
    "start_time": "2024-01-23T02:28:47.996Z"
   },
   {
    "duration": 23,
    "start_time": "2024-01-23T02:28:48.582Z"
   },
   {
    "duration": 436,
    "start_time": "2024-01-23T02:28:48.607Z"
   },
   {
    "duration": 28,
    "start_time": "2024-01-23T02:28:49.045Z"
   },
   {
    "duration": 25,
    "start_time": "2024-01-23T02:28:49.074Z"
   },
   {
    "duration": 330,
    "start_time": "2024-01-23T02:28:49.100Z"
   },
   {
    "duration": 17,
    "start_time": "2024-01-23T02:28:49.432Z"
   },
   {
    "duration": 51,
    "start_time": "2024-01-23T02:28:49.450Z"
   },
   {
    "duration": 424,
    "start_time": "2024-01-23T02:28:49.503Z"
   },
   {
    "duration": 5731,
    "start_time": "2024-01-23T02:28:49.928Z"
   },
   {
    "duration": 676,
    "start_time": "2024-01-23T02:28:55.661Z"
   },
   {
    "duration": 5,
    "start_time": "2024-01-23T02:28:56.339Z"
   },
   {
    "duration": 37,
    "start_time": "2024-01-23T02:28:56.345Z"
   },
   {
    "duration": 1417,
    "start_time": "2024-01-23T02:28:56.384Z"
   },
   {
    "duration": 52,
    "start_time": "2024-01-23T02:28:57.802Z"
   },
   {
    "duration": 22,
    "start_time": "2024-01-23T02:28:57.856Z"
   },
   {
    "duration": 14,
    "start_time": "2024-01-23T02:28:57.880Z"
   },
   {
    "duration": 7,
    "start_time": "2024-01-23T02:28:57.895Z"
   },
   {
    "duration": 147,
    "start_time": "2024-01-23T02:28:57.904Z"
   },
   {
    "duration": 164,
    "start_time": "2024-01-23T02:28:58.053Z"
   },
   {
    "duration": 106,
    "start_time": "2024-01-23T02:28:58.218Z"
   },
   {
    "duration": 0,
    "start_time": "2024-01-23T02:28:58.325Z"
   },
   {
    "duration": 0,
    "start_time": "2024-01-23T02:28:58.327Z"
   },
   {
    "duration": 0,
    "start_time": "2024-01-23T02:28:58.328Z"
   },
   {
    "duration": 0,
    "start_time": "2024-01-23T02:28:58.329Z"
   },
   {
    "duration": 0,
    "start_time": "2024-01-23T02:28:58.330Z"
   },
   {
    "duration": 0,
    "start_time": "2024-01-23T02:28:58.331Z"
   },
   {
    "duration": 0,
    "start_time": "2024-01-23T02:28:58.332Z"
   },
   {
    "duration": 0,
    "start_time": "2024-01-23T02:28:58.333Z"
   },
   {
    "duration": 3,
    "start_time": "2024-01-23T02:29:31.223Z"
   },
   {
    "duration": 1123,
    "start_time": "2024-01-23T02:29:37.522Z"
   },
   {
    "duration": 43,
    "start_time": "2024-01-23T02:29:38.646Z"
   },
   {
    "duration": 17,
    "start_time": "2024-01-23T02:29:38.691Z"
   },
   {
    "duration": 11,
    "start_time": "2024-01-23T02:29:38.710Z"
   },
   {
    "duration": 3,
    "start_time": "2024-01-23T02:29:38.723Z"
   },
   {
    "duration": 26,
    "start_time": "2024-01-23T02:29:38.727Z"
   },
   {
    "duration": 29,
    "start_time": "2024-01-23T02:29:38.755Z"
   },
   {
    "duration": 6,
    "start_time": "2024-01-23T02:29:38.785Z"
   },
   {
    "duration": 15,
    "start_time": "2024-01-23T02:29:38.793Z"
   },
   {
    "duration": 20,
    "start_time": "2024-01-23T02:29:38.810Z"
   },
   {
    "duration": 8,
    "start_time": "2024-01-23T02:29:38.831Z"
   },
   {
    "duration": 33,
    "start_time": "2024-01-23T02:29:38.841Z"
   },
   {
    "duration": 8,
    "start_time": "2024-01-23T02:29:38.876Z"
   },
   {
    "duration": 12,
    "start_time": "2024-01-23T02:29:38.885Z"
   },
   {
    "duration": 8,
    "start_time": "2024-01-23T02:29:38.898Z"
   },
   {
    "duration": 7,
    "start_time": "2024-01-23T02:29:38.907Z"
   },
   {
    "duration": 66,
    "start_time": "2024-01-23T02:29:38.916Z"
   },
   {
    "duration": 5,
    "start_time": "2024-01-23T02:29:38.984Z"
   },
   {
    "duration": 8,
    "start_time": "2024-01-23T02:29:38.990Z"
   },
   {
    "duration": 27,
    "start_time": "2024-01-23T02:29:39.000Z"
   },
   {
    "duration": 15,
    "start_time": "2024-01-23T02:29:39.028Z"
   },
   {
    "duration": 30,
    "start_time": "2024-01-23T02:29:39.044Z"
   },
   {
    "duration": 371,
    "start_time": "2024-01-23T02:29:39.075Z"
   },
   {
    "duration": 27,
    "start_time": "2024-01-23T02:29:39.448Z"
   },
   {
    "duration": 498,
    "start_time": "2024-01-23T02:29:39.476Z"
   },
   {
    "duration": 21,
    "start_time": "2024-01-23T02:29:39.976Z"
   },
   {
    "duration": 329,
    "start_time": "2024-01-23T02:29:39.998Z"
   },
   {
    "duration": 27,
    "start_time": "2024-01-23T02:29:40.331Z"
   },
   {
    "duration": 326,
    "start_time": "2024-01-23T02:29:40.372Z"
   },
   {
    "duration": 22,
    "start_time": "2024-01-23T02:29:40.700Z"
   },
   {
    "duration": 552,
    "start_time": "2024-01-23T02:29:40.723Z"
   },
   {
    "duration": 24,
    "start_time": "2024-01-23T02:29:41.277Z"
   },
   {
    "duration": 442,
    "start_time": "2024-01-23T02:29:41.302Z"
   },
   {
    "duration": 28,
    "start_time": "2024-01-23T02:29:41.746Z"
   },
   {
    "duration": 25,
    "start_time": "2024-01-23T02:29:41.775Z"
   },
   {
    "duration": 340,
    "start_time": "2024-01-23T02:29:41.802Z"
   },
   {
    "duration": 17,
    "start_time": "2024-01-23T02:29:42.144Z"
   },
   {
    "duration": 24,
    "start_time": "2024-01-23T02:29:42.173Z"
   },
   {
    "duration": 423,
    "start_time": "2024-01-23T02:29:42.199Z"
   },
   {
    "duration": 5903,
    "start_time": "2024-01-23T02:29:42.623Z"
   },
   {
    "duration": 667,
    "start_time": "2024-01-23T02:29:48.527Z"
   },
   {
    "duration": 5,
    "start_time": "2024-01-23T02:29:49.196Z"
   },
   {
    "duration": 26,
    "start_time": "2024-01-23T02:29:49.202Z"
   },
   {
    "duration": 1472,
    "start_time": "2024-01-23T02:29:49.229Z"
   },
   {
    "duration": 50,
    "start_time": "2024-01-23T02:29:50.703Z"
   },
   {
    "duration": 25,
    "start_time": "2024-01-23T02:29:50.754Z"
   },
   {
    "duration": 13,
    "start_time": "2024-01-23T02:29:50.780Z"
   },
   {
    "duration": 24,
    "start_time": "2024-01-23T02:29:50.794Z"
   },
   {
    "duration": 144,
    "start_time": "2024-01-23T02:29:50.819Z"
   },
   {
    "duration": 149,
    "start_time": "2024-01-23T02:29:50.964Z"
   },
   {
    "duration": 12,
    "start_time": "2024-01-23T02:29:51.115Z"
   },
   {
    "duration": 22,
    "start_time": "2024-01-23T02:29:51.129Z"
   },
   {
    "duration": 22,
    "start_time": "2024-01-23T02:29:51.152Z"
   },
   {
    "duration": 156,
    "start_time": "2024-01-23T02:29:51.175Z"
   },
   {
    "duration": 150,
    "start_time": "2024-01-23T02:29:51.332Z"
   },
   {
    "duration": 12,
    "start_time": "2024-01-23T02:29:51.484Z"
   },
   {
    "duration": 13,
    "start_time": "2024-01-23T02:29:51.497Z"
   },
   {
    "duration": 16,
    "start_time": "2024-01-23T02:29:51.512Z"
   },
   {
    "duration": 10,
    "start_time": "2024-01-23T02:29:51.530Z"
   },
   {
    "duration": 1303,
    "start_time": "2024-01-23T10:24:28.041Z"
   },
   {
    "duration": 79,
    "start_time": "2024-01-23T10:24:29.346Z"
   },
   {
    "duration": 18,
    "start_time": "2024-01-23T10:24:29.427Z"
   },
   {
    "duration": 12,
    "start_time": "2024-01-23T10:24:29.447Z"
   },
   {
    "duration": 8,
    "start_time": "2024-01-23T10:24:29.460Z"
   },
   {
    "duration": 25,
    "start_time": "2024-01-23T10:24:29.469Z"
   },
   {
    "duration": 13,
    "start_time": "2024-01-23T10:24:29.495Z"
   },
   {
    "duration": 6,
    "start_time": "2024-01-23T10:24:29.509Z"
   },
   {
    "duration": 41,
    "start_time": "2024-01-23T10:24:29.517Z"
   },
   {
    "duration": 18,
    "start_time": "2024-01-23T10:24:29.560Z"
   },
   {
    "duration": 11,
    "start_time": "2024-01-23T10:24:29.580Z"
   },
   {
    "duration": 7,
    "start_time": "2024-01-23T10:24:29.592Z"
   },
   {
    "duration": 14,
    "start_time": "2024-01-23T10:24:29.600Z"
   },
   {
    "duration": 21,
    "start_time": "2024-01-23T10:24:29.616Z"
   },
   {
    "duration": 7,
    "start_time": "2024-01-23T10:24:29.638Z"
   },
   {
    "duration": 6,
    "start_time": "2024-01-23T10:24:29.647Z"
   },
   {
    "duration": 42,
    "start_time": "2024-01-23T10:24:29.654Z"
   },
   {
    "duration": 4,
    "start_time": "2024-01-23T10:24:29.698Z"
   },
   {
    "duration": 17,
    "start_time": "2024-01-23T10:24:29.703Z"
   },
   {
    "duration": 70,
    "start_time": "2024-01-23T10:24:29.721Z"
   },
   {
    "duration": 14,
    "start_time": "2024-01-23T10:24:29.792Z"
   },
   {
    "duration": 10,
    "start_time": "2024-01-23T10:24:29.808Z"
   },
   {
    "duration": 333,
    "start_time": "2024-01-23T10:24:29.820Z"
   },
   {
    "duration": 24,
    "start_time": "2024-01-23T10:24:30.155Z"
   },
   {
    "duration": 430,
    "start_time": "2024-01-23T10:24:30.180Z"
   },
   {
    "duration": 19,
    "start_time": "2024-01-23T10:24:30.612Z"
   },
   {
    "duration": 499,
    "start_time": "2024-01-23T10:24:30.633Z"
   },
   {
    "duration": 27,
    "start_time": "2024-01-23T10:24:31.135Z"
   },
   {
    "duration": 355,
    "start_time": "2024-01-23T10:24:31.164Z"
   },
   {
    "duration": 22,
    "start_time": "2024-01-23T10:24:31.520Z"
   },
   {
    "duration": 539,
    "start_time": "2024-01-23T10:24:31.544Z"
   },
   {
    "duration": 27,
    "start_time": "2024-01-23T10:24:32.084Z"
   },
   {
    "duration": 464,
    "start_time": "2024-01-23T10:24:32.112Z"
   },
   {
    "duration": 25,
    "start_time": "2024-01-23T10:24:32.578Z"
   },
   {
    "duration": 39,
    "start_time": "2024-01-23T10:24:32.604Z"
   },
   {
    "duration": 374,
    "start_time": "2024-01-23T10:24:32.644Z"
   },
   {
    "duration": 16,
    "start_time": "2024-01-23T10:24:33.019Z"
   },
   {
    "duration": 37,
    "start_time": "2024-01-23T10:24:33.036Z"
   },
   {
    "duration": 377,
    "start_time": "2024-01-23T10:24:33.075Z"
   },
   {
    "duration": 5419,
    "start_time": "2024-01-23T10:24:33.453Z"
   },
   {
    "duration": 673,
    "start_time": "2024-01-23T10:24:38.874Z"
   },
   {
    "duration": 5,
    "start_time": "2024-01-23T10:24:39.548Z"
   },
   {
    "duration": 53,
    "start_time": "2024-01-23T10:24:39.554Z"
   },
   {
    "duration": 1385,
    "start_time": "2024-01-23T10:24:39.609Z"
   },
   {
    "duration": 46,
    "start_time": "2024-01-23T10:24:40.996Z"
   },
   {
    "duration": 10,
    "start_time": "2024-01-23T10:24:41.043Z"
   },
   {
    "duration": 55,
    "start_time": "2024-01-23T10:24:41.055Z"
   },
   {
    "duration": 34,
    "start_time": "2024-01-23T10:24:41.111Z"
   },
   {
    "duration": 223,
    "start_time": "2024-01-23T10:24:41.147Z"
   },
   {
    "duration": 136,
    "start_time": "2024-01-23T10:24:41.372Z"
   },
   {
    "duration": 9,
    "start_time": "2024-01-23T10:24:41.510Z"
   },
   {
    "duration": 17,
    "start_time": "2024-01-23T10:24:41.520Z"
   },
   {
    "duration": 31,
    "start_time": "2024-01-23T10:24:41.539Z"
   },
   {
    "duration": 151,
    "start_time": "2024-01-23T10:24:41.571Z"
   },
   {
    "duration": 146,
    "start_time": "2024-01-23T10:24:41.724Z"
   },
   {
    "duration": 10,
    "start_time": "2024-01-23T10:24:41.872Z"
   },
   {
    "duration": 15,
    "start_time": "2024-01-23T10:24:41.894Z"
   },
   {
    "duration": 31,
    "start_time": "2024-01-23T10:24:41.911Z"
   },
   {
    "duration": 21,
    "start_time": "2024-01-23T10:24:41.944Z"
   },
   {
    "duration": 1268,
    "start_time": "2024-01-23T21:17:11.853Z"
   },
   {
    "duration": 148,
    "start_time": "2024-01-23T21:17:13.124Z"
   },
   {
    "duration": 18,
    "start_time": "2024-01-23T21:17:13.274Z"
   },
   {
    "duration": 12,
    "start_time": "2024-01-23T21:17:13.294Z"
   },
   {
    "duration": 4,
    "start_time": "2024-01-23T21:17:13.308Z"
   },
   {
    "duration": 37,
    "start_time": "2024-01-23T21:17:13.313Z"
   },
   {
    "duration": 14,
    "start_time": "2024-01-23T21:17:13.351Z"
   },
   {
    "duration": 6,
    "start_time": "2024-01-23T21:17:13.367Z"
   },
   {
    "duration": 17,
    "start_time": "2024-01-23T21:17:13.375Z"
   },
   {
    "duration": 29,
    "start_time": "2024-01-23T21:17:13.395Z"
   },
   {
    "duration": 8,
    "start_time": "2024-01-23T21:17:13.426Z"
   },
   {
    "duration": 11,
    "start_time": "2024-01-23T21:17:13.436Z"
   },
   {
    "duration": 9,
    "start_time": "2024-01-23T21:17:13.449Z"
   },
   {
    "duration": 8,
    "start_time": "2024-01-23T21:17:13.459Z"
   },
   {
    "duration": 9,
    "start_time": "2024-01-23T21:17:13.468Z"
   },
   {
    "duration": 8,
    "start_time": "2024-01-23T21:17:13.478Z"
   },
   {
    "duration": 78,
    "start_time": "2024-01-23T21:17:13.487Z"
   },
   {
    "duration": 6,
    "start_time": "2024-01-23T21:17:13.567Z"
   },
   {
    "duration": 5,
    "start_time": "2024-01-23T21:17:13.574Z"
   },
   {
    "duration": 50,
    "start_time": "2024-01-23T21:17:13.580Z"
   },
   {
    "duration": 15,
    "start_time": "2024-01-23T21:17:13.632Z"
   },
   {
    "duration": 4,
    "start_time": "2024-01-23T21:17:13.649Z"
   },
   {
    "duration": 370,
    "start_time": "2024-01-23T21:17:13.655Z"
   },
   {
    "duration": 28,
    "start_time": "2024-01-23T21:17:14.027Z"
   },
   {
    "duration": 443,
    "start_time": "2024-01-23T21:17:14.057Z"
   },
   {
    "duration": 37,
    "start_time": "2024-01-23T21:17:14.502Z"
   },
   {
    "duration": 349,
    "start_time": "2024-01-23T21:17:14.541Z"
   },
   {
    "duration": 40,
    "start_time": "2024-01-23T21:17:14.893Z"
   },
   {
    "duration": 347,
    "start_time": "2024-01-23T21:17:14.934Z"
   },
   {
    "duration": 24,
    "start_time": "2024-01-23T21:17:15.283Z"
   },
   {
    "duration": 593,
    "start_time": "2024-01-23T21:17:15.309Z"
   },
   {
    "duration": 29,
    "start_time": "2024-01-23T21:17:15.904Z"
   },
   {
    "duration": 463,
    "start_time": "2024-01-23T21:17:15.935Z"
   },
   {
    "duration": 31,
    "start_time": "2024-01-23T21:17:16.400Z"
   },
   {
    "duration": 34,
    "start_time": "2024-01-23T21:17:16.433Z"
   },
   {
    "duration": 329,
    "start_time": "2024-01-23T21:17:16.468Z"
   },
   {
    "duration": 39,
    "start_time": "2024-01-23T21:17:16.799Z"
   },
   {
    "duration": 28,
    "start_time": "2024-01-23T21:17:16.840Z"
   },
   {
    "duration": 476,
    "start_time": "2024-01-23T21:17:16.870Z"
   },
   {
    "duration": 6125,
    "start_time": "2024-01-23T21:17:17.348Z"
   },
   {
    "duration": 705,
    "start_time": "2024-01-23T21:17:23.475Z"
   },
   {
    "duration": 6,
    "start_time": "2024-01-23T21:17:24.182Z"
   },
   {
    "duration": 35,
    "start_time": "2024-01-23T21:17:24.189Z"
   },
   {
    "duration": 1501,
    "start_time": "2024-01-23T21:17:24.226Z"
   },
   {
    "duration": 59,
    "start_time": "2024-01-23T21:17:25.729Z"
   },
   {
    "duration": 9,
    "start_time": "2024-01-23T21:17:25.790Z"
   },
   {
    "duration": 15,
    "start_time": "2024-01-23T21:17:25.823Z"
   },
   {
    "duration": 18,
    "start_time": "2024-01-23T21:17:25.840Z"
   },
   {
    "duration": 152,
    "start_time": "2024-01-23T21:17:25.860Z"
   },
   {
    "duration": 159,
    "start_time": "2024-01-23T21:17:26.014Z"
   },
   {
    "duration": 8,
    "start_time": "2024-01-23T21:17:26.175Z"
   },
   {
    "duration": 31,
    "start_time": "2024-01-23T21:17:26.185Z"
   },
   {
    "duration": 7,
    "start_time": "2024-01-23T21:17:26.217Z"
   },
   {
    "duration": 150,
    "start_time": "2024-01-23T21:17:26.225Z"
   },
   {
    "duration": 175,
    "start_time": "2024-01-23T21:17:26.377Z"
   },
   {
    "duration": 10,
    "start_time": "2024-01-23T21:17:26.554Z"
   },
   {
    "duration": 34,
    "start_time": "2024-01-23T21:17:26.566Z"
   },
   {
    "duration": 25,
    "start_time": "2024-01-23T21:17:26.602Z"
   },
   {
    "duration": 42,
    "start_time": "2024-01-23T21:17:26.628Z"
   },
   {
    "duration": 104,
    "start_time": "2024-01-23T21:53:20.787Z"
   },
   {
    "duration": 107,
    "start_time": "2024-01-23T21:58:13.424Z"
   },
   {
    "duration": 1473,
    "start_time": "2024-01-24T09:46:34.734Z"
   },
   {
    "duration": 150,
    "start_time": "2024-01-24T09:46:36.209Z"
   },
   {
    "duration": 15,
    "start_time": "2024-01-24T09:46:36.360Z"
   },
   {
    "duration": 10,
    "start_time": "2024-01-24T09:46:36.377Z"
   },
   {
    "duration": 3,
    "start_time": "2024-01-24T09:46:36.389Z"
   },
   {
    "duration": 32,
    "start_time": "2024-01-24T09:46:36.393Z"
   },
   {
    "duration": 41,
    "start_time": "2024-01-24T09:46:36.426Z"
   },
   {
    "duration": 7,
    "start_time": "2024-01-24T09:46:36.469Z"
   },
   {
    "duration": 14,
    "start_time": "2024-01-24T09:46:36.477Z"
   },
   {
    "duration": 13,
    "start_time": "2024-01-24T09:46:36.493Z"
   },
   {
    "duration": 7,
    "start_time": "2024-01-24T09:46:36.507Z"
   },
   {
    "duration": 12,
    "start_time": "2024-01-24T09:46:36.515Z"
   },
   {
    "duration": 8,
    "start_time": "2024-01-24T09:46:36.528Z"
   },
   {
    "duration": 13,
    "start_time": "2024-01-24T09:46:36.537Z"
   },
   {
    "duration": 7,
    "start_time": "2024-01-24T09:46:36.551Z"
   },
   {
    "duration": 6,
    "start_time": "2024-01-24T09:46:36.559Z"
   },
   {
    "duration": 43,
    "start_time": "2024-01-24T09:46:36.566Z"
   },
   {
    "duration": 4,
    "start_time": "2024-01-24T09:46:36.610Z"
   },
   {
    "duration": 51,
    "start_time": "2024-01-24T09:46:36.615Z"
   },
   {
    "duration": 68,
    "start_time": "2024-01-24T09:46:36.667Z"
   },
   {
    "duration": 24,
    "start_time": "2024-01-24T09:46:36.736Z"
   },
   {
    "duration": 102,
    "start_time": "2024-01-24T09:46:36.761Z"
   },
   {
    "duration": 316,
    "start_time": "2024-01-24T09:46:36.864Z"
   },
   {
    "duration": 28,
    "start_time": "2024-01-24T09:46:37.181Z"
   },
   {
    "duration": 434,
    "start_time": "2024-01-24T09:46:37.211Z"
   },
   {
    "duration": 21,
    "start_time": "2024-01-24T09:46:37.646Z"
   },
   {
    "duration": 315,
    "start_time": "2024-01-24T09:46:37.669Z"
   },
   {
    "duration": 25,
    "start_time": "2024-01-24T09:46:37.987Z"
   },
   {
    "duration": 305,
    "start_time": "2024-01-24T09:46:38.013Z"
   },
   {
    "duration": 27,
    "start_time": "2024-01-24T09:46:38.320Z"
   },
   {
    "duration": 505,
    "start_time": "2024-01-24T09:46:38.348Z"
   },
   {
    "duration": 20,
    "start_time": "2024-01-24T09:46:38.854Z"
   },
   {
    "duration": 425,
    "start_time": "2024-01-24T09:46:38.875Z"
   },
   {
    "duration": 15,
    "start_time": "2024-01-24T09:46:39.301Z"
   },
   {
    "duration": 44,
    "start_time": "2024-01-24T09:46:39.318Z"
   },
   {
    "duration": 327,
    "start_time": "2024-01-24T09:46:39.364Z"
   },
   {
    "duration": 15,
    "start_time": "2024-01-24T09:46:39.692Z"
   },
   {
    "duration": 41,
    "start_time": "2024-01-24T09:46:39.709Z"
   },
   {
    "duration": 348,
    "start_time": "2024-01-24T09:46:39.751Z"
   },
   {
    "duration": 5045,
    "start_time": "2024-01-24T09:46:40.101Z"
   },
   {
    "duration": 580,
    "start_time": "2024-01-24T09:46:45.148Z"
   },
   {
    "duration": 4,
    "start_time": "2024-01-24T09:46:45.729Z"
   },
   {
    "duration": 27,
    "start_time": "2024-01-24T09:46:45.735Z"
   },
   {
    "duration": 1255,
    "start_time": "2024-01-24T09:46:45.763Z"
   },
   {
    "duration": 46,
    "start_time": "2024-01-24T09:46:47.020Z"
   },
   {
    "duration": 8,
    "start_time": "2024-01-24T09:46:47.067Z"
   },
   {
    "duration": 14,
    "start_time": "2024-01-24T09:46:47.076Z"
   },
   {
    "duration": 22,
    "start_time": "2024-01-24T09:46:47.091Z"
   },
   {
    "duration": 166,
    "start_time": "2024-01-24T09:46:47.114Z"
   },
   {
    "duration": 121,
    "start_time": "2024-01-24T09:46:47.281Z"
   },
   {
    "duration": 7,
    "start_time": "2024-01-24T09:46:47.403Z"
   },
   {
    "duration": 18,
    "start_time": "2024-01-24T09:46:47.411Z"
   },
   {
    "duration": 35,
    "start_time": "2024-01-24T09:46:47.431Z"
   },
   {
    "duration": 125,
    "start_time": "2024-01-24T09:46:47.467Z"
   },
   {
    "duration": 152,
    "start_time": "2024-01-24T09:46:47.594Z"
   },
   {
    "duration": 11,
    "start_time": "2024-01-24T09:46:47.748Z"
   },
   {
    "duration": 49,
    "start_time": "2024-01-24T09:46:47.761Z"
   },
   {
    "duration": 21,
    "start_time": "2024-01-24T09:46:47.811Z"
   },
   {
    "duration": 9,
    "start_time": "2024-01-24T09:46:47.833Z"
   },
   {
    "duration": 288,
    "start_time": "2024-01-24T09:51:44.982Z"
   },
   {
    "duration": 282,
    "start_time": "2024-01-24T09:52:05.713Z"
   },
   {
    "duration": 5165,
    "start_time": "2024-01-24T09:52:15.324Z"
   },
   {
    "duration": 835,
    "start_time": "2024-01-24T09:52:24.735Z"
   },
   {
    "duration": 1107,
    "start_time": "2024-01-24T10:00:39.538Z"
   },
   {
    "duration": 40,
    "start_time": "2024-01-24T10:00:40.646Z"
   },
   {
    "duration": 15,
    "start_time": "2024-01-24T10:00:40.687Z"
   },
   {
    "duration": 12,
    "start_time": "2024-01-24T10:00:40.704Z"
   },
   {
    "duration": 20,
    "start_time": "2024-01-24T10:00:40.717Z"
   },
   {
    "duration": 30,
    "start_time": "2024-01-24T10:00:40.738Z"
   },
   {
    "duration": 11,
    "start_time": "2024-01-24T10:00:40.769Z"
   },
   {
    "duration": 5,
    "start_time": "2024-01-24T10:00:40.781Z"
   },
   {
    "duration": 22,
    "start_time": "2024-01-24T10:00:40.787Z"
   },
   {
    "duration": 7,
    "start_time": "2024-01-24T10:00:40.811Z"
   },
   {
    "duration": 17,
    "start_time": "2024-01-24T10:00:40.819Z"
   },
   {
    "duration": 29,
    "start_time": "2024-01-24T10:00:40.837Z"
   },
   {
    "duration": 13,
    "start_time": "2024-01-24T10:00:40.867Z"
   },
   {
    "duration": 21,
    "start_time": "2024-01-24T10:00:40.881Z"
   },
   {
    "duration": 16,
    "start_time": "2024-01-24T10:00:40.903Z"
   },
   {
    "duration": 8,
    "start_time": "2024-01-24T10:00:40.920Z"
   },
   {
    "duration": 46,
    "start_time": "2024-01-24T10:00:40.929Z"
   },
   {
    "duration": 3,
    "start_time": "2024-01-24T10:00:40.977Z"
   },
   {
    "duration": 10,
    "start_time": "2024-01-24T10:00:40.982Z"
   },
   {
    "duration": 23,
    "start_time": "2024-01-24T10:00:40.994Z"
   },
   {
    "duration": 30,
    "start_time": "2024-01-24T10:00:41.018Z"
   },
   {
    "duration": 5,
    "start_time": "2024-01-24T10:00:41.050Z"
   },
   {
    "duration": 310,
    "start_time": "2024-01-24T10:00:41.057Z"
   },
   {
    "duration": 24,
    "start_time": "2024-01-24T10:00:41.368Z"
   },
   {
    "duration": 354,
    "start_time": "2024-01-24T10:00:41.393Z"
   },
   {
    "duration": 18,
    "start_time": "2024-01-24T10:00:41.748Z"
   },
   {
    "duration": 315,
    "start_time": "2024-01-24T10:00:41.767Z"
   },
   {
    "duration": 23,
    "start_time": "2024-01-24T10:00:42.085Z"
   },
   {
    "duration": 301,
    "start_time": "2024-01-24T10:00:42.109Z"
   },
   {
    "duration": 34,
    "start_time": "2024-01-24T10:00:42.412Z"
   },
   {
    "duration": 477,
    "start_time": "2024-01-24T10:00:42.448Z"
   },
   {
    "duration": 32,
    "start_time": "2024-01-24T10:00:42.927Z"
   },
   {
    "duration": 364,
    "start_time": "2024-01-24T10:00:42.961Z"
   },
   {
    "duration": 28,
    "start_time": "2024-01-24T10:00:43.327Z"
   },
   {
    "duration": 40,
    "start_time": "2024-01-24T10:00:43.356Z"
   },
   {
    "duration": 312,
    "start_time": "2024-01-24T10:00:43.398Z"
   },
   {
    "duration": 14,
    "start_time": "2024-01-24T10:00:43.711Z"
   },
   {
    "duration": 35,
    "start_time": "2024-01-24T10:00:43.727Z"
   },
   {
    "duration": 339,
    "start_time": "2024-01-24T10:00:43.763Z"
   },
   {
    "duration": 5017,
    "start_time": "2024-01-24T10:00:44.103Z"
   },
   {
    "duration": 565,
    "start_time": "2024-01-24T10:00:49.121Z"
   },
   {
    "duration": 4,
    "start_time": "2024-01-24T10:00:49.688Z"
   },
   {
    "duration": 41,
    "start_time": "2024-01-24T10:00:49.693Z"
   },
   {
    "duration": 1243,
    "start_time": "2024-01-24T10:00:49.735Z"
   },
   {
    "duration": 42,
    "start_time": "2024-01-24T10:00:50.980Z"
   },
   {
    "duration": 10,
    "start_time": "2024-01-24T10:00:51.023Z"
   },
   {
    "duration": 35,
    "start_time": "2024-01-24T10:00:51.035Z"
   },
   {
    "duration": 43,
    "start_time": "2024-01-24T10:00:51.071Z"
   },
   {
    "duration": 150,
    "start_time": "2024-01-24T10:00:51.116Z"
   },
   {
    "duration": 126,
    "start_time": "2024-01-24T10:00:51.268Z"
   },
   {
    "duration": 8,
    "start_time": "2024-01-24T10:00:51.396Z"
   },
   {
    "duration": 28,
    "start_time": "2024-01-24T10:00:51.405Z"
   },
   {
    "duration": 17,
    "start_time": "2024-01-24T10:00:51.435Z"
   },
   {
    "duration": 170,
    "start_time": "2024-01-24T10:00:51.454Z"
   },
   {
    "duration": 131,
    "start_time": "2024-01-24T10:00:51.626Z"
   },
   {
    "duration": 9,
    "start_time": "2024-01-24T10:00:51.759Z"
   },
   {
    "duration": 35,
    "start_time": "2024-01-24T10:00:51.769Z"
   },
   {
    "duration": 38,
    "start_time": "2024-01-24T10:00:51.805Z"
   },
   {
    "duration": 31,
    "start_time": "2024-01-24T10:00:51.844Z"
   },
   {
    "duration": 285,
    "start_time": "2024-01-24T10:03:12.237Z"
   },
   {
    "duration": 276,
    "start_time": "2024-01-24T10:03:25.125Z"
   },
   {
    "duration": 597,
    "start_time": "2024-01-24T10:03:38.499Z"
   },
   {
    "duration": 282,
    "start_time": "2024-01-24T10:03:47.684Z"
   },
   {
    "duration": 273,
    "start_time": "2024-01-24T10:03:58.528Z"
   },
   {
    "duration": 274,
    "start_time": "2024-01-24T10:04:05.712Z"
   },
   {
    "duration": 4967,
    "start_time": "2024-01-24T10:04:16.904Z"
   },
   {
    "duration": 854,
    "start_time": "2024-01-24T10:04:29.784Z"
   },
   {
    "duration": 1026,
    "start_time": "2024-01-24T10:04:38.509Z"
   },
   {
    "duration": 43,
    "start_time": "2024-01-24T10:04:39.536Z"
   },
   {
    "duration": 18,
    "start_time": "2024-01-24T10:04:39.580Z"
   },
   {
    "duration": 51,
    "start_time": "2024-01-24T10:04:39.599Z"
   },
   {
    "duration": 8,
    "start_time": "2024-01-24T10:04:39.651Z"
   },
   {
    "duration": 26,
    "start_time": "2024-01-24T10:04:39.661Z"
   },
   {
    "duration": 16,
    "start_time": "2024-01-24T10:04:39.688Z"
   },
   {
    "duration": 18,
    "start_time": "2024-01-24T10:04:39.706Z"
   },
   {
    "duration": 31,
    "start_time": "2024-01-24T10:04:39.725Z"
   },
   {
    "duration": 22,
    "start_time": "2024-01-24T10:04:39.759Z"
   },
   {
    "duration": 35,
    "start_time": "2024-01-24T10:04:39.782Z"
   },
   {
    "duration": 28,
    "start_time": "2024-01-24T10:04:39.818Z"
   },
   {
    "duration": 22,
    "start_time": "2024-01-24T10:04:39.848Z"
   },
   {
    "duration": 25,
    "start_time": "2024-01-24T10:04:39.872Z"
   },
   {
    "duration": 26,
    "start_time": "2024-01-24T10:04:39.898Z"
   },
   {
    "duration": 20,
    "start_time": "2024-01-24T10:04:39.925Z"
   },
   {
    "duration": 60,
    "start_time": "2024-01-24T10:04:39.946Z"
   },
   {
    "duration": 17,
    "start_time": "2024-01-24T10:04:40.007Z"
   },
   {
    "duration": 33,
    "start_time": "2024-01-24T10:04:40.025Z"
   },
   {
    "duration": 48,
    "start_time": "2024-01-24T10:04:40.060Z"
   },
   {
    "duration": 30,
    "start_time": "2024-01-24T10:04:40.109Z"
   },
   {
    "duration": 22,
    "start_time": "2024-01-24T10:04:40.140Z"
   },
   {
    "duration": 317,
    "start_time": "2024-01-24T10:04:40.164Z"
   },
   {
    "duration": 24,
    "start_time": "2024-01-24T10:04:40.482Z"
   },
   {
    "duration": 379,
    "start_time": "2024-01-24T10:04:40.507Z"
   },
   {
    "duration": 19,
    "start_time": "2024-01-24T10:04:40.887Z"
   },
   {
    "duration": 363,
    "start_time": "2024-01-24T10:04:40.907Z"
   },
   {
    "duration": 25,
    "start_time": "2024-01-24T10:04:41.274Z"
   },
   {
    "duration": 294,
    "start_time": "2024-01-24T10:04:41.300Z"
   },
   {
    "duration": 20,
    "start_time": "2024-01-24T10:04:41.596Z"
   },
   {
    "duration": 511,
    "start_time": "2024-01-24T10:04:41.617Z"
   },
   {
    "duration": 28,
    "start_time": "2024-01-24T10:04:42.129Z"
   },
   {
    "duration": 358,
    "start_time": "2024-01-24T10:04:42.159Z"
   },
   {
    "duration": 35,
    "start_time": "2024-01-24T10:04:42.518Z"
   },
   {
    "duration": 22,
    "start_time": "2024-01-24T10:04:42.555Z"
   },
   {
    "duration": 312,
    "start_time": "2024-01-24T10:04:42.578Z"
   },
   {
    "duration": 16,
    "start_time": "2024-01-24T10:04:42.891Z"
   },
   {
    "duration": 38,
    "start_time": "2024-01-24T10:04:42.908Z"
   },
   {
    "duration": 353,
    "start_time": "2024-01-24T10:04:42.948Z"
   },
   {
    "duration": 5073,
    "start_time": "2024-01-24T10:04:43.303Z"
   },
   {
    "duration": 576,
    "start_time": "2024-01-24T10:04:48.378Z"
   },
   {
    "duration": 5,
    "start_time": "2024-01-24T10:04:48.955Z"
   },
   {
    "duration": 49,
    "start_time": "2024-01-24T10:04:48.961Z"
   },
   {
    "duration": 1303,
    "start_time": "2024-01-24T10:04:49.011Z"
   },
   {
    "duration": 46,
    "start_time": "2024-01-24T10:04:50.315Z"
   },
   {
    "duration": 7,
    "start_time": "2024-01-24T10:04:50.363Z"
   },
   {
    "duration": 11,
    "start_time": "2024-01-24T10:04:50.371Z"
   },
   {
    "duration": 17,
    "start_time": "2024-01-24T10:04:50.383Z"
   },
   {
    "duration": 131,
    "start_time": "2024-01-24T10:04:50.401Z"
   },
   {
    "duration": 129,
    "start_time": "2024-01-24T10:04:50.534Z"
   },
   {
    "duration": 8,
    "start_time": "2024-01-24T10:04:50.664Z"
   },
   {
    "duration": 11,
    "start_time": "2024-01-24T10:04:50.673Z"
   },
   {
    "duration": 15,
    "start_time": "2024-01-24T10:04:50.685Z"
   },
   {
    "duration": 125,
    "start_time": "2024-01-24T10:04:50.702Z"
   },
   {
    "duration": 150,
    "start_time": "2024-01-24T10:04:50.828Z"
   },
   {
    "duration": 9,
    "start_time": "2024-01-24T10:04:50.979Z"
   },
   {
    "duration": 28,
    "start_time": "2024-01-24T10:04:50.989Z"
   },
   {
    "duration": 52,
    "start_time": "2024-01-24T10:04:51.019Z"
   },
   {
    "duration": 26,
    "start_time": "2024-01-24T10:04:51.072Z"
   },
   {
    "duration": 1502,
    "start_time": "2024-01-24T15:41:13.312Z"
   },
   {
    "duration": 149,
    "start_time": "2024-01-24T15:41:14.817Z"
   },
   {
    "duration": 18,
    "start_time": "2024-01-24T15:41:14.968Z"
   },
   {
    "duration": 13,
    "start_time": "2024-01-24T15:41:14.989Z"
   },
   {
    "duration": 43,
    "start_time": "2024-01-24T15:41:15.004Z"
   },
   {
    "duration": 43,
    "start_time": "2024-01-24T15:41:15.049Z"
   },
   {
    "duration": 15,
    "start_time": "2024-01-24T15:41:15.094Z"
   },
   {
    "duration": 23,
    "start_time": "2024-01-24T15:41:15.110Z"
   },
   {
    "duration": 31,
    "start_time": "2024-01-24T15:41:15.134Z"
   },
   {
    "duration": 41,
    "start_time": "2024-01-24T15:41:15.168Z"
   },
   {
    "duration": 30,
    "start_time": "2024-01-24T15:41:15.210Z"
   },
   {
    "duration": 32,
    "start_time": "2024-01-24T15:41:15.242Z"
   },
   {
    "duration": 42,
    "start_time": "2024-01-24T15:41:15.275Z"
   },
   {
    "duration": 60,
    "start_time": "2024-01-24T15:41:15.318Z"
   },
   {
    "duration": 32,
    "start_time": "2024-01-24T15:41:15.380Z"
   },
   {
    "duration": 15,
    "start_time": "2024-01-24T15:41:15.414Z"
   },
   {
    "duration": 44,
    "start_time": "2024-01-24T15:41:15.431Z"
   },
   {
    "duration": 5,
    "start_time": "2024-01-24T15:41:15.477Z"
   },
   {
    "duration": 5,
    "start_time": "2024-01-24T15:41:15.484Z"
   },
   {
    "duration": 48,
    "start_time": "2024-01-24T15:41:15.491Z"
   },
   {
    "duration": 19,
    "start_time": "2024-01-24T15:41:15.540Z"
   },
   {
    "duration": 10,
    "start_time": "2024-01-24T15:41:15.561Z"
   },
   {
    "duration": 380,
    "start_time": "2024-01-24T15:41:15.573Z"
   },
   {
    "duration": 28,
    "start_time": "2024-01-24T15:41:15.955Z"
   },
   {
    "duration": 470,
    "start_time": "2024-01-24T15:41:15.984Z"
   },
   {
    "duration": 21,
    "start_time": "2024-01-24T15:41:16.456Z"
   },
   {
    "duration": 365,
    "start_time": "2024-01-24T15:41:16.479Z"
   },
   {
    "duration": 29,
    "start_time": "2024-01-24T15:41:16.848Z"
   },
   {
    "duration": 377,
    "start_time": "2024-01-24T15:41:16.879Z"
   },
   {
    "duration": 25,
    "start_time": "2024-01-24T15:41:17.257Z"
   },
   {
    "duration": 557,
    "start_time": "2024-01-24T15:41:17.283Z"
   },
   {
    "duration": 24,
    "start_time": "2024-01-24T15:41:17.842Z"
   },
   {
    "duration": 458,
    "start_time": "2024-01-24T15:41:17.867Z"
   },
   {
    "duration": 18,
    "start_time": "2024-01-24T15:41:18.326Z"
   },
   {
    "duration": 26,
    "start_time": "2024-01-24T15:41:18.346Z"
   },
   {
    "duration": 378,
    "start_time": "2024-01-24T15:41:18.374Z"
   },
   {
    "duration": 17,
    "start_time": "2024-01-24T15:41:18.754Z"
   },
   {
    "duration": 27,
    "start_time": "2024-01-24T15:41:18.772Z"
   },
   {
    "duration": 446,
    "start_time": "2024-01-24T15:41:18.822Z"
   },
   {
    "duration": 6306,
    "start_time": "2024-01-24T15:41:19.270Z"
   },
   {
    "duration": 740,
    "start_time": "2024-01-24T15:41:25.578Z"
   },
   {
    "duration": 4,
    "start_time": "2024-01-24T15:41:26.323Z"
   },
   {
    "duration": 23,
    "start_time": "2024-01-24T15:41:26.329Z"
   },
   {
    "duration": 1592,
    "start_time": "2024-01-24T15:41:26.354Z"
   },
   {
    "duration": 52,
    "start_time": "2024-01-24T15:41:27.948Z"
   },
   {
    "duration": 9,
    "start_time": "2024-01-24T15:41:28.001Z"
   },
   {
    "duration": 17,
    "start_time": "2024-01-24T15:41:28.012Z"
   },
   {
    "duration": 6,
    "start_time": "2024-01-24T15:41:28.031Z"
   },
   {
    "duration": 161,
    "start_time": "2024-01-24T15:41:28.039Z"
   },
   {
    "duration": 173,
    "start_time": "2024-01-24T15:41:28.202Z"
   },
   {
    "duration": 10,
    "start_time": "2024-01-24T15:41:28.377Z"
   },
   {
    "duration": 13,
    "start_time": "2024-01-24T15:41:28.388Z"
   },
   {
    "duration": 25,
    "start_time": "2024-01-24T15:41:28.403Z"
   },
   {
    "duration": 165,
    "start_time": "2024-01-24T15:41:28.430Z"
   },
   {
    "duration": 173,
    "start_time": "2024-01-24T15:41:28.597Z"
   },
   {
    "duration": 10,
    "start_time": "2024-01-24T15:41:28.772Z"
   },
   {
    "duration": 12,
    "start_time": "2024-01-24T15:41:28.784Z"
   },
   {
    "duration": 32,
    "start_time": "2024-01-24T15:41:28.798Z"
   },
   {
    "duration": 11,
    "start_time": "2024-01-24T15:41:28.832Z"
   },
   {
    "duration": 117,
    "start_time": "2024-01-24T15:44:39.011Z"
   },
   {
    "duration": 12,
    "start_time": "2024-01-24T15:46:13.708Z"
   },
   {
    "duration": 14,
    "start_time": "2024-01-24T15:49:28.914Z"
   },
   {
    "duration": 12,
    "start_time": "2024-01-24T15:49:35.798Z"
   },
   {
    "duration": 3,
    "start_time": "2024-01-24T15:50:54.651Z"
   },
   {
    "duration": 12,
    "start_time": "2024-01-24T15:50:59.012Z"
   },
   {
    "duration": 10,
    "start_time": "2024-01-24T15:51:45.609Z"
   },
   {
    "duration": 10,
    "start_time": "2024-01-24T15:52:08.426Z"
   },
   {
    "duration": 95,
    "start_time": "2024-01-24T15:52:46.548Z"
   },
   {
    "duration": 16,
    "start_time": "2024-01-24T15:52:54.287Z"
   },
   {
    "duration": 381,
    "start_time": "2024-01-24T16:00:21.242Z"
   },
   {
    "duration": 392,
    "start_time": "2024-01-24T16:00:36.616Z"
   },
   {
    "duration": 403,
    "start_time": "2024-01-24T16:01:14.311Z"
   },
   {
    "duration": 839,
    "start_time": "2024-01-24T16:01:32.805Z"
   },
   {
    "duration": 412,
    "start_time": "2024-01-24T16:02:00.914Z"
   },
   {
    "duration": 405,
    "start_time": "2024-01-24T16:02:08.267Z"
   }
  ],
  "kernelspec": {
   "display_name": "Python 3 (ipykernel)",
   "language": "python",
   "name": "python3"
  },
  "language_info": {
   "codemirror_mode": {
    "name": "ipython",
    "version": 3
   },
   "file_extension": ".py",
   "mimetype": "text/x-python",
   "name": "python",
   "nbconvert_exporter": "python",
   "pygments_lexer": "ipython3",
   "version": "3.11.5"
  },
  "toc": {
   "base_numbering": 1,
   "nav_menu": {},
   "number_sections": true,
   "sideBar": true,
   "skip_h1_title": true,
   "title_cell": "Table of Contents",
   "title_sidebar": "Contents",
   "toc_cell": false,
   "toc_position": {},
   "toc_section_display": true,
   "toc_window_display": false
  }
 },
 "nbformat": 4,
 "nbformat_minor": 2
}
