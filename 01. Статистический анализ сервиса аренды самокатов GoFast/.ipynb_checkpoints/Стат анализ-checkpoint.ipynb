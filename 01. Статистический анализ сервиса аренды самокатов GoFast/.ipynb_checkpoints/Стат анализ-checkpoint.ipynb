{
 "cells": [
  {
   "cell_type": "markdown",
   "id": "5aaf7e3f",
   "metadata": {},
   "source": [
    "# Статистический анализ сервиса аренды самокатов GoFast"
   ]
  },
  {
   "cell_type": "markdown",
   "id": "6b5b020e",
   "metadata": {},
   "source": [
    "Вам передали данные о некоторых пользователях из нескольких городов, а также об их поездках. Проанализируйте данные и проверьте некоторые гипотезы, которые могут помочь бизнесу вырасти.\n",
    "\n",
    "\n",
    "Чтобы совершать поездки по городу, пользователи сервиса GoFast пользуются мобильным приложением. Сервисом можно пользоваться:\n",
    "без подписки\n",
    "абонентская плата отсутствует;\n",
    "стоимость одной минуты поездки — \n",
    "8\n",
    "8 рублей;\n",
    "стоимость старта (начала поездки) — \n",
    "50\n",
    "50 рублей;\n",
    "с подпиской Ultra\n",
    "абонентская плата — \n",
    "199\n",
    "199 рублей в месяц;\n",
    "стоимость одной минуты поездки — \n",
    "6\n",
    "6 рублей;\n",
    "стоимость старта — бесплатно."
   ]
  },
  {
   "cell_type": "markdown",
   "id": "a44d1336",
   "metadata": {},
   "source": [
    "**Цель исследования:**\n",
    "1. Проанализировать данные\n",
    "2. Продакт-менеджеры сервиса хотят увеличить количество пользователей с подпиской, но для этого проверим некоторые гипотезы"
   ]
  },
  {
   "cell_type": "markdown",
   "id": "599ea093",
   "metadata": {},
   "source": [
    "**Ход исследования:**\n",
    "- Загрузка и предобработка данных;\n",
    "- Описание и визуализация общей информации о пользователях и поездках;\n",
    "- Объединение данных;\n",
    "- Подсчёт выручки;\n",
    "- Проверка гипотез;\n",
    "- Общий вывод."
   ]
  },
  {
   "cell_type": "code",
   "execution_count": 1,
   "id": "72576667",
   "metadata": {},
   "outputs": [],
   "source": [
    "import pandas as pd\n",
    "import matplotlib.pyplot as plt\n",
    "from scipy import stats as st\n",
    "import numpy as np"
   ]
  },
  {
   "cell_type": "markdown",
   "id": "c42cbe00",
   "metadata": {},
   "source": [
    "#### Шаг 1. Загрузка данных"
   ]
  },
  {
   "cell_type": "code",
   "execution_count": 2,
   "id": "eff9f206",
   "metadata": {},
   "outputs": [],
   "source": [
    "data_users = pd.read_csv(\"C:\\\\Users\\\\Vlad\\\\Practicum\\\\users_go.csv\")"
   ]
  },
  {
   "cell_type": "code",
   "execution_count": 3,
   "id": "dbb0cd66",
   "metadata": {
    "scrolled": true
   },
   "outputs": [
    {
     "data": {
      "text/html": [
       "<div>\n",
       "<style scoped>\n",
       "    .dataframe tbody tr th:only-of-type {\n",
       "        vertical-align: middle;\n",
       "    }\n",
       "\n",
       "    .dataframe tbody tr th {\n",
       "        vertical-align: top;\n",
       "    }\n",
       "\n",
       "    .dataframe thead th {\n",
       "        text-align: right;\n",
       "    }\n",
       "</style>\n",
       "<table border=\"1\" class=\"dataframe\">\n",
       "  <thead>\n",
       "    <tr style=\"text-align: right;\">\n",
       "      <th></th>\n",
       "      <th>user_id</th>\n",
       "      <th>name</th>\n",
       "      <th>age</th>\n",
       "      <th>city</th>\n",
       "      <th>subscription_type</th>\n",
       "    </tr>\n",
       "  </thead>\n",
       "  <tbody>\n",
       "    <tr>\n",
       "      <th>0</th>\n",
       "      <td>1</td>\n",
       "      <td>Кира</td>\n",
       "      <td>22</td>\n",
       "      <td>Тюмень</td>\n",
       "      <td>ultra</td>\n",
       "    </tr>\n",
       "    <tr>\n",
       "      <th>1</th>\n",
       "      <td>2</td>\n",
       "      <td>Станислав</td>\n",
       "      <td>31</td>\n",
       "      <td>Омск</td>\n",
       "      <td>ultra</td>\n",
       "    </tr>\n",
       "    <tr>\n",
       "      <th>2</th>\n",
       "      <td>3</td>\n",
       "      <td>Алексей</td>\n",
       "      <td>20</td>\n",
       "      <td>Москва</td>\n",
       "      <td>ultra</td>\n",
       "    </tr>\n",
       "    <tr>\n",
       "      <th>3</th>\n",
       "      <td>4</td>\n",
       "      <td>Константин</td>\n",
       "      <td>26</td>\n",
       "      <td>Ростов-на-Дону</td>\n",
       "      <td>ultra</td>\n",
       "    </tr>\n",
       "    <tr>\n",
       "      <th>4</th>\n",
       "      <td>5</td>\n",
       "      <td>Адель</td>\n",
       "      <td>28</td>\n",
       "      <td>Омск</td>\n",
       "      <td>ultra</td>\n",
       "    </tr>\n",
       "    <tr>\n",
       "      <th>5</th>\n",
       "      <td>6</td>\n",
       "      <td>Регина</td>\n",
       "      <td>25</td>\n",
       "      <td>Краснодар</td>\n",
       "      <td>ultra</td>\n",
       "    </tr>\n",
       "    <tr>\n",
       "      <th>6</th>\n",
       "      <td>7</td>\n",
       "      <td>Игорь</td>\n",
       "      <td>23</td>\n",
       "      <td>Омск</td>\n",
       "      <td>ultra</td>\n",
       "    </tr>\n",
       "    <tr>\n",
       "      <th>7</th>\n",
       "      <td>8</td>\n",
       "      <td>Юрий</td>\n",
       "      <td>23</td>\n",
       "      <td>Краснодар</td>\n",
       "      <td>ultra</td>\n",
       "    </tr>\n",
       "    <tr>\n",
       "      <th>8</th>\n",
       "      <td>9</td>\n",
       "      <td>Ян</td>\n",
       "      <td>21</td>\n",
       "      <td>Пятигорск</td>\n",
       "      <td>ultra</td>\n",
       "    </tr>\n",
       "    <tr>\n",
       "      <th>9</th>\n",
       "      <td>10</td>\n",
       "      <td>Валерий</td>\n",
       "      <td>18</td>\n",
       "      <td>Екатеринбург</td>\n",
       "      <td>ultra</td>\n",
       "    </tr>\n",
       "  </tbody>\n",
       "</table>\n",
       "</div>"
      ],
      "text/plain": [
       "   user_id        name  age            city subscription_type\n",
       "0        1        Кира   22          Тюмень             ultra\n",
       "1        2   Станислав   31            Омск             ultra\n",
       "2        3     Алексей   20          Москва             ultra\n",
       "3        4  Константин   26  Ростов-на-Дону             ultra\n",
       "4        5       Адель   28            Омск             ultra\n",
       "5        6      Регина   25       Краснодар             ultra\n",
       "6        7       Игорь   23            Омск             ultra\n",
       "7        8        Юрий   23       Краснодар             ultra\n",
       "8        9          Ян   21       Пятигорск             ultra\n",
       "9       10     Валерий   18    Екатеринбург             ultra"
      ]
     },
     "execution_count": 3,
     "metadata": {},
     "output_type": "execute_result"
    }
   ],
   "source": [
    "data_users.head(10)"
   ]
  },
  {
   "cell_type": "code",
   "execution_count": 4,
   "id": "7c644a27",
   "metadata": {},
   "outputs": [
    {
     "name": "stdout",
     "output_type": "stream",
     "text": [
      "<class 'pandas.core.frame.DataFrame'>\n",
      "RangeIndex: 1565 entries, 0 to 1564\n",
      "Data columns (total 5 columns):\n",
      " #   Column             Non-Null Count  Dtype \n",
      "---  ------             --------------  ----- \n",
      " 0   user_id            1565 non-null   int64 \n",
      " 1   name               1565 non-null   object\n",
      " 2   age                1565 non-null   int64 \n",
      " 3   city               1565 non-null   object\n",
      " 4   subscription_type  1565 non-null   object\n",
      "dtypes: int64(2), object(3)\n",
      "memory usage: 61.3+ KB\n"
     ]
    }
   ],
   "source": [
    "data_users.info()"
   ]
  },
  {
   "cell_type": "code",
   "execution_count": 5,
   "id": "c8adc6e4",
   "metadata": {},
   "outputs": [
    {
     "data": {
      "text/html": [
       "<div>\n",
       "<style scoped>\n",
       "    .dataframe tbody tr th:only-of-type {\n",
       "        vertical-align: middle;\n",
       "    }\n",
       "\n",
       "    .dataframe tbody tr th {\n",
       "        vertical-align: top;\n",
       "    }\n",
       "\n",
       "    .dataframe thead th {\n",
       "        text-align: right;\n",
       "    }\n",
       "</style>\n",
       "<table border=\"1\" class=\"dataframe\">\n",
       "  <thead>\n",
       "    <tr style=\"text-align: right;\">\n",
       "      <th></th>\n",
       "      <th>user_id</th>\n",
       "      <th>age</th>\n",
       "    </tr>\n",
       "  </thead>\n",
       "  <tbody>\n",
       "    <tr>\n",
       "      <th>count</th>\n",
       "      <td>1565.000000</td>\n",
       "      <td>1565.000000</td>\n",
       "    </tr>\n",
       "    <tr>\n",
       "      <th>mean</th>\n",
       "      <td>762.633866</td>\n",
       "      <td>24.922045</td>\n",
       "    </tr>\n",
       "    <tr>\n",
       "      <th>std</th>\n",
       "      <td>443.260155</td>\n",
       "      <td>4.553496</td>\n",
       "    </tr>\n",
       "    <tr>\n",
       "      <th>min</th>\n",
       "      <td>1.000000</td>\n",
       "      <td>12.000000</td>\n",
       "    </tr>\n",
       "    <tr>\n",
       "      <th>25%</th>\n",
       "      <td>378.000000</td>\n",
       "      <td>22.000000</td>\n",
       "    </tr>\n",
       "    <tr>\n",
       "      <th>50%</th>\n",
       "      <td>762.000000</td>\n",
       "      <td>25.000000</td>\n",
       "    </tr>\n",
       "    <tr>\n",
       "      <th>75%</th>\n",
       "      <td>1146.000000</td>\n",
       "      <td>28.000000</td>\n",
       "    </tr>\n",
       "    <tr>\n",
       "      <th>max</th>\n",
       "      <td>1534.000000</td>\n",
       "      <td>43.000000</td>\n",
       "    </tr>\n",
       "  </tbody>\n",
       "</table>\n",
       "</div>"
      ],
      "text/plain": [
       "           user_id          age\n",
       "count  1565.000000  1565.000000\n",
       "mean    762.633866    24.922045\n",
       "std     443.260155     4.553496\n",
       "min       1.000000    12.000000\n",
       "25%     378.000000    22.000000\n",
       "50%     762.000000    25.000000\n",
       "75%    1146.000000    28.000000\n",
       "max    1534.000000    43.000000"
      ]
     },
     "execution_count": 5,
     "metadata": {},
     "output_type": "execute_result"
    }
   ],
   "source": [
    "data_users.describe()"
   ]
  },
  {
   "cell_type": "code",
   "execution_count": 6,
   "id": "e7e6de5d",
   "metadata": {},
   "outputs": [
    {
     "data": {
      "text/plain": [
       "city\n",
       "Пятигорск         226\n",
       "Екатеринбург      206\n",
       "Ростов-на-Дону    202\n",
       "Краснодар         196\n",
       "Сочи              192\n",
       "Омск              186\n",
       "Тюмень            185\n",
       "Москва            172\n",
       "Name: count, dtype: int64"
      ]
     },
     "execution_count": 6,
     "metadata": {},
     "output_type": "execute_result"
    }
   ],
   "source": [
    "data_users['city'].value_counts()"
   ]
  },
  {
   "cell_type": "code",
   "execution_count": 7,
   "id": "80254ac1",
   "metadata": {},
   "outputs": [
    {
     "data": {
      "text/plain": [
       "subscription_type\n",
       "free     846\n",
       "ultra    719\n",
       "Name: count, dtype: int64"
      ]
     },
     "execution_count": 7,
     "metadata": {},
     "output_type": "execute_result"
    }
   ],
   "source": [
    "data_users['subscription_type'].value_counts()"
   ]
  },
  {
   "cell_type": "code",
   "execution_count": 8,
   "id": "e1b1609b",
   "metadata": {},
   "outputs": [],
   "source": [
    "data_rides = pd.read_csv(\"C:\\\\Users\\\\Vlad\\\\Practicum\\\\rides_go.csv\")"
   ]
  },
  {
   "cell_type": "code",
   "execution_count": 9,
   "id": "b9b57103",
   "metadata": {},
   "outputs": [
    {
     "data": {
      "text/html": [
       "<div>\n",
       "<style scoped>\n",
       "    .dataframe tbody tr th:only-of-type {\n",
       "        vertical-align: middle;\n",
       "    }\n",
       "\n",
       "    .dataframe tbody tr th {\n",
       "        vertical-align: top;\n",
       "    }\n",
       "\n",
       "    .dataframe thead th {\n",
       "        text-align: right;\n",
       "    }\n",
       "</style>\n",
       "<table border=\"1\" class=\"dataframe\">\n",
       "  <thead>\n",
       "    <tr style=\"text-align: right;\">\n",
       "      <th></th>\n",
       "      <th>user_id</th>\n",
       "      <th>distance</th>\n",
       "      <th>duration</th>\n",
       "      <th>date</th>\n",
       "    </tr>\n",
       "  </thead>\n",
       "  <tbody>\n",
       "    <tr>\n",
       "      <th>0</th>\n",
       "      <td>1</td>\n",
       "      <td>4409.919140</td>\n",
       "      <td>25.599769</td>\n",
       "      <td>2021-01-01</td>\n",
       "    </tr>\n",
       "    <tr>\n",
       "      <th>1</th>\n",
       "      <td>1</td>\n",
       "      <td>2617.592153</td>\n",
       "      <td>15.816871</td>\n",
       "      <td>2021-01-18</td>\n",
       "    </tr>\n",
       "    <tr>\n",
       "      <th>2</th>\n",
       "      <td>1</td>\n",
       "      <td>754.159807</td>\n",
       "      <td>6.232113</td>\n",
       "      <td>2021-04-20</td>\n",
       "    </tr>\n",
       "    <tr>\n",
       "      <th>3</th>\n",
       "      <td>1</td>\n",
       "      <td>2694.783254</td>\n",
       "      <td>18.511000</td>\n",
       "      <td>2021-08-11</td>\n",
       "    </tr>\n",
       "    <tr>\n",
       "      <th>4</th>\n",
       "      <td>1</td>\n",
       "      <td>4028.687306</td>\n",
       "      <td>26.265803</td>\n",
       "      <td>2021-08-28</td>\n",
       "    </tr>\n",
       "    <tr>\n",
       "      <th>5</th>\n",
       "      <td>1</td>\n",
       "      <td>2770.890808</td>\n",
       "      <td>16.650138</td>\n",
       "      <td>2021-10-09</td>\n",
       "    </tr>\n",
       "    <tr>\n",
       "      <th>6</th>\n",
       "      <td>1</td>\n",
       "      <td>3039.020292</td>\n",
       "      <td>14.927879</td>\n",
       "      <td>2021-10-19</td>\n",
       "    </tr>\n",
       "    <tr>\n",
       "      <th>7</th>\n",
       "      <td>1</td>\n",
       "      <td>2842.118050</td>\n",
       "      <td>23.117468</td>\n",
       "      <td>2021-11-06</td>\n",
       "    </tr>\n",
       "    <tr>\n",
       "      <th>8</th>\n",
       "      <td>1</td>\n",
       "      <td>3412.690668</td>\n",
       "      <td>15.238072</td>\n",
       "      <td>2021-11-14</td>\n",
       "    </tr>\n",
       "    <tr>\n",
       "      <th>9</th>\n",
       "      <td>1</td>\n",
       "      <td>748.690645</td>\n",
       "      <td>15.041884</td>\n",
       "      <td>2021-11-22</td>\n",
       "    </tr>\n",
       "  </tbody>\n",
       "</table>\n",
       "</div>"
      ],
      "text/plain": [
       "   user_id     distance   duration        date\n",
       "0        1  4409.919140  25.599769  2021-01-01\n",
       "1        1  2617.592153  15.816871  2021-01-18\n",
       "2        1   754.159807   6.232113  2021-04-20\n",
       "3        1  2694.783254  18.511000  2021-08-11\n",
       "4        1  4028.687306  26.265803  2021-08-28\n",
       "5        1  2770.890808  16.650138  2021-10-09\n",
       "6        1  3039.020292  14.927879  2021-10-19\n",
       "7        1  2842.118050  23.117468  2021-11-06\n",
       "8        1  3412.690668  15.238072  2021-11-14\n",
       "9        1   748.690645  15.041884  2021-11-22"
      ]
     },
     "execution_count": 9,
     "metadata": {},
     "output_type": "execute_result"
    }
   ],
   "source": [
    "data_rides.head(10)"
   ]
  },
  {
   "cell_type": "code",
   "execution_count": 10,
   "id": "20aa6c29",
   "metadata": {},
   "outputs": [
    {
     "name": "stdout",
     "output_type": "stream",
     "text": [
      "<class 'pandas.core.frame.DataFrame'>\n",
      "RangeIndex: 18068 entries, 0 to 18067\n",
      "Data columns (total 4 columns):\n",
      " #   Column    Non-Null Count  Dtype  \n",
      "---  ------    --------------  -----  \n",
      " 0   user_id   18068 non-null  int64  \n",
      " 1   distance  18068 non-null  float64\n",
      " 2   duration  18068 non-null  float64\n",
      " 3   date      18068 non-null  object \n",
      "dtypes: float64(2), int64(1), object(1)\n",
      "memory usage: 564.8+ KB\n"
     ]
    }
   ],
   "source": [
    "data_rides.info()"
   ]
  },
  {
   "cell_type": "code",
   "execution_count": 11,
   "id": "0444aad8",
   "metadata": {},
   "outputs": [
    {
     "data": {
      "text/html": [
       "<div>\n",
       "<style scoped>\n",
       "    .dataframe tbody tr th:only-of-type {\n",
       "        vertical-align: middle;\n",
       "    }\n",
       "\n",
       "    .dataframe tbody tr th {\n",
       "        vertical-align: top;\n",
       "    }\n",
       "\n",
       "    .dataframe thead th {\n",
       "        text-align: right;\n",
       "    }\n",
       "</style>\n",
       "<table border=\"1\" class=\"dataframe\">\n",
       "  <thead>\n",
       "    <tr style=\"text-align: right;\">\n",
       "      <th></th>\n",
       "      <th>user_id</th>\n",
       "      <th>distance</th>\n",
       "      <th>duration</th>\n",
       "    </tr>\n",
       "  </thead>\n",
       "  <tbody>\n",
       "    <tr>\n",
       "      <th>count</th>\n",
       "      <td>18068.000000</td>\n",
       "      <td>18068.000000</td>\n",
       "      <td>18068.000000</td>\n",
       "    </tr>\n",
       "    <tr>\n",
       "      <th>mean</th>\n",
       "      <td>842.869936</td>\n",
       "      <td>3070.659976</td>\n",
       "      <td>17.805011</td>\n",
       "    </tr>\n",
       "    <tr>\n",
       "      <th>std</th>\n",
       "      <td>434.734317</td>\n",
       "      <td>1116.831209</td>\n",
       "      <td>6.091051</td>\n",
       "    </tr>\n",
       "    <tr>\n",
       "      <th>min</th>\n",
       "      <td>1.000000</td>\n",
       "      <td>0.855683</td>\n",
       "      <td>0.500000</td>\n",
       "    </tr>\n",
       "    <tr>\n",
       "      <th>25%</th>\n",
       "      <td>487.000000</td>\n",
       "      <td>2543.226360</td>\n",
       "      <td>13.597563</td>\n",
       "    </tr>\n",
       "    <tr>\n",
       "      <th>50%</th>\n",
       "      <td>889.000000</td>\n",
       "      <td>3133.609994</td>\n",
       "      <td>17.678395</td>\n",
       "    </tr>\n",
       "    <tr>\n",
       "      <th>75%</th>\n",
       "      <td>1213.250000</td>\n",
       "      <td>3776.222735</td>\n",
       "      <td>21.724800</td>\n",
       "    </tr>\n",
       "    <tr>\n",
       "      <th>max</th>\n",
       "      <td>1534.000000</td>\n",
       "      <td>7211.007745</td>\n",
       "      <td>40.823963</td>\n",
       "    </tr>\n",
       "  </tbody>\n",
       "</table>\n",
       "</div>"
      ],
      "text/plain": [
       "            user_id      distance      duration\n",
       "count  18068.000000  18068.000000  18068.000000\n",
       "mean     842.869936   3070.659976     17.805011\n",
       "std      434.734317   1116.831209      6.091051\n",
       "min        1.000000      0.855683      0.500000\n",
       "25%      487.000000   2543.226360     13.597563\n",
       "50%      889.000000   3133.609994     17.678395\n",
       "75%     1213.250000   3776.222735     21.724800\n",
       "max     1534.000000   7211.007745     40.823963"
      ]
     },
     "execution_count": 11,
     "metadata": {},
     "output_type": "execute_result"
    }
   ],
   "source": [
    "data_rides.describe()"
   ]
  },
  {
   "cell_type": "code",
   "execution_count": 12,
   "id": "2f3b270d",
   "metadata": {},
   "outputs": [],
   "source": [
    "data_subscriptions = pd.read_csv(\"C:\\\\Users\\\\Vlad\\\\Practicum\\\\subscriptions_go.csv\")"
   ]
  },
  {
   "cell_type": "code",
   "execution_count": 13,
   "id": "dbe54e8f",
   "metadata": {},
   "outputs": [
    {
     "data": {
      "text/html": [
       "<div>\n",
       "<style scoped>\n",
       "    .dataframe tbody tr th:only-of-type {\n",
       "        vertical-align: middle;\n",
       "    }\n",
       "\n",
       "    .dataframe tbody tr th {\n",
       "        vertical-align: top;\n",
       "    }\n",
       "\n",
       "    .dataframe thead th {\n",
       "        text-align: right;\n",
       "    }\n",
       "</style>\n",
       "<table border=\"1\" class=\"dataframe\">\n",
       "  <thead>\n",
       "    <tr style=\"text-align: right;\">\n",
       "      <th></th>\n",
       "      <th>subscription_type</th>\n",
       "      <th>minute_price</th>\n",
       "      <th>start_ride_price</th>\n",
       "      <th>subscription_fee</th>\n",
       "    </tr>\n",
       "  </thead>\n",
       "  <tbody>\n",
       "    <tr>\n",
       "      <th>0</th>\n",
       "      <td>free</td>\n",
       "      <td>8</td>\n",
       "      <td>50</td>\n",
       "      <td>0</td>\n",
       "    </tr>\n",
       "    <tr>\n",
       "      <th>1</th>\n",
       "      <td>ultra</td>\n",
       "      <td>6</td>\n",
       "      <td>0</td>\n",
       "      <td>199</td>\n",
       "    </tr>\n",
       "  </tbody>\n",
       "</table>\n",
       "</div>"
      ],
      "text/plain": [
       "  subscription_type  minute_price  start_ride_price  subscription_fee\n",
       "0              free             8                50                 0\n",
       "1             ultra             6                 0               199"
      ]
     },
     "execution_count": 13,
     "metadata": {},
     "output_type": "execute_result"
    }
   ],
   "source": [
    "data_subscriptions.head(10)"
   ]
  },
  {
   "cell_type": "code",
   "execution_count": 14,
   "id": "edefaac8",
   "metadata": {},
   "outputs": [
    {
     "name": "stdout",
     "output_type": "stream",
     "text": [
      "<class 'pandas.core.frame.DataFrame'>\n",
      "RangeIndex: 2 entries, 0 to 1\n",
      "Data columns (total 4 columns):\n",
      " #   Column             Non-Null Count  Dtype \n",
      "---  ------             --------------  ----- \n",
      " 0   subscription_type  2 non-null      object\n",
      " 1   minute_price       2 non-null      int64 \n",
      " 2   start_ride_price   2 non-null      int64 \n",
      " 3   subscription_fee   2 non-null      int64 \n",
      "dtypes: int64(3), object(1)\n",
      "memory usage: 196.0+ bytes\n"
     ]
    }
   ],
   "source": [
    "data_subscriptions.info()"
   ]
  },
  {
   "cell_type": "markdown",
   "id": "a83d8ad0",
   "metadata": {},
   "source": [
    "**Вывод об общей информации:**\n",
    "\n",
    "Основной возраст пользователей от 22 до 28 лет;\n",
    "\n",
    "Наибольшое число пользователей в Пятигорске, наименьшее - в Москве;\n",
    "\n",
    "Пользователей с бесплатным тарифом больше, чем пользоваталей с подпиской;\n",
    "\n",
    "В основном пользователи проезжают дистанцию от 2,5 до 3,7 км.;\n",
    "\n",
    "Время поездки пользователей в основном от 14 до 22 минут."
   ]
  },
  {
   "cell_type": "markdown",
   "id": "e95ebca7",
   "metadata": {},
   "source": [
    "#### Шаг 2. Предобработка данных"
   ]
  },
  {
   "cell_type": "markdown",
   "id": "11bcd1f8",
   "metadata": {},
   "source": [
    "2.1 Приведем столбец date к типу даты pandas"
   ]
  },
  {
   "cell_type": "code",
   "execution_count": 15,
   "id": "af6d202c",
   "metadata": {},
   "outputs": [],
   "source": [
    "data_rides['date'] = pd.to_datetime(data_rides['date'], format='%Y-%m-%d')"
   ]
  },
  {
   "cell_type": "markdown",
   "id": "d6981446",
   "metadata": {},
   "source": [
    "2.2 Создадим новый столбец с номером месяца на основе столбца date."
   ]
  },
  {
   "cell_type": "code",
   "execution_count": 16,
   "id": "675c2d71",
   "metadata": {},
   "outputs": [],
   "source": [
    "data_rides['month'] = data_rides['date'].dt.month"
   ]
  },
  {
   "cell_type": "code",
   "execution_count": 17,
   "id": "5653bd5a",
   "metadata": {},
   "outputs": [
    {
     "data": {
      "text/plain": [
       "array([2021])"
      ]
     },
     "execution_count": 17,
     "metadata": {},
     "output_type": "execute_result"
    }
   ],
   "source": [
    "data_rides['date'].dt.year.unique()"
   ]
  },
  {
   "cell_type": "markdown",
   "id": "f8d53c29",
   "metadata": {},
   "source": [
    "2.3 Проверим наличие пропущенных значений и дубликатов в датафреймах."
   ]
  },
  {
   "cell_type": "code",
   "execution_count": 18,
   "id": "858a3f73",
   "metadata": {},
   "outputs": [
    {
     "data": {
      "text/plain": [
       "user_id              0\n",
       "name                 0\n",
       "age                  0\n",
       "city                 0\n",
       "subscription_type    0\n",
       "dtype: int64"
      ]
     },
     "execution_count": 18,
     "metadata": {},
     "output_type": "execute_result"
    }
   ],
   "source": [
    "data_users.isna().sum()"
   ]
  },
  {
   "cell_type": "code",
   "execution_count": 19,
   "id": "3dd6d359",
   "metadata": {},
   "outputs": [
    {
     "data": {
      "text/plain": [
       "user_id     0\n",
       "distance    0\n",
       "duration    0\n",
       "date        0\n",
       "month       0\n",
       "dtype: int64"
      ]
     },
     "execution_count": 19,
     "metadata": {},
     "output_type": "execute_result"
    }
   ],
   "source": [
    "data_rides.isna().sum()"
   ]
  },
  {
   "cell_type": "code",
   "execution_count": 20,
   "id": "1d6c7436",
   "metadata": {},
   "outputs": [
    {
     "data": {
      "text/plain": [
       "subscription_type    0\n",
       "minute_price         0\n",
       "start_ride_price     0\n",
       "subscription_fee     0\n",
       "dtype: int64"
      ]
     },
     "execution_count": 20,
     "metadata": {},
     "output_type": "execute_result"
    }
   ],
   "source": [
    "data_subscriptions.isna().sum()"
   ]
  },
  {
   "cell_type": "markdown",
   "id": "4ab43ef1",
   "metadata": {},
   "source": [
    "Пропущенных значений в датафреймах нет."
   ]
  },
  {
   "cell_type": "code",
   "execution_count": 21,
   "id": "78e000e4",
   "metadata": {},
   "outputs": [
    {
     "data": {
      "text/plain": [
       "31"
      ]
     },
     "execution_count": 21,
     "metadata": {},
     "output_type": "execute_result"
    }
   ],
   "source": [
    "data_users.duplicated().sum()"
   ]
  },
  {
   "cell_type": "code",
   "execution_count": 22,
   "id": "59af9d9a",
   "metadata": {},
   "outputs": [],
   "source": [
    "data_users.drop_duplicates(inplace=True)"
   ]
  },
  {
   "cell_type": "code",
   "execution_count": 23,
   "id": "192086cd",
   "metadata": {},
   "outputs": [
    {
     "data": {
      "text/plain": [
       "0"
      ]
     },
     "execution_count": 23,
     "metadata": {},
     "output_type": "execute_result"
    }
   ],
   "source": [
    "data_users.duplicated().sum()"
   ]
  },
  {
   "cell_type": "code",
   "execution_count": 24,
   "id": "d214c1d9",
   "metadata": {},
   "outputs": [
    {
     "data": {
      "text/plain": [
       "0"
      ]
     },
     "execution_count": 24,
     "metadata": {},
     "output_type": "execute_result"
    }
   ],
   "source": [
    "data_rides.duplicated().sum()"
   ]
  },
  {
   "cell_type": "code",
   "execution_count": 25,
   "id": "d3c52125",
   "metadata": {},
   "outputs": [
    {
     "data": {
      "text/plain": [
       "0"
      ]
     },
     "execution_count": 25,
     "metadata": {},
     "output_type": "execute_result"
    }
   ],
   "source": [
    "data_subscriptions.duplicated().sum()"
   ]
  },
  {
   "cell_type": "markdown",
   "id": "a4f80dfb",
   "metadata": {},
   "source": [
    "Дубликаты есть в датафрейме пользователей, обработали их."
   ]
  },
  {
   "cell_type": "markdown",
   "id": "212593c7",
   "metadata": {},
   "source": [
    "#### Шаг 3. Исследовательский анализ данных"
   ]
  },
  {
   "cell_type": "markdown",
   "id": "b749ec60",
   "metadata": {},
   "source": [
    "3.1 Опишем и визуализируем частоту встречаемости городов:"
   ]
  },
  {
   "cell_type": "code",
   "execution_count": 26,
   "id": "9facb2b2",
   "metadata": {},
   "outputs": [
    {
     "data": {
      "text/plain": [
       "city\n",
       "Пятигорск         219\n",
       "Екатеринбург      204\n",
       "Ростов-на-Дону    198\n",
       "Краснодар         193\n",
       "Сочи              189\n",
       "Омск              183\n",
       "Тюмень            180\n",
       "Москва            168\n",
       "Name: count, dtype: int64"
      ]
     },
     "execution_count": 26,
     "metadata": {},
     "output_type": "execute_result"
    },
    {
     "data": {
      "image/png": "[encoded data removed]",
      "text/plain": [
       "<Figure size 640x480 with 1 Axes>"
      ]
     },
     "metadata": {},
     "output_type": "display_data"
    }
   ],
   "source": [
    "data_users['city'].value_counts().plot(kind='bar');\n",
    "plt.title('Частота встречаемости городов');\n",
    "data_users['city'].value_counts()"
   ]
  },
  {
   "cell_type": "markdown",
   "id": "23757fd8",
   "metadata": {},
   "source": [
    "Количество пользователей по городам почти одинаковое. Больше всего пользователей в Пятигорске - 219. Меньше всего пользователей в Москве - 168. Такая закономерность возможна из-за разности населения городов."
   ]
  },
  {
   "cell_type": "markdown",
   "id": "1ad0248e",
   "metadata": {},
   "source": [
    "3.2 Опишем и визуализируем соотношение пользователей с подпиской и без подписки:"
   ]
  },
  {
   "cell_type": "code",
   "execution_count": 27,
   "id": "209d0bfe",
   "metadata": {},
   "outputs": [
    {
     "data": {
      "image/png": "[encoded data removed]",
      "text/plain": [
       "<Figure size 1000x1000 with 1 Axes>"
      ]
     },
     "metadata": {},
     "output_type": "display_data"
    }
   ],
   "source": [
    "data_users['subscription_type'].value_counts().plot(kind='pie', autopct='%.1f%%',  figsize=(10,10));\n",
    "plt.title('Соотношение пользователей по категориям');"
   ]
  },
  {
   "cell_type": "code",
   "execution_count": 28,
   "id": "63fa7a3a",
   "metadata": {},
   "outputs": [
    {
     "data": {
      "text/plain": [
       "subscription_type\n",
       "free     835\n",
       "ultra    699\n",
       "Name: count, dtype: int64"
      ]
     },
     "execution_count": 28,
     "metadata": {},
     "output_type": "execute_result"
    }
   ],
   "source": [
    "data_users['subscription_type'].value_counts()"
   ]
  },
  {
   "cell_type": "markdown",
   "id": "616fdced",
   "metadata": {},
   "source": [
    "Пользователей с бесплатной подпиской больше, чем с платной. Количество пользователей с бесплатной подпиской - 835 человек, т.е. 54.4%. Количество пользователей с платной подпиской - 699, то есть 45.6%."
   ]
  },
  {
   "cell_type": "markdown",
   "id": "3e8ffa00",
   "metadata": {},
   "source": [
    "3.3 Опишем и визуализируем возраст пользователей:"
   ]
  },
  {
   "cell_type": "code",
   "execution_count": 29,
   "id": "c499a843",
   "metadata": {},
   "outputs": [
    {
     "data": {
      "text/plain": [
       "age\n",
       "25    145\n",
       "24    132\n",
       "26    131\n",
       "23    129\n",
       "22    119\n",
       "27    119\n",
       "28    112\n",
       "21     93\n",
       "20     71\n",
       "30     68\n",
       "29     68\n",
       "31     48\n",
       "19     47\n",
       "18     46\n",
       "32     41\n",
       "33     39\n",
       "17     26\n",
       "16     19\n",
       "34     19\n",
       "35     15\n",
       "15     13\n",
       "14      9\n",
       "13      8\n",
       "36      6\n",
       "12      4\n",
       "38      3\n",
       "37      2\n",
       "39      1\n",
       "43      1\n",
       "Name: count, dtype: int64"
      ]
     },
     "execution_count": 29,
     "metadata": {},
     "output_type": "execute_result"
    },
    {
     "data": {
      "image/png": "[encoded data removed]",
      "text/plain": [
       "<Figure size 1000x500 with 1 Axes>"
      ]
     },
     "metadata": {},
     "output_type": "display_data"
    }
   ],
   "source": [
    "data_users['age'].hist (bins = 10, figsize = (10,5));\n",
    "plt.title('Возраст пользователей');\n",
    "data_users['age'].value_counts()"
   ]
  },
  {
   "cell_type": "markdown",
   "id": "5c543f2b",
   "metadata": {},
   "source": [
    "Самые старшие пользователи сервиса возрастом 37-39, 43 года. Самые младшие пользователи - 12, 13 лет."
   ]
  },
  {
   "cell_type": "markdown",
   "id": "4ccfad3a",
   "metadata": {},
   "source": [
    "3.4 Опишем и визуализируем расстояние, которое пользователь преодолел за одну поездку:"
   ]
  },
  {
   "cell_type": "code",
   "execution_count": 30,
   "id": "a9a6ef31",
   "metadata": {
    "scrolled": true
   },
   "outputs": [
    {
     "data": {
      "image/png": "[encoded data removed]",
      "text/plain": [
       "<Figure size 1000x500 with 1 Axes>"
      ]
     },
     "metadata": {},
     "output_type": "display_data"
    }
   ],
   "source": [
    "data_rides['distance'].hist(bins = 100, figsize = (10,5))\n",
    "plt.title('Расстояние поездок пользователей');"
   ]
  },
  {
   "cell_type": "code",
   "execution_count": 31,
   "id": "e49bf6c3",
   "metadata": {},
   "outputs": [
    {
     "data": {
      "text/plain": [
       "count    18068.000000\n",
       "mean      3070.659976\n",
       "std       1116.831209\n",
       "min          0.855683\n",
       "25%       2543.226360\n",
       "50%       3133.609994\n",
       "75%       3776.222735\n",
       "max       7211.007745\n",
       "Name: distance, dtype: float64"
      ]
     },
     "execution_count": 31,
     "metadata": {},
     "output_type": "execute_result"
    }
   ],
   "source": [
    "data_rides['distance'].describe()"
   ]
  },
  {
   "cell_type": "markdown",
   "id": "0457dfdb",
   "metadata": {},
   "source": [
    "Самая короткая поездка по расстоянию - 0.86 км, самая длинная - 7.2 км."
   ]
  },
  {
   "cell_type": "markdown",
   "id": "279f0528",
   "metadata": {},
   "source": [
    "3.5 Опишем и визуализируем продолжительность поездок:"
   ]
  },
  {
   "cell_type": "code",
   "execution_count": 32,
   "id": "4c0a6056",
   "metadata": {},
   "outputs": [
    {
     "data": {
      "image/png": "[encoded data removed]",
      "text/plain": [
       "<Figure size 1000x500 with 1 Axes>"
      ]
     },
     "metadata": {},
     "output_type": "display_data"
    }
   ],
   "source": [
    "data_rides['duration'].hist(bins = 100, figsize = (10,5))\n",
    "plt.title('Продолжительность поездок пользователей');"
   ]
  },
  {
   "cell_type": "code",
   "execution_count": 33,
   "id": "6e0d7f56",
   "metadata": {},
   "outputs": [
    {
     "data": {
      "text/plain": [
       "count    18068.000000\n",
       "mean        17.805011\n",
       "std          6.091051\n",
       "min          0.500000\n",
       "25%         13.597563\n",
       "50%         17.678395\n",
       "75%         21.724800\n",
       "max         40.823963\n",
       "Name: duration, dtype: float64"
      ]
     },
     "execution_count": 33,
     "metadata": {},
     "output_type": "execute_result"
    }
   ],
   "source": [
    "data_rides['duration'].describe()"
   ]
  },
  {
   "cell_type": "markdown",
   "id": "7ac7c5e2",
   "metadata": {},
   "source": [
    "По продолжительности поездки самая короткая - 0,5 минуты, самая длинная - 40 минут."
   ]
  },
  {
   "cell_type": "markdown",
   "id": "4ef51331",
   "metadata": {},
   "source": [
    "#### Шаг 4. Объединение данных"
   ]
  },
  {
   "cell_type": "code",
   "execution_count": 34,
   "id": "042ed254",
   "metadata": {},
   "outputs": [
    {
     "name": "stdout",
     "output_type": "stream",
     "text": [
      "Пользователи: 1,534\n",
      "Поездки: 18,068\n",
      "Подписки: 2\n"
     ]
    }
   ],
   "source": [
    "print(f'Пользователи: {data_users.shape[0]:,.0f}')\n",
    "print(f'Поездки: {data_rides.shape[0]:,.0f}')\n",
    "print(f'Подписки: {data_subscriptions.shape[0]:,.0f}')"
   ]
  },
  {
   "cell_type": "markdown",
   "id": "9b6b11bf",
   "metadata": {},
   "source": [
    "4.1 Объединим данные о пользователях, поездках и подписках в один датафрейм:"
   ]
  },
  {
   "cell_type": "code",
   "execution_count": 35,
   "id": "6bf288b5",
   "metadata": {},
   "outputs": [
    {
     "name": "stdout",
     "output_type": "stream",
     "text": [
      "Объединенный набор данных: 18,068\n"
     ]
    }
   ],
   "source": [
    "data_union = data_users.merge(data_rides, on = 'user_id', how = 'outer').merge(data_subscriptions, 'outer')\n",
    "print(f'Объединенный набор данных: {data_union.shape[0]:,.0f}')"
   ]
  },
  {
   "cell_type": "code",
   "execution_count": 36,
   "id": "34f5a6a2",
   "metadata": {},
   "outputs": [
    {
     "data": {
      "text/html": [
       "<div>\n",
       "<style scoped>\n",
       "    .dataframe tbody tr th:only-of-type {\n",
       "        vertical-align: middle;\n",
       "    }\n",
       "\n",
       "    .dataframe tbody tr th {\n",
       "        vertical-align: top;\n",
       "    }\n",
       "\n",
       "    .dataframe thead th {\n",
       "        text-align: right;\n",
       "    }\n",
       "</style>\n",
       "<table border=\"1\" class=\"dataframe\">\n",
       "  <thead>\n",
       "    <tr style=\"text-align: right;\">\n",
       "      <th></th>\n",
       "      <th>user_id</th>\n",
       "      <th>name</th>\n",
       "      <th>age</th>\n",
       "      <th>city</th>\n",
       "      <th>subscription_type</th>\n",
       "      <th>distance</th>\n",
       "      <th>duration</th>\n",
       "      <th>date</th>\n",
       "      <th>month</th>\n",
       "      <th>minute_price</th>\n",
       "      <th>start_ride_price</th>\n",
       "      <th>subscription_fee</th>\n",
       "    </tr>\n",
       "  </thead>\n",
       "  <tbody>\n",
       "    <tr>\n",
       "      <th>0</th>\n",
       "      <td>1</td>\n",
       "      <td>Кира</td>\n",
       "      <td>22</td>\n",
       "      <td>Тюмень</td>\n",
       "      <td>ultra</td>\n",
       "      <td>4409.919140</td>\n",
       "      <td>25.599769</td>\n",
       "      <td>2021-01-01</td>\n",
       "      <td>1</td>\n",
       "      <td>6</td>\n",
       "      <td>0</td>\n",
       "      <td>199</td>\n",
       "    </tr>\n",
       "    <tr>\n",
       "      <th>1</th>\n",
       "      <td>1</td>\n",
       "      <td>Кира</td>\n",
       "      <td>22</td>\n",
       "      <td>Тюмень</td>\n",
       "      <td>ultra</td>\n",
       "      <td>2617.592153</td>\n",
       "      <td>15.816871</td>\n",
       "      <td>2021-01-18</td>\n",
       "      <td>1</td>\n",
       "      <td>6</td>\n",
       "      <td>0</td>\n",
       "      <td>199</td>\n",
       "    </tr>\n",
       "    <tr>\n",
       "      <th>2</th>\n",
       "      <td>1</td>\n",
       "      <td>Кира</td>\n",
       "      <td>22</td>\n",
       "      <td>Тюмень</td>\n",
       "      <td>ultra</td>\n",
       "      <td>754.159807</td>\n",
       "      <td>6.232113</td>\n",
       "      <td>2021-04-20</td>\n",
       "      <td>4</td>\n",
       "      <td>6</td>\n",
       "      <td>0</td>\n",
       "      <td>199</td>\n",
       "    </tr>\n",
       "    <tr>\n",
       "      <th>3</th>\n",
       "      <td>1</td>\n",
       "      <td>Кира</td>\n",
       "      <td>22</td>\n",
       "      <td>Тюмень</td>\n",
       "      <td>ultra</td>\n",
       "      <td>2694.783254</td>\n",
       "      <td>18.511000</td>\n",
       "      <td>2021-08-11</td>\n",
       "      <td>8</td>\n",
       "      <td>6</td>\n",
       "      <td>0</td>\n",
       "      <td>199</td>\n",
       "    </tr>\n",
       "    <tr>\n",
       "      <th>4</th>\n",
       "      <td>1</td>\n",
       "      <td>Кира</td>\n",
       "      <td>22</td>\n",
       "      <td>Тюмень</td>\n",
       "      <td>ultra</td>\n",
       "      <td>4028.687306</td>\n",
       "      <td>26.265803</td>\n",
       "      <td>2021-08-28</td>\n",
       "      <td>8</td>\n",
       "      <td>6</td>\n",
       "      <td>0</td>\n",
       "      <td>199</td>\n",
       "    </tr>\n",
       "    <tr>\n",
       "      <th>...</th>\n",
       "      <td>...</td>\n",
       "      <td>...</td>\n",
       "      <td>...</td>\n",
       "      <td>...</td>\n",
       "      <td>...</td>\n",
       "      <td>...</td>\n",
       "      <td>...</td>\n",
       "      <td>...</td>\n",
       "      <td>...</td>\n",
       "      <td>...</td>\n",
       "      <td>...</td>\n",
       "      <td>...</td>\n",
       "    </tr>\n",
       "    <tr>\n",
       "      <th>18063</th>\n",
       "      <td>1534</td>\n",
       "      <td>Альберт</td>\n",
       "      <td>25</td>\n",
       "      <td>Краснодар</td>\n",
       "      <td>free</td>\n",
       "      <td>3781.098080</td>\n",
       "      <td>19.822962</td>\n",
       "      <td>2021-11-04</td>\n",
       "      <td>11</td>\n",
       "      <td>8</td>\n",
       "      <td>50</td>\n",
       "      <td>0</td>\n",
       "    </tr>\n",
       "    <tr>\n",
       "      <th>18064</th>\n",
       "      <td>1534</td>\n",
       "      <td>Альберт</td>\n",
       "      <td>25</td>\n",
       "      <td>Краснодар</td>\n",
       "      <td>free</td>\n",
       "      <td>2840.423057</td>\n",
       "      <td>21.409799</td>\n",
       "      <td>2021-11-16</td>\n",
       "      <td>11</td>\n",
       "      <td>8</td>\n",
       "      <td>50</td>\n",
       "      <td>0</td>\n",
       "    </tr>\n",
       "    <tr>\n",
       "      <th>18065</th>\n",
       "      <td>1534</td>\n",
       "      <td>Альберт</td>\n",
       "      <td>25</td>\n",
       "      <td>Краснодар</td>\n",
       "      <td>free</td>\n",
       "      <td>3826.185507</td>\n",
       "      <td>18.435051</td>\n",
       "      <td>2021-11-18</td>\n",
       "      <td>11</td>\n",
       "      <td>8</td>\n",
       "      <td>50</td>\n",
       "      <td>0</td>\n",
       "    </tr>\n",
       "    <tr>\n",
       "      <th>18066</th>\n",
       "      <td>1534</td>\n",
       "      <td>Альберт</td>\n",
       "      <td>25</td>\n",
       "      <td>Краснодар</td>\n",
       "      <td>free</td>\n",
       "      <td>2902.308661</td>\n",
       "      <td>16.674362</td>\n",
       "      <td>2021-11-27</td>\n",
       "      <td>11</td>\n",
       "      <td>8</td>\n",
       "      <td>50</td>\n",
       "      <td>0</td>\n",
       "    </tr>\n",
       "    <tr>\n",
       "      <th>18067</th>\n",
       "      <td>1534</td>\n",
       "      <td>Альберт</td>\n",
       "      <td>25</td>\n",
       "      <td>Краснодар</td>\n",
       "      <td>free</td>\n",
       "      <td>2371.711192</td>\n",
       "      <td>15.893917</td>\n",
       "      <td>2021-12-29</td>\n",
       "      <td>12</td>\n",
       "      <td>8</td>\n",
       "      <td>50</td>\n",
       "      <td>0</td>\n",
       "    </tr>\n",
       "  </tbody>\n",
       "</table>\n",
       "<p>18068 rows × 12 columns</p>\n",
       "</div>"
      ],
      "text/plain": [
       "       user_id     name  age       city subscription_type     distance  \\\n",
       "0            1     Кира   22     Тюмень             ultra  4409.919140   \n",
       "1            1     Кира   22     Тюмень             ultra  2617.592153   \n",
       "2            1     Кира   22     Тюмень             ultra   754.159807   \n",
       "3            1     Кира   22     Тюмень             ultra  2694.783254   \n",
       "4            1     Кира   22     Тюмень             ultra  4028.687306   \n",
       "...        ...      ...  ...        ...               ...          ...   \n",
       "18063     1534  Альберт   25  Краснодар              free  3781.098080   \n",
       "18064     1534  Альберт   25  Краснодар              free  2840.423057   \n",
       "18065     1534  Альберт   25  Краснодар              free  3826.185507   \n",
       "18066     1534  Альберт   25  Краснодар              free  2902.308661   \n",
       "18067     1534  Альберт   25  Краснодар              free  2371.711192   \n",
       "\n",
       "        duration       date  month  minute_price  start_ride_price  \\\n",
       "0      25.599769 2021-01-01      1             6                 0   \n",
       "1      15.816871 2021-01-18      1             6                 0   \n",
       "2       6.232113 2021-04-20      4             6                 0   \n",
       "3      18.511000 2021-08-11      8             6                 0   \n",
       "4      26.265803 2021-08-28      8             6                 0   \n",
       "...          ...        ...    ...           ...               ...   \n",
       "18063  19.822962 2021-11-04     11             8                50   \n",
       "18064  21.409799 2021-11-16     11             8                50   \n",
       "18065  18.435051 2021-11-18     11             8                50   \n",
       "18066  16.674362 2021-11-27     11             8                50   \n",
       "18067  15.893917 2021-12-29     12             8                50   \n",
       "\n",
       "       subscription_fee  \n",
       "0                   199  \n",
       "1                   199  \n",
       "2                   199  \n",
       "3                   199  \n",
       "4                   199  \n",
       "...                 ...  \n",
       "18063                 0  \n",
       "18064                 0  \n",
       "18065                 0  \n",
       "18066                 0  \n",
       "18067                 0  \n",
       "\n",
       "[18068 rows x 12 columns]"
      ]
     },
     "execution_count": 36,
     "metadata": {},
     "output_type": "execute_result"
    }
   ],
   "source": [
    "data_union"
   ]
  },
  {
   "cell_type": "markdown",
   "id": "02332598",
   "metadata": {},
   "source": [
    "4.2 Создадим датафрейм с данными о пользователях без подписки:"
   ]
  },
  {
   "cell_type": "code",
   "execution_count": 37,
   "id": "b1b01629",
   "metadata": {
    "scrolled": true
   },
   "outputs": [
    {
     "data": {
      "text/html": [
       "<div>\n",
       "<style scoped>\n",
       "    .dataframe tbody tr th:only-of-type {\n",
       "        vertical-align: middle;\n",
       "    }\n",
       "\n",
       "    .dataframe tbody tr th {\n",
       "        vertical-align: top;\n",
       "    }\n",
       "\n",
       "    .dataframe thead th {\n",
       "        text-align: right;\n",
       "    }\n",
       "</style>\n",
       "<table border=\"1\" class=\"dataframe\">\n",
       "  <thead>\n",
       "    <tr style=\"text-align: right;\">\n",
       "      <th></th>\n",
       "      <th>user_id</th>\n",
       "      <th>name</th>\n",
       "      <th>age</th>\n",
       "      <th>city</th>\n",
       "      <th>subscription_type</th>\n",
       "      <th>distance</th>\n",
       "      <th>duration</th>\n",
       "      <th>date</th>\n",
       "      <th>month</th>\n",
       "      <th>minute_price</th>\n",
       "      <th>start_ride_price</th>\n",
       "      <th>subscription_fee</th>\n",
       "    </tr>\n",
       "  </thead>\n",
       "  <tbody>\n",
       "    <tr>\n",
       "      <th>6500</th>\n",
       "      <td>700</td>\n",
       "      <td>Айдар</td>\n",
       "      <td>22</td>\n",
       "      <td>Омск</td>\n",
       "      <td>free</td>\n",
       "      <td>2515.690719</td>\n",
       "      <td>14.944286</td>\n",
       "      <td>2021-01-02</td>\n",
       "      <td>1</td>\n",
       "      <td>8</td>\n",
       "      <td>50</td>\n",
       "      <td>0</td>\n",
       "    </tr>\n",
       "    <tr>\n",
       "      <th>6501</th>\n",
       "      <td>700</td>\n",
       "      <td>Айдар</td>\n",
       "      <td>22</td>\n",
       "      <td>Омск</td>\n",
       "      <td>free</td>\n",
       "      <td>846.932642</td>\n",
       "      <td>16.234663</td>\n",
       "      <td>2021-02-01</td>\n",
       "      <td>2</td>\n",
       "      <td>8</td>\n",
       "      <td>50</td>\n",
       "      <td>0</td>\n",
       "    </tr>\n",
       "    <tr>\n",
       "      <th>6502</th>\n",
       "      <td>700</td>\n",
       "      <td>Айдар</td>\n",
       "      <td>22</td>\n",
       "      <td>Омск</td>\n",
       "      <td>free</td>\n",
       "      <td>4004.434142</td>\n",
       "      <td>20.016628</td>\n",
       "      <td>2021-02-04</td>\n",
       "      <td>2</td>\n",
       "      <td>8</td>\n",
       "      <td>50</td>\n",
       "      <td>0</td>\n",
       "    </tr>\n",
       "    <tr>\n",
       "      <th>6503</th>\n",
       "      <td>700</td>\n",
       "      <td>Айдар</td>\n",
       "      <td>22</td>\n",
       "      <td>Омск</td>\n",
       "      <td>free</td>\n",
       "      <td>1205.911290</td>\n",
       "      <td>9.782872</td>\n",
       "      <td>2021-02-10</td>\n",
       "      <td>2</td>\n",
       "      <td>8</td>\n",
       "      <td>50</td>\n",
       "      <td>0</td>\n",
       "    </tr>\n",
       "    <tr>\n",
       "      <th>6504</th>\n",
       "      <td>700</td>\n",
       "      <td>Айдар</td>\n",
       "      <td>22</td>\n",
       "      <td>Омск</td>\n",
       "      <td>free</td>\n",
       "      <td>3047.379435</td>\n",
       "      <td>17.427673</td>\n",
       "      <td>2021-02-14</td>\n",
       "      <td>2</td>\n",
       "      <td>8</td>\n",
       "      <td>50</td>\n",
       "      <td>0</td>\n",
       "    </tr>\n",
       "    <tr>\n",
       "      <th>...</th>\n",
       "      <td>...</td>\n",
       "      <td>...</td>\n",
       "      <td>...</td>\n",
       "      <td>...</td>\n",
       "      <td>...</td>\n",
       "      <td>...</td>\n",
       "      <td>...</td>\n",
       "      <td>...</td>\n",
       "      <td>...</td>\n",
       "      <td>...</td>\n",
       "      <td>...</td>\n",
       "      <td>...</td>\n",
       "    </tr>\n",
       "    <tr>\n",
       "      <th>18063</th>\n",
       "      <td>1534</td>\n",
       "      <td>Альберт</td>\n",
       "      <td>25</td>\n",
       "      <td>Краснодар</td>\n",
       "      <td>free</td>\n",
       "      <td>3781.098080</td>\n",
       "      <td>19.822962</td>\n",
       "      <td>2021-11-04</td>\n",
       "      <td>11</td>\n",
       "      <td>8</td>\n",
       "      <td>50</td>\n",
       "      <td>0</td>\n",
       "    </tr>\n",
       "    <tr>\n",
       "      <th>18064</th>\n",
       "      <td>1534</td>\n",
       "      <td>Альберт</td>\n",
       "      <td>25</td>\n",
       "      <td>Краснодар</td>\n",
       "      <td>free</td>\n",
       "      <td>2840.423057</td>\n",
       "      <td>21.409799</td>\n",
       "      <td>2021-11-16</td>\n",
       "      <td>11</td>\n",
       "      <td>8</td>\n",
       "      <td>50</td>\n",
       "      <td>0</td>\n",
       "    </tr>\n",
       "    <tr>\n",
       "      <th>18065</th>\n",
       "      <td>1534</td>\n",
       "      <td>Альберт</td>\n",
       "      <td>25</td>\n",
       "      <td>Краснодар</td>\n",
       "      <td>free</td>\n",
       "      <td>3826.185507</td>\n",
       "      <td>18.435051</td>\n",
       "      <td>2021-11-18</td>\n",
       "      <td>11</td>\n",
       "      <td>8</td>\n",
       "      <td>50</td>\n",
       "      <td>0</td>\n",
       "    </tr>\n",
       "    <tr>\n",
       "      <th>18066</th>\n",
       "      <td>1534</td>\n",
       "      <td>Альберт</td>\n",
       "      <td>25</td>\n",
       "      <td>Краснодар</td>\n",
       "      <td>free</td>\n",
       "      <td>2902.308661</td>\n",
       "      <td>16.674362</td>\n",
       "      <td>2021-11-27</td>\n",
       "      <td>11</td>\n",
       "      <td>8</td>\n",
       "      <td>50</td>\n",
       "      <td>0</td>\n",
       "    </tr>\n",
       "    <tr>\n",
       "      <th>18067</th>\n",
       "      <td>1534</td>\n",
       "      <td>Альберт</td>\n",
       "      <td>25</td>\n",
       "      <td>Краснодар</td>\n",
       "      <td>free</td>\n",
       "      <td>2371.711192</td>\n",
       "      <td>15.893917</td>\n",
       "      <td>2021-12-29</td>\n",
       "      <td>12</td>\n",
       "      <td>8</td>\n",
       "      <td>50</td>\n",
       "      <td>0</td>\n",
       "    </tr>\n",
       "  </tbody>\n",
       "</table>\n",
       "<p>11568 rows × 12 columns</p>\n",
       "</div>"
      ],
      "text/plain": [
       "       user_id     name  age       city subscription_type     distance  \\\n",
       "6500       700    Айдар   22       Омск              free  2515.690719   \n",
       "6501       700    Айдар   22       Омск              free   846.932642   \n",
       "6502       700    Айдар   22       Омск              free  4004.434142   \n",
       "6503       700    Айдар   22       Омск              free  1205.911290   \n",
       "6504       700    Айдар   22       Омск              free  3047.379435   \n",
       "...        ...      ...  ...        ...               ...          ...   \n",
       "18063     1534  Альберт   25  Краснодар              free  3781.098080   \n",
       "18064     1534  Альберт   25  Краснодар              free  2840.423057   \n",
       "18065     1534  Альберт   25  Краснодар              free  3826.185507   \n",
       "18066     1534  Альберт   25  Краснодар              free  2902.308661   \n",
       "18067     1534  Альберт   25  Краснодар              free  2371.711192   \n",
       "\n",
       "        duration       date  month  minute_price  start_ride_price  \\\n",
       "6500   14.944286 2021-01-02      1             8                50   \n",
       "6501   16.234663 2021-02-01      2             8                50   \n",
       "6502   20.016628 2021-02-04      2             8                50   \n",
       "6503    9.782872 2021-02-10      2             8                50   \n",
       "6504   17.427673 2021-02-14      2             8                50   \n",
       "...          ...        ...    ...           ...               ...   \n",
       "18063  19.822962 2021-11-04     11             8                50   \n",
       "18064  21.409799 2021-11-16     11             8                50   \n",
       "18065  18.435051 2021-11-18     11             8                50   \n",
       "18066  16.674362 2021-11-27     11             8                50   \n",
       "18067  15.893917 2021-12-29     12             8                50   \n",
       "\n",
       "       subscription_fee  \n",
       "6500                  0  \n",
       "6501                  0  \n",
       "6502                  0  \n",
       "6503                  0  \n",
       "6504                  0  \n",
       "...                 ...  \n",
       "18063                 0  \n",
       "18064                 0  \n",
       "18065                 0  \n",
       "18066                 0  \n",
       "18067                 0  \n",
       "\n",
       "[11568 rows x 12 columns]"
      ]
     },
     "execution_count": 37,
     "metadata": {},
     "output_type": "execute_result"
    }
   ],
   "source": [
    "subs_free = data_union.loc[data_union['subscription_type'] == 'free']\n",
    "subs_free"
   ]
  },
  {
   "cell_type": "markdown",
   "id": "25b81fa5",
   "metadata": {},
   "source": [
    "4.2 Создадим датафрейм с данными о пользователях c подпиской:"
   ]
  },
  {
   "cell_type": "code",
   "execution_count": 38,
   "id": "aa95b1bf",
   "metadata": {},
   "outputs": [
    {
     "data": {
      "text/html": [
       "<div>\n",
       "<style scoped>\n",
       "    .dataframe tbody tr th:only-of-type {\n",
       "        vertical-align: middle;\n",
       "    }\n",
       "\n",
       "    .dataframe tbody tr th {\n",
       "        vertical-align: top;\n",
       "    }\n",
       "\n",
       "    .dataframe thead th {\n",
       "        text-align: right;\n",
       "    }\n",
       "</style>\n",
       "<table border=\"1\" class=\"dataframe\">\n",
       "  <thead>\n",
       "    <tr style=\"text-align: right;\">\n",
       "      <th></th>\n",
       "      <th>user_id</th>\n",
       "      <th>name</th>\n",
       "      <th>age</th>\n",
       "      <th>city</th>\n",
       "      <th>subscription_type</th>\n",
       "      <th>distance</th>\n",
       "      <th>duration</th>\n",
       "      <th>date</th>\n",
       "      <th>month</th>\n",
       "      <th>minute_price</th>\n",
       "      <th>start_ride_price</th>\n",
       "      <th>subscription_fee</th>\n",
       "    </tr>\n",
       "  </thead>\n",
       "  <tbody>\n",
       "    <tr>\n",
       "      <th>0</th>\n",
       "      <td>1</td>\n",
       "      <td>Кира</td>\n",
       "      <td>22</td>\n",
       "      <td>Тюмень</td>\n",
       "      <td>ultra</td>\n",
       "      <td>4409.919140</td>\n",
       "      <td>25.599769</td>\n",
       "      <td>2021-01-01</td>\n",
       "      <td>1</td>\n",
       "      <td>6</td>\n",
       "      <td>0</td>\n",
       "      <td>199</td>\n",
       "    </tr>\n",
       "    <tr>\n",
       "      <th>1</th>\n",
       "      <td>1</td>\n",
       "      <td>Кира</td>\n",
       "      <td>22</td>\n",
       "      <td>Тюмень</td>\n",
       "      <td>ultra</td>\n",
       "      <td>2617.592153</td>\n",
       "      <td>15.816871</td>\n",
       "      <td>2021-01-18</td>\n",
       "      <td>1</td>\n",
       "      <td>6</td>\n",
       "      <td>0</td>\n",
       "      <td>199</td>\n",
       "    </tr>\n",
       "    <tr>\n",
       "      <th>2</th>\n",
       "      <td>1</td>\n",
       "      <td>Кира</td>\n",
       "      <td>22</td>\n",
       "      <td>Тюмень</td>\n",
       "      <td>ultra</td>\n",
       "      <td>754.159807</td>\n",
       "      <td>6.232113</td>\n",
       "      <td>2021-04-20</td>\n",
       "      <td>4</td>\n",
       "      <td>6</td>\n",
       "      <td>0</td>\n",
       "      <td>199</td>\n",
       "    </tr>\n",
       "    <tr>\n",
       "      <th>3</th>\n",
       "      <td>1</td>\n",
       "      <td>Кира</td>\n",
       "      <td>22</td>\n",
       "      <td>Тюмень</td>\n",
       "      <td>ultra</td>\n",
       "      <td>2694.783254</td>\n",
       "      <td>18.511000</td>\n",
       "      <td>2021-08-11</td>\n",
       "      <td>8</td>\n",
       "      <td>6</td>\n",
       "      <td>0</td>\n",
       "      <td>199</td>\n",
       "    </tr>\n",
       "    <tr>\n",
       "      <th>4</th>\n",
       "      <td>1</td>\n",
       "      <td>Кира</td>\n",
       "      <td>22</td>\n",
       "      <td>Тюмень</td>\n",
       "      <td>ultra</td>\n",
       "      <td>4028.687306</td>\n",
       "      <td>26.265803</td>\n",
       "      <td>2021-08-28</td>\n",
       "      <td>8</td>\n",
       "      <td>6</td>\n",
       "      <td>0</td>\n",
       "      <td>199</td>\n",
       "    </tr>\n",
       "    <tr>\n",
       "      <th>...</th>\n",
       "      <td>...</td>\n",
       "      <td>...</td>\n",
       "      <td>...</td>\n",
       "      <td>...</td>\n",
       "      <td>...</td>\n",
       "      <td>...</td>\n",
       "      <td>...</td>\n",
       "      <td>...</td>\n",
       "      <td>...</td>\n",
       "      <td>...</td>\n",
       "      <td>...</td>\n",
       "      <td>...</td>\n",
       "    </tr>\n",
       "    <tr>\n",
       "      <th>6495</th>\n",
       "      <td>699</td>\n",
       "      <td>Оксана</td>\n",
       "      <td>22</td>\n",
       "      <td>Москва</td>\n",
       "      <td>ultra</td>\n",
       "      <td>3973.046497</td>\n",
       "      <td>24.671163</td>\n",
       "      <td>2021-08-29</td>\n",
       "      <td>8</td>\n",
       "      <td>6</td>\n",
       "      <td>0</td>\n",
       "      <td>199</td>\n",
       "    </tr>\n",
       "    <tr>\n",
       "      <th>6496</th>\n",
       "      <td>699</td>\n",
       "      <td>Оксана</td>\n",
       "      <td>22</td>\n",
       "      <td>Москва</td>\n",
       "      <td>ultra</td>\n",
       "      <td>3288.702563</td>\n",
       "      <td>15.892886</td>\n",
       "      <td>2021-09-12</td>\n",
       "      <td>9</td>\n",
       "      <td>6</td>\n",
       "      <td>0</td>\n",
       "      <td>199</td>\n",
       "    </tr>\n",
       "    <tr>\n",
       "      <th>6497</th>\n",
       "      <td>699</td>\n",
       "      <td>Оксана</td>\n",
       "      <td>22</td>\n",
       "      <td>Москва</td>\n",
       "      <td>ultra</td>\n",
       "      <td>3076.159348</td>\n",
       "      <td>14.389525</td>\n",
       "      <td>2021-09-26</td>\n",
       "      <td>9</td>\n",
       "      <td>6</td>\n",
       "      <td>0</td>\n",
       "      <td>199</td>\n",
       "    </tr>\n",
       "    <tr>\n",
       "      <th>6498</th>\n",
       "      <td>699</td>\n",
       "      <td>Оксана</td>\n",
       "      <td>22</td>\n",
       "      <td>Москва</td>\n",
       "      <td>ultra</td>\n",
       "      <td>4707.845501</td>\n",
       "      <td>15.839579</td>\n",
       "      <td>2021-10-17</td>\n",
       "      <td>10</td>\n",
       "      <td>6</td>\n",
       "      <td>0</td>\n",
       "      <td>199</td>\n",
       "    </tr>\n",
       "    <tr>\n",
       "      <th>6499</th>\n",
       "      <td>699</td>\n",
       "      <td>Оксана</td>\n",
       "      <td>22</td>\n",
       "      <td>Москва</td>\n",
       "      <td>ultra</td>\n",
       "      <td>3202.890770</td>\n",
       "      <td>25.217345</td>\n",
       "      <td>2021-12-03</td>\n",
       "      <td>12</td>\n",
       "      <td>6</td>\n",
       "      <td>0</td>\n",
       "      <td>199</td>\n",
       "    </tr>\n",
       "  </tbody>\n",
       "</table>\n",
       "<p>6500 rows × 12 columns</p>\n",
       "</div>"
      ],
      "text/plain": [
       "      user_id    name  age    city subscription_type     distance   duration  \\\n",
       "0           1    Кира   22  Тюмень             ultra  4409.919140  25.599769   \n",
       "1           1    Кира   22  Тюмень             ultra  2617.592153  15.816871   \n",
       "2           1    Кира   22  Тюмень             ultra   754.159807   6.232113   \n",
       "3           1    Кира   22  Тюмень             ultra  2694.783254  18.511000   \n",
       "4           1    Кира   22  Тюмень             ultra  4028.687306  26.265803   \n",
       "...       ...     ...  ...     ...               ...          ...        ...   \n",
       "6495      699  Оксана   22  Москва             ultra  3973.046497  24.671163   \n",
       "6496      699  Оксана   22  Москва             ultra  3288.702563  15.892886   \n",
       "6497      699  Оксана   22  Москва             ultra  3076.159348  14.389525   \n",
       "6498      699  Оксана   22  Москва             ultra  4707.845501  15.839579   \n",
       "6499      699  Оксана   22  Москва             ultra  3202.890770  25.217345   \n",
       "\n",
       "           date  month  minute_price  start_ride_price  subscription_fee  \n",
       "0    2021-01-01      1             6                 0               199  \n",
       "1    2021-01-18      1             6                 0               199  \n",
       "2    2021-04-20      4             6                 0               199  \n",
       "3    2021-08-11      8             6                 0               199  \n",
       "4    2021-08-28      8             6                 0               199  \n",
       "...         ...    ...           ...               ...               ...  \n",
       "6495 2021-08-29      8             6                 0               199  \n",
       "6496 2021-09-12      9             6                 0               199  \n",
       "6497 2021-09-26      9             6                 0               199  \n",
       "6498 2021-10-17     10             6                 0               199  \n",
       "6499 2021-12-03     12             6                 0               199  \n",
       "\n",
       "[6500 rows x 12 columns]"
      ]
     },
     "execution_count": 38,
     "metadata": {},
     "output_type": "execute_result"
    }
   ],
   "source": [
    "subs_ultra = data_union.loc[data_union['subscription_type'] == 'ultra']\n",
    "subs_ultra"
   ]
  },
  {
   "cell_type": "markdown",
   "id": "d81bec2d",
   "metadata": {},
   "source": [
    "4.3 Визуализируем информацию о расстоянии и времени поездок для пользователей без подписки:"
   ]
  },
  {
   "cell_type": "code",
   "execution_count": 39,
   "id": "a5ff2d3e",
   "metadata": {
    "scrolled": false
   },
   "outputs": [
    {
     "data": {
      "image/png": "[encoded data removed]",
      "text/plain": [
       "<Figure size 1000x1000 with 1 Axes>"
      ]
     },
     "metadata": {},
     "output_type": "display_data"
    }
   ],
   "source": [
    "subs_free['distance'].hist(bins = 50, figsize = (10,10))\n",
    "plt.title('Расстояние поездок у пользователей без подписки');"
   ]
  },
  {
   "cell_type": "code",
   "execution_count": 40,
   "id": "7dd27ef9",
   "metadata": {},
   "outputs": [
    {
     "data": {
      "text/plain": [
       "count    11568.000000\n",
       "mean      3045.495282\n",
       "std       1246.173806\n",
       "min          0.855683\n",
       "25%       2366.562689\n",
       "50%       3114.648465\n",
       "75%       3905.697894\n",
       "max       7211.007745\n",
       "Name: distance, dtype: float64"
      ]
     },
     "execution_count": 40,
     "metadata": {},
     "output_type": "execute_result"
    }
   ],
   "source": [
    "subs_free['distance'].describe()"
   ]
  },
  {
   "cell_type": "code",
   "execution_count": 41,
   "id": "1d4f98e4",
   "metadata": {},
   "outputs": [
    {
     "data": {
      "image/png": "[encoded data removed]",
      "text/plain": [
       "<Figure size 1000x1000 with 1 Axes>"
      ]
     },
     "metadata": {},
     "output_type": "display_data"
    }
   ],
   "source": [
    "subs_free['duration'].hist(bins = 50, figsize = (10,10))\n",
    "plt.title('Продолжительность поездок у пользователей без подписки');"
   ]
  },
  {
   "cell_type": "code",
   "execution_count": 42,
   "id": "79e97684",
   "metadata": {},
   "outputs": [
    {
     "data": {
      "text/plain": [
       "count    11568.000000\n",
       "mean        17.390909\n",
       "std          6.326803\n",
       "min          0.500000\n",
       "25%         12.958437\n",
       "50%         17.326890\n",
       "75%         21.594071\n",
       "max         34.948498\n",
       "Name: duration, dtype: float64"
      ]
     },
     "execution_count": 42,
     "metadata": {},
     "output_type": "execute_result"
    }
   ],
   "source": [
    "subs_free['duration'].describe()"
   ]
  },
  {
   "cell_type": "markdown",
   "id": "5c8f946b",
   "metadata": {},
   "source": [
    "Вывод: пользователи без подписки в основном преодолевают расстояние от 2 до 4 км., а время поездки состовляет от 12 до 25 минут."
   ]
  },
  {
   "cell_type": "markdown",
   "id": "980a5b34",
   "metadata": {},
   "source": [
    "4.3 Визуализируем информацию о расстоянии и времени поездок для пользователей с подпиской:"
   ]
  },
  {
   "cell_type": "code",
   "execution_count": 43,
   "id": "86d5090d",
   "metadata": {},
   "outputs": [
    {
     "data": {
      "image/png": "[encoded data removed]",
      "text/plain": [
       "<Figure size 1000x1000 with 1 Axes>"
      ]
     },
     "metadata": {},
     "output_type": "display_data"
    }
   ],
   "source": [
    "subs_ultra['distance'].hist(bins = 50, figsize = (10,10))\n",
    "plt.title('Расстояние поездок у пользователей c подпиской');"
   ]
  },
  {
   "cell_type": "code",
   "execution_count": 44,
   "id": "8785b0f9",
   "metadata": {},
   "outputs": [
    {
     "data": {
      "text/plain": [
       "count    6500.000000\n",
       "mean     3115.445388\n",
       "std       836.895330\n",
       "min       244.210438\n",
       "25%      2785.444017\n",
       "50%      3148.637229\n",
       "75%      3560.574425\n",
       "max      5699.769662\n",
       "Name: distance, dtype: float64"
      ]
     },
     "execution_count": 44,
     "metadata": {},
     "output_type": "execute_result"
    }
   ],
   "source": [
    "subs_ultra['distance'].describe()"
   ]
  },
  {
   "cell_type": "code",
   "execution_count": 45,
   "id": "19fcfa8c",
   "metadata": {},
   "outputs": [
    {
     "data": {
      "image/png": "[encoded data removed]",
      "text/plain": [
       "<Figure size 1000x1000 with 1 Axes>"
      ]
     },
     "metadata": {},
     "output_type": "display_data"
    }
   ],
   "source": [
    "subs_ultra['duration'].hist(bins = 50, figsize = (10,10))\n",
    "plt.title('Продолжительность поездок у пользователей c подпиской');"
   ]
  },
  {
   "cell_type": "code",
   "execution_count": 46,
   "id": "ff464bd9",
   "metadata": {},
   "outputs": [
    {
     "data": {
      "text/plain": [
       "count    6500.000000\n",
       "mean       18.541985\n",
       "std         5.572048\n",
       "min         3.760353\n",
       "25%        14.524654\n",
       "50%        18.178153\n",
       "75%        21.884129\n",
       "max        40.823963\n",
       "Name: duration, dtype: float64"
      ]
     },
     "execution_count": 46,
     "metadata": {},
     "output_type": "execute_result"
    }
   ],
   "source": [
    "subs_ultra['duration'].describe()"
   ]
  },
  {
   "cell_type": "markdown",
   "id": "05f61ead",
   "metadata": {},
   "source": [
    "Вывод: пользователи с подпиской в основном преодолевают расстояние от 2,7 до 3,5 км., а время поездки состовляет от 15 до 25 минут."
   ]
  },
  {
   "cell_type": "markdown",
   "id": "402d620f",
   "metadata": {},
   "source": [
    "#### Шаг 5. Подсчёт выручки"
   ]
  },
  {
   "cell_type": "markdown",
   "id": "254cd996",
   "metadata": {},
   "source": [
    "5.1 Найдем суммарное расстояние, количество поездок и суммарное время для каждого пользователя за каждый месяц:"
   ]
  },
  {
   "cell_type": "code",
   "execution_count": 47,
   "id": "89f5f318",
   "metadata": {},
   "outputs": [],
   "source": [
    "data_union['duration'] = np.ceil(data_union['duration'])"
   ]
  },
  {
   "cell_type": "code",
   "execution_count": 48,
   "id": "0427112c",
   "metadata": {},
   "outputs": [
    {
     "data": {
      "text/html": [
       "<div>\n",
       "<style scoped>\n",
       "    .dataframe tbody tr th:only-of-type {\n",
       "        vertical-align: middle;\n",
       "    }\n",
       "\n",
       "    .dataframe tbody tr th {\n",
       "        vertical-align: top;\n",
       "    }\n",
       "\n",
       "    .dataframe thead th {\n",
       "        text-align: right;\n",
       "    }\n",
       "</style>\n",
       "<table border=\"1\" class=\"dataframe\">\n",
       "  <thead>\n",
       "    <tr style=\"text-align: right;\">\n",
       "      <th></th>\n",
       "      <th>user_id</th>\n",
       "      <th>month</th>\n",
       "      <th>distance</th>\n",
       "      <th>duration</th>\n",
       "      <th>count</th>\n",
       "      <th>subscription_type</th>\n",
       "      <th>minute_price</th>\n",
       "      <th>start_ride_price</th>\n",
       "      <th>subscription_fee</th>\n",
       "    </tr>\n",
       "  </thead>\n",
       "  <tbody>\n",
       "    <tr>\n",
       "      <th>0</th>\n",
       "      <td>1</td>\n",
       "      <td>1</td>\n",
       "      <td>7027.511294</td>\n",
       "      <td>42.0</td>\n",
       "      <td>2</td>\n",
       "      <td>ultra</td>\n",
       "      <td>6</td>\n",
       "      <td>0</td>\n",
       "      <td>199</td>\n",
       "    </tr>\n",
       "    <tr>\n",
       "      <th>1</th>\n",
       "      <td>1</td>\n",
       "      <td>4</td>\n",
       "      <td>754.159807</td>\n",
       "      <td>7.0</td>\n",
       "      <td>1</td>\n",
       "      <td>ultra</td>\n",
       "      <td>6</td>\n",
       "      <td>0</td>\n",
       "      <td>199</td>\n",
       "    </tr>\n",
       "    <tr>\n",
       "      <th>2</th>\n",
       "      <td>1</td>\n",
       "      <td>8</td>\n",
       "      <td>6723.470560</td>\n",
       "      <td>46.0</td>\n",
       "      <td>2</td>\n",
       "      <td>ultra</td>\n",
       "      <td>6</td>\n",
       "      <td>0</td>\n",
       "      <td>199</td>\n",
       "    </tr>\n",
       "    <tr>\n",
       "      <th>3</th>\n",
       "      <td>1</td>\n",
       "      <td>10</td>\n",
       "      <td>5809.911100</td>\n",
       "      <td>32.0</td>\n",
       "      <td>2</td>\n",
       "      <td>ultra</td>\n",
       "      <td>6</td>\n",
       "      <td>0</td>\n",
       "      <td>199</td>\n",
       "    </tr>\n",
       "    <tr>\n",
       "      <th>4</th>\n",
       "      <td>1</td>\n",
       "      <td>11</td>\n",
       "      <td>7003.499363</td>\n",
       "      <td>56.0</td>\n",
       "      <td>3</td>\n",
       "      <td>ultra</td>\n",
       "      <td>6</td>\n",
       "      <td>0</td>\n",
       "      <td>199</td>\n",
       "    </tr>\n",
       "    <tr>\n",
       "      <th>...</th>\n",
       "      <td>...</td>\n",
       "      <td>...</td>\n",
       "      <td>...</td>\n",
       "      <td>...</td>\n",
       "      <td>...</td>\n",
       "      <td>...</td>\n",
       "      <td>...</td>\n",
       "      <td>...</td>\n",
       "      <td>...</td>\n",
       "    </tr>\n",
       "    <tr>\n",
       "      <th>11326</th>\n",
       "      <td>1534</td>\n",
       "      <td>6</td>\n",
       "      <td>3409.468534</td>\n",
       "      <td>26.0</td>\n",
       "      <td>2</td>\n",
       "      <td>free</td>\n",
       "      <td>8</td>\n",
       "      <td>50</td>\n",
       "      <td>0</td>\n",
       "    </tr>\n",
       "    <tr>\n",
       "      <th>11327</th>\n",
       "      <td>1534</td>\n",
       "      <td>8</td>\n",
       "      <td>7622.453034</td>\n",
       "      <td>48.0</td>\n",
       "      <td>2</td>\n",
       "      <td>free</td>\n",
       "      <td>8</td>\n",
       "      <td>50</td>\n",
       "      <td>0</td>\n",
       "    </tr>\n",
       "    <tr>\n",
       "      <th>11328</th>\n",
       "      <td>1534</td>\n",
       "      <td>9</td>\n",
       "      <td>4928.173852</td>\n",
       "      <td>23.0</td>\n",
       "      <td>1</td>\n",
       "      <td>free</td>\n",
       "      <td>8</td>\n",
       "      <td>50</td>\n",
       "      <td>0</td>\n",
       "    </tr>\n",
       "    <tr>\n",
       "      <th>11329</th>\n",
       "      <td>1534</td>\n",
       "      <td>11</td>\n",
       "      <td>13350.015305</td>\n",
       "      <td>78.0</td>\n",
       "      <td>4</td>\n",
       "      <td>free</td>\n",
       "      <td>8</td>\n",
       "      <td>50</td>\n",
       "      <td>0</td>\n",
       "    </tr>\n",
       "    <tr>\n",
       "      <th>11330</th>\n",
       "      <td>1534</td>\n",
       "      <td>12</td>\n",
       "      <td>2371.711192</td>\n",
       "      <td>16.0</td>\n",
       "      <td>1</td>\n",
       "      <td>free</td>\n",
       "      <td>8</td>\n",
       "      <td>50</td>\n",
       "      <td>0</td>\n",
       "    </tr>\n",
       "  </tbody>\n",
       "</table>\n",
       "<p>11331 rows × 9 columns</p>\n",
       "</div>"
      ],
      "text/plain": [
       "       user_id  month      distance  duration  count subscription_type  \\\n",
       "0            1      1   7027.511294      42.0      2             ultra   \n",
       "1            1      4    754.159807       7.0      1             ultra   \n",
       "2            1      8   6723.470560      46.0      2             ultra   \n",
       "3            1     10   5809.911100      32.0      2             ultra   \n",
       "4            1     11   7003.499363      56.0      3             ultra   \n",
       "...        ...    ...           ...       ...    ...               ...   \n",
       "11326     1534      6   3409.468534      26.0      2              free   \n",
       "11327     1534      8   7622.453034      48.0      2              free   \n",
       "11328     1534      9   4928.173852      23.0      1              free   \n",
       "11329     1534     11  13350.015305      78.0      4              free   \n",
       "11330     1534     12   2371.711192      16.0      1              free   \n",
       "\n",
       "       minute_price  start_ride_price  subscription_fee  \n",
       "0                 6                 0               199  \n",
       "1                 6                 0               199  \n",
       "2                 6                 0               199  \n",
       "3                 6                 0               199  \n",
       "4                 6                 0               199  \n",
       "...             ...               ...               ...  \n",
       "11326             8                50                 0  \n",
       "11327             8                50                 0  \n",
       "11328             8                50                 0  \n",
       "11329             8                50                 0  \n",
       "11330             8                50                 0  \n",
       "\n",
       "[11331 rows x 9 columns]"
      ]
     },
     "execution_count": 48,
     "metadata": {},
     "output_type": "execute_result"
    }
   ],
   "source": [
    "aggregated_data = (data_union.groupby(['user_id', 'month'])\n",
    "                   .agg({'distance':'sum'\n",
    "                          , 'duration':['sum', 'count']\n",
    "                          , 'subscription_type':'first'\n",
    "                          , 'minute_price':'first'\n",
    "                          , 'start_ride_price':'first'\n",
    "                          , 'subscription_fee':'first'}).reset_index())\n",
    "aggregated_data.columns = ['user_id', 'month', 'distance', 'duration', 'count', 'subscription_type', 'minute_price', 'start_ride_price', 'subscription_fee']\n",
    "\n",
    "aggregated_data"
   ]
  },
  {
   "cell_type": "code",
   "execution_count": 49,
   "id": "f968721d",
   "metadata": {},
   "outputs": [
    {
     "data": {
      "text/html": [
       "<div>\n",
       "<style scoped>\n",
       "    .dataframe tbody tr th:only-of-type {\n",
       "        vertical-align: middle;\n",
       "    }\n",
       "\n",
       "    .dataframe tbody tr th {\n",
       "        vertical-align: top;\n",
       "    }\n",
       "\n",
       "    .dataframe thead th {\n",
       "        text-align: right;\n",
       "    }\n",
       "</style>\n",
       "<table border=\"1\" class=\"dataframe\">\n",
       "  <thead>\n",
       "    <tr style=\"text-align: right;\">\n",
       "      <th></th>\n",
       "      <th>user_id</th>\n",
       "      <th>month</th>\n",
       "      <th>total_distance</th>\n",
       "      <th>total_duration</th>\n",
       "      <th>count</th>\n",
       "      <th>subscription_type</th>\n",
       "      <th>minute_price</th>\n",
       "      <th>start_ride_price</th>\n",
       "      <th>subscription_fee</th>\n",
       "    </tr>\n",
       "  </thead>\n",
       "  <tbody>\n",
       "    <tr>\n",
       "      <th>0</th>\n",
       "      <td>1</td>\n",
       "      <td>1</td>\n",
       "      <td>7027.511294</td>\n",
       "      <td>42.0</td>\n",
       "      <td>2</td>\n",
       "      <td>ultra</td>\n",
       "      <td>6</td>\n",
       "      <td>0</td>\n",
       "      <td>199</td>\n",
       "    </tr>\n",
       "    <tr>\n",
       "      <th>1</th>\n",
       "      <td>1</td>\n",
       "      <td>4</td>\n",
       "      <td>754.159807</td>\n",
       "      <td>7.0</td>\n",
       "      <td>1</td>\n",
       "      <td>ultra</td>\n",
       "      <td>6</td>\n",
       "      <td>0</td>\n",
       "      <td>199</td>\n",
       "    </tr>\n",
       "    <tr>\n",
       "      <th>2</th>\n",
       "      <td>1</td>\n",
       "      <td>8</td>\n",
       "      <td>6723.470560</td>\n",
       "      <td>46.0</td>\n",
       "      <td>2</td>\n",
       "      <td>ultra</td>\n",
       "      <td>6</td>\n",
       "      <td>0</td>\n",
       "      <td>199</td>\n",
       "    </tr>\n",
       "    <tr>\n",
       "      <th>3</th>\n",
       "      <td>1</td>\n",
       "      <td>10</td>\n",
       "      <td>5809.911100</td>\n",
       "      <td>32.0</td>\n",
       "      <td>2</td>\n",
       "      <td>ultra</td>\n",
       "      <td>6</td>\n",
       "      <td>0</td>\n",
       "      <td>199</td>\n",
       "    </tr>\n",
       "    <tr>\n",
       "      <th>4</th>\n",
       "      <td>1</td>\n",
       "      <td>11</td>\n",
       "      <td>7003.499363</td>\n",
       "      <td>56.0</td>\n",
       "      <td>3</td>\n",
       "      <td>ultra</td>\n",
       "      <td>6</td>\n",
       "      <td>0</td>\n",
       "      <td>199</td>\n",
       "    </tr>\n",
       "    <tr>\n",
       "      <th>...</th>\n",
       "      <td>...</td>\n",
       "      <td>...</td>\n",
       "      <td>...</td>\n",
       "      <td>...</td>\n",
       "      <td>...</td>\n",
       "      <td>...</td>\n",
       "      <td>...</td>\n",
       "      <td>...</td>\n",
       "      <td>...</td>\n",
       "    </tr>\n",
       "    <tr>\n",
       "      <th>11326</th>\n",
       "      <td>1534</td>\n",
       "      <td>6</td>\n",
       "      <td>3409.468534</td>\n",
       "      <td>26.0</td>\n",
       "      <td>2</td>\n",
       "      <td>free</td>\n",
       "      <td>8</td>\n",
       "      <td>50</td>\n",
       "      <td>0</td>\n",
       "    </tr>\n",
       "    <tr>\n",
       "      <th>11327</th>\n",
       "      <td>1534</td>\n",
       "      <td>8</td>\n",
       "      <td>7622.453034</td>\n",
       "      <td>48.0</td>\n",
       "      <td>2</td>\n",
       "      <td>free</td>\n",
       "      <td>8</td>\n",
       "      <td>50</td>\n",
       "      <td>0</td>\n",
       "    </tr>\n",
       "    <tr>\n",
       "      <th>11328</th>\n",
       "      <td>1534</td>\n",
       "      <td>9</td>\n",
       "      <td>4928.173852</td>\n",
       "      <td>23.0</td>\n",
       "      <td>1</td>\n",
       "      <td>free</td>\n",
       "      <td>8</td>\n",
       "      <td>50</td>\n",
       "      <td>0</td>\n",
       "    </tr>\n",
       "    <tr>\n",
       "      <th>11329</th>\n",
       "      <td>1534</td>\n",
       "      <td>11</td>\n",
       "      <td>13350.015305</td>\n",
       "      <td>78.0</td>\n",
       "      <td>4</td>\n",
       "      <td>free</td>\n",
       "      <td>8</td>\n",
       "      <td>50</td>\n",
       "      <td>0</td>\n",
       "    </tr>\n",
       "    <tr>\n",
       "      <th>11330</th>\n",
       "      <td>1534</td>\n",
       "      <td>12</td>\n",
       "      <td>2371.711192</td>\n",
       "      <td>16.0</td>\n",
       "      <td>1</td>\n",
       "      <td>free</td>\n",
       "      <td>8</td>\n",
       "      <td>50</td>\n",
       "      <td>0</td>\n",
       "    </tr>\n",
       "  </tbody>\n",
       "</table>\n",
       "<p>11331 rows × 9 columns</p>\n",
       "</div>"
      ],
      "text/plain": [
       "       user_id  month  total_distance  total_duration  count  \\\n",
       "0            1      1     7027.511294            42.0      2   \n",
       "1            1      4      754.159807             7.0      1   \n",
       "2            1      8     6723.470560            46.0      2   \n",
       "3            1     10     5809.911100            32.0      2   \n",
       "4            1     11     7003.499363            56.0      3   \n",
       "...        ...    ...             ...             ...    ...   \n",
       "11326     1534      6     3409.468534            26.0      2   \n",
       "11327     1534      8     7622.453034            48.0      2   \n",
       "11328     1534      9     4928.173852            23.0      1   \n",
       "11329     1534     11    13350.015305            78.0      4   \n",
       "11330     1534     12     2371.711192            16.0      1   \n",
       "\n",
       "      subscription_type  minute_price  start_ride_price  subscription_fee  \n",
       "0                 ultra             6                 0               199  \n",
       "1                 ultra             6                 0               199  \n",
       "2                 ultra             6                 0               199  \n",
       "3                 ultra             6                 0               199  \n",
       "4                 ultra             6                 0               199  \n",
       "...                 ...           ...               ...               ...  \n",
       "11326              free             8                50                 0  \n",
       "11327              free             8                50                 0  \n",
       "11328              free             8                50                 0  \n",
       "11329              free             8                50                 0  \n",
       "11330              free             8                50                 0  \n",
       "\n",
       "[11331 rows x 9 columns]"
      ]
     },
     "execution_count": 49,
     "metadata": {},
     "output_type": "execute_result"
    }
   ],
   "source": [
    "aggregated_data.rename(columns = {'distance' : 'total_distance', 'duration' : 'total_duration'}, inplace = True)\n",
    "aggregated_data"
   ]
  },
  {
   "cell_type": "markdown",
   "id": "83fa509c",
   "metadata": {},
   "source": [
    "5.2 Добавим столбец с помесячной выручкой, которую принёс каждый пользователь:"
   ]
  },
  {
   "cell_type": "code",
   "execution_count": 50,
   "id": "45392316",
   "metadata": {},
   "outputs": [],
   "source": [
    "def revenue(row):\n",
    "    \n",
    "    subscription_type = row['subscription_type']\n",
    "    \n",
    "    if subscription_type == 'ultra':\n",
    "        \n",
    "        return 199+row['count']*0+row['total_duration']*6\n",
    "    \n",
    "    if subscription_type == 'free':\n",
    "        \n",
    "        return row['count']*50+row['total_duration']*8"
   ]
  },
  {
   "cell_type": "code",
   "execution_count": 51,
   "id": "7188f1be",
   "metadata": {},
   "outputs": [],
   "source": [
    "aggregated_data['revenue'] = aggregated_data.apply(revenue, axis=1)"
   ]
  },
  {
   "cell_type": "code",
   "execution_count": 52,
   "id": "117cdf1d",
   "metadata": {},
   "outputs": [
    {
     "data": {
      "text/plain": [
       "0    451.0\n",
       "1    241.0\n",
       "2    475.0\n",
       "3    391.0\n",
       "4    535.0\n",
       "Name: revenue, dtype: float64"
      ]
     },
     "execution_count": 52,
     "metadata": {},
     "output_type": "execute_result"
    }
   ],
   "source": [
    "aggregated_data['revenue'].head()"
   ]
  },
  {
   "cell_type": "markdown",
   "id": "41545ac0",
   "metadata": {},
   "source": [
    "#### Шаг 6. Проверка гипотез"
   ]
  },
  {
   "cell_type": "markdown",
   "id": "3f8f2bbd",
   "metadata": {},
   "source": [
    "6.1 Проверим гипотезу: тратят ли пользователи с подпиской больше времени на поездки?"
   ]
  },
  {
   "cell_type": "markdown",
   "id": "47b8f0f3",
   "metadata": {},
   "source": [
    "H0 будет время на поездки пользователей с подпиской == времени на поездки пользователей без подписки;\n",
    "Н1 будет время на поездки пользователей с подпиской > времени на поездки пользователей без подписки"
   ]
  },
  {
   "cell_type": "code",
   "execution_count": 53,
   "id": "23ea867b",
   "metadata": {},
   "outputs": [
    {
     "name": "stdout",
     "output_type": "stream",
     "text": [
      "1.2804098316645618e-34\n",
      "Отвергаем нулевую гипотезу\n"
     ]
    }
   ],
   "source": [
    "users_ultra = subs_ultra['duration'] \n",
    "users_free = subs_free['duration']\n",
    "\n",
    "results = st.ttest_ind(\n",
    "                       users_ultra, \n",
    "                       users_free,\n",
    "                       alternative = 'greater')\n",
    "\n",
    "alpha = 0.05\n",
    "\n",
    "print(results.pvalue)\n",
    "\n",
    "if results.pvalue < alpha:\n",
    "    print('Отвергаем нулевую гипотезу')\n",
    "else:\n",
    "    print('Не получилось отвергнуть нулевую гипотезу')"
   ]
  },
  {
   "cell_type": "markdown",
   "id": "992a5386",
   "metadata": {},
   "source": [
    "Проверили гипотезу о том, тратят ли пользователи с подпиской больше времени на поездки."
   ]
  },
  {
   "cell_type": "markdown",
   "id": "fc59f560",
   "metadata": {},
   "source": [
    "6.2 Проверим гипотезу о том, что расстояние, которое проезжают пользователи с подпиской за одну поездку, не превышает 3130 метров? "
   ]
  },
  {
   "cell_type": "markdown",
   "id": "1774b884",
   "metadata": {},
   "source": [
    "H0 Расстояние пользователей за одну поездку с подпиской = 3130 метров;\n",
    "Н1 Расстояние пользователей за одну поездку с подпиской > 3130 метров"
   ]
  },
  {
   "cell_type": "code",
   "execution_count": 54,
   "id": "efbec969",
   "metadata": {},
   "outputs": [
    {
     "name": "stdout",
     "output_type": "stream",
     "text": [
      "0.9195368847849785\n",
      "Не получилось отвергнуть нулевую гипотезу\n"
     ]
    }
   ],
   "source": [
    "users_distance = subs_ultra['distance'] \n",
    "optimal_distance = 3130\n",
    "\n",
    "alpha = 0.05\n",
    "\n",
    "results = st.ttest_1samp(\n",
    "                         users_distance,\n",
    "                         optimal_distance,\n",
    "                         alternative='greater')\n",
    "    \n",
    "print(results.pvalue)\n",
    "\n",
    "if (results.pvalue < alpha):\n",
    "    print('Отвергаем нулевую гипотезу')\n",
    "else:\n",
    "    print('Не получилось отвергнуть нулевую гипотезу')"
   ]
  },
  {
   "cell_type": "markdown",
   "id": "a85a8705",
   "metadata": {},
   "source": [
    "Проверили гипотезу о том, что расстояние, которое проехали пользователи с подпиской за одну поездку, не превышает 3130 метров."
   ]
  },
  {
   "cell_type": "markdown",
   "id": "3db23a34",
   "metadata": {},
   "source": [
    "6.3 Проверим гипотезу о том, будет ли помесячная выручка от пользователей с подпиской по месяцам выше, чем выручка от пользователей без подписки:"
   ]
  },
  {
   "cell_type": "markdown",
   "id": "89f51efd",
   "metadata": {},
   "source": [
    "H0 Выручка от пользователей с подпиской == выручке от пользователей без подписки; Н1 Выручка от пользователей с подпиской > выручки от пользователей без подписки."
   ]
  },
  {
   "cell_type": "code",
   "execution_count": 55,
   "id": "e6c4f060",
   "metadata": {},
   "outputs": [
    {
     "name": "stdout",
     "output_type": "stream",
     "text": [
      "1.8850394384715216e-31\n",
      "Отвергаем нулевую гипотезу\n"
     ]
    }
   ],
   "source": [
    "revenue_ultra = aggregated_data.loc[aggregated_data.subscription_type == 'ultra', 'revenue'] \n",
    "revenue_free = aggregated_data.loc[aggregated_data.subscription_type == 'free', 'revenue'] \n",
    "\n",
    "\n",
    "results = st.ttest_ind(\n",
    "                       revenue_ultra, \n",
    "                       revenue_free,\n",
    "                       alternative = 'greater')\n",
    "\n",
    "alpha = 0.05\n",
    "\n",
    "print(results.pvalue)\n",
    "\n",
    "if results.pvalue < alpha:\n",
    "    print('Отвергаем нулевую гипотезу')\n",
    "else:\n",
    "    print('Не получилось отвергнуть нулевую гипотезу')"
   ]
  },
  {
   "cell_type": "markdown",
   "id": "e22b529a",
   "metadata": {},
   "source": [
    "Проверили гипотезу о том, будет ли помесячная выручка от пользователей с подпиской по месяцам выше, чем выручка от пользователей без подписки."
   ]
  },
  {
   "cell_type": "markdown",
   "id": "2e977a2f",
   "metadata": {},
   "source": [
    "6.4 Представьте такую ситуацию: техническая команда сервиса обновила сервера, с которыми взаимодействует мобильное приложение. Она надеется, что из-за этого количество обращений в техподдержку значимо снизилось. Некоторый файл содержит для каждого пользователя данные о количестве обращений до обновления и после него. Какой тест вам понадобился бы для проверки этой гипотезы?"
   ]
  },
  {
   "cell_type": "markdown",
   "id": "3d4026e9",
   "metadata": {},
   "source": [
    "Для проверки этой гипотезы понадобился бы тест о равенстве средних для зависимых (парных) выборок. В этом случае мы будем проверять, равны ли средние совокупности до и после этого изменения."
   ]
  },
  {
   "cell_type": "markdown",
   "id": "61213c5e",
   "metadata": {},
   "source": [
    "#### Шаг 7. Распределения"
   ]
  },
  {
   "cell_type": "markdown",
   "id": "c06ca771",
   "metadata": {},
   "source": [
    "Итоговый вывод:\n",
    "\n",
    "Первоначально считал 3 датафрейма (с информацией о пользователях, поездках и подписках). Изучил общую информацию о каждом датафрейме.\n",
    "\n",
    "Далее занялся **предобработкой данных:**\n",
    "\n",
    "- Привел столбец date к типу даты;\n",
    "\n",
    "- Создал новый столбец с номером месяца на основе столбца date;\n",
    "\n",
    "- Проверил наличие пропущенных значений и дубликатов в датафреймах. Удалил дубликаты из датафрейма с пользователями.\n",
    "\n",
    "Провел **исследовательский анализ данных:**\n",
    "\n",
    "Описал и визуализируйте общую информацию о пользователях и поездках:\n",
    "\n",
    "- частота встречаемости городов: количество пользователей распределено по городам примерно одинаково, больше всего пользователей в Пятигорске - 219 пользователей, меньше всего пользователей в Москве - 168 пользователей.\n",
    "\n",
    "- соотношение пользователей с подпиской и без подписки: количество пользователей, которые используют бесплатную подписку - 835 человек (54% от общего числа пользователей). Количество пользователей, которые используют платную подписку - 699 человек, что (46% от общего числа пользователей). Т.е. пользователей без подписки больше, чем с подпиской.\n",
    "\n",
    "\n",
    "- возраст пользователей: основная часть пользователей возрастом от 22 до 28 лет. \n",
    "\n",
    "- расстояние, которое пользователь преодолел за одну поездку: основная часть поездок от 2500 до 3800 метров.\n",
    "\n",
    "- продолжительность поездок: Время поездки пользователей в основном от 14 до 22 минут.\n",
    "\n",
    "Далее объединил данные о пользователях, поездках и подписках в один датафрейм. На его основе создал ещё 2 датафрейма:\n",
    "\n",
    "- c данными о пользователях без подписки\n",
    "\n",
    "- с данными о пользователях с подпиской. \n",
    "\n",
    "Визуализировал информацию о расстоянии и времени поездок для пользователей обеих категорий:\n",
    "\n",
    "- пользователи без подписки в основном преодолевают расстояние от 2 до 4 км., а время поездки состовляет от 12 до 25 минут;\n",
    "\n",
    "- пользователи с подпиской в основном преодолевают расстояние от 2,7 до 3,5 км., а время поездки состовляет от 15 до 25 минут.\n",
    "\n",
    "Создайте датафрейм с суммарным расстоянием, количеством поездок и суммарным временем для каждого пользователя за каждый месяц. В этот же датафрейм добавил столбец с помесячной выручкой, которую принёс каждый пользователь.\n",
    "\n",
    "**Проверка гипотез:**\n",
    "\n",
    "Тратят ли пользователи с подпиской больше времени на поездки?\n",
    "- Отвергаем нулевую гипотезу (время поездки пользователей с подпиской == времени поездки пользователей без подписки)\n",
    "\n",
    "Расстояние, которое проезжают пользователи с подпиской за одну поездку, не превышает 3130 метров?\n",
    "- Не получилось отвергнуть нулевую гипотезу (расстояние пользователей за одну поездку с подпиской = 3130 метров)\n",
    "\n",
    "Будет ли помесячная выручка от пользователей с подпиской по месяцам выше, чем выручка от пользователей без подписки?\n",
    "- Отвергаем нулевую гипотезу (выручка от пользователей с подпиской == выручке от пользователей без подписки)\n",
    "\n",
    "Рекомендации, которые могут помочь бизнесу вырасти: чтобы увеличить количество пользователей с подпиской, сервис должен предложить что-то уникальное, отличающее ее от конкурентов. К примеру дизайн электросамоката. Возможно, стоит больше заняться рекламой. Места для размещения рекламы должны быть подобраны под основную целевую аудиторию. Добавление различных скидок и акций. К примеру, давать временные скидки для пользователей с подпиской, либо, если брать акции, то это может быть следующее: если пользователь впервые приобретает подписку, то в подарок ему даётся промокод (к примеру, на бесплатную поездку)."
   ]
  }
 ],
 "metadata": {
  "ExecuteTimeLog": [
   {
    "duration": 1238,
    "start_time": "2023-09-17T12:32:53.872Z"
   },
   {
    "duration": 88,
    "start_time": "2023-09-17T12:35:41.583Z"
   },
   {
    "duration": 14,
    "start_time": "2023-09-17T12:37:06.493Z"
   },
   {
    "duration": 11,
    "start_time": "2023-09-17T12:37:54.090Z"
   },
   {
    "duration": 4,
    "start_time": "2023-09-17T14:13:51.465Z"
   },
   {
    "duration": 7,
    "start_time": "2023-09-17T14:14:13.682Z"
   },
   {
    "duration": 100,
    "start_time": "2023-09-17T14:17:11.050Z"
   },
   {
    "duration": 7,
    "start_time": "2023-09-17T14:17:24.159Z"
   },
   {
    "duration": 82,
    "start_time": "2023-09-17T14:19:10.191Z"
   },
   {
    "duration": 9,
    "start_time": "2023-09-17T14:19:20.034Z"
   },
   {
    "duration": 11,
    "start_time": "2023-09-17T14:19:32.448Z"
   },
   {
    "duration": 7,
    "start_time": "2023-09-17T14:19:49.197Z"
   },
   {
    "duration": 67,
    "start_time": "2023-09-17T14:21:03.657Z"
   },
   {
    "duration": 7,
    "start_time": "2023-09-17T14:21:20.400Z"
   },
   {
    "duration": 6,
    "start_time": "2023-09-17T14:23:16.469Z"
   },
   {
    "duration": 5,
    "start_time": "2023-09-17T14:23:27.029Z"
   },
   {
    "duration": 7,
    "start_time": "2023-09-17T14:26:40.290Z"
   },
   {
    "duration": 9,
    "start_time": "2023-09-17T14:32:55.944Z"
   },
   {
    "duration": 7,
    "start_time": "2023-09-17T14:33:13.635Z"
   },
   {
    "duration": 8,
    "start_time": "2023-09-17T14:33:17.045Z"
   },
   {
    "duration": 4,
    "start_time": "2023-09-17T14:33:22.345Z"
   },
   {
    "duration": 976,
    "start_time": "2023-09-17T14:38:34.205Z"
   },
   {
    "duration": 29,
    "start_time": "2023-09-17T14:38:35.183Z"
   },
   {
    "duration": 12,
    "start_time": "2023-09-17T14:38:35.213Z"
   },
   {
    "duration": 25,
    "start_time": "2023-09-17T14:38:35.227Z"
   },
   {
    "duration": 61,
    "start_time": "2023-09-17T14:38:35.254Z"
   },
   {
    "duration": 10,
    "start_time": "2023-09-17T14:38:35.316Z"
   },
   {
    "duration": 31,
    "start_time": "2023-09-17T14:38:35.327Z"
   },
   {
    "duration": 35,
    "start_time": "2023-09-17T14:38:35.359Z"
   },
   {
    "duration": 17,
    "start_time": "2023-09-17T14:38:35.395Z"
   },
   {
    "duration": 10,
    "start_time": "2023-09-17T14:38:35.414Z"
   },
   {
    "duration": 34,
    "start_time": "2023-09-17T14:38:35.426Z"
   },
   {
    "duration": 30,
    "start_time": "2023-09-17T14:38:35.461Z"
   },
   {
    "duration": 6,
    "start_time": "2023-09-17T14:38:35.493Z"
   },
   {
    "duration": 19,
    "start_time": "2023-09-17T14:38:35.500Z"
   },
   {
    "duration": 16,
    "start_time": "2023-09-17T14:38:35.520Z"
   },
   {
    "duration": 5,
    "start_time": "2023-09-17T14:40:42.576Z"
   },
   {
    "duration": 6,
    "start_time": "2023-09-17T14:40:56.081Z"
   },
   {
    "duration": 7,
    "start_time": "2023-09-17T14:40:59.598Z"
   },
   {
    "duration": 86,
    "start_time": "2023-09-17T14:41:11.911Z"
   },
   {
    "duration": 8,
    "start_time": "2023-09-17T14:41:14.991Z"
   },
   {
    "duration": 4,
    "start_time": "2023-09-17T14:42:07.877Z"
   },
   {
    "duration": 5,
    "start_time": "2023-09-17T14:53:32.780Z"
   },
   {
    "duration": 129,
    "start_time": "2023-09-17T14:55:35.692Z"
   },
   {
    "duration": 100,
    "start_time": "2023-09-17T15:40:53.572Z"
   },
   {
    "duration": 73,
    "start_time": "2023-09-17T15:41:15.332Z"
   },
   {
    "duration": 96,
    "start_time": "2023-09-17T15:42:59.730Z"
   },
   {
    "duration": 119,
    "start_time": "2023-09-17T15:45:52.407Z"
   },
   {
    "duration": 246,
    "start_time": "2023-09-17T15:45:55.874Z"
   },
   {
    "duration": 118,
    "start_time": "2023-09-17T15:45:59.482Z"
   },
   {
    "duration": 359,
    "start_time": "2023-09-17T15:46:05.773Z"
   },
   {
    "duration": 77,
    "start_time": "2023-09-17T15:46:44.271Z"
   },
   {
    "duration": 208,
    "start_time": "2023-09-17T15:46:49.880Z"
   },
   {
    "duration": 131,
    "start_time": "2023-09-17T15:48:05.463Z"
   },
   {
    "duration": 1399,
    "start_time": "2023-09-17T21:41:57.316Z"
   },
   {
    "duration": 90,
    "start_time": "2023-09-17T21:41:58.718Z"
   },
   {
    "duration": 16,
    "start_time": "2023-09-17T21:41:58.810Z"
   },
   {
    "duration": 12,
    "start_time": "2023-09-17T21:41:58.828Z"
   },
   {
    "duration": 76,
    "start_time": "2023-09-17T21:41:58.843Z"
   },
   {
    "duration": 11,
    "start_time": "2023-09-17T21:41:58.921Z"
   },
   {
    "duration": 9,
    "start_time": "2023-09-17T21:41:58.933Z"
   },
   {
    "duration": 55,
    "start_time": "2023-09-17T21:41:58.944Z"
   },
   {
    "duration": 8,
    "start_time": "2023-09-17T21:41:59.000Z"
   },
   {
    "duration": 8,
    "start_time": "2023-09-17T21:41:59.010Z"
   },
   {
    "duration": 21,
    "start_time": "2023-09-17T21:41:59.019Z"
   },
   {
    "duration": 6,
    "start_time": "2023-09-17T21:41:59.042Z"
   },
   {
    "duration": 6,
    "start_time": "2023-09-17T21:41:59.050Z"
   },
   {
    "duration": 9,
    "start_time": "2023-09-17T21:41:59.059Z"
   },
   {
    "duration": 6,
    "start_time": "2023-09-17T21:41:59.069Z"
   },
   {
    "duration": 33,
    "start_time": "2023-09-17T21:41:59.077Z"
   },
   {
    "duration": 5,
    "start_time": "2023-09-17T21:41:59.112Z"
   },
   {
    "duration": 7,
    "start_time": "2023-09-17T21:41:59.119Z"
   },
   {
    "duration": 16,
    "start_time": "2023-09-17T21:41:59.127Z"
   },
   {
    "duration": 5,
    "start_time": "2023-09-17T21:41:59.144Z"
   },
   {
    "duration": 191,
    "start_time": "2023-09-17T21:41:59.150Z"
   },
   {
    "duration": 131,
    "start_time": "2023-09-17T21:41:59.343Z"
   },
   {
    "duration": 184,
    "start_time": "2023-09-17T21:41:59.476Z"
   },
   {
    "duration": 301,
    "start_time": "2023-09-17T21:41:59.661Z"
   },
   {
    "duration": 273,
    "start_time": "2023-09-17T21:43:15.630Z"
   },
   {
    "duration": 102,
    "start_time": "2023-09-17T22:30:03.970Z"
   },
   {
    "duration": 8,
    "start_time": "2023-09-17T22:30:16.045Z"
   },
   {
    "duration": 6,
    "start_time": "2023-09-17T22:33:55.115Z"
   },
   {
    "duration": 9,
    "start_time": "2023-09-17T22:40:31.251Z"
   },
   {
    "duration": 10,
    "start_time": "2023-09-17T22:42:23.857Z"
   },
   {
    "duration": 1804,
    "start_time": "2023-09-18T09:56:08.164Z"
   },
   {
    "duration": 97,
    "start_time": "2023-09-18T09:56:09.970Z"
   },
   {
    "duration": 15,
    "start_time": "2023-09-18T09:56:10.069Z"
   },
   {
    "duration": 99,
    "start_time": "2023-09-18T09:56:10.086Z"
   },
   {
    "duration": 157,
    "start_time": "2023-09-18T09:56:10.187Z"
   },
   {
    "duration": 10,
    "start_time": "2023-09-18T09:56:10.345Z"
   },
   {
    "duration": 11,
    "start_time": "2023-09-18T09:56:10.357Z"
   },
   {
    "duration": 74,
    "start_time": "2023-09-18T09:56:10.370Z"
   },
   {
    "duration": 9,
    "start_time": "2023-09-18T09:56:10.446Z"
   },
   {
    "duration": 8,
    "start_time": "2023-09-18T09:56:10.459Z"
   },
   {
    "duration": 14,
    "start_time": "2023-09-18T09:56:10.469Z"
   },
   {
    "duration": 11,
    "start_time": "2023-09-18T09:56:10.485Z"
   },
   {
    "duration": 21,
    "start_time": "2023-09-18T09:56:10.498Z"
   },
   {
    "duration": 13,
    "start_time": "2023-09-18T09:56:10.525Z"
   },
   {
    "duration": 7,
    "start_time": "2023-09-18T09:56:10.540Z"
   },
   {
    "duration": 8,
    "start_time": "2023-09-18T09:56:10.549Z"
   },
   {
    "duration": 13,
    "start_time": "2023-09-18T09:56:10.560Z"
   },
   {
    "duration": 9,
    "start_time": "2023-09-18T09:56:10.576Z"
   },
   {
    "duration": 34,
    "start_time": "2023-09-18T09:56:10.587Z"
   },
   {
    "duration": 9,
    "start_time": "2023-09-18T09:56:10.629Z"
   },
   {
    "duration": 219,
    "start_time": "2023-09-18T09:56:10.640Z"
   },
   {
    "duration": 144,
    "start_time": "2023-09-18T09:56:10.860Z"
   },
   {
    "duration": 16,
    "start_time": "2023-09-18T09:56:11.006Z"
   },
   {
    "duration": 193,
    "start_time": "2023-09-18T09:56:11.028Z"
   },
   {
    "duration": 322,
    "start_time": "2023-09-18T09:56:11.224Z"
   },
   {
    "duration": 10,
    "start_time": "2023-09-18T09:56:11.548Z"
   },
   {
    "duration": 334,
    "start_time": "2023-09-18T09:56:11.560Z"
   },
   {
    "duration": 23,
    "start_time": "2023-09-18T09:56:11.897Z"
   },
   {
    "duration": 14,
    "start_time": "2023-09-18T10:16:28.014Z"
   },
   {
    "duration": 23,
    "start_time": "2023-09-18T10:16:43.183Z"
   },
   {
    "duration": 8,
    "start_time": "2023-09-18T10:32:25.346Z"
   },
   {
    "duration": 19,
    "start_time": "2023-09-18T10:32:30.624Z"
   },
   {
    "duration": 121,
    "start_time": "2023-09-18T10:33:11.783Z"
   },
   {
    "duration": 11,
    "start_time": "2023-09-18T10:33:23.400Z"
   },
   {
    "duration": 34,
    "start_time": "2023-09-18T10:33:28.093Z"
   },
   {
    "duration": 6,
    "start_time": "2023-09-18T10:34:39.930Z"
   },
   {
    "duration": 20,
    "start_time": "2023-09-18T10:34:40.556Z"
   },
   {
    "duration": 25,
    "start_time": "2023-09-18T10:35:10.567Z"
   },
   {
    "duration": 1225,
    "start_time": "2023-09-18T10:35:55.810Z"
   },
   {
    "duration": 30,
    "start_time": "2023-09-18T10:35:57.037Z"
   },
   {
    "duration": 14,
    "start_time": "2023-09-18T10:35:57.069Z"
   },
   {
    "duration": 19,
    "start_time": "2023-09-18T10:35:57.085Z"
   },
   {
    "duration": 44,
    "start_time": "2023-09-18T10:35:57.106Z"
   },
   {
    "duration": 11,
    "start_time": "2023-09-18T10:35:57.152Z"
   },
   {
    "duration": 21,
    "start_time": "2023-09-18T10:35:57.164Z"
   },
   {
    "duration": 36,
    "start_time": "2023-09-18T10:35:57.187Z"
   },
   {
    "duration": 12,
    "start_time": "2023-09-18T10:35:57.224Z"
   },
   {
    "duration": 11,
    "start_time": "2023-09-18T10:35:57.238Z"
   },
   {
    "duration": 33,
    "start_time": "2023-09-18T10:35:57.251Z"
   },
   {
    "duration": 11,
    "start_time": "2023-09-18T10:35:57.286Z"
   },
   {
    "duration": 6,
    "start_time": "2023-09-18T10:35:57.299Z"
   },
   {
    "duration": 18,
    "start_time": "2023-09-18T10:35:57.307Z"
   },
   {
    "duration": 20,
    "start_time": "2023-09-18T10:35:57.327Z"
   },
   {
    "duration": 15,
    "start_time": "2023-09-18T10:35:57.349Z"
   },
   {
    "duration": 6,
    "start_time": "2023-09-18T10:35:57.366Z"
   },
   {
    "duration": 11,
    "start_time": "2023-09-18T10:35:57.374Z"
   },
   {
    "duration": 10,
    "start_time": "2023-09-18T10:35:57.387Z"
   },
   {
    "duration": 23,
    "start_time": "2023-09-18T10:35:57.399Z"
   },
   {
    "duration": 172,
    "start_time": "2023-09-18T10:35:57.424Z"
   },
   {
    "duration": 138,
    "start_time": "2023-09-18T10:35:57.598Z"
   },
   {
    "duration": 6,
    "start_time": "2023-09-18T10:35:57.737Z"
   },
   {
    "duration": 189,
    "start_time": "2023-09-18T10:35:57.745Z"
   },
   {
    "duration": 311,
    "start_time": "2023-09-18T10:35:57.935Z"
   },
   {
    "duration": 9,
    "start_time": "2023-09-18T10:35:58.248Z"
   },
   {
    "duration": 365,
    "start_time": "2023-09-18T10:35:58.259Z"
   },
   {
    "duration": 9,
    "start_time": "2023-09-18T10:35:58.627Z"
   },
   {
    "duration": 10,
    "start_time": "2023-09-18T10:35:58.638Z"
   },
   {
    "duration": 21,
    "start_time": "2023-09-18T10:35:58.651Z"
   },
   {
    "duration": 58,
    "start_time": "2023-09-18T10:35:58.673Z"
   },
   {
    "duration": 20,
    "start_time": "2023-09-18T10:35:58.732Z"
   },
   {
    "duration": 301,
    "start_time": "2023-09-18T10:48:47.826Z"
   },
   {
    "duration": 412,
    "start_time": "2023-09-18T10:49:32.728Z"
   },
   {
    "duration": 306,
    "start_time": "2023-09-18T10:49:45.926Z"
   },
   {
    "duration": 308,
    "start_time": "2023-09-18T10:52:03.332Z"
   },
   {
    "duration": 448,
    "start_time": "2023-09-18T10:52:37.106Z"
   },
   {
    "duration": 323,
    "start_time": "2023-09-18T10:52:50.573Z"
   },
   {
    "duration": 233,
    "start_time": "2023-09-18T10:53:15.662Z"
   },
   {
    "duration": 354,
    "start_time": "2023-09-18T10:53:21.173Z"
   },
   {
    "duration": 265,
    "start_time": "2023-09-18T10:53:34.595Z"
   },
   {
    "duration": 235,
    "start_time": "2023-09-18T10:55:25.623Z"
   },
   {
    "duration": 244,
    "start_time": "2023-09-18T10:56:04.816Z"
   },
   {
    "duration": 9,
    "start_time": "2023-09-18T11:02:31.590Z"
   },
   {
    "duration": 11,
    "start_time": "2023-09-18T11:02:42.659Z"
   },
   {
    "duration": 9,
    "start_time": "2023-09-18T11:06:12.131Z"
   },
   {
    "duration": 10,
    "start_time": "2023-09-18T11:06:21.751Z"
   },
   {
    "duration": 932,
    "start_time": "2023-09-18T12:16:27.675Z"
   },
   {
    "duration": 27,
    "start_time": "2023-09-18T12:16:35.304Z"
   },
   {
    "duration": 4,
    "start_time": "2023-09-18T12:21:43.654Z"
   },
   {
    "duration": 16,
    "start_time": "2023-09-18T12:21:47.548Z"
   },
   {
    "duration": 1014,
    "start_time": "2023-09-18T12:22:03.128Z"
   },
   {
    "duration": 17,
    "start_time": "2023-09-18T12:22:13.780Z"
   },
   {
    "duration": 1876,
    "start_time": "2023-09-18T12:23:34.309Z"
   },
   {
    "duration": 1041,
    "start_time": "2023-09-18T12:24:01.884Z"
   },
   {
    "duration": 21,
    "start_time": "2023-09-18T12:24:10.127Z"
   },
   {
    "duration": 11,
    "start_time": "2023-09-18T12:41:01.260Z"
   },
   {
    "duration": 13,
    "start_time": "2023-09-18T12:41:28.182Z"
   },
   {
    "duration": 15,
    "start_time": "2023-09-18T12:42:30.686Z"
   },
   {
    "duration": 29,
    "start_time": "2023-09-18T12:50:24.787Z"
   },
   {
    "duration": 20,
    "start_time": "2023-09-18T12:50:25.536Z"
   },
   {
    "duration": 1371,
    "start_time": "2023-09-18T12:50:34.052Z"
   },
   {
    "duration": 33,
    "start_time": "2023-09-18T12:50:35.434Z"
   },
   {
    "duration": 39,
    "start_time": "2023-09-18T12:50:35.469Z"
   },
   {
    "duration": 55,
    "start_time": "2023-09-18T12:50:35.517Z"
   },
   {
    "duration": 84,
    "start_time": "2023-09-18T12:50:35.574Z"
   },
   {
    "duration": 20,
    "start_time": "2023-09-18T12:50:35.660Z"
   },
   {
    "duration": 48,
    "start_time": "2023-09-18T12:50:35.682Z"
   },
   {
    "duration": 44,
    "start_time": "2023-09-18T12:50:35.739Z"
   },
   {
    "duration": 41,
    "start_time": "2023-09-18T12:50:35.785Z"
   },
   {
    "duration": 42,
    "start_time": "2023-09-18T12:50:35.830Z"
   },
   {
    "duration": 62,
    "start_time": "2023-09-18T12:50:35.873Z"
   },
   {
    "duration": 45,
    "start_time": "2023-09-18T12:50:35.937Z"
   },
   {
    "duration": 55,
    "start_time": "2023-09-18T12:50:35.984Z"
   },
   {
    "duration": 34,
    "start_time": "2023-09-18T12:50:36.041Z"
   },
   {
    "duration": 26,
    "start_time": "2023-09-18T12:50:36.077Z"
   },
   {
    "duration": 48,
    "start_time": "2023-09-18T12:50:36.104Z"
   },
   {
    "duration": 17,
    "start_time": "2023-09-18T12:50:36.153Z"
   },
   {
    "duration": 34,
    "start_time": "2023-09-18T12:50:36.172Z"
   },
   {
    "duration": 30,
    "start_time": "2023-09-18T12:50:36.208Z"
   },
   {
    "duration": 15,
    "start_time": "2023-09-18T12:50:36.239Z"
   },
   {
    "duration": 200,
    "start_time": "2023-09-18T12:50:36.256Z"
   },
   {
    "duration": 150,
    "start_time": "2023-09-18T12:50:36.458Z"
   },
   {
    "duration": 19,
    "start_time": "2023-09-18T12:50:36.617Z"
   },
   {
    "duration": 230,
    "start_time": "2023-09-18T12:50:36.638Z"
   },
   {
    "duration": 380,
    "start_time": "2023-09-18T12:50:36.869Z"
   },
   {
    "duration": 10,
    "start_time": "2023-09-18T12:50:37.251Z"
   },
   {
    "duration": 380,
    "start_time": "2023-09-18T12:50:37.262Z"
   },
   {
    "duration": 10,
    "start_time": "2023-09-18T12:50:37.646Z"
   },
   {
    "duration": 43,
    "start_time": "2023-09-18T12:50:37.657Z"
   },
   {
    "duration": 52,
    "start_time": "2023-09-18T12:50:37.702Z"
   },
   {
    "duration": 24,
    "start_time": "2023-09-18T12:50:37.756Z"
   },
   {
    "duration": 22,
    "start_time": "2023-09-18T12:50:37.781Z"
   },
   {
    "duration": 331,
    "start_time": "2023-09-18T12:50:37.808Z"
   },
   {
    "duration": 10,
    "start_time": "2023-09-18T12:50:38.142Z"
   },
   {
    "duration": 411,
    "start_time": "2023-09-18T12:50:38.154Z"
   },
   {
    "duration": 10,
    "start_time": "2023-09-18T12:50:38.567Z"
   },
   {
    "duration": 287,
    "start_time": "2023-09-18T12:50:38.578Z"
   },
   {
    "duration": 10,
    "start_time": "2023-09-18T12:50:38.866Z"
   },
   {
    "duration": 346,
    "start_time": "2023-09-18T12:50:38.877Z"
   },
   {
    "duration": 13,
    "start_time": "2023-09-18T12:50:39.226Z"
   },
   {
    "duration": 63,
    "start_time": "2023-09-18T12:50:39.241Z"
   },
   {
    "duration": 51,
    "start_time": "2023-09-18T12:50:39.306Z"
   },
   {
    "duration": 22,
    "start_time": "2023-09-18T12:55:09.557Z"
   },
   {
    "duration": 1164,
    "start_time": "2023-09-18T13:00:29.875Z"
   },
   {
    "duration": 43,
    "start_time": "2023-09-18T13:01:46.053Z"
   },
   {
    "duration": 28,
    "start_time": "2023-09-18T13:01:53.305Z"
   },
   {
    "duration": 5,
    "start_time": "2023-09-18T13:15:11.100Z"
   },
   {
    "duration": 2208,
    "start_time": "2023-09-18T13:16:05.571Z"
   },
   {
    "duration": 5,
    "start_time": "2023-09-18T13:16:18.105Z"
   },
   {
    "duration": 148,
    "start_time": "2023-09-18T13:16:20.143Z"
   },
   {
    "duration": 17,
    "start_time": "2023-09-18T13:16:29.804Z"
   },
   {
    "duration": 7,
    "start_time": "2023-09-18T13:16:35.562Z"
   },
   {
    "duration": 156,
    "start_time": "2023-09-18T13:18:04.242Z"
   },
   {
    "duration": 7,
    "start_time": "2023-09-18T13:18:04.985Z"
   },
   {
    "duration": 4,
    "start_time": "2023-09-18T13:18:34.550Z"
   },
   {
    "duration": 1635,
    "start_time": "2023-09-18T13:18:36.403Z"
   },
   {
    "duration": 4,
    "start_time": "2023-09-18T13:19:01.352Z"
   },
   {
    "duration": 162,
    "start_time": "2023-09-18T13:19:02.660Z"
   },
   {
    "duration": 8,
    "start_time": "2023-09-18T13:19:03.898Z"
   },
   {
    "duration": 1293,
    "start_time": "2023-09-18T13:19:22.610Z"
   },
   {
    "duration": 30,
    "start_time": "2023-09-18T13:19:23.905Z"
   },
   {
    "duration": 14,
    "start_time": "2023-09-18T13:19:23.937Z"
   },
   {
    "duration": 17,
    "start_time": "2023-09-18T13:19:23.953Z"
   },
   {
    "duration": 49,
    "start_time": "2023-09-18T13:19:23.971Z"
   },
   {
    "duration": 14,
    "start_time": "2023-09-18T13:19:24.023Z"
   },
   {
    "duration": 13,
    "start_time": "2023-09-18T13:19:24.039Z"
   },
   {
    "duration": 24,
    "start_time": "2023-09-18T13:19:24.054Z"
   },
   {
    "duration": 8,
    "start_time": "2023-09-18T13:19:24.080Z"
   },
   {
    "duration": 25,
    "start_time": "2023-09-18T13:19:24.091Z"
   },
   {
    "duration": 25,
    "start_time": "2023-09-18T13:19:24.118Z"
   },
   {
    "duration": 21,
    "start_time": "2023-09-18T13:19:24.145Z"
   },
   {
    "duration": 11,
    "start_time": "2023-09-18T13:19:24.168Z"
   },
   {
    "duration": 28,
    "start_time": "2023-09-18T13:19:24.180Z"
   },
   {
    "duration": 16,
    "start_time": "2023-09-18T13:19:24.210Z"
   },
   {
    "duration": 20,
    "start_time": "2023-09-18T13:19:24.227Z"
   },
   {
    "duration": 16,
    "start_time": "2023-09-18T13:19:24.248Z"
   },
   {
    "duration": 13,
    "start_time": "2023-09-18T13:19:24.266Z"
   },
   {
    "duration": 15,
    "start_time": "2023-09-18T13:19:24.280Z"
   },
   {
    "duration": 12,
    "start_time": "2023-09-18T13:19:24.297Z"
   },
   {
    "duration": 175,
    "start_time": "2023-09-18T13:19:24.311Z"
   },
   {
    "duration": 144,
    "start_time": "2023-09-18T13:19:24.488Z"
   },
   {
    "duration": 6,
    "start_time": "2023-09-18T13:19:24.634Z"
   },
   {
    "duration": 218,
    "start_time": "2023-09-18T13:19:24.642Z"
   },
   {
    "duration": 307,
    "start_time": "2023-09-18T13:19:24.862Z"
   },
   {
    "duration": 9,
    "start_time": "2023-09-18T13:19:25.171Z"
   },
   {
    "duration": 342,
    "start_time": "2023-09-18T13:19:25.182Z"
   },
   {
    "duration": 10,
    "start_time": "2023-09-18T13:19:25.527Z"
   },
   {
    "duration": 20,
    "start_time": "2023-09-18T13:19:25.539Z"
   },
   {
    "duration": 49,
    "start_time": "2023-09-18T13:19:25.562Z"
   },
   {
    "duration": 23,
    "start_time": "2023-09-18T13:19:25.613Z"
   },
   {
    "duration": 22,
    "start_time": "2023-09-18T13:19:25.638Z"
   },
   {
    "duration": 259,
    "start_time": "2023-09-18T13:19:25.662Z"
   },
   {
    "duration": 10,
    "start_time": "2023-09-18T13:19:25.923Z"
   },
   {
    "duration": 324,
    "start_time": "2023-09-18T13:19:25.935Z"
   },
   {
    "duration": 9,
    "start_time": "2023-09-18T13:19:26.261Z"
   },
   {
    "duration": 231,
    "start_time": "2023-09-18T13:19:26.273Z"
   },
   {
    "duration": 10,
    "start_time": "2023-09-18T13:19:26.508Z"
   },
   {
    "duration": 330,
    "start_time": "2023-09-18T13:19:26.521Z"
   },
   {
    "duration": 12,
    "start_time": "2023-09-18T13:19:26.853Z"
   },
   {
    "duration": 86,
    "start_time": "2023-09-18T13:19:26.868Z"
   },
   {
    "duration": 32,
    "start_time": "2023-09-18T13:19:26.956Z"
   },
   {
    "duration": 28,
    "start_time": "2023-09-18T13:19:26.991Z"
   },
   {
    "duration": 180,
    "start_time": "2023-09-18T13:19:27.021Z"
   },
   {
    "duration": 11,
    "start_time": "2023-09-18T13:19:27.203Z"
   },
   {
    "duration": 16,
    "start_time": "2023-09-18T13:20:48.482Z"
   },
   {
    "duration": 7,
    "start_time": "2023-09-18T13:22:13.217Z"
   },
   {
    "duration": 253,
    "start_time": "2023-09-18T13:36:49.988Z"
   },
   {
    "duration": 371,
    "start_time": "2023-09-18T13:37:31.259Z"
   },
   {
    "duration": 9,
    "start_time": "2023-09-18T13:38:26.211Z"
   },
   {
    "duration": 115,
    "start_time": "2023-09-18T13:39:27.433Z"
   },
   {
    "duration": 213,
    "start_time": "2023-09-18T13:40:12.226Z"
   },
   {
    "duration": 117,
    "start_time": "2023-09-18T13:40:37.247Z"
   },
   {
    "duration": 7,
    "start_time": "2023-09-18T13:49:07.888Z"
   },
   {
    "duration": 8,
    "start_time": "2023-09-18T15:40:38.156Z"
   },
   {
    "duration": 8,
    "start_time": "2023-09-18T15:41:38.172Z"
   },
   {
    "duration": 20,
    "start_time": "2023-09-18T15:42:23.399Z"
   },
   {
    "duration": 7,
    "start_time": "2023-09-18T15:42:49.871Z"
   },
   {
    "duration": 6,
    "start_time": "2023-09-18T15:43:44.196Z"
   },
   {
    "duration": 8,
    "start_time": "2023-09-18T15:44:03.585Z"
   },
   {
    "duration": 6,
    "start_time": "2023-09-18T15:48:25.870Z"
   },
   {
    "duration": 7,
    "start_time": "2023-09-18T15:50:06.732Z"
   },
   {
    "duration": 6,
    "start_time": "2023-09-18T15:50:12.973Z"
   },
   {
    "duration": 6,
    "start_time": "2023-09-18T15:50:25.073Z"
   },
   {
    "duration": 9,
    "start_time": "2023-09-18T15:50:33.061Z"
   },
   {
    "duration": 5,
    "start_time": "2023-09-18T15:50:37.276Z"
   },
   {
    "duration": 1245,
    "start_time": "2023-09-18T15:50:50.169Z"
   },
   {
    "duration": 36,
    "start_time": "2023-09-18T15:50:51.424Z"
   },
   {
    "duration": 56,
    "start_time": "2023-09-18T15:50:51.462Z"
   },
   {
    "duration": 82,
    "start_time": "2023-09-18T15:50:51.523Z"
   },
   {
    "duration": 59,
    "start_time": "2023-09-18T15:50:51.607Z"
   },
   {
    "duration": 9,
    "start_time": "2023-09-18T15:50:51.668Z"
   },
   {
    "duration": 28,
    "start_time": "2023-09-18T15:50:51.679Z"
   },
   {
    "duration": 38,
    "start_time": "2023-09-18T15:50:51.708Z"
   },
   {
    "duration": 10,
    "start_time": "2023-09-18T15:50:51.748Z"
   },
   {
    "duration": 27,
    "start_time": "2023-09-18T15:50:51.760Z"
   },
   {
    "duration": 19,
    "start_time": "2023-09-18T15:50:51.789Z"
   },
   {
    "duration": 27,
    "start_time": "2023-09-18T15:50:51.813Z"
   },
   {
    "duration": 16,
    "start_time": "2023-09-18T15:50:51.842Z"
   },
   {
    "duration": 24,
    "start_time": "2023-09-18T15:50:51.860Z"
   },
   {
    "duration": 25,
    "start_time": "2023-09-18T15:50:51.885Z"
   },
   {
    "duration": 44,
    "start_time": "2023-09-18T15:50:51.911Z"
   },
   {
    "duration": 26,
    "start_time": "2023-09-18T15:50:51.956Z"
   },
   {
    "duration": 23,
    "start_time": "2023-09-18T15:50:51.984Z"
   },
   {
    "duration": 23,
    "start_time": "2023-09-18T15:50:52.017Z"
   },
   {
    "duration": 10,
    "start_time": "2023-09-18T15:50:52.042Z"
   },
   {
    "duration": 211,
    "start_time": "2023-09-18T15:50:52.053Z"
   },
   {
    "duration": 162,
    "start_time": "2023-09-18T15:50:52.266Z"
   },
   {
    "duration": 8,
    "start_time": "2023-09-18T15:50:52.430Z"
   },
   {
    "duration": 250,
    "start_time": "2023-09-18T15:50:52.441Z"
   },
   {
    "duration": 377,
    "start_time": "2023-09-18T15:50:52.693Z"
   },
   {
    "duration": 9,
    "start_time": "2023-09-18T15:50:53.072Z"
   },
   {
    "duration": 310,
    "start_time": "2023-09-18T15:50:53.083Z"
   },
   {
    "duration": 24,
    "start_time": "2023-09-18T15:50:53.397Z"
   },
   {
    "duration": 19,
    "start_time": "2023-09-18T15:50:53.424Z"
   },
   {
    "duration": 21,
    "start_time": "2023-09-18T15:50:53.445Z"
   },
   {
    "duration": 58,
    "start_time": "2023-09-18T15:50:53.467Z"
   },
   {
    "duration": 21,
    "start_time": "2023-09-18T15:50:53.527Z"
   },
   {
    "duration": 271,
    "start_time": "2023-09-18T15:50:53.550Z"
   },
   {
    "duration": 11,
    "start_time": "2023-09-18T15:50:53.823Z"
   },
   {
    "duration": 364,
    "start_time": "2023-09-18T15:50:53.836Z"
   },
   {
    "duration": 22,
    "start_time": "2023-09-18T15:50:54.202Z"
   },
   {
    "duration": 238,
    "start_time": "2023-09-18T15:50:54.226Z"
   },
   {
    "duration": 9,
    "start_time": "2023-09-18T15:50:54.466Z"
   },
   {
    "duration": 295,
    "start_time": "2023-09-18T15:50:54.477Z"
   },
   {
    "duration": 12,
    "start_time": "2023-09-18T15:50:54.774Z"
   },
   {
    "duration": 108,
    "start_time": "2023-09-18T15:50:54.788Z"
   },
   {
    "duration": 28,
    "start_time": "2023-09-18T15:50:54.898Z"
   },
   {
    "duration": 33,
    "start_time": "2023-09-18T15:50:54.928Z"
   },
   {
    "duration": 185,
    "start_time": "2023-09-18T15:50:54.963Z"
   },
   {
    "duration": 6,
    "start_time": "2023-09-18T15:50:55.150Z"
   },
   {
    "duration": 41,
    "start_time": "2023-09-18T15:50:55.158Z"
   },
   {
    "duration": 34,
    "start_time": "2023-09-18T15:50:55.201Z"
   },
   {
    "duration": 6,
    "start_time": "2023-09-18T15:52:00.563Z"
   },
   {
    "duration": 1646,
    "start_time": "2023-09-18T16:02:59.343Z"
   },
   {
    "duration": 19,
    "start_time": "2023-09-18T16:04:46.357Z"
   },
   {
    "duration": 11,
    "start_time": "2023-09-18T16:05:02.687Z"
   },
   {
    "duration": 1212,
    "start_time": "2023-09-18T16:48:25.675Z"
   },
   {
    "duration": 39,
    "start_time": "2023-09-18T16:48:26.889Z"
   },
   {
    "duration": 15,
    "start_time": "2023-09-18T16:48:26.929Z"
   },
   {
    "duration": 18,
    "start_time": "2023-09-18T16:48:26.946Z"
   },
   {
    "duration": 34,
    "start_time": "2023-09-18T16:48:26.965Z"
   },
   {
    "duration": 11,
    "start_time": "2023-09-18T16:48:27.001Z"
   },
   {
    "duration": 8,
    "start_time": "2023-09-18T16:48:27.025Z"
   },
   {
    "duration": 16,
    "start_time": "2023-09-18T16:48:27.035Z"
   },
   {
    "duration": 7,
    "start_time": "2023-09-18T16:48:27.053Z"
   },
   {
    "duration": 6,
    "start_time": "2023-09-18T16:48:27.063Z"
   },
   {
    "duration": 10,
    "start_time": "2023-09-18T16:48:27.071Z"
   },
   {
    "duration": 5,
    "start_time": "2023-09-18T16:48:27.083Z"
   },
   {
    "duration": 23,
    "start_time": "2023-09-18T16:48:27.090Z"
   },
   {
    "duration": 12,
    "start_time": "2023-09-18T16:48:27.115Z"
   },
   {
    "duration": 7,
    "start_time": "2023-09-18T16:48:27.129Z"
   },
   {
    "duration": 7,
    "start_time": "2023-09-18T16:48:27.138Z"
   },
   {
    "duration": 6,
    "start_time": "2023-09-18T16:48:27.147Z"
   },
   {
    "duration": 7,
    "start_time": "2023-09-18T16:48:27.154Z"
   },
   {
    "duration": 59,
    "start_time": "2023-09-18T16:48:27.163Z"
   },
   {
    "duration": 6,
    "start_time": "2023-09-18T16:48:27.224Z"
   },
   {
    "duration": 175,
    "start_time": "2023-09-18T16:48:27.231Z"
   },
   {
    "duration": 139,
    "start_time": "2023-09-18T16:48:27.409Z"
   },
   {
    "duration": 5,
    "start_time": "2023-09-18T16:48:27.550Z"
   },
   {
    "duration": 191,
    "start_time": "2023-09-18T16:48:27.557Z"
   },
   {
    "duration": 311,
    "start_time": "2023-09-18T16:48:27.749Z"
   },
   {
    "duration": 8,
    "start_time": "2023-09-18T16:48:28.062Z"
   },
   {
    "duration": 297,
    "start_time": "2023-09-18T16:48:28.072Z"
   },
   {
    "duration": 9,
    "start_time": "2023-09-18T16:48:28.373Z"
   },
   {
    "duration": 40,
    "start_time": "2023-09-18T16:48:28.383Z"
   },
   {
    "duration": 20,
    "start_time": "2023-09-18T16:48:28.425Z"
   },
   {
    "duration": 22,
    "start_time": "2023-09-18T16:48:28.447Z"
   },
   {
    "duration": 50,
    "start_time": "2023-09-18T16:48:28.471Z"
   },
   {
    "duration": 251,
    "start_time": "2023-09-18T16:48:28.523Z"
   },
   {
    "duration": 9,
    "start_time": "2023-09-18T16:48:28.776Z"
   },
   {
    "duration": 338,
    "start_time": "2023-09-18T16:48:28.786Z"
   },
   {
    "duration": 10,
    "start_time": "2023-09-18T16:48:29.126Z"
   },
   {
    "duration": 226,
    "start_time": "2023-09-18T16:48:29.138Z"
   },
   {
    "duration": 8,
    "start_time": "2023-09-18T16:48:29.366Z"
   },
   {
    "duration": 267,
    "start_time": "2023-09-18T16:48:29.376Z"
   },
   {
    "duration": 8,
    "start_time": "2023-09-18T16:48:29.646Z"
   },
   {
    "duration": 68,
    "start_time": "2023-09-18T16:48:29.656Z"
   },
   {
    "duration": 19,
    "start_time": "2023-09-18T16:48:29.725Z"
   },
   {
    "duration": 3,
    "start_time": "2023-09-18T16:48:29.746Z"
   },
   {
    "duration": 167,
    "start_time": "2023-09-18T16:48:29.751Z"
   },
   {
    "duration": 7,
    "start_time": "2023-09-18T16:48:29.923Z"
   },
   {
    "duration": 17,
    "start_time": "2023-09-18T16:48:29.933Z"
   },
   {
    "duration": 5,
    "start_time": "2023-09-18T16:48:29.952Z"
   },
   {
    "duration": 20,
    "start_time": "2023-09-18T16:48:29.959Z"
   },
   {
    "duration": 1186,
    "start_time": "2023-09-18T17:14:15.795Z"
   },
   {
    "duration": 30,
    "start_time": "2023-09-18T17:14:16.983Z"
   },
   {
    "duration": 14,
    "start_time": "2023-09-18T17:14:17.014Z"
   },
   {
    "duration": 32,
    "start_time": "2023-09-18T17:14:17.030Z"
   },
   {
    "duration": 48,
    "start_time": "2023-09-18T17:14:17.065Z"
   },
   {
    "duration": 9,
    "start_time": "2023-09-18T17:14:17.114Z"
   },
   {
    "duration": 27,
    "start_time": "2023-09-18T17:14:17.125Z"
   },
   {
    "duration": 53,
    "start_time": "2023-09-18T17:14:17.154Z"
   },
   {
    "duration": 10,
    "start_time": "2023-09-18T17:14:17.209Z"
   },
   {
    "duration": 21,
    "start_time": "2023-09-18T17:14:17.220Z"
   },
   {
    "duration": 24,
    "start_time": "2023-09-18T17:14:17.243Z"
   },
   {
    "duration": 12,
    "start_time": "2023-09-18T17:14:17.269Z"
   },
   {
    "duration": 31,
    "start_time": "2023-09-18T17:14:17.282Z"
   },
   {
    "duration": 22,
    "start_time": "2023-09-18T17:14:17.316Z"
   },
   {
    "duration": 30,
    "start_time": "2023-09-18T17:14:17.340Z"
   },
   {
    "duration": 22,
    "start_time": "2023-09-18T17:14:17.371Z"
   },
   {
    "duration": 33,
    "start_time": "2023-09-18T17:14:17.395Z"
   },
   {
    "duration": 42,
    "start_time": "2023-09-18T17:14:17.429Z"
   },
   {
    "duration": 12,
    "start_time": "2023-09-18T17:14:17.472Z"
   },
   {
    "duration": 42,
    "start_time": "2023-09-18T17:14:17.486Z"
   },
   {
    "duration": 172,
    "start_time": "2023-09-18T17:14:17.529Z"
   },
   {
    "duration": 123,
    "start_time": "2023-09-18T17:14:17.703Z"
   },
   {
    "duration": 6,
    "start_time": "2023-09-18T17:14:17.827Z"
   },
   {
    "duration": 172,
    "start_time": "2023-09-18T17:14:17.834Z"
   },
   {
    "duration": 273,
    "start_time": "2023-09-18T17:14:18.007Z"
   },
   {
    "duration": 9,
    "start_time": "2023-09-18T17:14:18.281Z"
   },
   {
    "duration": 266,
    "start_time": "2023-09-18T17:14:18.301Z"
   },
   {
    "duration": 8,
    "start_time": "2023-09-18T17:14:18.569Z"
   },
   {
    "duration": 30,
    "start_time": "2023-09-18T17:14:18.579Z"
   },
   {
    "duration": 20,
    "start_time": "2023-09-18T17:14:18.610Z"
   },
   {
    "duration": 23,
    "start_time": "2023-09-18T17:14:18.633Z"
   },
   {
    "duration": 44,
    "start_time": "2023-09-18T17:14:18.658Z"
   },
   {
    "duration": 236,
    "start_time": "2023-09-18T17:14:18.704Z"
   },
   {
    "duration": 8,
    "start_time": "2023-09-18T17:14:18.942Z"
   },
   {
    "duration": 326,
    "start_time": "2023-09-18T17:14:18.952Z"
   },
   {
    "duration": 9,
    "start_time": "2023-09-18T17:14:19.280Z"
   },
   {
    "duration": 212,
    "start_time": "2023-09-18T17:14:19.301Z"
   },
   {
    "duration": 8,
    "start_time": "2023-09-18T17:14:19.515Z"
   },
   {
    "duration": 247,
    "start_time": "2023-09-18T17:14:19.525Z"
   },
   {
    "duration": 9,
    "start_time": "2023-09-18T17:14:19.774Z"
   },
   {
    "duration": 54,
    "start_time": "2023-09-18T17:14:19.786Z"
   },
   {
    "duration": 18,
    "start_time": "2023-09-18T17:14:19.843Z"
   },
   {
    "duration": 8,
    "start_time": "2023-09-18T17:14:19.863Z"
   },
   {
    "duration": 163,
    "start_time": "2023-09-18T17:14:19.873Z"
   },
   {
    "duration": 6,
    "start_time": "2023-09-18T17:14:20.038Z"
   },
   {
    "duration": 27,
    "start_time": "2023-09-18T17:14:20.047Z"
   },
   {
    "duration": 28,
    "start_time": "2023-09-18T17:14:20.076Z"
   },
   {
    "duration": 38,
    "start_time": "2023-09-18T17:14:20.106Z"
   },
   {
    "duration": 12,
    "start_time": "2023-09-18T17:15:08.763Z"
   },
   {
    "duration": 11,
    "start_time": "2023-09-18T17:15:14.841Z"
   },
   {
    "duration": 48,
    "start_time": "2023-09-18T19:34:09.242Z"
   },
   {
    "duration": 6,
    "start_time": "2023-09-18T19:34:23.037Z"
   },
   {
    "duration": 5,
    "start_time": "2023-09-18T19:34:39.482Z"
   },
   {
    "duration": 1206,
    "start_time": "2023-09-18T19:34:44.604Z"
   },
   {
    "duration": 99,
    "start_time": "2023-09-18T19:34:45.811Z"
   },
   {
    "duration": 14,
    "start_time": "2023-09-18T19:34:45.912Z"
   },
   {
    "duration": 21,
    "start_time": "2023-09-18T19:34:45.928Z"
   },
   {
    "duration": 15,
    "start_time": "2023-09-18T19:34:45.951Z"
   },
   {
    "duration": 147,
    "start_time": "2023-09-18T19:34:45.968Z"
   },
   {
    "duration": 8,
    "start_time": "2023-09-18T19:34:46.117Z"
   },
   {
    "duration": 27,
    "start_time": "2023-09-18T19:34:46.126Z"
   },
   {
    "duration": 19,
    "start_time": "2023-09-18T19:34:46.155Z"
   },
   {
    "duration": 55,
    "start_time": "2023-09-18T19:34:46.176Z"
   },
   {
    "duration": 8,
    "start_time": "2023-09-18T19:34:46.233Z"
   },
   {
    "duration": 23,
    "start_time": "2023-09-18T19:34:46.243Z"
   },
   {
    "duration": 29,
    "start_time": "2023-09-18T19:34:46.267Z"
   },
   {
    "duration": 16,
    "start_time": "2023-09-18T19:34:46.298Z"
   },
   {
    "duration": 8,
    "start_time": "2023-09-18T19:34:46.315Z"
   },
   {
    "duration": 21,
    "start_time": "2023-09-18T19:34:46.325Z"
   },
   {
    "duration": 29,
    "start_time": "2023-09-18T19:34:46.348Z"
   },
   {
    "duration": 21,
    "start_time": "2023-09-18T19:34:46.379Z"
   },
   {
    "duration": 13,
    "start_time": "2023-09-18T19:34:46.402Z"
   },
   {
    "duration": 5,
    "start_time": "2023-09-18T19:34:46.417Z"
   },
   {
    "duration": 18,
    "start_time": "2023-09-18T19:34:46.424Z"
   },
   {
    "duration": 8,
    "start_time": "2023-09-18T19:34:46.444Z"
   },
   {
    "duration": 8,
    "start_time": "2023-09-18T19:34:46.454Z"
   },
   {
    "duration": 161,
    "start_time": "2023-09-18T19:34:46.463Z"
   },
   {
    "duration": 109,
    "start_time": "2023-09-18T19:34:46.625Z"
   },
   {
    "duration": 9,
    "start_time": "2023-09-18T19:34:46.736Z"
   },
   {
    "duration": 146,
    "start_time": "2023-09-18T19:34:46.747Z"
   },
   {
    "duration": 247,
    "start_time": "2023-09-18T19:34:46.897Z"
   },
   {
    "duration": 7,
    "start_time": "2023-09-18T19:34:47.146Z"
   },
   {
    "duration": 252,
    "start_time": "2023-09-18T19:34:47.154Z"
   },
   {
    "duration": 8,
    "start_time": "2023-09-18T19:34:47.407Z"
   },
   {
    "duration": 27,
    "start_time": "2023-09-18T19:34:47.417Z"
   },
   {
    "duration": 18,
    "start_time": "2023-09-18T19:34:47.445Z"
   },
   {
    "duration": 20,
    "start_time": "2023-09-18T19:34:47.464Z"
   },
   {
    "duration": 18,
    "start_time": "2023-09-18T19:34:47.485Z"
   },
   {
    "duration": 234,
    "start_time": "2023-09-18T19:34:47.504Z"
   },
   {
    "duration": 9,
    "start_time": "2023-09-18T19:34:47.743Z"
   },
   {
    "duration": 295,
    "start_time": "2023-09-18T19:34:47.753Z"
   },
   {
    "duration": 10,
    "start_time": "2023-09-18T19:34:48.050Z"
   },
   {
    "duration": 210,
    "start_time": "2023-09-18T19:34:48.062Z"
   },
   {
    "duration": 8,
    "start_time": "2023-09-18T19:34:48.274Z"
   },
   {
    "duration": 231,
    "start_time": "2023-09-18T19:34:48.284Z"
   },
   {
    "duration": 8,
    "start_time": "2023-09-18T19:34:48.517Z"
   },
   {
    "duration": 47,
    "start_time": "2023-09-18T19:34:48.526Z"
   },
   {
    "duration": 16,
    "start_time": "2023-09-18T19:34:48.575Z"
   },
   {
    "duration": 4,
    "start_time": "2023-09-18T19:34:48.592Z"
   },
   {
    "duration": 149,
    "start_time": "2023-09-18T19:34:48.597Z"
   },
   {
    "duration": 4,
    "start_time": "2023-09-18T19:34:48.748Z"
   },
   {
    "duration": 7,
    "start_time": "2023-09-18T19:34:48.754Z"
   },
   {
    "duration": 5,
    "start_time": "2023-09-18T19:34:48.763Z"
   },
   {
    "duration": 11,
    "start_time": "2023-09-18T19:34:48.769Z"
   },
   {
    "duration": 8,
    "start_time": "2023-09-18T19:39:46.209Z"
   },
   {
    "duration": 22,
    "start_time": "2023-09-18T19:40:05.219Z"
   },
   {
    "duration": 22,
    "start_time": "2023-09-18T19:40:08.830Z"
   },
   {
    "duration": 11,
    "start_time": "2023-09-18T19:40:15.999Z"
   },
   {
    "duration": 15,
    "start_time": "2023-09-18T19:40:25.071Z"
   },
   {
    "duration": 5,
    "start_time": "2023-09-18T19:41:45.343Z"
   },
   {
    "duration": 6,
    "start_time": "2023-09-18T19:42:47.805Z"
   },
   {
    "duration": 6,
    "start_time": "2023-09-18T19:43:47.456Z"
   },
   {
    "duration": 6,
    "start_time": "2023-09-18T19:47:49.732Z"
   },
   {
    "duration": 13,
    "start_time": "2023-09-18T19:48:07.144Z"
   },
   {
    "duration": 92,
    "start_time": "2023-09-18T19:55:53.625Z"
   },
   {
    "duration": 8,
    "start_time": "2023-09-18T19:55:57.883Z"
   },
   {
    "duration": 6,
    "start_time": "2023-09-18T19:56:03.710Z"
   },
   {
    "duration": 3,
    "start_time": "2023-09-18T20:16:24.881Z"
   },
   {
    "duration": 5,
    "start_time": "2023-09-18T20:17:37.006Z"
   },
   {
    "duration": 33,
    "start_time": "2023-09-18T20:22:12.070Z"
   },
   {
    "duration": 51,
    "start_time": "2023-09-18T20:22:22.380Z"
   },
   {
    "duration": 4,
    "start_time": "2023-09-18T20:24:24.862Z"
   },
   {
    "duration": 37,
    "start_time": "2023-09-18T20:24:25.477Z"
   },
   {
    "duration": 1111,
    "start_time": "2023-09-18T20:24:34.754Z"
   },
   {
    "duration": 28,
    "start_time": "2023-09-18T20:24:35.866Z"
   },
   {
    "duration": 12,
    "start_time": "2023-09-18T20:24:35.895Z"
   },
   {
    "duration": 45,
    "start_time": "2023-09-18T20:24:35.910Z"
   },
   {
    "duration": 31,
    "start_time": "2023-09-18T20:24:35.957Z"
   },
   {
    "duration": 55,
    "start_time": "2023-09-18T20:24:35.989Z"
   },
   {
    "duration": 26,
    "start_time": "2023-09-18T20:24:36.046Z"
   },
   {
    "duration": 49,
    "start_time": "2023-09-18T20:24:36.074Z"
   },
   {
    "duration": 10,
    "start_time": "2023-09-18T20:24:36.124Z"
   },
   {
    "duration": 15,
    "start_time": "2023-09-18T20:24:36.137Z"
   },
   {
    "duration": 38,
    "start_time": "2023-09-18T20:24:36.154Z"
   },
   {
    "duration": 18,
    "start_time": "2023-09-18T20:24:36.194Z"
   },
   {
    "duration": 8,
    "start_time": "2023-09-18T20:24:36.214Z"
   },
   {
    "duration": 13,
    "start_time": "2023-09-18T20:24:36.223Z"
   },
   {
    "duration": 26,
    "start_time": "2023-09-18T20:24:36.238Z"
   },
   {
    "duration": 10,
    "start_time": "2023-09-18T20:24:36.266Z"
   },
   {
    "duration": 7,
    "start_time": "2023-09-18T20:24:36.278Z"
   },
   {
    "duration": 12,
    "start_time": "2023-09-18T20:24:36.286Z"
   },
   {
    "duration": 16,
    "start_time": "2023-09-18T20:24:36.300Z"
   },
   {
    "duration": 17,
    "start_time": "2023-09-18T20:24:36.318Z"
   },
   {
    "duration": 18,
    "start_time": "2023-09-18T20:24:36.336Z"
   },
   {
    "duration": 7,
    "start_time": "2023-09-18T20:24:36.356Z"
   },
   {
    "duration": 15,
    "start_time": "2023-09-18T20:24:36.365Z"
   },
   {
    "duration": 17,
    "start_time": "2023-09-18T20:24:36.381Z"
   },
   {
    "duration": 20,
    "start_time": "2023-09-18T20:24:36.399Z"
   },
   {
    "duration": 139,
    "start_time": "2023-09-18T20:24:36.420Z"
   },
   {
    "duration": 110,
    "start_time": "2023-09-18T20:24:36.560Z"
   },
   {
    "duration": 6,
    "start_time": "2023-09-18T20:24:36.673Z"
   },
   {
    "duration": 211,
    "start_time": "2023-09-18T20:24:36.680Z"
   },
   {
    "duration": 267,
    "start_time": "2023-09-18T20:24:36.893Z"
   },
   {
    "duration": 8,
    "start_time": "2023-09-18T20:24:37.162Z"
   },
   {
    "duration": 274,
    "start_time": "2023-09-18T20:24:37.171Z"
   },
   {
    "duration": 8,
    "start_time": "2023-09-18T20:24:37.446Z"
   },
   {
    "duration": 16,
    "start_time": "2023-09-18T20:24:37.455Z"
   },
   {
    "duration": 17,
    "start_time": "2023-09-18T20:24:37.473Z"
   },
   {
    "duration": 23,
    "start_time": "2023-09-18T20:24:37.491Z"
   },
   {
    "duration": 44,
    "start_time": "2023-09-18T20:24:37.516Z"
   },
   {
    "duration": 208,
    "start_time": "2023-09-18T20:24:37.561Z"
   },
   {
    "duration": 9,
    "start_time": "2023-09-18T20:24:37.770Z"
   },
   {
    "duration": 285,
    "start_time": "2023-09-18T20:24:37.781Z"
   },
   {
    "duration": 9,
    "start_time": "2023-09-18T20:24:38.068Z"
   },
   {
    "duration": 204,
    "start_time": "2023-09-18T20:24:38.078Z"
   },
   {
    "duration": 7,
    "start_time": "2023-09-18T20:24:38.284Z"
   },
   {
    "duration": 255,
    "start_time": "2023-09-18T20:24:38.293Z"
   },
   {
    "duration": 7,
    "start_time": "2023-09-18T20:24:38.550Z"
   },
   {
    "duration": 3,
    "start_time": "2023-09-18T20:24:38.559Z"
   },
   {
    "duration": 34,
    "start_time": "2023-09-18T20:24:38.563Z"
   },
   {
    "duration": 15,
    "start_time": "2023-09-18T20:24:38.599Z"
   },
   {
    "duration": 4,
    "start_time": "2023-09-18T20:24:38.643Z"
   },
   {
    "duration": 130,
    "start_time": "2023-09-18T20:24:38.649Z"
   },
   {
    "duration": 5,
    "start_time": "2023-09-18T20:24:38.781Z"
   },
   {
    "duration": 65,
    "start_time": "2023-09-18T20:24:38.788Z"
   },
   {
    "duration": 111,
    "start_time": "2023-09-18T20:24:38.854Z"
   },
   {
    "duration": 42,
    "start_time": "2023-09-18T20:24:38.967Z"
   },
   {
    "duration": 5,
    "start_time": "2023-09-18T20:31:38.412Z"
   },
   {
    "duration": 5,
    "start_time": "2023-09-18T20:31:41.777Z"
   },
   {
    "duration": 5,
    "start_time": "2023-09-18T20:31:47.080Z"
   },
   {
    "duration": 160,
    "start_time": "2023-09-18T21:27:12.161Z"
   },
   {
    "duration": 162,
    "start_time": "2023-09-18T21:27:52.284Z"
   },
   {
    "duration": 92,
    "start_time": "2023-09-18T21:28:50.174Z"
   },
   {
    "duration": 94,
    "start_time": "2023-09-18T21:29:26.831Z"
   },
   {
    "duration": 1143,
    "start_time": "2023-09-18T21:32:54.055Z"
   },
   {
    "duration": 28,
    "start_time": "2023-09-18T21:32:55.200Z"
   },
   {
    "duration": 14,
    "start_time": "2023-09-18T21:32:55.230Z"
   },
   {
    "duration": 10,
    "start_time": "2023-09-18T21:32:55.246Z"
   },
   {
    "duration": 16,
    "start_time": "2023-09-18T21:32:55.258Z"
   },
   {
    "duration": 6,
    "start_time": "2023-09-18T21:32:55.276Z"
   },
   {
    "duration": 10,
    "start_time": "2023-09-18T21:32:55.283Z"
   },
   {
    "duration": 37,
    "start_time": "2023-09-18T21:32:55.295Z"
   },
   {
    "duration": 18,
    "start_time": "2023-09-18T21:32:55.334Z"
   },
   {
    "duration": 12,
    "start_time": "2023-09-18T21:32:55.354Z"
   },
   {
    "duration": 17,
    "start_time": "2023-09-18T21:32:55.368Z"
   },
   {
    "duration": 16,
    "start_time": "2023-09-18T21:32:55.386Z"
   },
   {
    "duration": 7,
    "start_time": "2023-09-18T21:32:55.403Z"
   },
   {
    "duration": 34,
    "start_time": "2023-09-18T21:32:55.412Z"
   },
   {
    "duration": 7,
    "start_time": "2023-09-18T21:32:55.447Z"
   },
   {
    "duration": 6,
    "start_time": "2023-09-18T21:32:55.455Z"
   },
   {
    "duration": 9,
    "start_time": "2023-09-18T21:32:55.462Z"
   },
   {
    "duration": 6,
    "start_time": "2023-09-18T21:32:55.472Z"
   },
   {
    "duration": 28,
    "start_time": "2023-09-18T21:32:55.480Z"
   },
   {
    "duration": 15,
    "start_time": "2023-09-18T21:32:55.510Z"
   },
   {
    "duration": 6,
    "start_time": "2023-09-18T21:32:55.527Z"
   },
   {
    "duration": 7,
    "start_time": "2023-09-18T21:32:55.544Z"
   },
   {
    "duration": 7,
    "start_time": "2023-09-18T21:32:55.553Z"
   },
   {
    "duration": 8,
    "start_time": "2023-09-18T21:32:55.562Z"
   },
   {
    "duration": 4,
    "start_time": "2023-09-18T21:32:55.572Z"
   },
   {
    "duration": 169,
    "start_time": "2023-09-18T21:32:55.577Z"
   },
   {
    "duration": 117,
    "start_time": "2023-09-18T21:32:55.748Z"
   },
   {
    "duration": 6,
    "start_time": "2023-09-18T21:32:55.868Z"
   },
   {
    "duration": 171,
    "start_time": "2023-09-18T21:32:55.876Z"
   },
   {
    "duration": 318,
    "start_time": "2023-09-18T21:32:56.048Z"
   },
   {
    "duration": 9,
    "start_time": "2023-09-18T21:32:56.368Z"
   },
   {
    "duration": 251,
    "start_time": "2023-09-18T21:32:56.379Z"
   },
   {
    "duration": 17,
    "start_time": "2023-09-18T21:32:56.632Z"
   },
   {
    "duration": 30,
    "start_time": "2023-09-18T21:32:56.650Z"
   },
   {
    "duration": 29,
    "start_time": "2023-09-18T21:32:56.682Z"
   },
   {
    "duration": 53,
    "start_time": "2023-09-18T21:32:56.713Z"
   },
   {
    "duration": 23,
    "start_time": "2023-09-18T21:32:56.768Z"
   },
   {
    "duration": 221,
    "start_time": "2023-09-18T21:32:56.793Z"
   },
   {
    "duration": 8,
    "start_time": "2023-09-18T21:32:57.016Z"
   },
   {
    "duration": 287,
    "start_time": "2023-09-18T21:32:57.025Z"
   },
   {
    "duration": 8,
    "start_time": "2023-09-18T21:32:57.314Z"
   },
   {
    "duration": 193,
    "start_time": "2023-09-18T21:32:57.323Z"
   },
   {
    "duration": 8,
    "start_time": "2023-09-18T21:32:57.517Z"
   },
   {
    "duration": 238,
    "start_time": "2023-09-18T21:32:57.526Z"
   },
   {
    "duration": 10,
    "start_time": "2023-09-18T21:32:57.765Z"
   },
   {
    "duration": 3,
    "start_time": "2023-09-18T21:32:57.776Z"
   },
   {
    "duration": 42,
    "start_time": "2023-09-18T21:32:57.781Z"
   },
   {
    "duration": 32,
    "start_time": "2023-09-18T21:32:57.825Z"
   },
   {
    "duration": 9,
    "start_time": "2023-09-18T21:32:57.858Z"
   },
   {
    "duration": 134,
    "start_time": "2023-09-18T21:32:57.868Z"
   },
   {
    "duration": 5,
    "start_time": "2023-09-18T21:32:58.003Z"
   },
   {
    "duration": 8,
    "start_time": "2023-09-18T21:32:58.010Z"
   },
   {
    "duration": 5,
    "start_time": "2023-09-18T21:32:58.020Z"
   },
   {
    "duration": 24,
    "start_time": "2023-09-18T21:32:58.027Z"
   },
   {
    "duration": 1169,
    "start_time": "2023-09-18T22:26:02.014Z"
   },
   {
    "duration": 29,
    "start_time": "2023-09-18T22:26:03.186Z"
   },
   {
    "duration": 173,
    "start_time": "2023-09-18T22:26:03.217Z"
   },
   {
    "duration": 219,
    "start_time": "2023-09-18T22:26:03.392Z"
   },
   {
    "duration": 85,
    "start_time": "2023-09-18T22:26:03.612Z"
   },
   {
    "duration": 67,
    "start_time": "2023-09-18T22:26:03.699Z"
   },
   {
    "duration": 50,
    "start_time": "2023-09-18T22:26:03.768Z"
   },
   {
    "duration": 106,
    "start_time": "2023-09-18T22:26:03.820Z"
   },
   {
    "duration": 10,
    "start_time": "2023-09-18T22:26:03.927Z"
   },
   {
    "duration": 29,
    "start_time": "2023-09-18T22:26:03.941Z"
   },
   {
    "duration": 45,
    "start_time": "2023-09-18T22:26:03.971Z"
   },
   {
    "duration": 29,
    "start_time": "2023-09-18T22:26:04.017Z"
   },
   {
    "duration": 15,
    "start_time": "2023-09-18T22:26:04.048Z"
   },
   {
    "duration": 18,
    "start_time": "2023-09-18T22:26:04.065Z"
   },
   {
    "duration": 37,
    "start_time": "2023-09-18T22:26:04.085Z"
   },
   {
    "duration": 10,
    "start_time": "2023-09-18T22:26:04.124Z"
   },
   {
    "duration": 22,
    "start_time": "2023-09-18T22:26:04.136Z"
   },
   {
    "duration": 9,
    "start_time": "2023-09-18T22:26:04.160Z"
   },
   {
    "duration": 17,
    "start_time": "2023-09-18T22:26:04.171Z"
   },
   {
    "duration": 6,
    "start_time": "2023-09-18T22:26:04.191Z"
   },
   {
    "duration": 9,
    "start_time": "2023-09-18T22:26:04.198Z"
   },
   {
    "duration": 16,
    "start_time": "2023-09-18T22:26:04.208Z"
   },
   {
    "duration": 18,
    "start_time": "2023-09-18T22:26:04.226Z"
   },
   {
    "duration": 13,
    "start_time": "2023-09-18T22:26:04.246Z"
   },
   {
    "duration": 6,
    "start_time": "2023-09-18T22:26:04.261Z"
   },
   {
    "duration": 167,
    "start_time": "2023-09-18T22:26:04.269Z"
   },
   {
    "duration": 130,
    "start_time": "2023-09-18T22:26:04.438Z"
   },
   {
    "duration": 7,
    "start_time": "2023-09-18T22:26:04.573Z"
   },
   {
    "duration": 206,
    "start_time": "2023-09-18T22:26:04.582Z"
   },
   {
    "duration": 290,
    "start_time": "2023-09-18T22:26:04.790Z"
   },
   {
    "duration": 9,
    "start_time": "2023-09-18T22:26:05.081Z"
   },
   {
    "duration": 269,
    "start_time": "2023-09-18T22:26:05.101Z"
   },
   {
    "duration": 9,
    "start_time": "2023-09-18T22:26:05.371Z"
   },
   {
    "duration": 39,
    "start_time": "2023-09-18T22:26:05.381Z"
   },
   {
    "duration": 21,
    "start_time": "2023-09-18T22:26:05.422Z"
   },
   {
    "duration": 41,
    "start_time": "2023-09-18T22:26:05.445Z"
   },
   {
    "duration": 21,
    "start_time": "2023-09-18T22:26:05.488Z"
   },
   {
    "duration": 224,
    "start_time": "2023-09-18T22:26:05.511Z"
   },
   {
    "duration": 11,
    "start_time": "2023-09-18T22:26:05.737Z"
   },
   {
    "duration": 312,
    "start_time": "2023-09-18T22:26:05.750Z"
   },
   {
    "duration": 9,
    "start_time": "2023-09-18T22:26:06.064Z"
   },
   {
    "duration": 211,
    "start_time": "2023-09-18T22:26:06.074Z"
   },
   {
    "duration": 16,
    "start_time": "2023-09-18T22:26:06.286Z"
   },
   {
    "duration": 230,
    "start_time": "2023-09-18T22:26:06.305Z"
   },
   {
    "duration": 9,
    "start_time": "2023-09-18T22:26:06.537Z"
   },
   {
    "duration": 155,
    "start_time": "2023-09-18T22:26:06.548Z"
   },
   {
    "duration": 57,
    "start_time": "2023-09-18T22:26:06.704Z"
   },
   {
    "duration": 16,
    "start_time": "2023-09-18T22:26:06.763Z"
   },
   {
    "duration": 14,
    "start_time": "2023-09-18T22:26:06.781Z"
   },
   {
    "duration": 140,
    "start_time": "2023-09-18T22:26:06.796Z"
   },
   {
    "duration": 6,
    "start_time": "2023-09-18T22:26:06.938Z"
   },
   {
    "duration": 13,
    "start_time": "2023-09-18T22:26:06.946Z"
   },
   {
    "duration": 24,
    "start_time": "2023-09-18T22:26:06.961Z"
   },
   {
    "duration": 13,
    "start_time": "2023-09-18T22:26:06.988Z"
   },
   {
    "duration": 1602,
    "start_time": "2023-09-18T23:02:18.976Z"
   },
   {
    "duration": 95,
    "start_time": "2023-09-18T23:02:20.581Z"
   },
   {
    "duration": 17,
    "start_time": "2023-09-18T23:02:20.678Z"
   },
   {
    "duration": 28,
    "start_time": "2023-09-18T23:02:20.697Z"
   },
   {
    "duration": 22,
    "start_time": "2023-09-18T23:02:20.734Z"
   },
   {
    "duration": 16,
    "start_time": "2023-09-18T23:02:20.758Z"
   },
   {
    "duration": 13,
    "start_time": "2023-09-18T23:02:20.776Z"
   },
   {
    "duration": 104,
    "start_time": "2023-09-18T23:02:20.791Z"
   },
   {
    "duration": 13,
    "start_time": "2023-09-18T23:02:20.897Z"
   },
   {
    "duration": 36,
    "start_time": "2023-09-18T23:02:20.914Z"
   },
   {
    "duration": 28,
    "start_time": "2023-09-18T23:02:20.953Z"
   },
   {
    "duration": 62,
    "start_time": "2023-09-18T23:02:20.983Z"
   },
   {
    "duration": 10,
    "start_time": "2023-09-18T23:02:21.048Z"
   },
   {
    "duration": 24,
    "start_time": "2023-09-18T23:02:21.061Z"
   },
   {
    "duration": 21,
    "start_time": "2023-09-18T23:02:21.087Z"
   },
   {
    "duration": 15,
    "start_time": "2023-09-18T23:02:21.112Z"
   },
   {
    "duration": 11,
    "start_time": "2023-09-18T23:02:21.129Z"
   },
   {
    "duration": 12,
    "start_time": "2023-09-18T23:02:21.143Z"
   },
   {
    "duration": 7,
    "start_time": "2023-09-18T23:02:21.157Z"
   },
   {
    "duration": 8,
    "start_time": "2023-09-18T23:02:21.167Z"
   },
   {
    "duration": 41,
    "start_time": "2023-09-18T23:02:21.177Z"
   },
   {
    "duration": 7,
    "start_time": "2023-09-18T23:02:21.220Z"
   },
   {
    "duration": 16,
    "start_time": "2023-09-18T23:02:21.228Z"
   },
   {
    "duration": 18,
    "start_time": "2023-09-18T23:02:21.246Z"
   },
   {
    "duration": 14,
    "start_time": "2023-09-18T23:02:21.266Z"
   },
   {
    "duration": 252,
    "start_time": "2023-09-18T23:02:21.282Z"
   },
   {
    "duration": 146,
    "start_time": "2023-09-18T23:02:21.536Z"
   },
   {
    "duration": 6,
    "start_time": "2023-09-18T23:02:21.686Z"
   },
   {
    "duration": 226,
    "start_time": "2023-09-18T23:02:21.694Z"
   },
   {
    "duration": 326,
    "start_time": "2023-09-18T23:02:21.930Z"
   },
   {
    "duration": 9,
    "start_time": "2023-09-18T23:02:22.258Z"
   },
   {
    "duration": 397,
    "start_time": "2023-09-18T23:02:22.269Z"
   },
   {
    "duration": 16,
    "start_time": "2023-09-18T23:02:22.670Z"
   },
   {
    "duration": 62,
    "start_time": "2023-09-18T23:02:22.688Z"
   },
   {
    "duration": 42,
    "start_time": "2023-09-18T23:02:22.753Z"
   },
   {
    "duration": 38,
    "start_time": "2023-09-18T23:02:22.798Z"
   },
   {
    "duration": 38,
    "start_time": "2023-09-18T23:02:22.839Z"
   },
   {
    "duration": 319,
    "start_time": "2023-09-18T23:02:22.879Z"
   },
   {
    "duration": 21,
    "start_time": "2023-09-18T23:02:23.200Z"
   },
   {
    "duration": 530,
    "start_time": "2023-09-18T23:02:23.223Z"
   },
   {
    "duration": 10,
    "start_time": "2023-09-18T23:02:23.755Z"
   },
   {
    "duration": 300,
    "start_time": "2023-09-18T23:02:23.766Z"
   },
   {
    "duration": 10,
    "start_time": "2023-09-18T23:02:24.067Z"
   },
   {
    "duration": 292,
    "start_time": "2023-09-18T23:02:24.079Z"
   },
   {
    "duration": 9,
    "start_time": "2023-09-18T23:02:24.373Z"
   },
   {
    "duration": 4,
    "start_time": "2023-09-18T23:02:24.383Z"
   },
   {
    "duration": 77,
    "start_time": "2023-09-18T23:02:24.389Z"
   },
   {
    "duration": 21,
    "start_time": "2023-09-18T23:02:24.468Z"
   },
   {
    "duration": 23,
    "start_time": "2023-09-18T23:02:24.490Z"
   },
   {
    "duration": 200,
    "start_time": "2023-09-18T23:02:24.519Z"
   },
   {
    "duration": 7,
    "start_time": "2023-09-18T23:02:24.722Z"
   },
   {
    "duration": 20,
    "start_time": "2023-09-18T23:02:24.731Z"
   },
   {
    "duration": 12,
    "start_time": "2023-09-18T23:02:24.753Z"
   },
   {
    "duration": 25,
    "start_time": "2023-09-18T23:02:24.767Z"
   },
   {
    "duration": 8,
    "start_time": "2023-09-18T23:03:01.104Z"
   },
   {
    "duration": 4,
    "start_time": "2023-09-18T23:03:14.789Z"
   },
   {
    "duration": 4,
    "start_time": "2023-09-18T23:03:24.293Z"
   },
   {
    "duration": 4,
    "start_time": "2023-09-18T23:03:43.595Z"
   },
   {
    "duration": 5,
    "start_time": "2023-09-18T23:04:03.148Z"
   },
   {
    "duration": 7,
    "start_time": "2023-09-18T23:04:16.980Z"
   },
   {
    "duration": 5,
    "start_time": "2023-09-18T23:05:53.677Z"
   },
   {
    "duration": 6,
    "start_time": "2023-09-18T23:05:56.806Z"
   },
   {
    "duration": 5,
    "start_time": "2023-09-18T23:06:01.472Z"
   },
   {
    "duration": 6,
    "start_time": "2023-09-18T23:06:10.596Z"
   },
   {
    "duration": 4,
    "start_time": "2023-09-18T23:06:16.394Z"
   },
   {
    "duration": 4,
    "start_time": "2023-09-18T23:06:21.753Z"
   },
   {
    "duration": 4,
    "start_time": "2023-09-18T23:06:53.986Z"
   },
   {
    "duration": 1378,
    "start_time": "2023-09-18T23:07:02.571Z"
   },
   {
    "duration": 31,
    "start_time": "2023-09-18T23:07:03.951Z"
   },
   {
    "duration": 63,
    "start_time": "2023-09-18T23:07:03.984Z"
   },
   {
    "duration": 32,
    "start_time": "2023-09-18T23:07:04.048Z"
   },
   {
    "duration": 19,
    "start_time": "2023-09-18T23:07:04.083Z"
   },
   {
    "duration": 17,
    "start_time": "2023-09-18T23:07:04.103Z"
   },
   {
    "duration": 7,
    "start_time": "2023-09-18T23:07:04.122Z"
   },
   {
    "duration": 34,
    "start_time": "2023-09-18T23:07:04.131Z"
   },
   {
    "duration": 10,
    "start_time": "2023-09-18T23:07:04.167Z"
   },
   {
    "duration": 17,
    "start_time": "2023-09-18T23:07:04.178Z"
   },
   {
    "duration": 29,
    "start_time": "2023-09-18T23:07:04.210Z"
   },
   {
    "duration": 18,
    "start_time": "2023-09-18T23:07:04.242Z"
   },
   {
    "duration": 10,
    "start_time": "2023-09-18T23:07:04.262Z"
   },
   {
    "duration": 35,
    "start_time": "2023-09-18T23:07:04.278Z"
   },
   {
    "duration": 19,
    "start_time": "2023-09-18T23:07:04.316Z"
   },
   {
    "duration": 8,
    "start_time": "2023-09-18T23:07:04.337Z"
   },
   {
    "duration": 7,
    "start_time": "2023-09-18T23:07:04.349Z"
   },
   {
    "duration": 7,
    "start_time": "2023-09-18T23:07:04.357Z"
   },
   {
    "duration": 14,
    "start_time": "2023-09-18T23:07:04.367Z"
   },
   {
    "duration": 36,
    "start_time": "2023-09-18T23:07:04.383Z"
   },
   {
    "duration": 9,
    "start_time": "2023-09-18T23:07:04.421Z"
   },
   {
    "duration": 7,
    "start_time": "2023-09-18T23:07:04.432Z"
   },
   {
    "duration": 14,
    "start_time": "2023-09-18T23:07:04.441Z"
   },
   {
    "duration": 15,
    "start_time": "2023-09-18T23:07:04.457Z"
   },
   {
    "duration": 7,
    "start_time": "2023-09-18T23:07:04.474Z"
   },
   {
    "duration": 244,
    "start_time": "2023-09-18T23:07:04.510Z"
   },
   {
    "duration": 146,
    "start_time": "2023-09-18T23:07:04.756Z"
   },
   {
    "duration": 21,
    "start_time": "2023-09-18T23:07:04.904Z"
   },
   {
    "duration": 198,
    "start_time": "2023-09-18T23:07:04.927Z"
   },
   {
    "duration": 371,
    "start_time": "2023-09-18T23:07:05.127Z"
   },
   {
    "duration": 35,
    "start_time": "2023-09-18T23:07:05.500Z"
   },
   {
    "duration": 348,
    "start_time": "2023-09-18T23:07:05.546Z"
   },
   {
    "duration": 28,
    "start_time": "2023-09-18T23:07:05.896Z"
   },
   {
    "duration": 10,
    "start_time": "2023-09-18T23:07:05.927Z"
   },
   {
    "duration": 21,
    "start_time": "2023-09-18T23:07:05.939Z"
   },
   {
    "duration": 10,
    "start_time": "2023-09-18T23:07:05.962Z"
   },
   {
    "duration": 21,
    "start_time": "2023-09-18T23:07:05.974Z"
   },
   {
    "duration": 5,
    "start_time": "2023-09-18T23:07:05.997Z"
   },
   {
    "duration": 39,
    "start_time": "2023-09-18T23:07:06.008Z"
   },
   {
    "duration": 25,
    "start_time": "2023-09-18T23:07:06.050Z"
   },
   {
    "duration": 68,
    "start_time": "2023-09-18T23:07:06.081Z"
   },
   {
    "duration": 301,
    "start_time": "2023-09-18T23:07:06.155Z"
   },
   {
    "duration": 14,
    "start_time": "2023-09-18T23:07:06.458Z"
   },
   {
    "duration": 482,
    "start_time": "2023-09-18T23:07:06.475Z"
   },
   {
    "duration": 12,
    "start_time": "2023-09-18T23:07:06.959Z"
   },
   {
    "duration": 266,
    "start_time": "2023-09-18T23:07:06.973Z"
   },
   {
    "duration": 13,
    "start_time": "2023-09-18T23:07:07.242Z"
   },
   {
    "duration": 315,
    "start_time": "2023-09-18T23:07:07.257Z"
   },
   {
    "duration": 11,
    "start_time": "2023-09-18T23:07:07.574Z"
   },
   {
    "duration": 4,
    "start_time": "2023-09-18T23:07:07.588Z"
   },
   {
    "duration": 60,
    "start_time": "2023-09-18T23:07:07.612Z"
   },
   {
    "duration": 67,
    "start_time": "2023-09-18T23:07:07.674Z"
   },
   {
    "duration": 5,
    "start_time": "2023-09-18T23:07:07.743Z"
   },
   {
    "duration": 224,
    "start_time": "2023-09-18T23:07:07.750Z"
   },
   {
    "duration": 6,
    "start_time": "2023-09-18T23:07:07.976Z"
   },
   {
    "duration": 9,
    "start_time": "2023-09-18T23:07:07.984Z"
   },
   {
    "duration": 37,
    "start_time": "2023-09-18T23:07:08.011Z"
   },
   {
    "duration": 13,
    "start_time": "2023-09-18T23:07:08.052Z"
   },
   {
    "duration": 5,
    "start_time": "2023-09-18T23:07:46.341Z"
   },
   {
    "duration": 17,
    "start_time": "2023-09-18T23:16:13.329Z"
   },
   {
    "duration": 6,
    "start_time": "2023-09-18T23:16:14.031Z"
   },
   {
    "duration": 30,
    "start_time": "2023-09-18T23:16:14.633Z"
   },
   {
    "duration": 1238,
    "start_time": "2023-09-18T23:16:25.055Z"
   },
   {
    "duration": 36,
    "start_time": "2023-09-18T23:16:26.295Z"
   },
   {
    "duration": 15,
    "start_time": "2023-09-18T23:16:26.333Z"
   },
   {
    "duration": 12,
    "start_time": "2023-09-18T23:16:26.350Z"
   },
   {
    "duration": 18,
    "start_time": "2023-09-18T23:16:26.364Z"
   },
   {
    "duration": 8,
    "start_time": "2023-09-18T23:16:26.384Z"
   },
   {
    "duration": 17,
    "start_time": "2023-09-18T23:16:26.394Z"
   },
   {
    "duration": 33,
    "start_time": "2023-09-18T23:16:26.417Z"
   },
   {
    "duration": 12,
    "start_time": "2023-09-18T23:16:26.452Z"
   },
   {
    "duration": 15,
    "start_time": "2023-09-18T23:16:26.467Z"
   },
   {
    "duration": 46,
    "start_time": "2023-09-18T23:16:26.484Z"
   },
   {
    "duration": 17,
    "start_time": "2023-09-18T23:16:26.532Z"
   },
   {
    "duration": 10,
    "start_time": "2023-09-18T23:16:26.552Z"
   },
   {
    "duration": 12,
    "start_time": "2023-09-18T23:16:26.565Z"
   },
   {
    "duration": 11,
    "start_time": "2023-09-18T23:16:26.579Z"
   },
   {
    "duration": 31,
    "start_time": "2023-09-18T23:16:26.592Z"
   },
   {
    "duration": 8,
    "start_time": "2023-09-18T23:16:26.627Z"
   },
   {
    "duration": 9,
    "start_time": "2023-09-18T23:16:26.637Z"
   },
   {
    "duration": 7,
    "start_time": "2023-09-18T23:16:26.648Z"
   },
   {
    "duration": 6,
    "start_time": "2023-09-18T23:16:26.657Z"
   },
   {
    "duration": 7,
    "start_time": "2023-09-18T23:16:26.665Z"
   },
   {
    "duration": 41,
    "start_time": "2023-09-18T23:16:26.674Z"
   },
   {
    "duration": 7,
    "start_time": "2023-09-18T23:16:26.716Z"
   },
   {
    "duration": 15,
    "start_time": "2023-09-18T23:16:26.726Z"
   },
   {
    "duration": 5,
    "start_time": "2023-09-18T23:16:26.743Z"
   },
   {
    "duration": 206,
    "start_time": "2023-09-18T23:16:26.750Z"
   },
   {
    "duration": 130,
    "start_time": "2023-09-18T23:16:26.958Z"
   },
   {
    "duration": 6,
    "start_time": "2023-09-18T23:16:27.092Z"
   },
   {
    "duration": 252,
    "start_time": "2023-09-18T23:16:27.109Z"
   },
   {
    "duration": 312,
    "start_time": "2023-09-18T23:16:27.363Z"
   },
   {
    "duration": 9,
    "start_time": "2023-09-18T23:16:27.677Z"
   },
   {
    "duration": 313,
    "start_time": "2023-09-18T23:16:27.687Z"
   },
   {
    "duration": 26,
    "start_time": "2023-09-18T23:16:28.002Z"
   },
   {
    "duration": 5,
    "start_time": "2023-09-18T23:16:28.030Z"
   },
   {
    "duration": 5,
    "start_time": "2023-09-18T23:16:28.037Z"
   },
   {
    "duration": 5,
    "start_time": "2023-09-18T23:16:28.044Z"
   },
   {
    "duration": 20,
    "start_time": "2023-09-18T23:16:28.051Z"
   },
   {
    "duration": 4,
    "start_time": "2023-09-18T23:16:28.072Z"
   },
   {
    "duration": 54,
    "start_time": "2023-09-18T23:16:28.078Z"
   },
   {
    "duration": 34,
    "start_time": "2023-09-18T23:16:28.134Z"
   },
   {
    "duration": 49,
    "start_time": "2023-09-18T23:16:28.169Z"
   },
   {
    "duration": 250,
    "start_time": "2023-09-18T23:16:28.222Z"
   },
   {
    "duration": 11,
    "start_time": "2023-09-18T23:16:28.474Z"
   },
   {
    "duration": 373,
    "start_time": "2023-09-18T23:16:28.487Z"
   },
   {
    "duration": 9,
    "start_time": "2023-09-18T23:16:28.862Z"
   },
   {
    "duration": 256,
    "start_time": "2023-09-18T23:16:28.873Z"
   },
   {
    "duration": 10,
    "start_time": "2023-09-18T23:16:29.132Z"
   },
   {
    "duration": 271,
    "start_time": "2023-09-18T23:16:29.144Z"
   },
   {
    "duration": 15,
    "start_time": "2023-09-18T23:16:29.419Z"
   },
   {
    "duration": 12,
    "start_time": "2023-09-18T23:16:29.436Z"
   },
   {
    "duration": 48,
    "start_time": "2023-09-18T23:16:29.450Z"
   },
   {
    "duration": 36,
    "start_time": "2023-09-18T23:16:29.499Z"
   },
   {
    "duration": 13,
    "start_time": "2023-09-18T23:16:29.537Z"
   },
   {
    "duration": 169,
    "start_time": "2023-09-18T23:16:29.552Z"
   },
   {
    "duration": 7,
    "start_time": "2023-09-18T23:16:29.723Z"
   },
   {
    "duration": 22,
    "start_time": "2023-09-18T23:16:29.732Z"
   },
   {
    "duration": 7,
    "start_time": "2023-09-18T23:16:29.757Z"
   },
   {
    "duration": 17,
    "start_time": "2023-09-18T23:16:29.766Z"
   },
   {
    "duration": 14,
    "start_time": "2023-09-18T23:21:04.953Z"
   },
   {
    "duration": 23,
    "start_time": "2023-09-18T23:21:19.893Z"
   },
   {
    "duration": 4,
    "start_time": "2023-09-18T23:28:36.390Z"
   },
   {
    "duration": 4,
    "start_time": "2023-09-18T23:28:59.169Z"
   },
   {
    "duration": 28,
    "start_time": "2023-09-18T23:32:26.706Z"
   },
   {
    "duration": 1416,
    "start_time": "2023-09-18T23:32:41.948Z"
   },
   {
    "duration": 31,
    "start_time": "2023-09-18T23:32:43.366Z"
   },
   {
    "duration": 28,
    "start_time": "2023-09-18T23:32:43.399Z"
   },
   {
    "duration": 19,
    "start_time": "2023-09-18T23:32:43.431Z"
   },
   {
    "duration": 17,
    "start_time": "2023-09-18T23:32:43.454Z"
   },
   {
    "duration": 6,
    "start_time": "2023-09-18T23:32:43.473Z"
   },
   {
    "duration": 6,
    "start_time": "2023-09-18T23:32:43.481Z"
   },
   {
    "duration": 66,
    "start_time": "2023-09-18T23:32:43.489Z"
   },
   {
    "duration": 10,
    "start_time": "2023-09-18T23:32:43.557Z"
   },
   {
    "duration": 14,
    "start_time": "2023-09-18T23:32:43.569Z"
   },
   {
    "duration": 39,
    "start_time": "2023-09-18T23:32:43.585Z"
   },
   {
    "duration": 21,
    "start_time": "2023-09-18T23:32:43.627Z"
   },
   {
    "duration": 12,
    "start_time": "2023-09-18T23:32:43.650Z"
   },
   {
    "duration": 11,
    "start_time": "2023-09-18T23:32:43.664Z"
   },
   {
    "duration": 9,
    "start_time": "2023-09-18T23:32:43.677Z"
   },
   {
    "duration": 7,
    "start_time": "2023-09-18T23:32:43.687Z"
   },
   {
    "duration": 14,
    "start_time": "2023-09-18T23:32:43.696Z"
   },
   {
    "duration": 11,
    "start_time": "2023-09-18T23:32:43.712Z"
   },
   {
    "duration": 13,
    "start_time": "2023-09-18T23:32:43.725Z"
   },
   {
    "duration": 15,
    "start_time": "2023-09-18T23:32:43.740Z"
   },
   {
    "duration": 7,
    "start_time": "2023-09-18T23:32:43.758Z"
   },
   {
    "duration": 7,
    "start_time": "2023-09-18T23:32:43.768Z"
   },
   {
    "duration": 13,
    "start_time": "2023-09-18T23:32:43.814Z"
   },
   {
    "duration": 11,
    "start_time": "2023-09-18T23:32:43.829Z"
   },
   {
    "duration": 7,
    "start_time": "2023-09-18T23:32:43.843Z"
   },
   {
    "duration": 239,
    "start_time": "2023-09-18T23:32:43.852Z"
   },
   {
    "duration": 167,
    "start_time": "2023-09-18T23:32:44.094Z"
   },
   {
    "duration": 7,
    "start_time": "2023-09-18T23:32:44.267Z"
   },
   {
    "duration": 229,
    "start_time": "2023-09-18T23:32:44.276Z"
   },
   {
    "duration": 364,
    "start_time": "2023-09-18T23:32:44.512Z"
   },
   {
    "duration": 11,
    "start_time": "2023-09-18T23:32:44.878Z"
   },
   {
    "duration": 362,
    "start_time": "2023-09-18T23:32:44.892Z"
   },
   {
    "duration": 14,
    "start_time": "2023-09-18T23:32:45.257Z"
   },
   {
    "duration": 5,
    "start_time": "2023-09-18T23:32:45.274Z"
   },
   {
    "duration": 75,
    "start_time": "2023-09-18T23:32:45.282Z"
   },
   {
    "duration": 23,
    "start_time": "2023-09-18T23:32:45.362Z"
   },
   {
    "duration": 39,
    "start_time": "2023-09-18T23:32:45.387Z"
   },
   {
    "duration": 41,
    "start_time": "2023-09-18T23:32:45.428Z"
   },
   {
    "duration": 303,
    "start_time": "2023-09-18T23:32:45.471Z"
   },
   {
    "duration": 10,
    "start_time": "2023-09-18T23:32:45.777Z"
   },
   {
    "duration": 380,
    "start_time": "2023-09-18T23:32:45.788Z"
   },
   {
    "duration": 10,
    "start_time": "2023-09-18T23:32:46.169Z"
   },
   {
    "duration": 278,
    "start_time": "2023-09-18T23:32:46.180Z"
   },
   {
    "duration": 12,
    "start_time": "2023-09-18T23:32:46.460Z"
   },
   {
    "duration": 286,
    "start_time": "2023-09-18T23:32:46.474Z"
   },
   {
    "duration": 12,
    "start_time": "2023-09-18T23:32:46.762Z"
   },
   {
    "duration": 5,
    "start_time": "2023-09-18T23:32:46.776Z"
   },
   {
    "duration": 89,
    "start_time": "2023-09-18T23:32:46.783Z"
   },
   {
    "duration": 25,
    "start_time": "2023-09-18T23:32:46.874Z"
   },
   {
    "duration": 4,
    "start_time": "2023-09-18T23:32:46.910Z"
   },
   {
    "duration": 178,
    "start_time": "2023-09-18T23:32:46.917Z"
   },
   {
    "duration": 5,
    "start_time": "2023-09-18T23:32:47.097Z"
   },
   {
    "duration": 10,
    "start_time": "2023-09-18T23:32:47.109Z"
   },
   {
    "duration": 14,
    "start_time": "2023-09-18T23:32:47.122Z"
   },
   {
    "duration": 11,
    "start_time": "2023-09-18T23:32:47.138Z"
   },
   {
    "duration": 18,
    "start_time": "2023-09-18T23:34:44.847Z"
   },
   {
    "duration": 1451,
    "start_time": "2023-09-18T23:34:55.149Z"
   },
   {
    "duration": 52,
    "start_time": "2023-09-18T23:34:56.602Z"
   },
   {
    "duration": 22,
    "start_time": "2023-09-18T23:34:56.656Z"
   },
   {
    "duration": 16,
    "start_time": "2023-09-18T23:34:56.681Z"
   },
   {
    "duration": 29,
    "start_time": "2023-09-18T23:34:56.699Z"
   },
   {
    "duration": 17,
    "start_time": "2023-09-18T23:34:56.732Z"
   },
   {
    "duration": 8,
    "start_time": "2023-09-18T23:34:56.750Z"
   },
   {
    "duration": 35,
    "start_time": "2023-09-18T23:34:56.759Z"
   },
   {
    "duration": 9,
    "start_time": "2023-09-18T23:34:56.796Z"
   },
   {
    "duration": 24,
    "start_time": "2023-09-18T23:34:56.808Z"
   },
   {
    "duration": 30,
    "start_time": "2023-09-18T23:34:56.836Z"
   },
   {
    "duration": 15,
    "start_time": "2023-09-18T23:34:56.868Z"
   },
   {
    "duration": 8,
    "start_time": "2023-09-18T23:34:56.885Z"
   },
   {
    "duration": 33,
    "start_time": "2023-09-18T23:34:56.896Z"
   },
   {
    "duration": 9,
    "start_time": "2023-09-18T23:34:56.932Z"
   },
   {
    "duration": 9,
    "start_time": "2023-09-18T23:34:56.943Z"
   },
   {
    "duration": 9,
    "start_time": "2023-09-18T23:34:56.954Z"
   },
   {
    "duration": 7,
    "start_time": "2023-09-18T23:34:56.964Z"
   },
   {
    "duration": 35,
    "start_time": "2023-09-18T23:34:56.973Z"
   },
   {
    "duration": 9,
    "start_time": "2023-09-18T23:34:57.010Z"
   },
   {
    "duration": 12,
    "start_time": "2023-09-18T23:34:57.022Z"
   },
   {
    "duration": 18,
    "start_time": "2023-09-18T23:34:57.036Z"
   },
   {
    "duration": 12,
    "start_time": "2023-09-18T23:34:57.056Z"
   },
   {
    "duration": 11,
    "start_time": "2023-09-18T23:34:57.071Z"
   },
   {
    "duration": 26,
    "start_time": "2023-09-18T23:34:57.083Z"
   },
   {
    "duration": 221,
    "start_time": "2023-09-18T23:34:57.113Z"
   },
   {
    "duration": 156,
    "start_time": "2023-09-18T23:34:57.337Z"
   },
   {
    "duration": 22,
    "start_time": "2023-09-18T23:34:57.498Z"
   },
   {
    "duration": 242,
    "start_time": "2023-09-18T23:34:57.522Z"
   },
   {
    "duration": 372,
    "start_time": "2023-09-18T23:34:57.766Z"
   },
   {
    "duration": 13,
    "start_time": "2023-09-18T23:34:58.140Z"
   },
   {
    "duration": 346,
    "start_time": "2023-09-18T23:34:58.155Z"
   },
   {
    "duration": 23,
    "start_time": "2023-09-18T23:34:58.510Z"
   },
   {
    "duration": 6,
    "start_time": "2023-09-18T23:34:58.536Z"
   },
   {
    "duration": 33,
    "start_time": "2023-09-18T23:34:58.546Z"
   },
   {
    "duration": 36,
    "start_time": "2023-09-18T23:34:58.581Z"
   },
   {
    "duration": 36,
    "start_time": "2023-09-18T23:34:58.619Z"
   },
   {
    "duration": 24,
    "start_time": "2023-09-18T23:34:58.657Z"
   },
   {
    "duration": 311,
    "start_time": "2023-09-18T23:34:58.683Z"
   },
   {
    "duration": 19,
    "start_time": "2023-09-18T23:34:58.995Z"
   },
   {
    "duration": 374,
    "start_time": "2023-09-18T23:34:59.015Z"
   },
   {
    "duration": 32,
    "start_time": "2023-09-18T23:34:59.391Z"
   },
   {
    "duration": 280,
    "start_time": "2023-09-18T23:34:59.425Z"
   },
   {
    "duration": 10,
    "start_time": "2023-09-18T23:34:59.711Z"
   },
   {
    "duration": 362,
    "start_time": "2023-09-18T23:34:59.723Z"
   },
   {
    "duration": 9,
    "start_time": "2023-09-18T23:35:00.087Z"
   },
   {
    "duration": 34,
    "start_time": "2023-09-18T23:35:00.098Z"
   },
   {
    "duration": 69,
    "start_time": "2023-09-18T23:35:00.135Z"
   },
   {
    "duration": 29,
    "start_time": "2023-09-18T23:35:00.205Z"
   },
   {
    "duration": 12,
    "start_time": "2023-09-18T23:35:00.236Z"
   },
   {
    "duration": 201,
    "start_time": "2023-09-18T23:35:00.250Z"
   },
   {
    "duration": 7,
    "start_time": "2023-09-18T23:35:00.453Z"
   },
   {
    "duration": 18,
    "start_time": "2023-09-18T23:35:00.462Z"
   },
   {
    "duration": 15,
    "start_time": "2023-09-18T23:35:00.482Z"
   },
   {
    "duration": 23,
    "start_time": "2023-09-18T23:35:00.499Z"
   }
  ],
  "kernelspec": {
   "display_name": "Python 3 (ipykernel)",
   "language": "python",
   "name": "python3"
  },
  "language_info": {
   "codemirror_mode": {
    "name": "ipython",
    "version": 3
   },
   "file_extension": ".py",
   "mimetype": "text/x-python",
   "name": "python",
   "nbconvert_exporter": "python",
   "pygments_lexer": "ipython3",
   "version": "3.11.5"
  },
  "toc": {
   "base_numbering": 1,
   "nav_menu": {
    "height": "239.983px",
    "width": "261.997px"
   },
   "number_sections": true,
   "sideBar": true,
   "skip_h1_title": true,
   "title_cell": "Table of Contents",
   "title_sidebar": "Contents",
   "toc_cell": false,
   "toc_position": {
    "height": "calc(100% - 180px)",
    "left": "10px",
    "top": "150px",
    "width": "404.444px"
   },
   "toc_section_display": true,
   "toc_window_display": true
  }
 },
 "nbformat": 4,
 "nbformat_minor": 5
}
